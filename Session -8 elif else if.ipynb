{
 "cells": [
  {
   "cell_type": "code",
   "execution_count": null,
   "id": "c214f031",
   "metadata": {},
   "outputs": [],
   "source": [
    "#wap as the user enter a number\n",
    "# find if the number is even or odd"
   ]
  },
  {
   "cell_type": "code",
   "execution_count": null,
   "id": "c490c79f",
   "metadata": {},
   "outputs": [],
   "source": [
    "# step 1: read the number\n",
    "# step2:if<condition>:\n",
    "#  step 3:##########\n",
    "# step4:else:\n",
    "#    step5:########\n",
    "                "
   ]
  },
  {
   "cell_type": "code",
   "execution_count": null,
   "id": "a28eabd6",
   "metadata": {},
   "outputs": [],
   "source": [
    "num=eval(input(\"Enter a number\"))\n",
    "if num%2==0:\n",
    "    print(f'Number {num} is even')\n",
    "else:\n",
    "    print(f\"Number {num} is odd\")\n"
   ]
  },
  {
   "cell_type": "code",
   "execution_count": 7,
   "id": "9926c17b",
   "metadata": {},
   "outputs": [
    {
     "name": "stdout",
     "output_type": "stream",
     "text": [
      "Number 48 is even\n"
     ]
    }
   ],
   "source": [
    "#read a random number between 10 nd 50\n",
    "import random\n",
    "num=random.randint(10,50)\n",
    "\n",
    "if num%2==0:\n",
    "    print(f'Number {num} is even')\n",
    "else:\n",
    "    print(f\"Number {num} is odd\")\n"
   ]
  },
  {
   "cell_type": "code",
   "execution_count": 9,
   "id": "35c5dd43",
   "metadata": {},
   "outputs": [
    {
     "name": "stdout",
     "output_type": "stream",
     "text": [
      "Number 56 is even\n",
      "Enter a number56\n",
      "Number 56 is even\n",
      "Number 42 is even\n"
     ]
    }
   ],
   "source": [
    "#Different methods of feeding the number in the system \n",
    "\n",
    "\n",
    "#Method - 1 - direct value\n",
    "\n",
    "num=56\n",
    "if num%2==0:\n",
    "    print(f'Number {num} is even')\n",
    "else:\n",
    "    print(f\"Number {num} is odd\")\n",
    "\n",
    "\n",
    "#Method - 2- giving the value from keyboard\n",
    "\n",
    "num=eval(input(\"Enter a number\"))\n",
    "if num%2==0:\n",
    "    print(f'Number {num} is even')\n",
    "else:\n",
    "    print(f\"Number {num} is odd\")\n",
    "    \n",
    "#Method - 3 - Random value without the involvement of the user\n",
    "import random\n",
    "num=random.randint(10,50)\n",
    "\n",
    "if num%2==0:\n",
    "    print(f'Number {num} is even')\n",
    "else:\n",
    "    print(f\"Number {num} is odd\")\n",
    "    \n",
    "    \n"
   ]
  },
  {
   "cell_type": "code",
   "execution_count": 13,
   "id": "20dd4e07",
   "metadata": {},
   "outputs": [
    {
     "name": "stdout",
     "output_type": "stream",
     "text": [
      "Enter the number between 1 to 100: 50\n",
      "greater than or equal to 50\n"
     ]
    }
   ],
   "source": [
    "# Wap ask the user enter the number between 1 to 100\n",
    "# print 'greater than 50' if the value is greater than 50 else print 'less than 50'\n",
    "\n",
    "num=eval(input('Enter the number between 1 to 100: '))\n",
    "if num>=50:\n",
    "    print('greater than or equal to 50')\n",
    "else:\n",
    "        print('less than 50')\n"
   ]
  },
  {
   "cell_type": "code",
   "execution_count": 18,
   "id": "e3afe90a",
   "metadata": {},
   "outputs": [
    {
     "name": "stdout",
     "output_type": "stream",
     "text": [
      "70 is greater than or equal to 50\n"
     ]
    }
   ],
   "source": [
    "#improvise the above code by giving the random number\n",
    "\n",
    "import random\n",
    "num=random.randint(1,100)\n",
    "\n",
    "if num>=50:\n",
    "    print(f'{num} is greater than or equal to 50')\n",
    "else:\n",
    "        print(f'{num} is less than 50')\n"
   ]
  },
  {
   "cell_type": "code",
   "execution_count": null,
   "id": "20fcdbbb",
   "metadata": {},
   "outputs": [],
   "source": [
    "#wap take one number as a random number between 1 to 10 :num1\n",
    "#ask the user to enter a number from keyboard :num2\n",
    "#if num1 equl to num2 print you won \n",
    "#if num1 not equal to num2(else) print you lost"
   ]
  },
  {
   "cell_type": "code",
   "execution_count": 25,
   "id": "3c41ede9",
   "metadata": {},
   "outputs": [
    {
     "name": "stdout",
     "output_type": "stream",
     "text": [
      "Enter the number between 1 to 10: 22\n",
      "YOU LOST\n"
     ]
    }
   ],
   "source": [
    "num1=random.randint(1,10)\n",
    "num2=eval(input(\"Enter the number between 1 to 10: \"))\n",
    "if num1==num2:\n",
    "    print('YOU WON')\n",
    "else:\n",
    "    print('YOU LOST')"
   ]
  },
  {
   "cell_type": "code",
   "execution_count": null,
   "id": "c9715f03",
   "metadata": {},
   "outputs": [],
   "source": [
    "#wap\n",
    "#conductor:show me id card:id\n",
    "#mother:yes\n",
    "#   print('enjoy the free bus')\n",
    "#mother:no\n",
    "#  conductor:pay the money\n",
    "#  mother: how much\n",
    "#  conductor: how many kilometers\n",
    "#    mother : how much fare for km\n",
    "#         conductor: 2rs:fare\n",
    "#                 total=dis*fare"
   ]
  },
  {
   "cell_type": "code",
   "execution_count": 30,
   "id": "3500cada",
   "metadata": {},
   "outputs": [
    {
     "name": "stdout",
     "output_type": "stream",
     "text": [
      "Conductor: Do you have id yes or no? no\n",
      "conductor:pay the money\n",
      "mother: how much\n",
      " conductor: how many kilometers\n",
      "mother : how much fare for km\n",
      "conductor : the fare is rs per km85\n",
      "mother: the distance in km is 96\n",
      "the total cost is 8160\n"
     ]
    }
   ],
   "source": [
    "import time\n",
    "id1=input('Conductor: Do you have id yes or no? ')\n",
    "if id1=='yes':\n",
    "    print('Enjoy the free bus')\n",
    "else:\n",
    "    print('conductor:pay the money')\n",
    "    time.sleep(2)\n",
    "    print('mother: how much')\n",
    "    time.sleep(2)\n",
    "    print(' conductor: how many kilometers')\n",
    "    time.sleep(2)\n",
    "    print('mother : how much fare for km')\n",
    "    fare=eval(input( 'conductor : the fare is rs per km'))\n",
    "    distance=eval(input(\"mother: the distance in km is \"))\n",
    "    total =fare*distance\n",
    "    print(f'The total cost is {total}')"
   ]
  },
  {
   "cell_type": "code",
   "execution_count": 31,
   "id": "c11ab03a",
   "metadata": {},
   "outputs": [],
   "source": [
    "#even odd\n",
    "#if  else\n",
    "#greater less than zero\n",
    "#if  else \n",
    "#yes no\n",
    "#if else\n",
    "\n",
    "\n",
    "#>0 pos       <0 neg     =0 zero\n",
    "#if<con>       elif<con>    else\n",
    "\n",
    "\n",
    "\n",
    "#>95 A     >75 B              >50 C    <50 D\n",
    "#if<con>       elif<con>    elif<con>   else"
   ]
  },
  {
   "cell_type": "code",
   "execution_count": 35,
   "id": "92d3e921",
   "metadata": {},
   "outputs": [
    {
     "name": "stdout",
     "output_type": "stream",
     "text": [
      "Enter the number15\n",
      "The number is positive\n"
     ]
    }
   ],
   "source": [
    "#WAP ask the user to input from keyboard\n",
    "# if num is > 0 positive\n",
    "# if num is < 0 negative\n",
    "# if num is = 0 zer0\n",
    "num3=eval(input('Enter the number'))\n",
    "if num3>0:\n",
    "    print('The number is positive')\n",
    "elif num3<0:\n",
    "    print('The number is negative')\n",
    "else:\n",
    "    print('The number is zero')\n",
    "    \n",
    "\n",
    "\n",
    "\n",
    "\n"
   ]
  },
  {
   "cell_type": "code",
   "execution_count": 36,
   "id": "32f58a94",
   "metadata": {},
   "outputs": [
    {
     "name": "stdout",
     "output_type": "stream",
     "text": [
      "Enter the number2\n",
      "two\n"
     ]
    }
   ],
   "source": [
    "#WAP ask the user to input from keyboard\n",
    "# if num is == 0 print zero\n",
    "# if num is == 1 print one\n",
    "# if num is == 2 print two\n",
    "# if num is > 2 print Greater than two\n",
    "\n",
    "\n",
    "num4=eval(input('Enter the number'))\n",
    "if num4==0:\n",
    "    print('zero')\n",
    "elif num4==1:\n",
    "    print('one')\n",
    "elif num4==2:\n",
    "    print('two')\n",
    "else:\n",
    "    print('Greater than two')\n",
    "    \n"
   ]
  },
  {
   "cell_type": "code",
   "execution_count": null,
   "id": "bae2bc2d",
   "metadata": {},
   "outputs": [],
   "source": []
  }
 ],
 "metadata": {
  "kernelspec": {
   "display_name": "Python 3 (ipykernel)",
   "language": "python",
   "name": "python3"
  },
  "language_info": {
   "codemirror_mode": {
    "name": "ipython",
    "version": 3
   },
   "file_extension": ".py",
   "mimetype": "text/x-python",
   "name": "python",
   "nbconvert_exporter": "python",
   "pygments_lexer": "ipython3",
   "version": "3.11.5"
  }
 },
 "nbformat": 4,
 "nbformat_minor": 5
}
