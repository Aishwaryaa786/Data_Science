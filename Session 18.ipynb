{
 "cells": [
  {
   "cell_type": "code",
   "execution_count": null,
   "id": "da54cc22",
   "metadata": {},
   "outputs": [],
   "source": [
    "in ---------------i--------- >direct\n",
    "rnge === i number"
   ]
  },
  {
   "cell_type": "code",
   "execution_count": 2,
   "id": "9dbba9fd",
   "metadata": {},
   "outputs": [
    {
     "name": "stdout",
     "output_type": "stream",
     "text": [
      "0 p\n",
      "1 y\n",
      "2 t\n",
      "3 h\n",
      "4 o\n",
      "5 n\n"
     ]
    }
   ],
   "source": [
    "string1='python'\n",
    "n=len(string1)\n",
    "for i in range(n):\n",
    "    print(i,string1[i])"
   ]
  },
  {
   "cell_type": "code",
   "execution_count": 4,
   "id": "a726a291",
   "metadata": {},
   "outputs": [
    {
     "name": "stdout",
     "output_type": "stream",
     "text": [
      "the index of p is 0 \n",
      "the index of y is 1 \n",
      "the index of t is 2 \n",
      "the index of h is 3 \n",
      "the index of o is 4 \n",
      "the index of n is 5 \n"
     ]
    }
   ],
   "source": [
    "#WAP print the index of a given string \n",
    "#str1 ='python'\n",
    "#o/p: the index of p is 0\n",
    "#the index of y is 1\n",
    "\n",
    "\n",
    "#if it is positive  0 to len(string)-1\n",
    "\n",
    "str1='python'\n",
    "m=len(str1)\n",
    "for i in range(m):\n",
    "    print(f\"the index of {str1[i]} is {i} \")"
   ]
  },
  {
   "cell_type": "code",
   "execution_count": 9,
   "id": "92bf8c26",
   "metadata": {},
   "outputs": [
    {
     "name": "stdout",
     "output_type": "stream",
     "text": [
      "6\n",
      "the negative index of p is -6 \n",
      "the negative index of y is -5 \n",
      "the negative index of t is -4 \n",
      "the negative index of h is -3 \n",
      "the negative index of o is -2 \n",
      "the negative index of n is -1 \n"
     ]
    }
   ],
   "source": [
    "#o/p: the negative index of p is -6\n",
    "# the negative index of y is 5 \n",
    "#try to print -6 to -1\n",
    "#string1[-6]:p\n",
    "\n",
    "\n",
    "#-len(string) to -1\n",
    "\n",
    "string1='python'\n",
    "n=len(string1)\n",
    "print(n)\n",
    "for i in range (-6,0):\n",
    "#     print(i,string1[i])\n",
    "    print(f\"the negative index of {str1[i]} is {i} \")\n",
    "\n",
    "\n"
   ]
  },
  {
   "cell_type": "code",
   "execution_count": null,
   "id": "9883fac2",
   "metadata": {},
   "outputs": [],
   "source": [
    "- positive : 0 to len(string)-1\n",
    "- negative : -len(string) to -1\n",
    "p y t h o n i s\n",
    "0 1 2 3 4 5 6 7\n"
   ]
  },
  {
   "cell_type": "markdown",
   "id": "c3037da9",
   "metadata": {},
   "source": [
    "- postive : 0 to len(string1)-1\n",
    " - range(0,len(string1))\n",
    " - start =0 end = last-1 : len(string1)-1\n",
    "- Negative :-len(string1) to -1\n",
    "    - range(-len(string1),0)\n",
    "    - start= -len(string1),end=last-1 0-1 =-1\n",
    "\n",
    "\n",
    "\n"
   ]
  },
  {
   "cell_type": "code",
   "execution_count": 11,
   "id": "a742941f",
   "metadata": {},
   "outputs": [
    {
     "name": "stdout",
     "output_type": "stream",
     "text": [
      "the negative index of   is 0 \n",
      "the negative index of h is 1 \n",
      "the negative index of e is 2 \n",
      "the negative index of l is 3 \n",
      "the negative index of l is 4 \n",
      "the negative index of o is 5 \n",
      "the negative index of   is 6 \n",
      "the negative index of h is 7 \n",
      "the negative index of o is 8 \n",
      "the negative index of w is 9 \n",
      "the negative index of   is 10 \n",
      "the negative index of a is 11 \n",
      "the negative index of r is 12 \n",
      "the negative index of e is 13 \n",
      "the negative index of   is 14 \n",
      "the negative index of y is 15 \n",
      "the negative index of o is 16 \n",
      "the negative index of u is 17 \n"
     ]
    }
   ],
   "source": [
    "\n",
    "\n",
    "s1 =\" hello how are you\"\n",
    "p= len(s1)\n",
    "for i in range (p):\n",
    "#     print(i,string1[i])\n",
    "    print(f\"the negative index of {s1[i]} is {i} \")"
   ]
  },
  {
   "cell_type": "code",
   "execution_count": 34,
   "id": "6246fca2",
   "metadata": {},
   "outputs": [
    {
     "name": "stdout",
     "output_type": "stream",
     "text": [
      "the positive index is 0  and negative index is -18 for   \n",
      "the positive index is 1  and negative index is -17 for h \n",
      "the positive index is 2  and negative index is -16 for e \n",
      "the positive index is 3  and negative index is -15 for l \n",
      "the positive index is 4  and negative index is -14 for l \n",
      "the positive index is 5  and negative index is -13 for o \n",
      "the positive index is 6  and negative index is -12 for   \n",
      "the positive index is 7  and negative index is -11 for h \n",
      "the positive index is 8  and negative index is -10 for o \n",
      "the positive index is 9  and negative index is -9 for w \n",
      "the positive index is 10  and negative index is -8 for   \n",
      "the positive index is 11  and negative index is -7 for a \n",
      "the positive index is 12  and negative index is -6 for r \n",
      "the positive index is 13  and negative index is -5 for e \n",
      "the positive index is 14  and negative index is -4 for   \n",
      "the positive index is 15  and negative index is -3 for y \n",
      "the positive index is 16  and negative index is -2 for o \n"
     ]
    }
   ],
   "source": [
    "#the positive index is 0 and negative index is -6 for p\n",
    "#the positive index is 1 and negative index is -5 for y\n",
    "\n",
    "s1 =\" hello how are you\"\n",
    "p= len(s1)\n",
    "for i in range (0,p-1):\n",
    "#     print(i,string1[i])\n",
    "   # print(f\"the negative index of {s1[i]} is {i} \")\n",
    "    print(f\"the positive index is {i}  and negative index is {i-18} for {s1[i]} \")\n",
    "    "
   ]
  },
  {
   "cell_type": "code",
   "execution_count": 16,
   "id": "4303b26e",
   "metadata": {},
   "outputs": [
    {
     "name": "stdout",
     "output_type": "stream",
     "text": [
      "the negative index of   is -18 \n",
      "the negative index of h is -17 \n",
      "the negative index of e is -16 \n",
      "the negative index of l is -15 \n",
      "the negative index of l is -14 \n",
      "the negative index of o is -13 \n",
      "the negative index of   is -12 \n",
      "the negative index of h is -11 \n",
      "the negative index of o is -10 \n",
      "the negative index of w is -9 \n",
      "the negative index of   is -8 \n",
      "the negative index of a is -7 \n",
      "the negative index of r is -6 \n",
      "the negative index of e is -5 \n",
      "the negative index of   is -4 \n",
      "the negative index of y is -3 \n",
      "the negative index of o is -2 \n",
      "the negative index of u is -1 \n"
     ]
    }
   ],
   "source": [
    "s1 =\" hello how are you\"\n",
    "p= len(s1)\n",
    "for j in range (-p,0):\n",
    "#     print(i,string1[i])\n",
    "    print(f\"the negative index of {s1[j]} is {j} \")"
   ]
  },
  {
   "cell_type": "code",
   "execution_count": 18,
   "id": "27745b92",
   "metadata": {},
   "outputs": [
    {
     "name": "stdout",
     "output_type": "stream",
     "text": [
      "-6 0\n",
      "-5 1\n",
      "-4 2\n",
      "-3 3\n",
      "-2 4\n",
      "-1 5\n"
     ]
    }
   ],
   "source": [
    "for i in range(-6,0):\n",
    "    print(i,6+i)"
   ]
  },
  {
   "cell_type": "code",
   "execution_count": 31,
   "id": "ccd4f5fa",
   "metadata": {},
   "outputs": [
    {
     "name": "stdout",
     "output_type": "stream",
     "text": [
      "The total number of a is: 2\n"
     ]
    }
   ],
   "source": [
    "# wap find the number of 'a' present in a given string \n",
    "#s1='hello how are you i am good'\n",
    "#ans :2\n",
    "\n",
    "\n",
    "\n",
    "# count=0\n",
    "# idea : iterat using for loop\n",
    "#     get each letter \n",
    "#     whenever that lettter equal to a\n",
    "#     count = count+ 1\n",
    "count=0\n",
    "si1='hello how are you i am good'\n",
    "k=len(si1)\n",
    "for i in range(k):\n",
    "   # print(si1[i],end = \" \")\n",
    "    if si1[i] == 'a':\n",
    "        count=count+1\n",
    "print(\"The total number of \"\"a\"\" is:\",count)\n",
    "    \n",
    "\n",
    "\n"
   ]
  },
  {
   "cell_type": "code",
   "execution_count": 41,
   "id": "464f1766",
   "metadata": {},
   "outputs": [
    {
     "name": "stdout",
     "output_type": "stream",
     "text": [
      "The the index whre a is present is : 10\n",
      "The the index whre a is present is : 20\n"
     ]
    }
   ],
   "source": [
    "# wap find the number of 'a' present in a given string \n",
    "#s1='hello how are you i am good'\n",
    "#ans :2\n",
    "#find the indexes of a\n",
    "#ans = 10 an 20\n",
    "\n",
    "si1='hello how are you i am good'\n",
    "k=len(si1)\n",
    "for i in range(k):\n",
    "    if si1[i] == 'a':\n",
    "        print(\"The the index whre a is present is :\",i)\n",
    "        \n",
    "    "
   ]
  },
  {
   "cell_type": "code",
   "execution_count": null,
   "id": "c93a81f4",
   "metadata": {},
   "outputs": [],
   "source": [
    "#wap sk the user find the number of ovwels in a given string\n",
    "#s1='hello how are you'"
   ]
  },
  {
   "cell_type": "code",
   "execution_count": 48,
   "id": "856f4aad",
   "metadata": {},
   "outputs": [
    {
     "name": "stdout",
     "output_type": "stream",
     "text": [
      "The the index whre a,e,i,o,u is present is : e\n",
      "The the index whre a,e,i,o,u is present is : o\n",
      "The the index whre a,e,i,o,u is present is : o\n",
      "The the index whre a,e,i,o,u is present is : a\n",
      "The the index whre a,e,i,o,u is present is : e\n",
      "The the index whre a,e,i,o,u is present is : o\n",
      "The the index whre a,e,i,o,u is present is : u\n"
     ]
    }
   ],
   "source": [
    "count =0\n",
    "si1='hello how are you'\n",
    "k=len(si1)\n",
    "for i in range(k):\n",
    "    if si1[i] == 'a' or si1[i] == 'e'or si1[i] == 'i'or si1[i] == 'o'or si1[i] == 'u' :\n",
    "        count=count+1\n",
    "        print(\"The the index whre a,e,i,o,u is present is :\",si1[i])"
   ]
  },
  {
   "cell_type": "code",
   "execution_count": 53,
   "id": "b93c434e",
   "metadata": {},
   "outputs": [
    {
     "name": "stdout",
     "output_type": "stream",
     "text": [
      "The the index whre a,e,i,o,u is present is : 7\n"
     ]
    }
   ],
   "source": [
    "count =0\n",
    "si1='hello how are you'\n",
    "k=len(si1)\n",
    "for i in range(k):\n",
    "    if si1[i] in \"aeiou\":\n",
    "        count=count+1\n",
    "print(\"The the index whre a,e,i,o,u is present is :\",count)"
   ]
  },
  {
   "cell_type": "markdown",
   "id": "9538bf9f",
   "metadata": {},
   "source": [
    "- positive index question \n",
    "- negative index qestion \n",
    "- both positive and negative \n",
    "- number of 'a'\n",
    "- index of 'a'\n",
    "- vowels in a given string"
   ]
  },
  {
   "cell_type": "markdown",
   "id": "0e64c0b5",
   "metadata": {},
   "source": [
    "- motivation, dedication and perseverance "
   ]
  },
  {
   "cell_type": "code",
   "execution_count": 54,
   "id": "d28e3293",
   "metadata": {},
   "outputs": [
    {
     "name": "stdout",
     "output_type": "stream",
     "text": [
      "a\n",
      "b\n",
      "c\n",
      "a\n"
     ]
    }
   ],
   "source": [
    "s1='abca'\n",
    "s2=''\n",
    "for i in s1:\n",
    "    print(i)"
   ]
  },
  {
   "cell_type": "code",
   "execution_count": 58,
   "id": "1f8cedcc",
   "metadata": {},
   "outputs": [
    {
     "name": "stdout",
     "output_type": "stream",
     "text": [
      "1\n"
     ]
    }
   ],
   "source": [
    "# s1='abca'\n",
    "# s2=''\n",
    "# for i in s1:\n",
    "#     if i in 'aeiou':\n",
    "#         if i not in s2:\n",
    "#             s2=s2+i\n",
    "# print(len(s2))\n",
    "    "
   ]
  },
  {
   "cell_type": "code",
   "execution_count": 64,
   "id": "168b63fd",
   "metadata": {},
   "outputs": [
    {
     "name": "stdout",
     "output_type": "stream",
     "text": [
      "1\n"
     ]
    }
   ],
   "source": [
    "s1='abcda'\n",
    "s2=''\n",
    "for i in s1:\n",
    "    if i in 'aeiou': #a e i o u \n",
    "        if i not in s2:\n",
    "            s2=s2+i\n",
    "print(len(s2))"
   ]
  },
  {
   "cell_type": "markdown",
   "id": "b93bc1b2",
   "metadata": {},
   "source": [
    "$mutable$ - $immutable$"
   ]
  },
  {
   "cell_type": "code",
   "execution_count": null,
   "id": "0696f7b5",
   "metadata": {},
   "outputs": [],
   "source": [
    "s1 ='hello'\n",
    "#can we change 'l' to 'L'\n",
    "#s1 ='hello'\n",
    "#will you achieve this by using index opertion "
   ]
  },
  {
   "cell_type": "code",
   "execution_count": 65,
   "id": "080176a7",
   "metadata": {},
   "outputs": [
    {
     "ename": "TypeError",
     "evalue": "'str' object does not support item assignment",
     "output_type": "error",
     "traceback": [
      "\u001b[1;31m---------------------------------------------------------------------------\u001b[0m",
      "\u001b[1;31mTypeError\u001b[0m                                 Traceback (most recent call last)",
      "Cell \u001b[1;32mIn[65], line 2\u001b[0m\n\u001b[0;32m      1\u001b[0m s1\u001b[38;5;241m=\u001b[39m\u001b[38;5;124m'\u001b[39m\u001b[38;5;124mhello\u001b[39m\u001b[38;5;124m'\u001b[39m\n\u001b[1;32m----> 2\u001b[0m s1[\u001b[38;5;241m2\u001b[39m]\u001b[38;5;241m=\u001b[39m\u001b[38;5;124m'\u001b[39m\u001b[38;5;124mL\u001b[39m\u001b[38;5;124m'\u001b[39m\n",
      "\u001b[1;31mTypeError\u001b[0m: 'str' object does not support item assignment"
     ]
    }
   ],
   "source": [
    "s1='hello'\n",
    "s1[2]='L'"
   ]
  },
  {
   "cell_type": "markdown",
   "id": "164df5f8",
   "metadata": {},
   "source": [
    "**Note: string are immuatble**"
   ]
  },
  {
   "cell_type": "markdown",
   "id": "db41e707",
   "metadata": {},
   "source": [
    "- change the element by using index operation"
   ]
  },
  {
   "cell_type": "markdown",
   "id": "5e987e8f",
   "metadata": {},
   "source": [
    "l1 =[1,2,3] #2 to 200\n",
    "l1[1]=200"
   ]
  },
  {
   "cell_type": "raw",
   "id": "2d39d212",
   "metadata": {},
   "source": []
  },
  {
   "cell_type": "code",
   "execution_count": 68,
   "id": "f3902a67",
   "metadata": {},
   "outputs": [
    {
     "data": {
      "text/plain": [
       "[1, 200, 3]"
      ]
     },
     "execution_count": 68,
     "metadata": {},
     "output_type": "execute_result"
    }
   ],
   "source": [
    "l1 =[1,2,3] #2 to 200\n",
    "l1[1]=200\n",
    "l1"
   ]
  },
  {
   "cell_type": "code",
   "execution_count": null,
   "id": "f817e7dc",
   "metadata": {},
   "outputs": [],
   "source": []
  }
 ],
 "metadata": {
  "kernelspec": {
   "display_name": "Python 3 (ipykernel)",
   "language": "python",
   "name": "python3"
  },
  "language_info": {
   "codemirror_mode": {
    "name": "ipython",
    "version": 3
   },
   "file_extension": ".py",
   "mimetype": "text/x-python",
   "name": "python",
   "nbconvert_exporter": "python",
   "pygments_lexer": "ipython3",
   "version": "3.11.5"
  }
 },
 "nbformat": 4,
 "nbformat_minor": 5
}
