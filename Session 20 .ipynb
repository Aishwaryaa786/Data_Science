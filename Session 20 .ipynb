{
 "cells": [
  {
   "cell_type": "markdown",
   "id": "4753ed4b",
   "metadata": {},
   "source": [
    "- capitalize/upper/lower/\n",
    "- count\n",
    "- replace"
   ]
  },
  {
   "cell_type": "code",
   "execution_count": 1,
   "id": "f06c9245",
   "metadata": {},
   "outputs": [
    {
     "data": {
      "text/plain": [
       "'weLcome'"
      ]
     },
     "execution_count": 1,
     "metadata": {},
     "output_type": "execute_result"
    }
   ],
   "source": [
    "str1='welcome'\n",
    "str1.replace('l','L')"
   ]
  },
  {
   "cell_type": "markdown",
   "id": "ca841fd1",
   "metadata": {},
   "source": [
    "$index$"
   ]
  },
  {
   "cell_type": "code",
   "execution_count": 2,
   "id": "2c9fabe2",
   "metadata": {},
   "outputs": [
    {
     "data": {
      "text/plain": [
       "1"
      ]
     },
     "execution_count": 2,
     "metadata": {},
     "output_type": "execute_result"
    }
   ],
   "source": [
    "str1='Python'\n",
    "str1.index('y')"
   ]
  },
  {
   "cell_type": "code",
   "execution_count": 3,
   "id": "63884e1b",
   "metadata": {},
   "outputs": [
    {
     "data": {
      "text/plain": [
       "5"
      ]
     },
     "execution_count": 3,
     "metadata": {},
     "output_type": "execute_result"
    }
   ],
   "source": [
    "str1='Python'\n",
    "str1.index('n')"
   ]
  },
  {
   "cell_type": "code",
   "execution_count": 7,
   "id": "7866dae7",
   "metadata": {},
   "outputs": [
    {
     "data": {
      "text/plain": [
       "2"
      ]
     },
     "execution_count": 7,
     "metadata": {},
     "output_type": "execute_result"
    }
   ],
   "source": [
    "#index function will return the lowest index\n",
    "str1='Hai hai hai'\n",
    "str1.index('i')"
   ]
  },
  {
   "cell_type": "code",
   "execution_count": 26,
   "id": "f32c523a",
   "metadata": {},
   "outputs": [
    {
     "ename": "TypeError",
     "evalue": "str.index() takes no keyword arguments",
     "output_type": "error",
     "traceback": [
      "\u001b[1;31m---------------------------------------------------------------------------\u001b[0m",
      "\u001b[1;31mTypeError\u001b[0m                                 Traceback (most recent call last)",
      "Cell \u001b[1;32mIn[26], line 8\u001b[0m\n\u001b[0;32m      6\u001b[0m i5\u001b[38;5;241m=\u001b[39mstr1\u001b[38;5;241m.\u001b[39mindex(\u001b[38;5;124m'\u001b[39m\u001b[38;5;124ma\u001b[39m\u001b[38;5;124m'\u001b[39m,i4\u001b[38;5;241m+\u001b[39m\u001b[38;5;241m1\u001b[39m)\n\u001b[0;32m      7\u001b[0m i2,i3,i4,i5\n\u001b[1;32m----> 8\u001b[0m i4\u001b[38;5;241m=\u001b[39mstr1\u001b[38;5;241m.\u001b[39mindex(\u001b[38;5;124m'\u001b[39m\u001b[38;5;124ma\u001b[39m\u001b[38;5;124m'\u001b[39m,str1\u001b[38;5;241m.\u001b[39mindex(\u001b[38;5;124m'\u001b[39m\u001b[38;5;124ma\u001b[39m\u001b[38;5;124m'\u001b[39m,str1\u001b[38;5;241m.\u001b[39mindex(\u001b[38;5;124m'\u001b[39m\u001b[38;5;124ma\u001b[39m\u001b[38;5;124m'\u001b[39m,i5\u001b[38;5;241m=\u001b[39mstr1\u001b[38;5;241m.\u001b[39mindex(\u001b[38;5;124m'\u001b[39m\u001b[38;5;124ma\u001b[39m\u001b[38;5;124m'\u001b[39m,i4\u001b[38;5;241m+\u001b[39m\u001b[38;5;241m1\u001b[39m)\u001b[38;5;241m+\u001b[39m\u001b[38;5;241m1\u001b[39m)\u001b[38;5;241m+\u001b[39m\u001b[38;5;241m1\u001b[39m))\n\u001b[0;32m      9\u001b[0m i4\n",
      "\u001b[1;31mTypeError\u001b[0m: str.index() takes no keyword arguments"
     ]
    }
   ],
   "source": [
    "#index function will return the lowest index\n",
    "str1='Hai hai hai hia'\n",
    "i2=str1.index('a')\n",
    "i3=str1.index('a',i2+1)\n",
    "i4=str1.index('a',i3+1)\n",
    "i5=str1.index('a',i4+1)\n",
    "i2,i3,i4,i5\n",
    "# i4=str1.index('a',str1.index('a',str1.index('a',i5=str1.index('a',i4+1)+1)+1))\n",
    "i4"
   ]
  },
  {
   "cell_type": "code",
   "execution_count": 27,
   "id": "66a8093b",
   "metadata": {},
   "outputs": [
    {
     "ename": "NameError",
     "evalue": "name 'str2' is not defined",
     "output_type": "error",
     "traceback": [
      "\u001b[1;31m---------------------------------------------------------------------------\u001b[0m",
      "\u001b[1;31mNameError\u001b[0m                                 Traceback (most recent call last)",
      "Cell \u001b[1;32mIn[27], line 1\u001b[0m\n\u001b[1;32m----> 1\u001b[0m \u001b[38;5;28;01mfor\u001b[39;00m i \u001b[38;5;129;01min\u001b[39;00m \u001b[38;5;28mrange\u001b[39m(\u001b[38;5;28mlen\u001b[39m(str2)):\n\u001b[0;32m      2\u001b[0m     \u001b[38;5;28;01mif\u001b[39;00m str2[i]\u001b[38;5;241m==\u001b[39m\u001b[38;5;124m'\u001b[39m\u001b[38;5;124ma\u001b[39m\u001b[38;5;124m'\u001b[39m:\n\u001b[0;32m      3\u001b[0m         \u001b[38;5;28mprint\u001b[39m(i)\n",
      "\u001b[1;31mNameError\u001b[0m: name 'str2' is not defined"
     ]
    }
   ],
   "source": [
    "for i in range(len(str2)):\n",
    "    if str2[i]=='a':\n",
    "        print(i)\n"
   ]
  },
  {
   "cell_type": "markdown",
   "id": "d4b21c40",
   "metadata": {},
   "source": [
    "- if substring not found\n",
    "- replace: same string\n",
    "- count:0\n",
    "- index:error\n",
    "    \n",
    "-find\n"
   ]
  },
  {
   "cell_type": "code",
   "execution_count": 32,
   "id": "a302b2ea",
   "metadata": {},
   "outputs": [
    {
     "data": {
      "text/plain": [
       "5"
      ]
     },
     "execution_count": 32,
     "metadata": {},
     "output_type": "execute_result"
    }
   ],
   "source": [
    "str2='Hai hai hai hia'\n",
    "# str2.index('a',3,8)\n",
    "str2.find('a',5)"
   ]
  },
  {
   "cell_type": "code",
   "execution_count": 34,
   "id": "7904d9f4",
   "metadata": {},
   "outputs": [
    {
     "data": {
      "text/plain": [
       "(1, 5, 9, 14, -1)"
      ]
     },
     "execution_count": 34,
     "metadata": {},
     "output_type": "execute_result"
    }
   ],
   "source": [
    "str1='Hai hai hai hia'\n",
    "i2=str1.find('a')\n",
    "i3=str1.find('a',i2+1)\n",
    "i4=str1.find('a',i3+1)\n",
    "i5=str1.find('a',i4+1)\n",
    "i6=str1.find('a',i5+1)\n",
    "i2,i3,i4,i5,i6"
   ]
  },
  {
   "cell_type": "code",
   "execution_count": 53,
   "id": "4bae28ce",
   "metadata": {},
   "outputs": [
    {
     "name": "stdout",
     "output_type": "stream",
     "text": [
      "firstname omkar\n",
      "lastname nallagoni\n",
      "cname cognizant\n",
      "firstname virat\n",
      "lastname kohli\n",
      "cname rcb\n",
      "firstname lokesh\n",
      "lastname rahul\n",
      "cname lsg\n"
     ]
    }
   ],
   "source": [
    "s1= 'omkar.nallagoni@cognizant.com'\n",
    "s2= 'virat.kohli@rcb.com'\n",
    "s3= 'lokesh.rahul@lsg.com'\n",
    "s5= 'a.b@c'\n",
    "# firstname='omkar'\n",
    "# lastname='nallagoni'\n",
    "# cname='cognizant'\n",
    "\n",
    "#idea1 excat.index s1[0:<.index]\n",
    "#idea2  extraxt @index s1[.:@]\n",
    "#idea3 extract second .index s1[@:.]\n",
    "                \n",
    "\n",
    "i1=s1.index('.')\n",
    "i2=s1.index('@')\n",
    "i3=s1.index('.com')\n",
    "# i1,i2,i3\n",
    "i11=s2.index('.')\n",
    "i22=s2.index('@')\n",
    "i33=s2.index('.com')\n",
    "#i11,i22,i33\n",
    "i111=s3.index('.')\n",
    "i222=s3.index('@')\n",
    "i333=s3.index('.com')\n",
    "# i111,i222,i333\n",
    "print(\"firstname\",s1[0:i1])\n",
    "print(\"lastname\",s1[i1+1:i2])\n",
    "print(\"cname\",s1[i2+1:i3])\n",
    "print(\"firstname\",s2[0:i11])\n",
    "print(\"lastname\",s2[i11+1:i22])\n",
    "print(\"cname\",s2[i22+1:i33])\n",
    "print(\"firstname\",s3[0:i111])\n",
    "print(\"lastname\",s3[i111+1:i222])\n",
    "print(\"cname\",s3[i222+1:i333])\n"
   ]
  },
  {
   "cell_type": "markdown",
   "id": "9041e5eb",
   "metadata": {},
   "source": [
    "$lstrip$ - $rstrip$ - $strip$"
   ]
  },
  {
   "cell_type": "code",
   "execution_count": 59,
   "id": "039da659",
   "metadata": {},
   "outputs": [
    {
     "data": {
      "text/plain": [
       "(<function str.strip(chars=None, /)>, 'python   ', '   python')"
      ]
     },
     "execution_count": 59,
     "metadata": {},
     "output_type": "execute_result"
    }
   ],
   "source": [
    "str1=' python'\n",
    "str2='python   '\n",
    "str3='   python'\n",
    "\n",
    "#strip will avoid left and right space \n",
    "# str1.strip\n",
    "# str2.lstrip()\n",
    "# str3.rstrip()\n",
    "str1.strip,str2.lstrip(),str3.rstrip()"
   ]
  },
  {
   "cell_type": "code",
   "execution_count": 58,
   "id": "d7c47bf2",
   "metadata": {},
   "outputs": [
    {
     "data": {
      "text/plain": [
       "'python'"
      ]
     },
     "execution_count": 58,
     "metadata": {},
     "output_type": "execute_result"
    }
   ],
   "source": [
    "str2.strip()"
   ]
  },
  {
   "cell_type": "code",
   "execution_count": 64,
   "id": "f9a3d950",
   "metadata": {},
   "outputs": [
    {
     "data": {
      "text/plain": [
       "'python@@@@@'"
      ]
     },
     "execution_count": 64,
     "metadata": {},
     "output_type": "execute_result"
    }
   ],
   "source": [
    "str2='@@@@@python@@@@@'\n",
    "# str2.strip('@')\n",
    "# str2.rstrip('@')\n",
    "str2.lstrip('@')"
   ]
  },
  {
   "cell_type": "code",
   "execution_count": 68,
   "id": "4ebb4786",
   "metadata": {},
   "outputs": [
    {
     "data": {
      "text/plain": [
       "'python'"
      ]
     },
     "execution_count": 68,
     "metadata": {},
     "output_type": "execute_result"
    }
   ],
   "source": [
    "str3='@@@@@python$$$$$'\n",
    "# str2.strip('@')\n",
    "# str2.rstrip('@')\n",
    "str3.lstrip('@').rstrip('$')"
   ]
  },
  {
   "cell_type": "code",
   "execution_count": 69,
   "id": "b770b9ea",
   "metadata": {},
   "outputs": [
    {
     "data": {
      "text/plain": [
       "'python'"
      ]
     },
     "execution_count": 69,
     "metadata": {},
     "output_type": "execute_result"
    }
   ],
   "source": [
    "str3.strip('@$')"
   ]
  },
  {
   "cell_type": "code",
   "execution_count": 73,
   "id": "084652ef",
   "metadata": {},
   "outputs": [
    {
     "data": {
      "text/plain": [
       "'hello /r/r/r/n how are you'"
      ]
     },
     "execution_count": 73,
     "metadata": {},
     "output_type": "execute_result"
    }
   ],
   "source": [
    "str1='hello /r/r/r/n how are you'\n",
    "#op 'hello hpw are you'\n",
    "str1.strip('/rn')"
   ]
  },
  {
   "cell_type": "markdown",
   "id": "9c3382d0",
   "metadata": {},
   "source": [
    "$Starts with$-$ends with$"
   ]
  },
  {
   "cell_type": "code",
   "execution_count": 76,
   "id": "eb397a65",
   "metadata": {},
   "outputs": [
    {
     "data": {
      "text/plain": [
       "True"
      ]
     },
     "execution_count": 76,
     "metadata": {},
     "output_type": "execute_result"
    }
   ],
   "source": [
    "s1='hai how are you'\n",
    "s1.startswith('hai')"
   ]
  },
  {
   "cell_type": "code",
   "execution_count": 77,
   "id": "3fc77952",
   "metadata": {},
   "outputs": [
    {
     "data": {
      "text/plain": [
       "True"
      ]
     },
     "execution_count": 77,
     "metadata": {},
     "output_type": "execute_result"
    }
   ],
   "source": [
    "s1.endswith('u')"
   ]
  },
  {
   "cell_type": "markdown",
   "id": "d5f39c1f",
   "metadata": {},
   "source": [
    "$split$"
   ]
  },
  {
   "cell_type": "code",
   "execution_count": 78,
   "id": "5d4f9cd1",
   "metadata": {},
   "outputs": [
    {
     "data": {
      "text/plain": [
       "['Hai', 'how', 'are', 'uoi']"
      ]
     },
     "execution_count": 78,
     "metadata": {},
     "output_type": "execute_result"
    }
   ],
   "source": [
    "#it will split thw owrds and output will be in the list \n",
    "s1='Hai how are uoi'\n",
    "s1.split()"
   ]
  },
  {
   "cell_type": "code",
   "execution_count": 79,
   "id": "da02a0d4",
   "metadata": {},
   "outputs": [
    {
     "data": {
      "text/plain": [
       "['Hai how', ' are uoi']"
      ]
     },
     "execution_count": 79,
     "metadata": {},
     "output_type": "execute_result"
    }
   ],
   "source": [
    "s1='Hai how, are uoi'\n",
    "s1.split(',')"
   ]
  },
  {
   "cell_type": "code",
   "execution_count": 80,
   "id": "d30efe96",
   "metadata": {},
   "outputs": [
    {
     "data": {
      "text/plain": [
       "['H', 'i how, ', 're uoi']"
      ]
     },
     "execution_count": 80,
     "metadata": {},
     "output_type": "execute_result"
    }
   ],
   "source": [
    "s1='Hai how, are uoi'\n",
    "s1.split('a')"
   ]
  },
  {
   "cell_type": "markdown",
   "id": "81cebcdd",
   "metadata": {},
   "source": [
    "- capital/upper/lower/casefold\n",
    "- replace\n",
    "- count\n",
    "- index/find\n",
    "- rstrip/lstrip/strip\n",
    "- startswith/endswith \n"
   ]
  },
  {
   "cell_type": "code",
   "execution_count": 82,
   "id": "b3546608",
   "metadata": {},
   "outputs": [
    {
     "data": {
      "text/plain": [
       "['__add__',\n",
       " '__class__',\n",
       " '__contains__',\n",
       " '__delattr__',\n",
       " '__dir__',\n",
       " '__doc__',\n",
       " '__eq__',\n",
       " '__format__',\n",
       " '__ge__',\n",
       " '__getattribute__',\n",
       " '__getitem__',\n",
       " '__getnewargs__',\n",
       " '__getstate__',\n",
       " '__gt__',\n",
       " '__hash__',\n",
       " '__init__',\n",
       " '__init_subclass__',\n",
       " '__iter__',\n",
       " '__le__',\n",
       " '__len__',\n",
       " '__lt__',\n",
       " '__mod__',\n",
       " '__mul__',\n",
       " '__ne__',\n",
       " '__new__',\n",
       " '__reduce__',\n",
       " '__reduce_ex__',\n",
       " '__repr__',\n",
       " '__rmod__',\n",
       " '__rmul__',\n",
       " '__setattr__',\n",
       " '__sizeof__',\n",
       " '__str__',\n",
       " '__subclasshook__',\n",
       " 'capitalize',\n",
       " 'casefold',\n",
       " 'center',\n",
       " 'count',\n",
       " 'encode',\n",
       " 'endswith',\n",
       " 'expandtabs',\n",
       " 'find',\n",
       " 'format',\n",
       " 'format_map',\n",
       " 'index',\n",
       " 'isalnum',\n",
       " 'isalpha',\n",
       " 'isascii',\n",
       " 'isdecimal',\n",
       " 'isdigit',\n",
       " 'isidentifier',\n",
       " 'islower',\n",
       " 'isnumeric',\n",
       " 'isprintable',\n",
       " 'isspace',\n",
       " 'istitle',\n",
       " 'isupper',\n",
       " 'join',\n",
       " 'ljust',\n",
       " 'lower',\n",
       " 'lstrip',\n",
       " 'maketrans',\n",
       " 'partition',\n",
       " 'removeprefix',\n",
       " 'removesuffix',\n",
       " 'replace',\n",
       " 'rfind',\n",
       " 'rindex',\n",
       " 'rjust',\n",
       " 'rpartition',\n",
       " 'rsplit',\n",
       " 'rstrip',\n",
       " 'split',\n",
       " 'splitlines',\n",
       " 'startswith',\n",
       " 'strip',\n",
       " 'swapcase',\n",
       " 'title',\n",
       " 'translate',\n",
       " 'upper',\n",
       " 'zfill']"
      ]
     },
     "execution_count": 82,
     "metadata": {},
     "output_type": "execute_result"
    }
   ],
   "source": [
    "dir('string')"
   ]
  },
  {
   "cell_type": "code",
   "execution_count": null,
   "id": "34e8c8a8",
   "metadata": {},
   "outputs": [],
   "source": [
    " 'isalnum',\n",
    " 'isalpha',\n",
    " 'isascii',\n",
    " 'isdecimal',\n",
    " 'isdigit',\n",
    " 'isidentifier',\n",
    " 'islower',\n",
    " 'isnumeric',\n",
    " 'isprintable',\n",
    " 'isspace',\n",
    " 'istitle',\n",
    " 'isupper',"
   ]
  },
  {
   "cell_type": "code",
   "execution_count": 85,
   "id": "5c6f8c0a",
   "metadata": {},
   "outputs": [
    {
     "data": {
      "text/plain": [
       "True"
      ]
     },
     "execution_count": 85,
     "metadata": {},
     "output_type": "execute_result"
    }
   ],
   "source": [
    "s2='ishwary'\n",
    "s2.isalpha()"
   ]
  },
  {
   "cell_type": "code",
   "execution_count": 86,
   "id": "24caf37b",
   "metadata": {},
   "outputs": [
    {
     "data": {
      "text/plain": [
       "True"
      ]
     },
     "execution_count": 86,
     "metadata": {},
     "output_type": "execute_result"
    }
   ],
   "source": [
    "s2='ishwary123'\n",
    "s2.isalnum()"
   ]
  },
  {
   "cell_type": "code",
   "execution_count": 87,
   "id": "3db1e2e5",
   "metadata": {},
   "outputs": [
    {
     "data": {
      "text/plain": [
       "True"
      ]
     },
     "execution_count": 87,
     "metadata": {},
     "output_type": "execute_result"
    }
   ],
   "source": [
    "s2='ishwary123'\n",
    "s2.isascii()"
   ]
  },
  {
   "cell_type": "code",
   "execution_count": 88,
   "id": "8c7d7bf3",
   "metadata": {},
   "outputs": [
    {
     "data": {
      "text/plain": [
       "False"
      ]
     },
     "execution_count": 88,
     "metadata": {},
     "output_type": "execute_result"
    }
   ],
   "source": [
    "s2='ishwary123'\n",
    "s2.isdecimal()"
   ]
  },
  {
   "cell_type": "code",
   "execution_count": null,
   "id": "39c8763c",
   "metadata": {},
   "outputs": [],
   "source": [
    "s2='ishwary123'\n",
    "s2.isdecimal()"
   ]
  }
 ],
 "metadata": {
  "kernelspec": {
   "display_name": "Python 3 (ipykernel)",
   "language": "python",
   "name": "python3"
  },
  "language_info": {
   "codemirror_mode": {
    "name": "ipython",
    "version": 3
   },
   "file_extension": ".py",
   "mimetype": "text/x-python",
   "name": "python",
   "nbconvert_exporter": "python",
   "pygments_lexer": "ipython3",
   "version": "3.11.5"
  }
 },
 "nbformat": 4,
 "nbformat_minor": 5
}
