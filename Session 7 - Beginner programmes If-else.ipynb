{
 "cells": [
  {
   "cell_type": "code",
   "execution_count": 2,
   "id": "0b368a67",
   "metadata": {},
   "outputs": [
    {
     "name": "stdout",
     "output_type": "stream",
     "text": [
      "Addition of 10 and 20 gives us 30\n"
     ]
    }
   ],
   "source": [
    "num1 = 10\n",
    "num2 = 20\n",
    "add = num1+ num2\n",
    "print (f'Addition of {num1} and {num2} gives us {add}')"
   ]
  },
  {
   "cell_type": "markdown",
   "id": "dac68440",
   "metadata": {},
   "source": [
    "$Input$"
   ]
  },
  {
   "cell_type": "code",
   "execution_count": 3,
   "id": "8e72f344",
   "metadata": {},
   "outputs": [
    {
     "name": "stdout",
     "output_type": "stream",
     "text": [
      "humma\n"
     ]
    },
    {
     "data": {
      "text/plain": [
       "'humma'"
      ]
     },
     "execution_count": 3,
     "metadata": {},
     "output_type": "execute_result"
    }
   ],
   "source": [
    "input()"
   ]
  },
  {
   "cell_type": "code",
   "execution_count": 5,
   "id": "b3d488f9",
   "metadata": {},
   "outputs": [
    {
     "name": "stdout",
     "output_type": "stream",
     "text": [
      "Enter a num :30\n"
     ]
    },
    {
     "data": {
      "text/plain": [
       "'30'"
      ]
     },
     "execution_count": 5,
     "metadata": {},
     "output_type": "execute_result"
    }
   ],
   "source": [
    "input(\"Enter a num :\")"
   ]
  },
  {
   "cell_type": "code",
   "execution_count": 7,
   "id": "6aedd9ad",
   "metadata": {},
   "outputs": [
    {
     "name": "stdout",
     "output_type": "stream",
     "text": [
      "Enter a name :Python \n"
     ]
    },
    {
     "data": {
      "text/plain": [
       "'Python '"
      ]
     },
     "execution_count": 7,
     "metadata": {},
     "output_type": "execute_result"
    }
   ],
   "source": [
    "input(\"Enter a name :\")"
   ]
  },
  {
   "cell_type": "code",
   "execution_count": 8,
   "id": "38f0a378",
   "metadata": {},
   "outputs": [
    {
     "name": "stdout",
     "output_type": "stream",
     "text": [
      "Enter a num1 :12\n",
      "Enter a num2 :21\n"
     ]
    },
    {
     "data": {
      "text/plain": [
       "'1221'"
      ]
     },
     "execution_count": 8,
     "metadata": {},
     "output_type": "execute_result"
    }
   ],
   "source": [
    "num1=input(\"Enter a num1 :\")#num1 = 12\n",
    "num2=input(\"Enter a num2 :\")#num2 =21\n",
    "num1 + num2                 #'12' + '21'='1221'"
   ]
  },
  {
   "cell_type": "markdown",
   "id": "ca90d8bf",
   "metadata": {},
   "source": [
    "**Note: The default data type from keyboard using input keyword is string**"
   ]
  },
  {
   "cell_type": "code",
   "execution_count": 13,
   "id": "3fa5940b",
   "metadata": {},
   "outputs": [
    {
     "name": "stdout",
     "output_type": "stream",
     "text": [
      "Enter a num1 :44\n",
      "Enter a num2 :44\n",
      "The addition of 44 and 44 is 88\n"
     ]
    }
   ],
   "source": [
    "num1=int(input(\"Enter a num1 :\"))#num1 = 12\n",
    "num2=int(input(\"Enter a num2 :\"))#num2 =21\n",
    "print(f\"The addition of {num1} and {num2} is {num1+num2}\")            "
   ]
  },
  {
   "cell_type": "markdown",
   "id": "2aca4b69",
   "metadata": {},
   "source": [
    "**The manthra here is int_of_input_of**"
   ]
  },
  {
   "cell_type": "code",
   "execution_count": 14,
   "id": "595538de",
   "metadata": {},
   "outputs": [
    {
     "name": "stdout",
     "output_type": "stream",
     "text": [
      "Enter a num1 :22\n",
      "Enter a num2 :22\n",
      "The addition of 22 and 22 is 44\n"
     ]
    }
   ],
   "source": [
    "num1=input(\"Enter a num1 :\")\n",
    "num2=input(\"Enter a num2 :\")\n",
    "sum = int(num1)+ int(num1)\n",
    "print(f\"The addition of {num1} and {num2} is {sum}\")   "
   ]
  },
  {
   "cell_type": "markdown",
   "id": "085f1332",
   "metadata": {},
   "source": [
    "$eval$ : evaluate the number automatically based on original data type\n",
    "    - as this evaluate is term of mathematics we shoud not give string\n",
    "    "
   ]
  },
  {
   "cell_type": "code",
   "execution_count": 15,
   "id": "a6bea63e",
   "metadata": {},
   "outputs": [
    {
     "name": "stdout",
     "output_type": "stream",
     "text": [
      "Enter a num1 :89\n",
      "Enter a num2 :32\n",
      "The addition of 89 and 32 is 178\n"
     ]
    }
   ],
   "source": [
    "num1=eval(input(\"Enter a num1 :\"))\n",
    "num2=eval(input(\"Enter a num2 :\"))\n",
    "sum = num1+num1\n",
    "print(f\"The addition of {num1} and {num2} is {sum}\")   "
   ]
  },
  {
   "cell_type": "code",
   "execution_count": 20,
   "id": "a3d7f43e",
   "metadata": {},
   "outputs": [
    {
     "name": "stdout",
     "output_type": "stream",
     "text": [
      "Enter a num1 :30\n",
      "Enter a num2 :4\n",
      "Enter a num :3\n",
      "The avg of 30 , 4, and 3 is 12.33\n"
     ]
    }
   ],
   "source": [
    "#wap to find average of n1, n2 , n3 \n",
    "#find avg = (n1+n2+n3)/3\n",
    "num1=eval(input(\"Enter a num1 :\"))\n",
    "num2=eval(input(\"Enter a num2 :\"))\n",
    "num3=eval(input(\"Enter a num :\"))\n",
    "add = (num1+num2+num3)\n",
    "avg = round(add/3,2)\n",
    "print(f\"The avg of {num1} , {num2}, and {num3} is {avg}\")  "
   ]
  },
  {
   "cell_type": "code",
   "execution_count": 19,
   "id": "83ecc304",
   "metadata": {},
   "outputs": [
    {
     "data": {
      "text/plain": [
       "3.3333"
      ]
     },
     "execution_count": 19,
     "metadata": {},
     "output_type": "execute_result"
    }
   ],
   "source": [
    "round(3.333333,4)"
   ]
  },
  {
   "cell_type": "code",
   "execution_count": 22,
   "id": "bd2ace4d",
   "metadata": {},
   "outputs": [
    {
     "name": "stdout",
     "output_type": "stream",
     "text": [
      "Enter the salary :100000\n",
      "Enter the Tax percentage :10\n",
      "The total tax we are supposed to pay is 10000.0\n"
     ]
    }
   ],
   "source": [
    "#wap ask the user enter salary\n",
    "# ask the user tax percentage \n",
    "# calculate total tax to pay\n",
    "# salary = 100000\n",
    "#tax_per =10\n",
    "#tax_pay =100000*10/100\n",
    "\n",
    "sal = eval(input(\"Enter the salary :\"))\n",
    "tax_per = eval(input(\"Enter the Tax percentage :\"))\n",
    "tax_pay = (sal*tax_per)/100\n",
    "print(f'The total tax we are supposed to pay is {tax_pay}')\n"
   ]
  },
  {
   "cell_type": "code",
   "execution_count": 12,
   "id": "7456ddda",
   "metadata": {},
   "outputs": [
    {
     "name": "stdout",
     "output_type": "stream",
     "text": [
      "Daughter:Hey mom\n",
      "Mom :Hello beta!\n",
      "Daughter:Did you know the government has implemented the free bus service!\n",
      "Mom :Oh really!\n",
      "Daughter:Shall we go to grandmothers house\n",
      "Mom :Yes\n",
      "Conductor :Show me your identity card!\n",
      "Mom :No!\n",
      "Conductor :Pay the money\n",
      "Mom :How much?\n",
      "Conductor : How many kilometers do you want to travel?\n",
      "Mom :25\n",
      "Mom :How much is the charge\n",
      "Conductor :2\n",
      "Mom :25 * 2 is 50rs\n",
      "Mom :50rs\n"
     ]
    }
   ],
   "source": [
    "# the conversation between mother and daughter\n",
    "# Daughter: Hey mom\n",
    "# Mom :Hello beta!\n",
    "# Daughter:Did you know the government has implemented the free bus service!\n",
    "# Mom:Oh really!\n",
    "# Daughter: Shall we go to grandmothers house\n",
    "# Mom: Yes\n",
    "# Conductor : Show me your identity card!\n",
    "# Mom: No!\n",
    "# Conductor: Pay the money\n",
    "# Mom: How much? \n",
    "# Conductor: How many kilometers do you want to travel?\n",
    "# Mom: 25 <km>\n",
    "# Mom:How much is the charge\n",
    "# Conductor: per km 2rs <Charge>\n",
    "# Mom: 25*2 <Total>:km*charge\n",
    "# MOm: 50rs < Total>\n",
    "   \n",
    "input(\"Daughter:\")    \n",
    "input(\"Mom :\") \n",
    "input(\"Daughter:\")\n",
    "input(\"Mom :\")\n",
    "input(\"Daughter:\")\n",
    "input(\"Mom :\")\n",
    "input(\"Conductor :\")\n",
    "input(\"Mom :\")\n",
    "input(\"Conductor :\")\n",
    "input(\"Mom :\")\n",
    "input(\"Conductor :\")\n",
    "km = eval(input(\"Mom :\"))\n",
    "input(\"Mom :\")\n",
    "charge= eval(input(\"Conductor :\"))\n",
    "total = print(f\"Mom :{km} * {charge} is {km*charge}rs\")\n",
    "total=km*charge\n",
    "print(f\"Mom :{total}rs\")\n"
   ]
  },
  {
   "cell_type": "code",
   "execution_count": 13,
   "id": "81bf15b1",
   "metadata": {},
   "outputs": [
    {
     "name": "stdout",
     "output_type": "stream",
     "text": [
      "you: How much?\n",
      "bar:1000\n",
      "you:I have only dollars\n",
      "bar:we accept only INR\n",
      "you:what should i do \n",
      "bar:will convert dollars into rupees\n",
      "you:what is the cost of that bottle?\n",
      "you:How many INR is equal to 1 USD80\n"
     ]
    },
    {
     "ename": "KeyboardInterrupt",
     "evalue": "Interrupted by user",
     "output_type": "error",
     "traceback": [
      "\u001b[1;31m---------------------------------------------------------------------------\u001b[0m",
      "\u001b[1;31mKeyboardInterrupt\u001b[0m                         Traceback (most recent call last)",
      "Cell \u001b[1;32mIn[13], line 25\u001b[0m\n\u001b[0;32m     21\u001b[0m dollar \u001b[38;5;241m=\u001b[39m\u001b[38;5;28meval\u001b[39m (\u001b[38;5;28minput\u001b[39m(\u001b[38;5;124m\"\u001b[39m\u001b[38;5;124myou:How many INR is equal to 1 USD\u001b[39m\u001b[38;5;124m\"\u001b[39m))\n\u001b[0;32m     22\u001b[0m totalDollar\u001b[38;5;241m=\u001b[39mTamt\u001b[38;5;241m/\u001b[39mdollar\n\u001b[1;32m---> 25\u001b[0m \u001b[38;5;28mprint\u001b[39m(\u001b[38;5;28minput\u001b[39m(\u001b[38;5;124mf\u001b[39m\u001b[38;5;124m\"\u001b[39m\u001b[38;5;124myou:Give me \u001b[39m\u001b[38;5;132;01m{\u001b[39;00mtotalDollar\u001b[38;5;132;01m}\u001b[39;00m\u001b[38;5;124m dollars\u001b[39m\u001b[38;5;124m\"\u001b[39m))\n",
      "File \u001b[1;32m~\\AppData\\Local\\anaconda3\\Lib\\site-packages\\ipykernel\\kernelbase.py:1202\u001b[0m, in \u001b[0;36mKernel.raw_input\u001b[1;34m(self, prompt)\u001b[0m\n\u001b[0;32m   1200\u001b[0m     msg \u001b[38;5;241m=\u001b[39m \u001b[38;5;124m\"\u001b[39m\u001b[38;5;124mraw_input was called, but this frontend does not support input requests.\u001b[39m\u001b[38;5;124m\"\u001b[39m\n\u001b[0;32m   1201\u001b[0m     \u001b[38;5;28;01mraise\u001b[39;00m StdinNotImplementedError(msg)\n\u001b[1;32m-> 1202\u001b[0m \u001b[38;5;28;01mreturn\u001b[39;00m \u001b[38;5;28mself\u001b[39m\u001b[38;5;241m.\u001b[39m_input_request(\n\u001b[0;32m   1203\u001b[0m     \u001b[38;5;28mstr\u001b[39m(prompt),\n\u001b[0;32m   1204\u001b[0m     \u001b[38;5;28mself\u001b[39m\u001b[38;5;241m.\u001b[39m_parent_ident[\u001b[38;5;124m\"\u001b[39m\u001b[38;5;124mshell\u001b[39m\u001b[38;5;124m\"\u001b[39m],\n\u001b[0;32m   1205\u001b[0m     \u001b[38;5;28mself\u001b[39m\u001b[38;5;241m.\u001b[39mget_parent(\u001b[38;5;124m\"\u001b[39m\u001b[38;5;124mshell\u001b[39m\u001b[38;5;124m\"\u001b[39m),\n\u001b[0;32m   1206\u001b[0m     password\u001b[38;5;241m=\u001b[39m\u001b[38;5;28;01mFalse\u001b[39;00m,\n\u001b[0;32m   1207\u001b[0m )\n",
      "File \u001b[1;32m~\\AppData\\Local\\anaconda3\\Lib\\site-packages\\ipykernel\\kernelbase.py:1245\u001b[0m, in \u001b[0;36mKernel._input_request\u001b[1;34m(self, prompt, ident, parent, password)\u001b[0m\n\u001b[0;32m   1242\u001b[0m \u001b[38;5;28;01mexcept\u001b[39;00m \u001b[38;5;167;01mKeyboardInterrupt\u001b[39;00m:\n\u001b[0;32m   1243\u001b[0m     \u001b[38;5;66;03m# re-raise KeyboardInterrupt, to truncate traceback\u001b[39;00m\n\u001b[0;32m   1244\u001b[0m     msg \u001b[38;5;241m=\u001b[39m \u001b[38;5;124m\"\u001b[39m\u001b[38;5;124mInterrupted by user\u001b[39m\u001b[38;5;124m\"\u001b[39m\n\u001b[1;32m-> 1245\u001b[0m     \u001b[38;5;28;01mraise\u001b[39;00m \u001b[38;5;167;01mKeyboardInterrupt\u001b[39;00m(msg) \u001b[38;5;28;01mfrom\u001b[39;00m \u001b[38;5;28;01mNone\u001b[39;00m\n\u001b[0;32m   1246\u001b[0m \u001b[38;5;28;01mexcept\u001b[39;00m \u001b[38;5;167;01mException\u001b[39;00m:\n\u001b[0;32m   1247\u001b[0m     \u001b[38;5;28mself\u001b[39m\u001b[38;5;241m.\u001b[39mlog\u001b[38;5;241m.\u001b[39mwarning(\u001b[38;5;124m\"\u001b[39m\u001b[38;5;124mInvalid Message:\u001b[39m\u001b[38;5;124m\"\u001b[39m, exc_info\u001b[38;5;241m=\u001b[39m\u001b[38;5;28;01mTrue\u001b[39;00m)\n",
      "\u001b[1;31mKeyboardInterrupt\u001b[0m: Interrupted by user"
     ]
    }
   ],
   "source": [
    "# you: How much?\n",
    "# bar: 800rs\n",
    "# you: I have only dollars\n",
    "# bar: we accept only INR\n",
    "# you : what should i do \n",
    "# bar : will convert dollars into rupees\n",
    "# you: what is the cost of that bottle?\n",
    "# bar : It costs 800 rs\n",
    "# you :how much one dollar into INR=80\n",
    "\n",
    "# you : how many dollars is required = 800/80 =10\n",
    "# bar : give me 10 dollars\n",
    "\n",
    "input(\"you:\")    \n",
    "Tamt =eval(input(\"bar:\") )\n",
    "input(\"you:\") \n",
    "input(\"bar:\") \n",
    "input(\"you:\")\n",
    "input(\"bar:\")\n",
    "input(\"you:\")\n",
    "dollar =eval (input(\"you:How many INR is equal to 1 USD\"))\n",
    "totalDollar=Tamt/dollar\n",
    "\n",
    "\n",
    "print(f\"you:Give me {totalDollar} dollars\")\n",
    "\n",
    "\n"
   ]
  },
  {
   "cell_type": "code",
   "execution_count": 16,
   "id": "fa0ffa54",
   "metadata": {},
   "outputs": [
    {
     "name": "stdout",
     "output_type": "stream",
     "text": [
      "you: How much?\n",
      "bar:85\n",
      "you:I have only dollars\n",
      "bar:we accept only INR\n",
      "you:what should i do\n",
      "bar:will convert dollars into rupees\n",
      "you:what is the cost of that bottle?\n",
      " bar : It costs 85 rs\n",
      "you:How many INR is equal to 1 USD25\n",
      "bar:Give me 3.4 dollars\n"
     ]
    }
   ],
   "source": [
    "import time\n",
    "\n",
    "print(\"you: How much?\")    \n",
    "Tamt =eval(input(\"bar:\") )\n",
    "print(\"you:I have only dollars\") \n",
    "time.sleep(2)\n",
    "print(\"bar:we accept only INR\") \n",
    "time.sleep(2)\n",
    "print(\"you:what should i do\")\n",
    "time.sleep(2)\n",
    "print(\"bar:will convert dollars into rupees\")\n",
    "time.sleep(2)\n",
    "print(\"you:what is the cost of that bottle?\")\n",
    "time.sleep(2)\n",
    "print(f\" bar : It costs {Tamt} rs\")\n",
    "dollar =eval (input(\"you:How many INR is equal to 1 USD\"))\n",
    "totalDollar=Tamt/dollar\n",
    "print(f\"bar:Give me {totalDollar} dollars\")\n",
    " \n",
    "  \n",
    " \n",
    "\n",
    "# you : how many dollars is required = 800/80 =10\n",
    "# bar : give me 10 dollars\n"
   ]
  },
  {
   "cell_type": "code",
   "execution_count": 20,
   "id": "cd2b86fe",
   "metadata": {},
   "outputs": [
    {
     "name": "stdout",
     "output_type": "stream",
     "text": [
      "Bar:Give me 3.4 dollors\n",
      "Bar: 3.4\n",
      "Bar: 3.4\n"
     ]
    }
   ],
   "source": [
    "print(f\"Bar:Give me {totalDollar} dollors\")\n",
    "print('Bar:',totalDollar)\n",
    "print(\"Bar: {}\".format(totalDollar))"
   ]
  },
  {
   "cell_type": "code",
   "execution_count": 21,
   "id": "64b15e51",
   "metadata": {},
   "outputs": [
    {
     "data": {
      "text/plain": [
       "11.25"
      ]
     },
     "execution_count": 21,
     "metadata": {},
     "output_type": "execute_result"
    }
   ],
   "source": [
    "45/4 #45 division 4\n",
    "# it is a normal divison"
   ]
  },
  {
   "cell_type": "code",
   "execution_count": 22,
   "id": "a622386d",
   "metadata": {},
   "outputs": [
    {
     "data": {
      "text/plain": [
       "1"
      ]
     },
     "execution_count": 22,
     "metadata": {},
     "output_type": "execute_result"
    }
   ],
   "source": [
    "45%4 #45 modulus 4\n",
    "# it will give remainder"
   ]
  },
  {
   "cell_type": "code",
   "execution_count": 23,
   "id": "4ec5dcd4",
   "metadata": {},
   "outputs": [
    {
     "data": {
      "text/plain": [
       "11"
      ]
     },
     "execution_count": 23,
     "metadata": {},
     "output_type": "execute_result"
    }
   ],
   "source": [
    "45//4 #45 floor division 4\n",
    "#it wil give quotient "
   ]
  },
  {
   "cell_type": "code",
   "execution_count": null,
   "id": "c287d90a",
   "metadata": {},
   "outputs": [],
   "source": [
    "# Conditional operations\n",
    "# if-else"
   ]
  },
  {
   "cell_type": "markdown",
   "id": "8fec67ad",
   "metadata": {},
   "source": [
    "$pattern-1:$\n",
    "   *if*"
   ]
  },
  {
   "cell_type": "code",
   "execution_count": 25,
   "id": "c37dbc56",
   "metadata": {},
   "outputs": [
    {
     "data": {
      "text/plain": [
       "True"
      ]
     },
     "execution_count": 25,
     "metadata": {},
     "output_type": "execute_result"
    }
   ],
   "source": [
    "10>5"
   ]
  },
  {
   "cell_type": "code",
   "execution_count": 26,
   "id": "759ea36d",
   "metadata": {},
   "outputs": [
    {
     "data": {
      "text/plain": [
       "False"
      ]
     },
     "execution_count": 26,
     "metadata": {},
     "output_type": "execute_result"
    }
   ],
   "source": [
    "10<5"
   ]
  },
  {
   "cell_type": "code",
   "execution_count": null,
   "id": "9d258051",
   "metadata": {},
   "outputs": [],
   "source": [
    "# Whenever it is true do something \n",
    "# IF that is true do something \n",
    "# when you enter after \":\" symbol it will take some space that space is called indentation\n",
    "if <condition>:\n",
    "    ############\n",
    "    ###########\n",
    "    #########\n",
    "    "
   ]
  },
  {
   "cell_type": "code",
   "execution_count": null,
   "id": "1905ec6e",
   "metadata": {},
   "outputs": [],
   "source": [
    "name = 'python'  #python is stored in a variable \n",
    "name == 'python' #we are checking if name is equal to python"
   ]
  },
  {
   "cell_type": "code",
   "execution_count": 31,
   "id": "785702f5",
   "metadata": {},
   "outputs": [],
   "source": [
    "#I want to add a=10\n",
    "#              b=20\n",
    "#              a+b\n",
    "#name = 'python'\n",
    "\n",
    "\n",
    "name = 'python'\n",
    "if name == 'Python':\n",
    "    a=10\n",
    "    b=18\n",
    "    c=a+b\n",
    "    print(c)\n"
   ]
  },
  {
   "cell_type": "code",
   "execution_count": 35,
   "id": "00ba6cfe",
   "metadata": {},
   "outputs": [
    {
     "name": "stdout",
     "output_type": "stream",
     "text": [
      "10\n",
      "10\n"
     ]
    }
   ],
   "source": [
    "name = 'python'\n",
    "if name == 'python':\n",
    "    print(\"10\")\n",
    "    print(\"10\")"
   ]
  },
  {
   "cell_type": "code",
   "execution_count": null,
   "id": "9673bf10",
   "metadata": {},
   "outputs": [],
   "source": [
    "#backspace till : and then do enter\n",
    "#usespace bar till you avoid the red color of the print statement\n",
    "#enter tab\n",
    "#error name : indentation error"
   ]
  },
  {
   "cell_type": "code",
   "execution_count": 38,
   "id": "1eab1cfc",
   "metadata": {},
   "outputs": [
    {
     "name": "stdout",
     "output_type": "stream",
     "text": [
      "Hello\n"
     ]
    }
   ],
   "source": [
    "if True:\n",
    "    print('Hello')"
   ]
  },
  {
   "cell_type": "code",
   "execution_count": 37,
   "id": "24cdfabf",
   "metadata": {},
   "outputs": [],
   "source": [
    "if False:\n",
    "    print('Hello')"
   ]
  },
  {
   "cell_type": "code",
   "execution_count": 39,
   "id": "0051426a",
   "metadata": {},
   "outputs": [
    {
     "name": "stdout",
     "output_type": "stream",
     "text": [
      "Hello\n"
     ]
    }
   ],
   "source": [
    "\n",
    "yes=True\n",
    "if yes:\n",
    "    print('Hello')"
   ]
  },
  {
   "cell_type": "code",
   "execution_count": 41,
   "id": "ea3c9f90",
   "metadata": {},
   "outputs": [
    {
     "name": "stdout",
     "output_type": "stream",
     "text": [
      "1\n",
      "2\n",
      "hello\n",
      "hai\n",
      "bye\n"
     ]
    }
   ],
   "source": [
    "print(1)\n",
    "print(2)\n",
    "################################\n",
    "if True:\n",
    "    print(\"hello\")\n",
    "    print(\"hai\")\n",
    "#################################\n",
    "print(\"bye\")    "
   ]
  },
  {
   "cell_type": "code",
   "execution_count": 42,
   "id": "47fc2fc1",
   "metadata": {},
   "outputs": [
    {
     "name": "stdout",
     "output_type": "stream",
     "text": [
      "1\n",
      "2\n",
      "bye\n"
     ]
    }
   ],
   "source": [
    "print(1)\n",
    "print(2)\n",
    "################################\n",
    "if False:\n",
    "    print(\"hello\")\n",
    "    print(\"hai\")\n",
    "################################\n",
    "print(\"bye\")    "
   ]
  },
  {
   "cell_type": "code",
   "execution_count": 44,
   "id": "bc26ef81",
   "metadata": {},
   "outputs": [
    {
     "name": "stdout",
     "output_type": "stream",
     "text": [
      "1\n",
      "2\n",
      "bye\n",
      "hello\n",
      "hai\n"
     ]
    }
   ],
   "source": [
    "print(1)\n",
    "print(2)\n",
    "if False:\n",
    "    print(\"hello\")\n",
    "    print(\"hai\")\n",
    "print(\"bye\")    \n",
    "if True:\n",
    "    print(\"hello\")\n",
    "    print(\"hai\")"
   ]
  },
  {
   "cell_type": "code",
   "execution_count": 45,
   "id": "9b5b6a8a",
   "metadata": {},
   "outputs": [
    {
     "name": "stdout",
     "output_type": "stream",
     "text": [
      "hello\n"
     ]
    }
   ],
   "source": [
    "name = 'python'\n",
    "if name == 'python':#python ==Python if False\n",
    "    print(\"hello\")\n",
    "else:\n",
    "    print('bye')"
   ]
  },
  {
   "cell_type": "code",
   "execution_count": 47,
   "id": "d342f76c",
   "metadata": {},
   "outputs": [
    {
     "name": "stdout",
     "output_type": "stream",
     "text": [
      "Enter a number23\n",
      "The number is odd\n"
     ]
    }
   ],
   "source": [
    "#wap ask the user to enter a number from keyboard\n",
    "#print if it is even number or odd number\n",
    "\n",
    "num=eval(input(\"Enter a number\"))\n",
    "if num%2==0:\n",
    "    print('The number is even')\n",
    "else:\n",
    "    print(\"The number is odd\")\n"
   ]
  },
  {
   "cell_type": "code",
   "execution_count": 48,
   "id": "faad1122",
   "metadata": {},
   "outputs": [
    {
     "name": "stdout",
     "output_type": "stream",
     "text": [
      "Enter a number56\n",
      "The number is even\n"
     ]
    }
   ],
   "source": [
    "num=eval(input(\"Enter a number\"))\n",
    "if num%2==0:\n",
    "    print('The number is even')\n",
    "else:\n",
    "    print(\"The number is odd\")\n"
   ]
  },
  {
   "cell_type": "code",
   "execution_count": 49,
   "id": "9be138c7",
   "metadata": {},
   "outputs": [
    {
     "name": "stdout",
     "output_type": "stream",
     "text": [
      "Enter a number78\n",
      "The 78 is even\n"
     ]
    }
   ],
   "source": [
    "num=eval(input(\"Enter a number\"))\n",
    "if num%2==0:\n",
    "    print(f'Number {num} is even')\n",
    "else:\n",
    "    print(f\"Number {num} is odd\")\n"
   ]
  },
  {
   "cell_type": "code",
   "execution_count": null,
   "id": "3dc541cd",
   "metadata": {},
   "outputs": [],
   "source": []
  }
 ],
 "metadata": {
  "kernelspec": {
   "display_name": "Python 3 (ipykernel)",
   "language": "python",
   "name": "python3"
  },
  "language_info": {
   "codemirror_mode": {
    "name": "ipython",
    "version": 3
   },
   "file_extension": ".py",
   "mimetype": "text/x-python",
   "name": "python",
   "nbconvert_exporter": "python",
   "pygments_lexer": "ipython3",
   "version": "3.11.5"
  }
 },
 "nbformat": 4,
 "nbformat_minor": 5
}
