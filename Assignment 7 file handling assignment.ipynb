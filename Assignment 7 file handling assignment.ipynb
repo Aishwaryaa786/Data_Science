{
 "cells": [
  {
   "cell_type": "code",
   "execution_count": 15,
   "id": "90488ebe",
   "metadata": {},
   "outputs": [
    {
     "name": "stdout",
     "output_type": "stream",
     "text": [
      "e\n",
      "m\n",
      "a\n",
      "i\n",
      "l\n",
      "s\n",
      ".\n",
      "t\n",
      "x\n",
      "t\n"
     ]
    }
   ],
   "source": [
    "file='emails.txt'\n",
    "m=open(file)\n",
    "m.read()\n",
    "for i in file :\n",
    "    print(i)"
   ]
  },
  {
   "cell_type": "code",
   "execution_count": null,
   "id": "99e54c26",
   "metadata": {},
   "outputs": [],
   "source": [
    "# Create 4 lists Extract\n",
    "# 1) First name\n",
    "# 2) Second name\n",
    "# 3) Company name\n",
    "# 4) Company email id\n",
    "\n",
    "\n"
   ]
  },
  {
   "cell_type": "code",
   "execution_count": 45,
   "id": "76830356",
   "metadata": {},
   "outputs": [],
   "source": [
    "first_name=[]\n",
    "second_name=[]\n",
    "company_name=[]\n",
    "company_email_id=[]\n",
    "path ='emails.txt'\n",
    "\n",
    "file=open(path)\n",
    "file.read()\n",
    "for i in file:\n",
    "    print(i.strip())\n",
    "    \n",
    "#         print(first_name.append(i))\n",
    "# f=[i for i in file]\n",
    "# f"
   ]
  },
  {
   "cell_type": "code",
   "execution_count": 8,
   "id": "9e866f22",
   "metadata": {},
   "outputs": [
    {
     "name": "stdout",
     "output_type": "stream",
     "text": [
      "Santhanam  Jayendhran  jayendhran.ms@accenture.com accenture\n",
      " Bhattacharjee  Sankalan  s.t.bhattacharjee@accenture.com accenture\n",
      " Bansal  Vaishnavi  vaishnavi.a.bansal@accenture.com accenture\n",
      " Chandra Shekhar  Pavuluri  p.a.chandra.shekhar@accenture.com accenture\n",
      " J Doshi  Hiren  hiren.j.doshi@accenture.com accenture\n",
      " Shimoga Prakash  Jeevan  j.shimoga.prakash@accenture.com accenture\n",
      " Akhouri  Shreyash  shreyash.akhouri@accenture.com accenture\n",
      " Nath  Nupanga  nupanga.nath@accenture.com accenture\n",
      " Ponna  Ramesh  r.ponna@accenture.com accenture\n",
      " Singhal  Aditya  aditya.d.singhal@accenture.com accenture\n",
      " Gorai  Sumit  sumit.gorai@accenture.com accenture\n",
      " Valdez  Mariele Dyan Francely  mariele.dyan.valdez@accenture.com accenture\n",
      " Cancel  Abigail Kyle  abigail.kyle.cancel@accenture.com accenture\n",
      " BONDALAKUNTA  POOJITHA  p.bondalakunta@accenture.com accenture\n",
      " priyanka uppala  sai  sai.priyanka.uppala@accenture.com accenture\n",
      " Nitin SHINDE  NIKHIL  nikhil.nitin.shinde@accenture.com accenture\n",
      " Chidre  Swapna  swapna.chidre@accenture.com accenture\n",
      " Sahu  Swastik  s.satyapragyan.sahu@accenture.com accenture\n",
      " Sikka  Ankit  ankit.sikka@accenture.com accenture\n",
      " Dara  Sai Madhukar  sai.madhukar.dara@accenture.com accenture\n",
      " Pattanshetti  Sampreet  s.pattanshetti@accenture.com accenture\n",
      " Sharma  Ayush  ayush.ad.sharma@accenture.com accenture\n",
      " Latorena  Zairous Jay  zairous.jay.latorena@accenture.com accenture\n",
      " Abhimanyu Pradhan  Roshankumar  r.abhimanyu.pradhan@accenture.com accenture\n",
      " Jaiswal  Lehar  lehar.jaiswal@accenture.com accenture\n",
      " Gupta  Retik  retik.gupta@accenture.com accenture\n",
      " Satti  Phanindra Reddy  phanindra.r.satti@accenture.com accenture\n",
      " Kumar  Manish  manish.dw.kumar@accenture.com accenture\n",
      " Balakrishnan  Devi Priya  devi.p.balakrishnan@accenture.com accenture\n",
      " M S  Roshni Priya  roshni.priya.m.s@accenture.com accenture\n",
      " Cheerala  Vanaja  vanaja.cheerala@accenture.com accenture\n",
      " G D  Chandrashekhar  chandrashekhar.g.d@accenture.com accenture\n",
      " Nikhil Reddy  Madithati  m.nikhil.reddy@accenture.com accenture\n",
      " Santos  Jeroshelle V.  jeroshelle.v.santos@accenture.com accenture\n",
      " Milan  Gerald John  gerald.john.milan@accenture.com accenture\n",
      " Gupta  Vivek  vivek.u.gupta@accenture.com accenture\n",
      " Mandal  Sumit  s.sunilkumar.mandal@accenture.com accenture\n",
      " Prakash Shukla  Ashok  ashok.prakash.shukla@accenture.com accenture\n",
      " Naganathan  Siva  sivakumar.naganathan@accenture.com accenture\n",
      " GAHLOT  NIKHIL  nikhil.gahlot@accenture.com accenture\n",
      " Kanjilal  Sourav  s.a.kanti.kanjilal@accenture.com accenture\n",
      " Nallagoni  Omkar  omkar.nallagoni@accenture.com accenture\n",
      " Sahajan  Sandra  sandra.sahajan@accenture.com accenture\n",
      " Nelluri  Chaitanya  chaitanya.nelluri@accenture.com accenture\n",
      "First name is =     ['Santhanam', ' Bhattacharjee', ' Bansal', ' Chandra Shekhar', ' J Doshi', ' Shimoga Prakash', ' Akhouri', ' Nath', ' Ponna', ' Singhal', ' Gorai', ' Valdez', ' Cancel', ' BONDALAKUNTA', ' priyanka uppala', ' Nitin SHINDE', ' Chidre', ' Sahu', ' Sikka', ' Dara', ' Pattanshetti', ' Sharma', ' Latorena', ' Abhimanyu Pradhan', ' Jaiswal', ' Gupta', ' Satti', ' Kumar', ' Balakrishnan', ' M S', ' Cheerala', ' G D', ' Nikhil Reddy', ' Santos', ' Milan', ' Gupta', ' Mandal', ' Prakash Shukla', ' Naganathan', ' GAHLOT', ' Kanjilal', ' Nallagoni', ' Sahajan', ' Nelluri']\n",
      "Second anme is =     [' Jayendhran ', ' Sankalan ', ' Vaishnavi ', ' Pavuluri ', ' Hiren ', ' Jeevan ', ' Shreyash ', ' Nupanga ', ' Ramesh ', ' Aditya ', ' Sumit ', ' Mariele Dyan Francely ', ' Abigail Kyle ', ' POOJITHA ', ' sai ', ' NIKHIL ', ' Swapna ', ' Swastik ', ' Ankit ', ' Sai Madhukar ', ' Sampreet ', ' Ayush ', ' Zairous Jay ', ' Roshankumar ', ' Lehar ', ' Retik ', ' Phanindra Reddy ', ' Manish ', ' Devi Priya ', ' Roshni Priya ', ' Vanaja ', ' Chandrashekhar ', ' Madithati ', ' Jeroshelle V. ', ' Gerald John ', ' Vivek ', ' Sumit ', ' Ashok ', ' Siva ', ' NIKHIL ', ' Sourav ', ' Omkar ', ' Sandra ', ' Chaitanya ']\n",
      "Company name is =     ['accenture', 'accenture', 'accenture', 'accenture', 'accenture', 'accenture', 'accenture', 'accenture', 'accenture', 'accenture', 'accenture', 'accenture', 'accenture', 'accenture', 'accenture', 'accenture', 'accenture', 'accenture', 'accenture', 'accenture', 'accenture', 'accenture', 'accenture', 'accenture', 'accenture', 'accenture', 'accenture', 'accenture', 'accenture', 'accenture', 'accenture', 'accenture', 'accenture', 'accenture', 'accenture', 'accenture', 'accenture', 'accenture', 'accenture', 'accenture', 'accenture', 'accenture', 'accenture', 'accenture']\n",
      "Company email id =      ['jayendhran.ms@accenture.com', 's.t.bhattacharjee@accenture.com', 'vaishnavi.a.bansal@accenture.com', 'p.a.chandra.shekhar@accenture.com', 'hiren.j.doshi@accenture.com', 'j.shimoga.prakash@accenture.com', 'shreyash.akhouri@accenture.com', 'nupanga.nath@accenture.com', 'r.ponna@accenture.com', 'aditya.d.singhal@accenture.com', 'sumit.gorai@accenture.com', 'mariele.dyan.valdez@accenture.com', 'abigail.kyle.cancel@accenture.com', 'p.bondalakunta@accenture.com', 'sai.priyanka.uppala@accenture.com', 'nikhil.nitin.shinde@accenture.com', 'swapna.chidre@accenture.com', 's.satyapragyan.sahu@accenture.com', 'ankit.sikka@accenture.com', 'sai.madhukar.dara@accenture.com', 's.pattanshetti@accenture.com', 'ayush.ad.sharma@accenture.com', 'zairous.jay.latorena@accenture.com', 'r.abhimanyu.pradhan@accenture.com', 'lehar.jaiswal@accenture.com', 'retik.gupta@accenture.com', 'phanindra.r.satti@accenture.com', 'manish.dw.kumar@accenture.com', 'devi.p.balakrishnan@accenture.com', 'roshni.priya.m.s@accenture.com', 'vanaja.cheerala@accenture.com', 'chandrashekhar.g.d@accenture.com', 'm.nikhil.reddy@accenture.com', 'jeroshelle.v.santos@accenture.com', 'gerald.john.milan@accenture.com', 'vivek.u.gupta@accenture.com', 's.sunilkumar.mandal@accenture.com', 'ashok.prakash.shukla@accenture.com', 'sivakumar.naganathan@accenture.com', 'nikhil.gahlot@accenture.com', 's.a.kanti.kanjilal@accenture.com', 'omkar.nallagoni@accenture.com', 'sandra.sahajan@accenture.com', 'chaitanya.nelluri@accenture.com']\n"
     ]
    }
   ],
   "source": [
    "# Create 4 lists Extract\n",
    "# 1) First name\n",
    "# 2) Second name\n",
    "# 3) Company name\n",
    "# 4) Company email id\n",
    "first_name=[]\n",
    "second_name=[]\n",
    "company_name=[]\n",
    "company_email_id=[]\n",
    "path ='emails.txt'\n",
    "data=open(path).read()\n",
    "m=data.split(';')\n",
    "for i in m:\n",
    "    i1=i.index(',')\n",
    "    fname=(i[0:i1])\n",
    "    i2=i.index('<')\n",
    "    sname=i[i1+1:i2]\n",
    "    i3=i.index('@')\n",
    "    cname=i[i2+1:-1]\n",
    "    i4=i.index('>')\n",
    "    comp=i[i3+1:i4-4]\n",
    "    print(fname,sname,cname,comp)\n",
    "    first_name.append(fname)\n",
    "    second_name.append(sname)\n",
    "    company_name.append(comp)\n",
    "    company_email_id.append(cname)\n",
    "    \n",
    "\n",
    "print('First name is =    ',first_name)\n",
    "print('Second anme is =    ' ,second_name)\n",
    "print('Company name is =    ',company_name)\n",
    "print('Company email id =     ',company_email_id)\n",
    "   \n"
   ]
  },
  {
   "cell_type": "code",
   "execution_count": 61,
   "id": "dc082db9",
   "metadata": {},
   "outputs": [
    {
     "data": {
      "text/plain": [
       "'Santhanam, Jayendhran <jayendhran.ms'"
      ]
     },
     "execution_count": 61,
     "metadata": {},
     "output_type": "execute_result"
    }
   ],
   "source": [
    "m[0].split(',')[0]\n",
    "m[0].split('<')[0]\n",
    "m[0].split('>')[0]\n",
    "m[0].split('@')[0]\n",
    "s1= 'Santhanam, Jayendhran <jayendhran.ms@accenture.com>'"
   ]
  },
  {
   "cell_type": "code",
   "execution_count": 69,
   "id": "fb42a027",
   "metadata": {},
   "outputs": [
    {
     "name": "stdout",
     "output_type": "stream",
     "text": [
      "Santhanam  Jayendhran  jayendhran.ms@accenture.com accenture\n"
     ]
    }
   ],
   "source": [
    "\n",
    "s1= 'Santhanam, Jayendhran <jayendhran.ms@accenture.com>'\n",
    "i1=s1.index(',')\n",
    "fname=(s1[0:i1])\n",
    "i2=s1.index('<')\n",
    "sname=s1[i1+1:i2]\n",
    "i3=s1.index('@')\n",
    "cname=s1[i2+1:-1]\n",
    "i4=s1.index('.com')\n",
    "comp=s1[i3+1:i4]\n",
    "print(fname,sname,cname,comp)"
   ]
  },
  {
   "cell_type": "code",
   "execution_count": 121,
   "id": "7016f037",
   "metadata": {},
   "outputs": [],
   "source": [
    "m1=first_name.append(fname)\n",
    "m1"
   ]
  },
  {
   "cell_type": "code",
   "execution_count": null,
   "id": "dcda59be",
   "metadata": {},
   "outputs": [],
   "source": []
  },
  {
   "cell_type": "code",
   "execution_count": null,
   "id": "e7bf9999",
   "metadata": {},
   "outputs": [],
   "source": []
  },
  {
   "cell_type": "code",
   "execution_count": null,
   "id": "a13f3e16",
   "metadata": {},
   "outputs": [],
   "source": []
  },
  {
   "cell_type": "code",
   "execution_count": null,
   "id": "e01e9f67",
   "metadata": {},
   "outputs": [],
   "source": []
  },
  {
   "cell_type": "code",
   "execution_count": null,
   "id": "a2e71420",
   "metadata": {},
   "outputs": [],
   "source": []
  },
  {
   "cell_type": "code",
   "execution_count": null,
   "id": "d058da1b",
   "metadata": {},
   "outputs": [],
   "source": []
  },
  {
   "cell_type": "code",
   "execution_count": null,
   "id": "6faec64d",
   "metadata": {},
   "outputs": [],
   "source": [
    "                                                                     "
   ]
  },
  {
   "cell_type": "code",
   "execution_count": null,
   "id": "b4f4b804",
   "metadata": {},
   "outputs": [],
   "source": []
  },
  {
   "cell_type": "code",
   "execution_count": null,
   "id": "f1ef66eb",
   "metadata": {},
   "outputs": [],
   "source": []
  },
  {
   "cell_type": "code",
   "execution_count": null,
   "id": "22d9342b",
   "metadata": {},
   "outputs": [],
   "source": []
  },
  {
   "cell_type": "code",
   "execution_count": null,
   "id": "507ccd35",
   "metadata": {},
   "outputs": [],
   "source": []
  },
  {
   "cell_type": "code",
   "execution_count": null,
   "id": "b7582ffe",
   "metadata": {},
   "outputs": [],
   "source": []
  },
  {
   "cell_type": "code",
   "execution_count": null,
   "id": "db13817a",
   "metadata": {},
   "outputs": [],
   "source": []
  }
 ],
 "metadata": {
  "kernelspec": {
   "display_name": "Python 3 (ipykernel)",
   "language": "python",
   "name": "python3"
  },
  "language_info": {
   "codemirror_mode": {
    "name": "ipython",
    "version": 3
   },
   "file_extension": ".py",
   "mimetype": "text/x-python",
   "name": "python",
   "nbconvert_exporter": "python",
   "pygments_lexer": "ipython3",
   "version": "3.11.5"
  }
 },
 "nbformat": 4,
 "nbformat_minor": 5
}
