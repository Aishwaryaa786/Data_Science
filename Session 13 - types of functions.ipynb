{
 "cells": [
  {
   "cell_type": "code",
   "execution_count": null,
   "id": "bd5dd4cc",
   "metadata": {},
   "outputs": [],
   "source": [
    "- function without arguments\n",
    "- function with arguments \n",
    "- Defalut \n",
    "- local vs global\n",
    "- return \n",
    "- function in function \n"
   ]
  },
  {
   "cell_type": "code",
   "execution_count": null,
   "id": "f3ab203c",
   "metadata": {},
   "outputs": [],
   "source": [
    "#Practice every day \n",
    "#Attend the classes\n"
   ]
  },
  {
   "cell_type": "code",
   "execution_count": 3,
   "id": "6db1ff6c",
   "metadata": {},
   "outputs": [
    {
     "name": "stdout",
     "output_type": "stream",
     "text": [
      "Enter a number:78\n",
      "Even\n"
     ]
    }
   ],
   "source": [
    "#Functions with out arguments\n",
    "def even_odd():\n",
    "    num = eval(input(\"Enter a number:\"))\n",
    "    if num%2==0:\n",
    "        print('Even')\n",
    "    else:\n",
    "        print('Odd')\n",
    "        \n",
    "even_odd()"
   ]
  },
  {
   "cell_type": "code",
   "execution_count": 4,
   "id": "8550f794",
   "metadata": {},
   "outputs": [
    {
     "name": "stdout",
     "output_type": "stream",
     "text": [
      "Even\n"
     ]
    }
   ],
   "source": [
    "#Functions with  arguments\n",
    "def even_odd(num):\n",
    "   \n",
    "    if num%2==0:\n",
    "        print('Even')\n",
    "    else:\n",
    "        print('Odd')\n",
    "        \n",
    "even_odd(78)"
   ]
  },
  {
   "cell_type": "code",
   "execution_count": 6,
   "id": "839cab19",
   "metadata": {},
   "outputs": [
    {
     "name": "stdout",
     "output_type": "stream",
     "text": [
      "num1: 20\n",
      "num2: 100\n",
      "120\n"
     ]
    }
   ],
   "source": [
    "#Default Arguments:this means we can fix the argument values or the argument is fixed.\n",
    "#Defalut argument should always be at last i.e second parameter.\n",
    "def summ(num1,num2=100):\n",
    "    print(\"num1:\", num1)\n",
    "    print(\"num2:\", num2)\n",
    "    add=num1+num2\n",
    "    print(add)\n",
    "summ(20)\n",
    "#num1 = 20 num2=100"
   ]
  },
  {
   "cell_type": "code",
   "execution_count": 8,
   "id": "f4f3eb97",
   "metadata": {},
   "outputs": [
    {
     "name": "stdout",
     "output_type": "stream",
     "text": [
      "num1: 200\n",
      "num2: 100\n",
      "300\n"
     ]
    }
   ],
   "source": [
    "def summ(num1=200,num2=100):\n",
    "    print(\"num1:\", num1)\n",
    "    print(\"num2:\", num2)\n",
    "    add=num1+num2\n",
    "    print(add)\n",
    "summ()"
   ]
  },
  {
   "cell_type": "markdown",
   "id": "c41d9d45",
   "metadata": {},
   "source": [
    "- Note : Deafult arguments is always at last"
   ]
  },
  {
   "cell_type": "code",
   "execution_count": null,
   "id": "5171fada",
   "metadata": {},
   "outputs": [],
   "source": [
    "avg(n1,n2,n3=100) #Works\n",
    "avg(n1,n2=100,n3=100)#Works\n",
    "avg(n1=100,n2=100,n3=100) #Works\n",
    "avg(n1=100,n2,n3)#Fails\n",
    "avg(n1=100,n2=100,n3) #Fails\n",
    "avg(n1=100,n2,n3=100) #Fails\n",
    "avg(n1,n2=100,n3=100)#Works"
   ]
  },
  {
   "cell_type": "code",
   "execution_count": 10,
   "id": "30eec6ba",
   "metadata": {},
   "outputs": [
    {
     "name": "stdout",
     "output_type": "stream",
     "text": [
      "200.0\n"
     ]
    }
   ],
   "source": [
    "#Case-1:\n",
    "def avg(n1,n2,n3=100):\n",
    "    averge=(n1+n2+n3)/3\n",
    "    print(averge)\n",
    "avg(200,300)  #n1=200 n2=300 n3=100"
   ]
  },
  {
   "cell_type": "code",
   "execution_count": 11,
   "id": "02757411",
   "metadata": {},
   "outputs": [
    {
     "name": "stdout",
     "output_type": "stream",
     "text": [
      "166.66666666666666\n"
     ]
    }
   ],
   "source": [
    "#Case-2:\n",
    "def avg(n1,n2=100,n3=100):\n",
    "    averge=(n1+n2+n3)/3\n",
    "    print(averge)\n",
    "avg(300) "
   ]
  },
  {
   "cell_type": "code",
   "execution_count": 13,
   "id": "e582e222",
   "metadata": {},
   "outputs": [
    {
     "name": "stdout",
     "output_type": "stream",
     "text": [
      "100.0\n"
     ]
    }
   ],
   "source": [
    "#Case-3:\n",
    "def avg(n1=100,n2=100,n3=100):\n",
    "    averge=(n1+n2+n3)/3\n",
    "    print(averge)\n",
    "avg() "
   ]
  },
  {
   "cell_type": "code",
   "execution_count": 14,
   "id": "45aae515",
   "metadata": {},
   "outputs": [
    {
     "ename": "SyntaxError",
     "evalue": "non-default argument follows default argument (1253035040.py, line 1)",
     "output_type": "error",
     "traceback": [
      "\u001b[1;36m  Cell \u001b[1;32mIn[14], line 1\u001b[1;36m\u001b[0m\n\u001b[1;33m    def avg(n1=100,n2,n3):\u001b[0m\n\u001b[1;37m                   ^\u001b[0m\n\u001b[1;31mSyntaxError\u001b[0m\u001b[1;31m:\u001b[0m non-default argument follows default argument\n"
     ]
    }
   ],
   "source": [
    "#Case-4:\n",
    "def avg(n1=100,n2,n3):\n",
    "    averge=(n1+n2+n3)/3\n",
    "    print(averge)\n",
    "avg(100,200) "
   ]
  },
  {
   "cell_type": "code",
   "execution_count": 17,
   "id": "76187f55",
   "metadata": {},
   "outputs": [
    {
     "ename": "SyntaxError",
     "evalue": "non-default argument follows default argument (3800253138.py, line 1)",
     "output_type": "error",
     "traceback": [
      "\u001b[1;36m  Cell \u001b[1;32mIn[17], line 1\u001b[1;36m\u001b[0m\n\u001b[1;33m    def avg(n1=100,n2=100,n3):\u001b[0m\n\u001b[1;37m                          ^\u001b[0m\n\u001b[1;31mSyntaxError\u001b[0m\u001b[1;31m:\u001b[0m non-default argument follows default argument\n"
     ]
    }
   ],
   "source": [
    "#Case-5:\n",
    "def avg(n1=100,n2=100,n3):\n",
    "    averge=(n1+n2+n3)/3\n",
    "    print(averge)\n",
    "avg(200) "
   ]
  },
  {
   "cell_type": "code",
   "execution_count": 18,
   "id": "9f102633",
   "metadata": {},
   "outputs": [
    {
     "ename": "SyntaxError",
     "evalue": "non-default argument follows default argument (2750521420.py, line 1)",
     "output_type": "error",
     "traceback": [
      "\u001b[1;36m  Cell \u001b[1;32mIn[18], line 1\u001b[1;36m\u001b[0m\n\u001b[1;33m    def avg(n1=100,n2,n3=100):\u001b[0m\n\u001b[1;37m                   ^\u001b[0m\n\u001b[1;31mSyntaxError\u001b[0m\u001b[1;31m:\u001b[0m non-default argument follows default argument\n"
     ]
    }
   ],
   "source": [
    "#Case-6:\n",
    "def avg(n1=100,n2,n3=100):\n",
    "    averge=(n1+n2+n3)/3\n",
    "    print(averge)\n",
    "avg(100) "
   ]
  },
  {
   "cell_type": "code",
   "execution_count": 19,
   "id": "87a3635d",
   "metadata": {},
   "outputs": [
    {
     "name": "stdout",
     "output_type": "stream",
     "text": [
      "100.0\n"
     ]
    }
   ],
   "source": [
    "#Case-7:\n",
    "def summ(n1,n2=100):\n",
    "    averge=n1+n2\n",
    "    print(averge)\n",
    "summ(100)"
   ]
  },
  {
   "cell_type": "code",
   "execution_count": null,
   "id": "53e7f92a",
   "metadata": {},
   "outputs": [],
   "source": [
    "def avg(n1,n2=100 ):\n",
    "    averge=(n1+n2+n3)/3\n",
    "    print(averge)\n",
    "avg(100)\n",
    "# have you provided any value before define the function\n",
    "# what are you provided while defineing the function \n",
    "# what are you provided while calling the function num2= 100\n",
    "# what are you provided while calling the function num2=500"
   ]
  },
  {
   "cell_type": "code",
   "execution_count": null,
   "id": "0b010040",
   "metadata": {},
   "outputs": [],
   "source": [
    "#define call then kaam"
   ]
  },
  {
   "cell_type": "code",
   "execution_count": 20,
   "id": "05ffd178",
   "metadata": {},
   "outputs": [
    {
     "name": "stdout",
     "output_type": "stream",
     "text": [
      "The total bill is 1100.0 for the tip percent 10\n"
     ]
    }
   ],
   "source": [
    "#Create the default argument for tip_percentage\n",
    "def totalbill(bill, tip=10):\n",
    "#     bill = eval(input(\"Enter the bill:\"))\n",
    "#     tip =eval(input(\"Enter the tip percentage :\"))\n",
    "    tip_percent =(bill*tip)/100\n",
    "    total_bill=bill+tip_percent\n",
    "    print(f\"The total bill is {total_bill} for the tip percent {tip}\")\n",
    "\n",
    "totalbill(1000)"
   ]
  },
  {
   "cell_type": "code",
   "execution_count": null,
   "id": "8fdff0a6",
   "metadata": {},
   "outputs": [],
   "source": [
    "#wap ask the user enter salary :100000\n",
    "#ask the user enter tax percentage : 10\n",
    "#calculate tax \n",
    "#implement fnction without argument\n",
    "#function with argument\n",
    "#function default argument :tax_per = 10"
   ]
  },
  {
   "cell_type": "code",
   "execution_count": 23,
   "id": "2e833769",
   "metadata": {},
   "outputs": [
    {
     "name": "stdout",
     "output_type": "stream",
     "text": [
      "Enter the salary:100000\n",
      "Enter the tax percentage:10\n",
      "The salary is 100000 and tax percent is 10000.0\n"
     ]
    }
   ],
   "source": [
    "#implement fnction without argument\n",
    "def salary():\n",
    "    sal=eval(input('Enter the salary:'))\n",
    "    tax=eval(input('Enter the tax percentage:'))\n",
    "    tax_per=(sal*tax)/100\n",
    "    print(f'The salary is {sal} and tax percent is {tax_per}')\n",
    "salary()"
   ]
  },
  {
   "cell_type": "code",
   "execution_count": 25,
   "id": "163124a9",
   "metadata": {},
   "outputs": [
    {
     "name": "stdout",
     "output_type": "stream",
     "text": [
      "The salary is 100000 and tax percent is 10000.0\n"
     ]
    }
   ],
   "source": [
    "#function with argument\n",
    "def salary1(sal,tax):\n",
    "    \n",
    "    tax_per=(sal*tax)/100\n",
    "    print(f'The salary is {sal} and tax percent is {tax_per}')\n",
    "salary1(100000,10)"
   ]
  },
  {
   "cell_type": "code",
   "execution_count": 26,
   "id": "4b6d6077",
   "metadata": {},
   "outputs": [
    {
     "name": "stdout",
     "output_type": "stream",
     "text": [
      "The salary is 100000 and tax percent is 10000.0\n"
     ]
    }
   ],
   "source": [
    "#function default argument :tax_per = 10\n",
    "\n",
    "def salary1(sal,tax=10):\n",
    "    \n",
    "    tax_per=(sal*tax)/100\n",
    "    print(f'The salary is {sal} and tax percent is {tax_per}')\n",
    "salary1(100000)"
   ]
  },
  {
   "cell_type": "markdown",
   "id": "a1bf9a54",
   "metadata": {},
   "source": [
    "- Return Statements"
   ]
  },
  {
   "cell_type": "code",
   "execution_count": null,
   "id": "15d8c5c5",
   "metadata": {},
   "outputs": [],
   "source": [
    "# tax_per we re getting inside the function whereas,\n",
    "# if i want to use it outside I am supposed to use\n",
    "# retun function"
   ]
  },
  {
   "cell_type": "code",
   "execution_count": 32,
   "id": "592b5e5e",
   "metadata": {},
   "outputs": [
    {
     "name": "stdout",
     "output_type": "stream",
     "text": [
      "10000.0\n"
     ]
    },
    {
     "ename": "NameError",
     "evalue": "name 'sal' is not defined",
     "output_type": "error",
     "traceback": [
      "\u001b[1;31m---------------------------------------------------------------------------\u001b[0m",
      "\u001b[1;31mNameError\u001b[0m                                 Traceback (most recent call last)",
      "Cell \u001b[1;32mIn[32], line 7\u001b[0m\n\u001b[0;32m      5\u001b[0m tax_per\u001b[38;5;241m=\u001b[39msalary1(\u001b[38;5;241m100000\u001b[39m)\n\u001b[0;32m      6\u001b[0m \u001b[38;5;28mprint\u001b[39m(tax_per)\n\u001b[1;32m----> 7\u001b[0m \u001b[38;5;28mprint\u001b[39m(sal)\n",
      "\u001b[1;31mNameError\u001b[0m: name 'sal' is not defined"
     ]
    }
   ],
   "source": [
    "def salary1(sal,tax=10):\n",
    "    tax_per=(sal*tax)/100\n",
    "    return(tax_per)\n",
    "#we are asking function to return a value\n",
    "tax_per=salary1(100000)\n",
    "print(tax_per)\n",
    "print(sal)"
   ]
  },
  {
   "cell_type": "code",
   "execution_count": null,
   "id": "19aeb47a",
   "metadata": {},
   "outputs": [],
   "source": []
  },
  {
   "cell_type": "code",
   "execution_count": 35,
   "id": "d83c6ef7",
   "metadata": {},
   "outputs": [
    {
     "name": "stdout",
     "output_type": "stream",
     "text": [
      "10110\n",
      "3370.0\n"
     ]
    }
   ],
   "source": [
    "#WAP take 3 numbers do the sum seperately and average seperately and return sum and average\n",
    "def mathe(n1,n2,n3):\n",
    "    summ=n1+n2+n3\n",
    "    avr=(n1+n2+n3)/3\n",
    "    return(avr,summ)\n",
    "avr,summ=mathe(10,100,10000)\n",
    "print(summ)\n",
    "print(avr)\n",
    "\n",
    "\n",
    "\n",
    "\n"
   ]
  },
  {
   "cell_type": "code",
   "execution_count": null,
   "id": "00859e40",
   "metadata": {},
   "outputs": [],
   "source": []
  }
 ],
 "metadata": {
  "kernelspec": {
   "display_name": "Python 3 (ipykernel)",
   "language": "python",
   "name": "python3"
  },
  "language_info": {
   "codemirror_mode": {
    "name": "ipython",
    "version": 3
   },
   "file_extension": ".py",
   "mimetype": "text/x-python",
   "name": "python",
   "nbconvert_exporter": "python",
   "pygments_lexer": "ipython3",
   "version": "3.11.5"
  }
 },
 "nbformat": 4,
 "nbformat_minor": 5
}
