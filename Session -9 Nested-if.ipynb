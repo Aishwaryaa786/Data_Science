{
 "cells": [
  {
   "cell_type": "code",
   "execution_count": null,
   "id": "c214f031",
   "metadata": {},
   "outputs": [],
   "source": [
    "#wap as the user enter a number\n",
    "# find if the number is even or odd"
   ]
  },
  {
   "cell_type": "code",
   "execution_count": null,
   "id": "c490c79f",
   "metadata": {},
   "outputs": [],
   "source": [
    "# step 1: read the number\n",
    "# step2:if<condition>:\n",
    "#  step 3:##########\n",
    "# step4:else:\n",
    "#    step5:########\n",
    "                "
   ]
  },
  {
   "cell_type": "code",
   "execution_count": null,
   "id": "a28eabd6",
   "metadata": {},
   "outputs": [],
   "source": [
    "num=eval(input(\"Enter a number\"))\n",
    "if num%2==0:\n",
    "    print(f'Number {num} is even')\n",
    "else:\n",
    "    print(f\"Number {num} is odd\")\n"
   ]
  },
  {
   "cell_type": "code",
   "execution_count": 7,
   "id": "9926c17b",
   "metadata": {},
   "outputs": [
    {
     "name": "stdout",
     "output_type": "stream",
     "text": [
      "Number 48 is even\n"
     ]
    }
   ],
   "source": [
    "#read a random number between 10 nd 50\n",
    "import random\n",
    "num=random.randint(10,50)\n",
    "\n",
    "if num%2==0:\n",
    "    print(f'Number {num} is even')\n",
    "else:\n",
    "    print(f\"Number {num} is odd\")\n"
   ]
  },
  {
   "cell_type": "code",
   "execution_count": 9,
   "id": "35c5dd43",
   "metadata": {},
   "outputs": [
    {
     "name": "stdout",
     "output_type": "stream",
     "text": [
      "Number 56 is even\n",
      "Enter a number56\n",
      "Number 56 is even\n",
      "Number 42 is even\n"
     ]
    }
   ],
   "source": [
    "#Different methods of feeding the number in the system \n",
    "\n",
    "\n",
    "#Method - 1 - direct value\n",
    "\n",
    "num=56\n",
    "if num%2==0:\n",
    "    print(f'Number {num} is even')\n",
    "else:\n",
    "    print(f\"Number {num} is odd\")\n",
    "\n",
    "\n",
    "#Method - 2- giving the value from keyboard\n",
    "\n",
    "num=eval(input(\"Enter a number\"))\n",
    "if num%2==0:\n",
    "    print(f'Number {num} is even')\n",
    "else:\n",
    "    print(f\"Number {num} is odd\")\n",
    "    \n",
    "#Method - 3 - Random value without the involvement of the user\n",
    "import random\n",
    "num=random.randint(10,50)\n",
    "\n",
    "if num%2==0:\n",
    "    print(f'Number {num} is even')\n",
    "else:\n",
    "    print(f\"Number {num} is odd\")\n",
    "    \n",
    "    \n"
   ]
  },
  {
   "cell_type": "code",
   "execution_count": 13,
   "id": "20dd4e07",
   "metadata": {},
   "outputs": [
    {
     "name": "stdout",
     "output_type": "stream",
     "text": [
      "Enter the number between 1 to 100: 50\n",
      "greater than or equal to 50\n"
     ]
    }
   ],
   "source": [
    "# Wap ask the user enter the number between 1 to 100\n",
    "# print 'greater than 50' if the value is greater than 50 else print 'less than 50'\n",
    "\n",
    "num=eval(input('Enter the number between 1 to 100: '))\n",
    "if num>=50:\n",
    "    print('greater than or equal to 50')\n",
    "else:\n",
    "        print('less than 50')\n"
   ]
  },
  {
   "cell_type": "code",
   "execution_count": 18,
   "id": "e3afe90a",
   "metadata": {},
   "outputs": [
    {
     "name": "stdout",
     "output_type": "stream",
     "text": [
      "70 is greater than or equal to 50\n"
     ]
    }
   ],
   "source": [
    "#improvise the above code by giving the random number\n",
    "\n",
    "import random\n",
    "num=random.randint(1,100)\n",
    "\n",
    "if num>=50:\n",
    "    print(f'{num} is greater than or equal to 50')\n",
    "else:\n",
    "        print(f'{num} is less than 50')\n"
   ]
  },
  {
   "cell_type": "code",
   "execution_count": null,
   "id": "20fcdbbb",
   "metadata": {},
   "outputs": [],
   "source": [
    "#wap take one number as a random number between 1 to 10 :num1\n",
    "#ask the user to enter a number from keyboard :num2\n",
    "#if num1 equl to num2 print you won \n",
    "#if num1 not equal to num2(else) print you lost"
   ]
  },
  {
   "cell_type": "code",
   "execution_count": 25,
   "id": "3c41ede9",
   "metadata": {},
   "outputs": [
    {
     "name": "stdout",
     "output_type": "stream",
     "text": [
      "Enter the number between 1 to 10: 22\n",
      "YOU LOST\n"
     ]
    }
   ],
   "source": [
    "num1=random.randint(1,10)\n",
    "num2=eval(input(\"Enter the number between 1 to 10: \"))\n",
    "if num1==num2:\n",
    "    print('YOU WON')\n",
    "else:\n",
    "    print('YOU LOST')"
   ]
  },
  {
   "cell_type": "code",
   "execution_count": null,
   "id": "c9715f03",
   "metadata": {},
   "outputs": [],
   "source": [
    "#wap\n",
    "#conductor:show me id card:id\n",
    "#mother:yes\n",
    "#   print('enjoy the free bus')\n",
    "#mother:no\n",
    "#  conductor:pay the money\n",
    "#  mother: how much\n",
    "#  conductor: how many kilometers\n",
    "#    mother : how much fare for km\n",
    "#         conductor: 2rs:fare\n",
    "#                 total=dis*fare"
   ]
  },
  {
   "cell_type": "code",
   "execution_count": 30,
   "id": "3500cada",
   "metadata": {},
   "outputs": [
    {
     "name": "stdout",
     "output_type": "stream",
     "text": [
      "Conductor: Do you have id yes or no? no\n",
      "conductor:pay the money\n",
      "mother: how much\n",
      " conductor: how many kilometers\n",
      "mother : how much fare for km\n",
      "conductor : the fare is rs per km85\n",
      "mother: the distance in km is 96\n",
      "the total cost is 8160\n"
     ]
    }
   ],
   "source": [
    "import time\n",
    "id1=input('Conductor: Do you have id yes or no? ')\n",
    "if id1=='yes':\n",
    "    print('Enjoy the free bus')\n",
    "else:\n",
    "    print('conductor:pay the money')\n",
    "    time.sleep(2)\n",
    "    print('mother: how much')\n",
    "    time.sleep(2)\n",
    "    print(' conductor: how many kilometers')\n",
    "    time.sleep(2)\n",
    "    print('mother : how much fare for km')\n",
    "    fare=eval(input( 'conductor : the fare is rs per km'))\n",
    "    distance=eval(input(\"mother: the distance in km is \"))\n",
    "    total =fare*distance\n",
    "    print(f'The total cost is {total}')"
   ]
  },
  {
   "cell_type": "code",
   "execution_count": 31,
   "id": "c11ab03a",
   "metadata": {},
   "outputs": [],
   "source": [
    "#even odd\n",
    "#if  else\n",
    "#greater less than zero\n",
    "#if  else \n",
    "#yes no\n",
    "#if else\n",
    "\n",
    "\n",
    "#>0 pos       <0 neg     =0 zero\n",
    "#if<con>       elif<con>    else\n",
    "\n",
    "\n",
    "\n",
    "#>95 A     >75 B              >50 C    <50 D\n",
    "#if<con>       elif<con>    elif<con>   else"
   ]
  },
  {
   "cell_type": "code",
   "execution_count": 35,
   "id": "92d3e921",
   "metadata": {},
   "outputs": [
    {
     "name": "stdout",
     "output_type": "stream",
     "text": [
      "Enter the number15\n",
      "The number is positive\n"
     ]
    }
   ],
   "source": [
    "#WAP ask the user to input from keyboard\n",
    "# if num is > 0 positive\n",
    "# if num is < 0 negative\n",
    "# if num is = 0 zer0\n",
    "num3=eval(input('Enter the number'))\n",
    "if num3>0:\n",
    "    print('The number is positive')\n",
    "elif num3<0:\n",
    "    print('The number is negative')\n",
    "else:\n",
    "    print('The number is zero')\n",
    "    \n",
    "\n",
    "\n",
    "\n",
    "\n"
   ]
  },
  {
   "cell_type": "code",
   "execution_count": 36,
   "id": "32f58a94",
   "metadata": {},
   "outputs": [
    {
     "name": "stdout",
     "output_type": "stream",
     "text": [
      "Enter the number2\n",
      "two\n"
     ]
    }
   ],
   "source": [
    "#WAP ask the user to input from keyboard\n",
    "# if num is == 0 print zero\n",
    "# if num is == 1 print one\n",
    "# if num is == 2 print two\n",
    "# if num is > 2 print Greater than two\n",
    "\n",
    "\n",
    "num4=eval(input('Enter the number'))\n",
    "if num4==0:\n",
    "    print('zero')\n",
    "elif num4==1:\n",
    "    print('one')\n",
    "elif num4==2:\n",
    "    print('two')\n",
    "else:\n",
    "    print('Greater than two')\n",
    "    \n"
   ]
  },
  {
   "cell_type": "code",
   "execution_count": 4,
   "id": "bae2bc2d",
   "metadata": {},
   "outputs": [
    {
     "name": "stderr",
     "output_type": "stream",
     "text": [
      "<>:13: SyntaxWarning: invalid decimal literal\n",
      "<>:13: SyntaxWarning: invalid decimal literal\n",
      "C:\\Users\\aramaiah.ASUAD\\AppData\\Local\\Temp\\ipykernel_16268\\3142526073.py:13: SyntaxWarning: invalid decimal literal\n",
      "  elif marks>75and marks<90\n"
     ]
    },
    {
     "ename": "SyntaxError",
     "evalue": "expected ':' (3142526073.py, line 13)",
     "output_type": "error",
     "traceback": [
      "\u001b[1;36m  Cell \u001b[1;32mIn[4], line 13\u001b[1;36m\u001b[0m\n\u001b[1;33m    elif marks>75and marks<90\u001b[0m\n\u001b[1;37m                             ^\u001b[0m\n\u001b[1;31mSyntaxError\u001b[0m\u001b[1;31m:\u001b[0m expected ':'\n"
     ]
    }
   ],
   "source": [
    "#Wap ask the user enter a percentage\n",
    "# if the percent between 45 to 60 c garde\n",
    "# if the per between 60 to 75 b grade\n",
    "# if the per between 75 to 90 a\n",
    "# if the per below 45 fail\n",
    "# if the per above 90 A+\n",
    "\n",
    "marks=eval(input('Enter the percentage of the user:'))\n",
    "if marks>45 and marks<60:\n",
    "    print(\"C-Grade\")\n",
    "elif marks>60 and marks<75:\n",
    "    print('B-GRADE')\n",
    "elif marks>75and marks<90\n",
    "     print('A-GRADE')\n",
    "elif marks<45:\n",
    "          print('Fail   ')\n",
    "else:\n",
    "          print(\"The grade is A+\")\n",
    "\n",
    "    \n",
    "and"
   ]
  },
  {
   "cell_type": "code",
   "execution_count": 5,
   "id": "d2c2720b",
   "metadata": {},
   "outputs": [
    {
     "name": "stdout",
     "output_type": "stream",
     "text": [
      "Enter the percentage85\n",
      "A\n"
     ]
    }
   ],
   "source": [
    "per=eval(input('Enter the percentage'))\n",
    "if per>=90:\n",
    "    print('A+')\n",
    "elif per>=75:\n",
    "    print('A')\n",
    "elif per>=60:\n",
    "    print('B')\n",
    "elif per>=45:\n",
    "    print('C')\n",
    "else:\n",
    "     print('D')\n",
    "    \n"
   ]
  },
  {
   "cell_type": "code",
   "execution_count": null,
   "id": "b7fc4be8",
   "metadata": {},
   "outputs": [],
   "source": [
    "# WAP ask the user enter age \n",
    "# if age>60: print senior citizen\n",
    "# if age btw 45 to 60 : print aged \n",
    "# if age btw 30 to 45 : print middle aged   \n",
    "# if age btw 20 to 30 : print young\n",
    "# if age btw 13 to 19 prnt teenage\n",
    "# otherwise print kid"
   ]
  },
  {
   "cell_type": "code",
   "execution_count": 8,
   "id": "7cfaa394",
   "metadata": {},
   "outputs": [
    {
     "name": "stdout",
     "output_type": "stream",
     "text": [
      "Enter the percentage :  89\n",
      "Senior Citizen\n"
     ]
    }
   ],
   "source": [
    "age=eval(input('Enter the percentage :  '))\n",
    "if age>=60:\n",
    "    print('Senior Citizen')\n",
    "elif age>=45:\n",
    "    print('Aged')\n",
    "elif age>=30:\n",
    "    print(\"middle aged\")\n",
    "elif age>=20:\n",
    "    print('young')\n",
    "else:\n",
    "     print('kid')\n",
    "    "
   ]
  },
  {
   "cell_type": "code",
   "execution_count": 15,
   "id": "d7871c71",
   "metadata": {},
   "outputs": [
    {
     "name": "stdout",
     "output_type": "stream",
     "text": [
      "Enter the distace to be travelled56\n",
      "Enter the charge per km:58\n",
      "3248\n"
     ]
    }
   ],
   "source": [
    "# # WAP ask the user enter distance:dis\n",
    "# if distnce is greater thaan 50km \n",
    "# again ask the enter the charge per km:2 rs:fare\n",
    "# calculate the total charge:dis*fare\n",
    "# if distance bw 30 to 50\n",
    "# ask te user enter the charge per km :1 rs\n",
    "# calculate the total charge \n",
    "# if distance is less than 10\n",
    "# print(free ride)\n",
    "\n",
    "dis1= eval(input(\"Enter the distace to be travelled\"))\n",
    "if dis1> 50:\n",
    "    fare=eval(input(\"Enter the charge per km:\"))\n",
    "    print(f\"The distane entered is {dis1} km\")\n",
    "    print(\"For distance more tahn 50 2rs per km\")\n",
    "    total_charge1=dis1*fare\n",
    "    \n",
    "    print('total_charge1')\n",
    "elif dis1>30:\n",
    "    fare=eval(input(\"Enter the charge per km:\"))\n",
    "    print(f\"The distane entered is {dis1} km\")\n",
    "    print(\"For distance more tahn 30 then 1rs per km\")\n",
    "    total_charge1=dis1*fare\n",
    "    print(total_charge1)\n",
    "elif dis1>10:\n",
    "    fare=eval(input(\"Enter the charge per km:\"))\n",
    "    print(f\"The distane entered is {dis1} km\")\n",
    "    total_charge1=dis1*fare\n",
    "    print(total_charge1)\n",
    "else:\n",
    "    print('Its a free ride')\n"
   ]
  },
  {
   "cell_type": "code",
   "execution_count": null,
   "id": "c758989a",
   "metadata": {},
   "outputs": [],
   "source": [
    "# wap ask the user enter teh gender\n",
    "# if gender equal to male \n",
    "# ask the user enter age \n",
    "#     if age>45 print aged male\n",
    "#     if age between 30 to 45:print MA\n",
    "#     if age between 15 to 30:print young man\n",
    "#     if age is less tahn 15: print ('boy')\n",
    "\n",
    "# if gender equal to female \n",
    "# ask the user enter age \n",
    "#     if age>45 print aged female\n",
    "#     if age between 30 to 45:print MA female\n",
    "#     if age between 15 to 30:print young female\n",
    "#     if age is less tahn 15: print ('girl')\n",
    "\n",
    "# else \n",
    "# print('provide proper gender')\n",
    "\n",
    "gender=input('Enter the gender if the gender is Male or Female')\n",
    "if gender =='Male':\n",
    "    age7=eval(input('Enter the age of the male candidate'))\n",
    "    if age7>=45:\n",
    "        print('Aged Male')\n",
    "    elif age7>=30:\n",
    "        print('Middleaged Male')\n",
    "    elif age7>=15:\n",
    "        print('Young Man')\n",
    "    else:\n",
    "        print('boy')\n",
    "elif gender =='Female':\n",
    "    age7=eval(input('Enter the age of the female candidate'))\n",
    "    if age7>=45:\n",
    "        print('Aged feMale')\n",
    "    elif age7>=30:\n",
    "        print('Middleaged feMale')\n",
    "    elif age7>=15:\n",
    "        print('Young feMale')\n",
    "    else:\n",
    "        print('girl')\n",
    "else:\n",
    "    print('Enter the appropriate gender')\n",
    "\n",
    "        \n",
    "\n",
    "\n"
   ]
  },
  {
   "cell_type": "code",
   "execution_count": 26,
   "id": "0774e757",
   "metadata": {},
   "outputs": [
    {
     "name": "stdout",
     "output_type": "stream",
     "text": [
      "Enter a number78\n",
      "It is a positive number\n"
     ]
    }
   ],
   "source": [
    "# WAP ask the user enter a number\n",
    "# if number greater than or equal to zero\n",
    "#     if numbereuql to zero : print(\"it is a zero\")\n",
    "#         else: print it is a pos number\n",
    "# else \n",
    "#     print it is a negative number \n",
    "\n",
    "\n",
    "\n",
    "num5=eval(input(\"Enter a number\"))\n",
    "if num5>=0:\n",
    "    if num5 ==0:\n",
    "        print(\"It is zero\")\n",
    "    else:\n",
    "        print(\"It is a positive number\")\n",
    "        \n",
    "else:\n",
    "    print(\"It is a negative number\")"
   ]
  },
  {
   "cell_type": "code",
   "execution_count": 27,
   "id": "97b9db9e",
   "metadata": {},
   "outputs": [
    {
     "name": "stdout",
     "output_type": "stream",
     "text": [
      "Enter a number45\n",
      "It is a positive number\n"
     ]
    }
   ],
   "source": [
    "num5=eval(input(\"Enter a number\"))\n",
    "if num5>0:\n",
    "    print(\"It is a positive number\")\n",
    "elif num5 ==0:\n",
    "    print(\"It is zero\")\n",
    "else:\n",
    "    print(\"It is a negative number\")"
   ]
  },
  {
   "cell_type": "code",
   "execution_count": 28,
   "id": "91eddc45",
   "metadata": {},
   "outputs": [
    {
     "name": "stdout",
     "output_type": "stream",
     "text": [
      "Enter the first number: 89\n",
      "Enter the second number85\n",
      "Enter the third number1\n",
      "89 is the greater number\n"
     ]
    }
   ],
   "source": [
    "#WAP to find the greater number between the given 3 numbers\n",
    "# 50 75 100\n",
    "# ans:100\n",
    "A=eval(input('Enter the first number: '))\n",
    "B=eval(input('Enter the second number'))\n",
    "C=eval(input('Enter the third number'))\n",
    "if A>B:\n",
    "    print(f'{A} is the greater number')\n",
    "elif B>A:\n",
    "    print(f'{B} is the greater number')\n",
    "else:\n",
    "    print(f'{C} is the greater number')\n",
    "    "
   ]
  },
  {
   "cell_type": "code",
   "execution_count": null,
   "id": "d4a53beb",
   "metadata": {},
   "outputs": [],
   "source": []
  }
 ],
 "metadata": {
  "kernelspec": {
   "display_name": "Python 3 (ipykernel)",
   "language": "python",
   "name": "python3"
  },
  "language_info": {
   "codemirror_mode": {
    "name": "ipython",
    "version": 3
   },
   "file_extension": ".py",
   "mimetype": "text/x-python",
   "name": "python",
   "nbconvert_exporter": "python",
   "pygments_lexer": "ipython3",
   "version": "3.11.5"
  }
 },
 "nbformat": 4,
 "nbformat_minor": 5
}
