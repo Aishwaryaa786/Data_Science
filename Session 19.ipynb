{
 "cells": [
  {
   "cell_type": "code",
   "execution_count": 2,
   "id": "370b70d2",
   "metadata": {},
   "outputs": [
    {
     "name": "stdout",
     "output_type": "stream",
     "text": [
      "The number of ovwels are 4\n"
     ]
    }
   ],
   "source": [
    "#vowels\n",
    "count = 0\n",
    "str1=\"Reshma Patil\"\n",
    "p=len(str1)\n",
    "for i in range(p):\n",
    "    if str1[i] in 'aeiou':\n",
    "        count=count+1\n",
    "        \n",
    "print(f\"The number of ovwels are {count}\")"
   ]
  },
  {
   "cell_type": "code",
   "execution_count": 4,
   "id": "b7c281d1",
   "metadata": {},
   "outputs": [
    {
     "name": "stdout",
     "output_type": "stream",
     "text": [
      "The number of a's are 2\n"
     ]
    }
   ],
   "source": [
    "#number of a\n",
    "count = 0\n",
    "str1=\"Reshma Patil\"\n",
    "p1=len(str1)\n",
    "for i in range(p):\n",
    "    if str1[i] in 'a':\n",
    "        count=count+1\n",
    "        \n",
    "print(f\"The number of a's are {count}\")"
   ]
  },
  {
   "cell_type": "code",
   "execution_count": 10,
   "id": "924d8c37",
   "metadata": {},
   "outputs": [
    {
     "name": "stdout",
     "output_type": "stream",
     "text": [
      "the value of a is 5\n",
      "the value of a is 8\n",
      "The number of a's are 2\n"
     ]
    }
   ],
   "source": [
    "#index of a\n",
    "count = 0\n",
    "str1=\"Reshma Patil\"\n",
    "p1=len(str1)\n",
    "for i in range(p):\n",
    "    if str1[i] in 'a':\n",
    "        count=count+1\n",
    "        print(f\"the value of a is {i}\")\n",
    "        \n"
   ]
  },
  {
   "cell_type": "code",
   "execution_count": 12,
   "id": "10676b22",
   "metadata": {},
   "outputs": [
    {
     "name": "stdout",
     "output_type": "stream",
     "text": [
      "0 S\n",
      "1 i\n",
      "2 d\n",
      "3 d\n",
      "4 h\n",
      "5 a\n",
      "6 n\n",
      "7 t\n",
      "8 h\n",
      "9  \n",
      "10 M\n",
      "11 a\n",
      "12 n\n",
      "13 j\n",
      "14 u\n",
      "15 n\n",
      "16 a\n",
      "17 t\n"
     ]
    }
   ],
   "source": [
    "#positive index\n",
    "str2=\"Siddhanth Manjunath\"\n",
    "p2=len(str2)\n",
    "for i in range(0,p2-1):\n",
    "    print(i, str2[i])\n",
    "    \n"
   ]
  },
  {
   "cell_type": "code",
   "execution_count": 13,
   "id": "fd600b16",
   "metadata": {},
   "outputs": [
    {
     "name": "stdout",
     "output_type": "stream",
     "text": [
      "-19 S\n",
      "-18 i\n",
      "-17 d\n",
      "-16 d\n",
      "-15 h\n",
      "-14 a\n",
      "-13 n\n",
      "-12 t\n",
      "-11 h\n",
      "-10  \n",
      "-9 M\n",
      "-8 a\n",
      "-7 n\n",
      "-6 j\n",
      "-5 u\n",
      "-4 n\n",
      "-3 a\n",
      "-2 t\n",
      "-1 h\n"
     ]
    }
   ],
   "source": [
    "#negative index\n",
    "str2=\"Siddhanth Manjunath\"\n",
    "p2=len(str2)\n",
    "for i in range(-p2,0):\n",
    "    print(i, str2[i])\n",
    "    "
   ]
  },
  {
   "cell_type": "code",
   "execution_count": 15,
   "id": "8572c601",
   "metadata": {},
   "outputs": [
    {
     "name": "stdout",
     "output_type": "stream",
     "text": [
      "0 S -19\n",
      "1 i -18\n",
      "2 d -17\n",
      "3 d -16\n",
      "4 h -15\n",
      "5 a -14\n",
      "6 n -13\n",
      "7 t -12\n",
      "8 h -11\n",
      "9   -10\n",
      "10 M -9\n",
      "11 a -8\n",
      "12 n -7\n",
      "13 j -6\n",
      "14 u -5\n",
      "15 n -4\n",
      "16 a -3\n",
      "17 t -2\n"
     ]
    }
   ],
   "source": [
    "#negative index and negative\n",
    "str2=\"Siddhanth Manjunath\"\n",
    "p2=len(str2)\n",
    "for i in range(0,p2-1):\n",
    "    print(i, str2[i], i-19)\n",
    "    "
   ]
  },
  {
   "cell_type": "code",
   "execution_count": 22,
   "id": "a01f088d",
   "metadata": {},
   "outputs": [
    {
     "name": "stdout",
     "output_type": "stream",
     "text": [
      "The number of ovwels are 3\n"
     ]
    }
   ],
   "source": [
    "#unique ovwels\n",
    "\n",
    "\n",
    "str1=\"Siddhanth Manjunath\"\n",
    "str2=\"\"\n",
    "p=len(str1)\n",
    "for i in str1:\n",
    "    if i in 'aeiou':\n",
    "        if i not in str2:\n",
    "            str2=str2+i\n",
    "       \n",
    "        \n",
    "print(f\"The number of ovwels are {len(str2)}\")\n",
    "    "
   ]
  },
  {
   "cell_type": "markdown",
   "id": "685aa209",
   "metadata": {},
   "source": [
    "$slice$"
   ]
  },
  {
   "cell_type": "code",
   "execution_count": null,
   "id": "41ae2001",
   "metadata": {},
   "outputs": [],
   "source": [
    "s1[<start>:<stop>] ----------range(start,stop)\n",
    "s1[<start>:<stop>:<step>] ----------range(start,stop,step)"
   ]
  },
  {
   "cell_type": "code",
   "execution_count": 24,
   "id": "a01887bb",
   "metadata": {},
   "outputs": [
    {
     "data": {
      "text/plain": [
       "'lohw'"
      ]
     },
     "execution_count": 24,
     "metadata": {},
     "output_type": "execute_result"
    }
   ],
   "source": [
    "s1='hello how are you'\n",
    "s1[2:10] #start =2    dire =+1  stop=10-1=9\n",
    "s1[2:10:2] #start=2   dire =+2  stop=10-1"
   ]
  },
  {
   "cell_type": "code",
   "execution_count": 27,
   "id": "ad775cf1",
   "metadata": {},
   "outputs": [
    {
     "data": {
      "text/plain": [
       "'ra wo'"
      ]
     },
     "execution_count": 27,
     "metadata": {},
     "output_type": "execute_result"
    }
   ],
   "source": [
    "s1[11:-11:-1]\n",
    "# start =11 dire = -ve last = -11+1=-10"
   ]
  },
  {
   "cell_type": "code",
   "execution_count": 28,
   "id": "657def7e",
   "metadata": {},
   "outputs": [
    {
     "data": {
      "text/plain": [
       "'re '"
      ]
     },
     "execution_count": 28,
     "metadata": {},
     "output_type": "execute_result"
    }
   ],
   "source": [
    "s1[11:-11:-1] #answer is there\n",
    "s1[11:-3:-1] #answer is not there\n",
    "s1[11:-11:1] #answer is not there\n",
    "s1[11:-3:1] #answer is there"
   ]
  },
  {
   "cell_type": "code",
   "execution_count": 30,
   "id": "a6611495",
   "metadata": {},
   "outputs": [
    {
     "data": {
      "text/plain": [
       "'hello how are you'"
      ]
     },
     "execution_count": 30,
     "metadata": {},
     "output_type": "execute_result"
    }
   ],
   "source": [
    "s1[3:-14:2] #answer is not there\n",
    "s1[3:14:2] #answer is  there\n",
    "s1[-3:-14:-2] #answer is not there\n",
    "s1[11:-3:1] #answer is there\n",
    "s1[:]#start for strat end for end \n",
    "s1[::]#start for strat end for end\n",
    "s1[::-1]#reverese from last to first\n",
    "s1[::1]\n"
   ]
  },
  {
   "cell_type": "code",
   "execution_count": null,
   "id": "7effe90f",
   "metadata": {},
   "outputs": [],
   "source": [
    "-  how to read strings\n",
    "- Different ways single-quotes double-quotes triple-quotes\n",
    "- type\n",
    "- min\n",
    "- max\n",
    "- len\n",
    "- rev\n",
    "- sorted\n",
    "- ord\n",
    "- \n",
    "    \n",
    "    "
   ]
  },
  {
   "cell_type": "markdown",
   "id": "4087d567",
   "metadata": {},
   "source": [
    "$String methods$"
   ]
  },
  {
   "cell_type": "code",
   "execution_count": 32,
   "id": "6a040e4a",
   "metadata": {},
   "outputs": [
    {
     "data": {
      "text/plain": [
       "['__add__',\n",
       " '__class__',\n",
       " '__contains__',\n",
       " '__delattr__',\n",
       " '__dir__',\n",
       " '__doc__',\n",
       " '__eq__',\n",
       " '__format__',\n",
       " '__ge__',\n",
       " '__getattribute__',\n",
       " '__getitem__',\n",
       " '__getnewargs__',\n",
       " '__getstate__',\n",
       " '__gt__',\n",
       " '__hash__',\n",
       " '__init__',\n",
       " '__init_subclass__',\n",
       " '__iter__',\n",
       " '__le__',\n",
       " '__len__',\n",
       " '__lt__',\n",
       " '__mod__',\n",
       " '__mul__',\n",
       " '__ne__',\n",
       " '__new__',\n",
       " '__reduce__',\n",
       " '__reduce_ex__',\n",
       " '__repr__',\n",
       " '__rmod__',\n",
       " '__rmul__',\n",
       " '__setattr__',\n",
       " '__sizeof__',\n",
       " '__str__',\n",
       " '__subclasshook__',\n",
       " 'capitalize',\n",
       " 'casefold',\n",
       " 'center',\n",
       " 'count',\n",
       " 'encode',\n",
       " 'endswith',\n",
       " 'expandtabs',\n",
       " 'find',\n",
       " 'format',\n",
       " 'format_map',\n",
       " 'index',\n",
       " 'isalnum',\n",
       " 'isalpha',\n",
       " 'isascii',\n",
       " 'isdecimal',\n",
       " 'isdigit',\n",
       " 'isidentifier',\n",
       " 'islower',\n",
       " 'isnumeric',\n",
       " 'isprintable',\n",
       " 'isspace',\n",
       " 'istitle',\n",
       " 'isupper',\n",
       " 'join',\n",
       " 'ljust',\n",
       " 'lower',\n",
       " 'lstrip',\n",
       " 'maketrans',\n",
       " 'partition',\n",
       " 'removeprefix',\n",
       " 'removesuffix',\n",
       " 'replace',\n",
       " 'rfind',\n",
       " 'rindex',\n",
       " 'rjust',\n",
       " 'rpartition',\n",
       " 'rsplit',\n",
       " 'rstrip',\n",
       " 'split',\n",
       " 'splitlines',\n",
       " 'startswith',\n",
       " 'strip',\n",
       " 'swapcase',\n",
       " 'title',\n",
       " 'translate',\n",
       " 'upper',\n",
       " 'zfill']"
      ]
     },
     "execution_count": 32,
     "metadata": {},
     "output_type": "execute_result"
    }
   ],
   "source": [
    "s1='python'\n",
    "#we stored 'python' in a variable s1\n",
    "#s1 act as package\n",
    "#every pakages has some methods\n",
    "#dir(package)\n",
    "dir(s1)  #dir('sohel')"
   ]
  },
  {
   "cell_type": "markdown",
   "id": "572bc627",
   "metadata": {},
   "source": [
    "$Capitalize$"
   ]
  },
  {
   "cell_type": "code",
   "execution_count": 35,
   "id": "88fdb71d",
   "metadata": {},
   "outputs": [
    {
     "name": "stdout",
     "output_type": "stream",
     "text": [
      "Help on built-in function capitalize:\n",
      "\n",
      "capitalize() method of builtins.str instance\n",
      "    Return a capitalized version of the string.\n",
      "    \n",
      "    More specifically, make the first character have upper case and the rest lower\n",
      "    case.\n",
      "\n"
     ]
    },
    {
     "data": {
      "text/plain": [
       "'Python'"
      ]
     },
     "execution_count": 35,
     "metadata": {},
     "output_type": "execute_result"
    }
   ],
   "source": [
    "s1='python'\n",
    "#s1 act as package\n",
    "#Cpaitalize act as method\n",
    "#help(<package>.<method_name>)\n",
    "help(s1.capitalize)\n",
    "s1.capitalize()"
   ]
  },
  {
   "cell_type": "code",
   "execution_count": null,
   "id": "fe00bc73",
   "metadata": {},
   "outputs": [],
   "source": [
    "#keywords     vs    methods\n",
    "len(s1)             capitalize\n",
    "max(s1)\n",
    "min(s1)\n",
    " for methods we write s1.capitalize()\n",
    "#keywords belongs to entire python \n",
    "# methods are related to only that data type\n",
    "#keywords are green in color while methods are black in color\n",
    "\n"
   ]
  },
  {
   "cell_type": "markdown",
   "id": "bb87edb4",
   "metadata": {},
   "source": [
    "$upper-lower-casefold$"
   ]
  },
  {
   "cell_type": "code",
   "execution_count": 36,
   "id": "1959a594",
   "metadata": {},
   "outputs": [
    {
     "data": {
      "text/plain": [
       "'PYTHON'"
      ]
     },
     "execution_count": 36,
     "metadata": {},
     "output_type": "execute_result"
    }
   ],
   "source": [
    "s1.upper()"
   ]
  },
  {
   "cell_type": "code",
   "execution_count": 37,
   "id": "7d8abd4e",
   "metadata": {},
   "outputs": [
    {
     "data": {
      "text/plain": [
       "'python'"
      ]
     },
     "execution_count": 37,
     "metadata": {},
     "output_type": "execute_result"
    }
   ],
   "source": [
    "s1.lower()"
   ]
  },
  {
   "cell_type": "code",
   "execution_count": 38,
   "id": "46d02dba",
   "metadata": {},
   "outputs": [
    {
     "data": {
      "text/plain": [
       "'python'"
      ]
     },
     "execution_count": 38,
     "metadata": {},
     "output_type": "execute_result"
    }
   ],
   "source": [
    "s1.casefold()"
   ]
  },
  {
   "cell_type": "code",
   "execution_count": 40,
   "id": "262fc5fa",
   "metadata": {},
   "outputs": [
    {
     "data": {
      "text/plain": [
       "'Python'"
      ]
     },
     "execution_count": 40,
     "metadata": {},
     "output_type": "execute_result"
    }
   ],
   "source": [
    "s1.capitalize()"
   ]
  },
  {
   "cell_type": "code",
   "execution_count": 42,
   "id": "5d1e46ae",
   "metadata": {},
   "outputs": [
    {
     "data": {
      "text/plain": [
       "1"
      ]
     },
     "execution_count": 42,
     "metadata": {},
     "output_type": "execute_result"
    }
   ],
   "source": [
    "s1.count('y')"
   ]
  },
  {
   "cell_type": "code",
   "execution_count": 44,
   "id": "6536976e",
   "metadata": {},
   "outputs": [
    {
     "data": {
      "text/plain": [
       "6"
      ]
     },
     "execution_count": 44,
     "metadata": {},
     "output_type": "execute_result"
    }
   ],
   "source": [
    "pq=\"Aishwarya Ramaiah Kumar\"\n",
    "pq.count('a')"
   ]
  },
  {
   "cell_type": "code",
   "execution_count": 46,
   "id": "2fcc5923",
   "metadata": {},
   "outputs": [
    {
     "data": {
      "text/plain": [
       "2"
      ]
     },
     "execution_count": 46,
     "metadata": {},
     "output_type": "execute_result"
    }
   ],
   "source": [
    "pq.count('a',5,9)"
   ]
  },
  {
   "cell_type": "markdown",
   "id": "5a00bf3c",
   "metadata": {},
   "source": [
    "$Repalce$"
   ]
  },
  {
   "cell_type": "code",
   "execution_count": 47,
   "id": "2f2b1df2",
   "metadata": {},
   "outputs": [
    {
     "data": {
      "text/plain": [
       "'Aishwarya Siddhanth'"
      ]
     },
     "execution_count": 47,
     "metadata": {},
     "output_type": "execute_result"
    }
   ],
   "source": [
    "d='Aishwarya Ramaiah Kumar'\n",
    "d.replace('Ramaiah Kumar','Siddhanth')"
   ]
  },
  {
   "cell_type": "code",
   "execution_count": 48,
   "id": "964c0ec2",
   "metadata": {},
   "outputs": [
    {
     "data": {
      "text/plain": [
       "'CutieCutieCutieCutieCutieqwertuiop'"
      ]
     },
     "execution_count": 48,
     "metadata": {},
     "output_type": "execute_result"
    }
   ],
   "source": [
    "f='qqqqqqwertuiop'\n",
    "f.replace('q','Cutie',5)"
   ]
  },
  {
   "cell_type": "code",
   "execution_count": null,
   "id": "564be421",
   "metadata": {},
   "outputs": [],
   "source": [
    "#when you press shift+tab if slash-/ is there dont give any argument name, its for te future developemenrt purpose\n"
   ]
  }
 ],
 "metadata": {
  "kernelspec": {
   "display_name": "Python 3 (ipykernel)",
   "language": "python",
   "name": "python3"
  },
  "language_info": {
   "codemirror_mode": {
    "name": "ipython",
    "version": 3
   },
   "file_extension": ".py",
   "mimetype": "text/x-python",
   "name": "python",
   "nbconvert_exporter": "python",
   "pygments_lexer": "ipython3",
   "version": "3.11.5"
  }
 },
 "nbformat": 4,
 "nbformat_minor": 5
}
