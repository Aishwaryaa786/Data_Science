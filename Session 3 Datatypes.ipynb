{
 "cells": [
  {
   "cell_type": "markdown",
   "id": "bac92731",
   "metadata": {},
   "source": [
    "# Data Types"
   ]
  },
  {
   "cell_type": "markdown",
   "id": "1e9684f6",
   "metadata": {},
   "source": [
    "- integer int\n",
    "- float   float\n",
    "- string   str\n",
    "- boolean bool\n"
   ]
  },
  {
   "cell_type": "markdown",
   "id": "4ff1266a",
   "metadata": {},
   "source": [
    "$integer$"
   ]
  },
  {
   "cell_type": "markdown",
   "id": "91c6dae5",
   "metadata": {},
   "source": [
    "- binary\n",
    "- octa\n",
    "- hexa"
   ]
  },
  {
   "cell_type": "markdown",
   "id": "962f597a",
   "metadata": {},
   "source": [
    "$binary$"
   ]
  },
  {
   "cell_type": "markdown",
   "id": "68ac9fab",
   "metadata": {},
   "source": [
    "- bi means two\n",
    "- it require only two digits\n",
    "- we have 0 1 2 3 4 5 6 7 8 9\n",
    "- to make binary we need ony 0 and 1 \n",
    "- example: 0b111, 0B111"
   ]
  },
  {
   "cell_type": "code",
   "execution_count": 2,
   "id": "1e523a5c",
   "metadata": {},
   "outputs": [
    {
     "data": {
      "text/plain": [
       "7"
      ]
     },
     "execution_count": 2,
     "metadata": {},
     "output_type": "execute_result"
    }
   ],
   "source": [
    "0b111\n"
   ]
  },
  {
   "cell_type": "code",
   "execution_count": 3,
   "id": "8a55b61d",
   "metadata": {},
   "outputs": [
    {
     "data": {
      "text/plain": [
       "7"
      ]
     },
     "execution_count": 3,
     "metadata": {},
     "output_type": "execute_result"
    }
   ],
   "source": [
    "0B111"
   ]
  },
  {
   "cell_type": "code",
   "execution_count": 4,
   "id": "dbd6c78a",
   "metadata": {},
   "outputs": [
    {
     "data": {
      "text/plain": [
       "5"
      ]
     },
     "execution_count": 4,
     "metadata": {},
     "output_type": "execute_result"
    }
   ],
   "source": [
    "0b101\n"
   ]
  },
  {
   "cell_type": "code",
   "execution_count": null,
   "id": "9a194dee",
   "metadata": {},
   "outputs": [],
   "source": [
    "4 2 1\n",
    "0 0 0  0\n",
    "0 0 1  1\n",
    "0 1 0  2\n",
    "0 1 1  3\n",
    "1 0 0  4\n",
    "1 0 1  5\n",
    "1 1 0  6\n",
    "1 1 1  7\n"
   ]
  },
  {
   "cell_type": "code",
   "execution_count": 5,
   "id": "81d667c6",
   "metadata": {},
   "outputs": [
    {
     "data": {
      "text/plain": [
       "15"
      ]
     },
     "execution_count": 5,
     "metadata": {},
     "output_type": "execute_result"
    }
   ],
   "source": [
    "0b1111"
   ]
  },
  {
   "cell_type": "markdown",
   "id": "a1e7f634",
   "metadata": {},
   "source": [
    "$octa$"
   ]
  },
  {
   "cell_type": "markdown",
   "id": "0b9c2a53",
   "metadata": {},
   "source": [
    "- OCTA means eight\n",
    "- it require only 8 digits\n",
    "- we have 0 1 2 3 4 5 6 7 8 9\n",
    "- to make binary we need ony 0 1 2 3 4 5 6 7 8 9\n",
    "- example: 0o776, 0o1234"
   ]
  },
  {
   "cell_type": "code",
   "execution_count": 10,
   "id": "34e2d894",
   "metadata": {},
   "outputs": [
    {
     "data": {
      "text/plain": [
       "83"
      ]
     },
     "execution_count": 10,
     "metadata": {},
     "output_type": "execute_result"
    }
   ],
   "source": [
    "0o123"
   ]
  },
  {
   "cell_type": "markdown",
   "id": "fbfc20de",
   "metadata": {},
   "source": [
    "$Hexa$"
   ]
  },
  {
   "cell_type": "markdown",
   "id": "37a6035b",
   "metadata": {},
   "source": [
    "- Hexa means 16\n",
    "- it require only 0 to 9 and A to F.\n",
    "- we have 0 1 2 3 4 5 6 7 8 9\n",
    "- to make binary we need ony 0 1 2 3 4 5 6 7 8 9 A B C D E F\n",
    "- example: 0X7A62, 0xABC"
   ]
  },
  {
   "cell_type": "code",
   "execution_count": 13,
   "id": "245fa99b",
   "metadata": {},
   "outputs": [
    {
     "data": {
      "text/plain": [
       "1697"
      ]
     },
     "execution_count": 13,
     "metadata": {},
     "output_type": "execute_result"
    }
   ],
   "source": [
    "0X6A1\n",
    "# 16^0*1+16^1*(10)+16^2*6"
   ]
  },
  {
   "cell_type": "markdown",
   "id": "0d81970f",
   "metadata": {},
   "source": [
    "$float$"
   ]
  },
  {
   "cell_type": "code",
   "execution_count": 14,
   "id": "0671c5c9",
   "metadata": {},
   "outputs": [
    {
     "data": {
      "text/plain": [
       "float"
      ]
     },
     "execution_count": 14,
     "metadata": {},
     "output_type": "execute_result"
    }
   ],
   "source": [
    "number = 10.56\n",
    "type(number)"
   ]
  },
  {
   "cell_type": "code",
   "execution_count": 15,
   "id": "ef65988c",
   "metadata": {},
   "outputs": [
    {
     "data": {
      "text/plain": [
       "100.0"
      ]
     },
     "execution_count": 15,
     "metadata": {},
     "output_type": "execute_result"
    }
   ],
   "source": [
    "10e1\n",
    "# 10 is multiplying with e1= 10"
   ]
  },
  {
   "cell_type": "code",
   "execution_count": 16,
   "id": "8cfd8812",
   "metadata": {},
   "outputs": [
    {
     "data": {
      "text/plain": [
       "1000.0"
      ]
     },
     "execution_count": 16,
     "metadata": {},
     "output_type": "execute_result"
    }
   ],
   "source": [
    "10e2\n",
    "# 10 is multiplying with e2= 100"
   ]
  },
  {
   "cell_type": "code",
   "execution_count": 17,
   "id": "c2db9398",
   "metadata": {},
   "outputs": [
    {
     "data": {
      "text/plain": [
       "10000.0"
      ]
     },
     "execution_count": 17,
     "metadata": {},
     "output_type": "execute_result"
    }
   ],
   "source": [
    "10e3\n",
    "# 10 is multiplying with e3= 1000"
   ]
  },
  {
   "cell_type": "markdown",
   "id": "25031616",
   "metadata": {},
   "source": [
    "- e1 e2 e3 e4 means 10 is multiplied with those many zer0s"
   ]
  },
  {
   "cell_type": "code",
   "execution_count": 20,
   "id": "77e53a78",
   "metadata": {},
   "outputs": [
    {
     "data": {
      "text/plain": [
       "123.45"
      ]
     },
     "execution_count": 20,
     "metadata": {},
     "output_type": "execute_result"
    }
   ],
   "source": [
    "10e-1\n",
    "#10 is divided by 10 = 10/10\n",
    "10e-1  #10/10\n",
    "10e-2  #10/100\n",
    "10e-3  #10/1000\n",
    "10e-4  #10/10000\n",
    "10e+5  #10*100000\n",
    "12345e-2 #12345/100 "
   ]
  },
  {
   "cell_type": "code",
   "execution_count": 21,
   "id": "4c3381f3",
   "metadata": {},
   "outputs": [
    {
     "data": {
      "text/plain": [
       "1.2345e-06"
      ]
     },
     "execution_count": 21,
     "metadata": {},
     "output_type": "execute_result"
    }
   ],
   "source": [
    "12345e-10\n",
    "#check the output is zero"
   ]
  },
  {
   "cell_type": "markdown",
   "id": "06a615be",
   "metadata": {},
   "source": [
    "- 10e2 as same as 10e+2 == Multiplying\n",
    "- 10e-2 means dividing"
   ]
  },
  {
   "cell_type": "markdown",
   "id": "bf7839c5",
   "metadata": {},
   "source": [
    "$String$"
   ]
  },
  {
   "cell_type": "code",
   "execution_count": null,
   "id": "8e3bba1c",
   "metadata": {},
   "outputs": [],
   "source": [
    "integer #variables\n",
    "int      #keyword\n",
    "\"integer\" #string"
   ]
  },
  {
   "cell_type": "code",
   "execution_count": 23,
   "id": "c171bede",
   "metadata": {},
   "outputs": [
    {
     "data": {
      "text/plain": [
       "'python'"
      ]
     },
     "execution_count": 23,
     "metadata": {},
     "output_type": "execute_result"
    }
   ],
   "source": [
    "name=\"python\"\n",
    "name"
   ]
  },
  {
   "cell_type": "code",
   "execution_count": 24,
   "id": "81ca7f81",
   "metadata": {},
   "outputs": [
    {
     "data": {
      "text/plain": [
       "str"
      ]
     },
     "execution_count": 24,
     "metadata": {},
     "output_type": "execute_result"
    }
   ],
   "source": [
    "type(name)"
   ]
  },
  {
   "cell_type": "code",
   "execution_count": 26,
   "id": "737dda88",
   "metadata": {},
   "outputs": [
    {
     "name": "stdout",
     "output_type": "stream",
     "text": [
      "hello \"python\"\n"
     ]
    }
   ],
   "source": [
    "print('hello \"python\"')"
   ]
  },
  {
   "cell_type": "code",
   "execution_count": 30,
   "id": "4cfb1dde",
   "metadata": {},
   "outputs": [
    {
     "name": "stdout",
     "output_type": "stream",
     "text": [
      "hello 'python'\n"
     ]
    }
   ],
   "source": [
    "print(\"hello 'python'\")"
   ]
  },
  {
   "cell_type": "markdown",
   "id": "12321bef",
   "metadata": {},
   "source": [
    "$Triple Quotes$\n",
    "- Triple quotes are used to write a story of a specific code of string called doc string\n",
    "- Doc string \n",
    "- if somebody is writing the string in triple quotes then they are trying to explain teh code to the engineer "
   ]
  },
  {
   "cell_type": "code",
   "execution_count": 31,
   "id": "e3ae7f61",
   "metadata": {},
   "outputs": [],
   "source": [
    "import random"
   ]
  },
  {
   "cell_type": "code",
   "execution_count": 32,
   "id": "dc324e4f",
   "metadata": {},
   "outputs": [
    {
     "data": {
      "text/plain": [
       "3"
      ]
     },
     "execution_count": 32,
     "metadata": {},
     "output_type": "execute_result"
    }
   ],
   "source": [
    "random.randint(2,3)"
   ]
  },
  {
   "cell_type": "code",
   "execution_count": null,
   "id": "d4bf719b",
   "metadata": {},
   "outputs": [],
   "source": [
    "# int\n",
    "# float\n",
    "# str"
   ]
  },
  {
   "cell_type": "markdown",
   "id": "5d643005",
   "metadata": {},
   "source": [
    "$boolean$"
   ]
  },
  {
   "cell_type": "code",
   "execution_count": 34,
   "id": "eccddbe9",
   "metadata": {},
   "outputs": [
    {
     "data": {
      "text/plain": [
       "bool"
      ]
     },
     "execution_count": 34,
     "metadata": {},
     "output_type": "execute_result"
    }
   ],
   "source": [
    "value1= False\n",
    "type(value1)"
   ]
  },
  {
   "cell_type": "code",
   "execution_count": 35,
   "id": "2905468d",
   "metadata": {},
   "outputs": [
    {
     "data": {
      "text/plain": [
       "str"
      ]
     },
     "execution_count": 35,
     "metadata": {},
     "output_type": "execute_result"
    }
   ],
   "source": [
    "value2 =\"True\"\n",
    "type(value2)"
   ]
  },
  {
   "cell_type": "markdown",
   "id": "61d32874",
   "metadata": {},
   "source": [
    "- Not defined error is very common as beginner"
   ]
  },
  {
   "cell_type": "markdown",
   "id": "fb48a7fa",
   "metadata": {},
   "source": [
    "$Complex$"
   ]
  },
  {
   "cell_type": "markdown",
   "id": "dafb1019",
   "metadata": {},
   "source": [
    "- It represent  a a+bj\n",
    "- where a is real number \n",
    "- b is an imaginary number\n",
    "- ex: 3+4j"
   ]
  },
  {
   "cell_type": "code",
   "execution_count": 39,
   "id": "2c0191c2",
   "metadata": {},
   "outputs": [
    {
     "data": {
      "text/plain": [
       "complex"
      ]
     },
     "execution_count": 39,
     "metadata": {},
     "output_type": "execute_result"
    }
   ],
   "source": [
    "value = 3+4j\n",
    "type(value)"
   ]
  },
  {
   "cell_type": "code",
   "execution_count": 40,
   "id": "6340574d",
   "metadata": {},
   "outputs": [
    {
     "data": {
      "text/plain": [
       "['__abs__',\n",
       " '__add__',\n",
       " '__bool__',\n",
       " '__class__',\n",
       " '__complex__',\n",
       " '__delattr__',\n",
       " '__dir__',\n",
       " '__doc__',\n",
       " '__eq__',\n",
       " '__format__',\n",
       " '__ge__',\n",
       " '__getattribute__',\n",
       " '__getnewargs__',\n",
       " '__getstate__',\n",
       " '__gt__',\n",
       " '__hash__',\n",
       " '__init__',\n",
       " '__init_subclass__',\n",
       " '__le__',\n",
       " '__lt__',\n",
       " '__mul__',\n",
       " '__ne__',\n",
       " '__neg__',\n",
       " '__new__',\n",
       " '__pos__',\n",
       " '__pow__',\n",
       " '__radd__',\n",
       " '__reduce__',\n",
       " '__reduce_ex__',\n",
       " '__repr__',\n",
       " '__rmul__',\n",
       " '__rpow__',\n",
       " '__rsub__',\n",
       " '__rtruediv__',\n",
       " '__setattr__',\n",
       " '__sizeof__',\n",
       " '__str__',\n",
       " '__sub__',\n",
       " '__subclasshook__',\n",
       " '__truediv__',\n",
       " 'conjugate',\n",
       " 'imag',\n",
       " 'real']"
      ]
     },
     "execution_count": 40,
     "metadata": {},
     "output_type": "execute_result"
    }
   ],
   "source": [
    "dir(value)"
   ]
  },
  {
   "cell_type": "code",
   "execution_count": null,
   "id": "e3e72cd7",
   "metadata": {},
   "outputs": [],
   "source": [
    "# valu is kind of a package\n",
    "# m-1:conjugate\n",
    "# m-2:imag\n",
    "# m-3:real"
   ]
  },
  {
   "cell_type": "code",
   "execution_count": null,
   "id": "237cd9bf",
   "metadata": {},
   "outputs": [],
   "source": [
    "# pacakgename.method name"
   ]
  },
  {
   "cell_type": "code",
   "execution_count": 42,
   "id": "d20336d4",
   "metadata": {},
   "outputs": [
    {
     "data": {
      "text/plain": [
       "(3-4j)"
      ]
     },
     "execution_count": 42,
     "metadata": {},
     "output_type": "execute_result"
    }
   ],
   "source": [
    "value = 3+4j\n",
    "dir(value)\n",
    "#conjugate imag real\n",
    "value.conjugate()"
   ]
  },
  {
   "cell_type": "code",
   "execution_count": 43,
   "id": "e5245272",
   "metadata": {},
   "outputs": [
    {
     "data": {
      "text/plain": [
       "3.0"
      ]
     },
     "execution_count": 43,
     "metadata": {},
     "output_type": "execute_result"
    }
   ],
   "source": [
    "value.real"
   ]
  },
  {
   "cell_type": "code",
   "execution_count": 44,
   "id": "4bd075dd",
   "metadata": {},
   "outputs": [
    {
     "data": {
      "text/plain": [
       "4.0"
      ]
     },
     "execution_count": 44,
     "metadata": {},
     "output_type": "execute_result"
    }
   ],
   "source": [
    "value.imag"
   ]
  },
  {
   "cell_type": "code",
   "execution_count": 45,
   "id": "9e803588",
   "metadata": {},
   "outputs": [
    {
     "ename": "AttributeError",
     "evalue": "'complex' object has no attribute 'omkar'",
     "output_type": "error",
     "traceback": [
      "\u001b[1;31m---------------------------------------------------------------------------\u001b[0m",
      "\u001b[1;31mAttributeError\u001b[0m                            Traceback (most recent call last)",
      "Cell \u001b[1;32mIn[45], line 1\u001b[0m\n\u001b[1;32m----> 1\u001b[0m value\u001b[38;5;241m.\u001b[39momkar\n",
      "\u001b[1;31mAttributeError\u001b[0m: 'complex' object has no attribute 'omkar'"
     ]
    }
   ],
   "source": [
    "value.omkar"
   ]
  },
  {
   "cell_type": "markdown",
   "id": "5feaf008",
   "metadata": {},
   "source": [
    "- no kid error(parent doesn't have that kid) is the attribute error very common error of the student"
   ]
  },
  {
   "cell_type": "markdown",
   "id": "87335a9b",
   "metadata": {},
   "source": [
    "$Errors$"
   ]
  },
  {
   "cell_type": "markdown",
   "id": "3a515bbb",
   "metadata": {},
   "source": [
    "- Syntax error must be avoided\n",
    "- name error \n",
    "- attribute error"
   ]
  },
  {
   "cell_type": "code",
   "execution_count": null,
   "id": "066a23a7",
   "metadata": {},
   "outputs": [],
   "source": []
  }
 ],
 "metadata": {
  "kernelspec": {
   "display_name": "Python 3 (ipykernel)",
   "language": "python",
   "name": "python3"
  },
  "language_info": {
   "codemirror_mode": {
    "name": "ipython",
    "version": 3
   },
   "file_extension": ".py",
   "mimetype": "text/x-python",
   "name": "python",
   "nbconvert_exporter": "python",
   "pygments_lexer": "ipython3",
   "version": "3.11.5"
  }
 },
 "nbformat": 4,
 "nbformat_minor": 5
}
