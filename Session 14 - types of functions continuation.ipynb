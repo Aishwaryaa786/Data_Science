{
 "cells": [
  {
   "cell_type": "code",
   "execution_count": null,
   "id": "bd5dd4cc",
   "metadata": {},
   "outputs": [],
   "source": [
    "- function without arguments\n",
    "- function with arguments \n",
    "- Defalut \n",
    "- local vs global\n",
    "- return \n",
    "- function in function \n"
   ]
  },
  {
   "cell_type": "code",
   "execution_count": null,
   "id": "d3885bed",
   "metadata": {},
   "outputs": [],
   "source": []
  },
  {
   "cell_type": "code",
   "execution_count": null,
   "id": "6bbb9cb5",
   "metadata": {},
   "outputs": [],
   "source": []
  },
  {
   "cell_type": "code",
   "execution_count": 3,
   "id": "6db1ff6c",
   "metadata": {},
   "outputs": [
    {
     "name": "stdout",
     "output_type": "stream",
     "text": [
      "Enter a number:78\n",
      "Even\n"
     ]
    }
   ],
   "source": [
    "#Functions with out arguments\n",
    "def even_odd():\n",
    "    num = eval(input(\"Enter a number:\"))\n",
    "    if num%2==0:\n",
    "        print('Even')\n",
    "    else:\n",
    "        print('Odd')\n",
    "        \n",
    "even_odd()"
   ]
  },
  {
   "cell_type": "code",
   "execution_count": 4,
   "id": "8550f794",
   "metadata": {},
   "outputs": [
    {
     "name": "stdout",
     "output_type": "stream",
     "text": [
      "Even\n"
     ]
    }
   ],
   "source": [
    "#Functions with  arguments\n",
    "def even_odd(num):\n",
    "   \n",
    "    if num%2==0:\n",
    "        print('Even')\n",
    "    else:\n",
    "        print('Odd')\n",
    "        \n",
    "even_odd(78)"
   ]
  },
  {
   "cell_type": "code",
   "execution_count": 6,
   "id": "839cab19",
   "metadata": {},
   "outputs": [
    {
     "name": "stdout",
     "output_type": "stream",
     "text": [
      "num1: 20\n",
      "num2: 100\n",
      "120\n"
     ]
    }
   ],
   "source": [
    "#Default Arguments:this means we can fix the argument values or the argument is fixed.\n",
    "#Defalut argument should always be at last i.e second parameter.\n",
    "def summ(num1,num2=100):\n",
    "    print(\"num1:\", num1)\n",
    "    print(\"num2:\", num2)\n",
    "    add=num1+num2\n",
    "    print(add)\n",
    "summ(20)\n",
    "#num1 = 20 num2=100"
   ]
  },
  {
   "cell_type": "code",
   "execution_count": 8,
   "id": "f4f3eb97",
   "metadata": {},
   "outputs": [
    {
     "name": "stdout",
     "output_type": "stream",
     "text": [
      "num1: 200\n",
      "num2: 100\n",
      "300\n"
     ]
    }
   ],
   "source": [
    "def summ(num1=200,num2=100):\n",
    "    print(\"num1:\", num1)\n",
    "    print(\"num2:\", num2)\n",
    "    add=num1+num2\n",
    "    print(add)\n",
    "summ()"
   ]
  },
  {
   "cell_type": "markdown",
   "id": "c41d9d45",
   "metadata": {},
   "source": [
    "- Note : Deafult arguments is always at last"
   ]
  },
  {
   "cell_type": "code",
   "execution_count": null,
   "id": "5171fada",
   "metadata": {},
   "outputs": [],
   "source": [
    "avg(n1,n2,n3=100) #Works\n",
    "avg(n1,n2=100,n3=100)#Works\n",
    "avg(n1=100,n2=100,n3=100) #Works\n",
    "avg(n1=100,n2,n3)#Fails\n",
    "avg(n1=100,n2=100,n3) #Fails\n",
    "avg(n1=100,n2,n3=100) #Fails\n",
    "avg(n1,n2=100,n3=100)#Works"
   ]
  },
  {
   "cell_type": "code",
   "execution_count": 10,
   "id": "30eec6ba",
   "metadata": {},
   "outputs": [
    {
     "name": "stdout",
     "output_type": "stream",
     "text": [
      "200.0\n"
     ]
    }
   ],
   "source": [
    "#Case-1:\n",
    "def avg(n1,n2,n3=100):\n",
    "    averge=(n1+n2+n3)/3\n",
    "    print(averge)\n",
    "avg(200,300)  #n1=200 n2=300 n3=100"
   ]
  },
  {
   "cell_type": "code",
   "execution_count": 11,
   "id": "02757411",
   "metadata": {},
   "outputs": [
    {
     "name": "stdout",
     "output_type": "stream",
     "text": [
      "166.66666666666666\n"
     ]
    }
   ],
   "source": [
    "#Case-2:\n",
    "def avg(n1,n2=100,n3=100):\n",
    "    averge=(n1+n2+n3)/3\n",
    "    print(averge)\n",
    "avg(300) "
   ]
  },
  {
   "cell_type": "code",
   "execution_count": 13,
   "id": "e582e222",
   "metadata": {},
   "outputs": [
    {
     "name": "stdout",
     "output_type": "stream",
     "text": [
      "100.0\n"
     ]
    }
   ],
   "source": [
    "#Case-3:\n",
    "def avg(n1=100,n2=100,n3=100):\n",
    "    averge=(n1+n2+n3)/3\n",
    "    print(averge)\n",
    "avg() "
   ]
  },
  {
   "cell_type": "code",
   "execution_count": 14,
   "id": "45aae515",
   "metadata": {},
   "outputs": [
    {
     "ename": "SyntaxError",
     "evalue": "non-default argument follows default argument (1253035040.py, line 1)",
     "output_type": "error",
     "traceback": [
      "\u001b[1;36m  Cell \u001b[1;32mIn[14], line 1\u001b[1;36m\u001b[0m\n\u001b[1;33m    def avg(n1=100,n2,n3):\u001b[0m\n\u001b[1;37m                   ^\u001b[0m\n\u001b[1;31mSyntaxError\u001b[0m\u001b[1;31m:\u001b[0m non-default argument follows default argument\n"
     ]
    }
   ],
   "source": [
    "#Case-4:\n",
    "def avg(n1=100,n2,n3):\n",
    "    averge=(n1+n2+n3)/3\n",
    "    print(averge)\n",
    "avg(100,200) "
   ]
  },
  {
   "cell_type": "code",
   "execution_count": 17,
   "id": "76187f55",
   "metadata": {},
   "outputs": [
    {
     "ename": "SyntaxError",
     "evalue": "non-default argument follows default argument (3800253138.py, line 1)",
     "output_type": "error",
     "traceback": [
      "\u001b[1;36m  Cell \u001b[1;32mIn[17], line 1\u001b[1;36m\u001b[0m\n\u001b[1;33m    def avg(n1=100,n2=100,n3):\u001b[0m\n\u001b[1;37m                          ^\u001b[0m\n\u001b[1;31mSyntaxError\u001b[0m\u001b[1;31m:\u001b[0m non-default argument follows default argument\n"
     ]
    }
   ],
   "source": [
    "#Case-5:\n",
    "def avg(n1=100,n2=100,n3):\n",
    "    averge=(n1+n2+n3)/3\n",
    "    print(averge)\n",
    "avg(200) "
   ]
  },
  {
   "cell_type": "code",
   "execution_count": 18,
   "id": "9f102633",
   "metadata": {},
   "outputs": [
    {
     "ename": "SyntaxError",
     "evalue": "non-default argument follows default argument (2750521420.py, line 1)",
     "output_type": "error",
     "traceback": [
      "\u001b[1;36m  Cell \u001b[1;32mIn[18], line 1\u001b[1;36m\u001b[0m\n\u001b[1;33m    def avg(n1=100,n2,n3=100):\u001b[0m\n\u001b[1;37m                   ^\u001b[0m\n\u001b[1;31mSyntaxError\u001b[0m\u001b[1;31m:\u001b[0m non-default argument follows default argument\n"
     ]
    }
   ],
   "source": [
    "#Case-6:\n",
    "def avg(n1=100,n2,n3=100):\n",
    "    averge=(n1+n2+n3)/3\n",
    "    print(averge)\n",
    "avg(100) "
   ]
  },
  {
   "cell_type": "code",
   "execution_count": 19,
   "id": "87a3635d",
   "metadata": {},
   "outputs": [
    {
     "name": "stdout",
     "output_type": "stream",
     "text": [
      "100.0\n"
     ]
    }
   ],
   "source": [
    "#Case-7:\n",
    "def summ(n1,n2=100):\n",
    "    averge=n1+n2\n",
    "    print(averge)\n",
    "summ(100)"
   ]
  },
  {
   "cell_type": "code",
   "execution_count": null,
   "id": "53e7f92a",
   "metadata": {},
   "outputs": [],
   "source": [
    "def avg(n1,n2=100 ):\n",
    "    averge=(n1+n2+n3)/3\n",
    "    print(averge)\n",
    "avg(100)\n",
    "# have you provided any value before define the function\n",
    "# what are you provided while defineing the function \n",
    "# what are you provided while calling the function num2= 100\n",
    "# what are you provided while calling the function num2=500"
   ]
  },
  {
   "cell_type": "code",
   "execution_count": null,
   "id": "0b010040",
   "metadata": {},
   "outputs": [],
   "source": [
    "#define call then kaam"
   ]
  },
  {
   "cell_type": "code",
   "execution_count": 20,
   "id": "05ffd178",
   "metadata": {},
   "outputs": [
    {
     "name": "stdout",
     "output_type": "stream",
     "text": [
      "The total bill is 1100.0 for the tip percent 10\n"
     ]
    }
   ],
   "source": [
    "#Create the default argument for tip_percentage\n",
    "def totalbill(bill, tip=10):\n",
    "#     bill = eval(input(\"Enter the bill:\"))\n",
    "#     tip =eval(input(\"Enter the tip percentage :\"))\n",
    "    tip_percent =(bill*tip)/100\n",
    "    total_bill=bill+tip_percent\n",
    "    print(f\"The total bill is {total_bill} for the tip percent {tip}\")\n",
    "\n",
    "totalbill(1000)"
   ]
  },
  {
   "cell_type": "code",
   "execution_count": null,
   "id": "8fdff0a6",
   "metadata": {},
   "outputs": [],
   "source": [
    "#wap ask the user enter salary :100000\n",
    "#ask the user enter tax percentage : 10\n",
    "#calculate tax \n",
    "#implement fnction without argument\n",
    "#function with argument\n",
    "#function default argument :tax_per = 10"
   ]
  },
  {
   "cell_type": "code",
   "execution_count": 23,
   "id": "2e833769",
   "metadata": {},
   "outputs": [
    {
     "name": "stdout",
     "output_type": "stream",
     "text": [
      "Enter the salary:100000\n",
      "Enter the tax percentage:10\n",
      "The salary is 100000 and tax percent is 10000.0\n"
     ]
    }
   ],
   "source": [
    "#implement fnction without argument\n",
    "def salary():\n",
    "    sal=eval(input('Enter the salary:'))\n",
    "    tax=eval(input('Enter the tax percentage:'))\n",
    "    tax_per=(sal*tax)/100\n",
    "    print(f'The salary is {sal} and tax percent is {tax_per}')\n",
    "salary()"
   ]
  },
  {
   "cell_type": "code",
   "execution_count": 25,
   "id": "163124a9",
   "metadata": {},
   "outputs": [
    {
     "name": "stdout",
     "output_type": "stream",
     "text": [
      "The salary is 100000 and tax percent is 10000.0\n"
     ]
    }
   ],
   "source": [
    "#function with argument\n",
    "def salary1(sal,tax):\n",
    "    \n",
    "    tax_per=(sal*tax)/100\n",
    "    print(f'The salary is {sal} and tax percent is {tax_per}')\n",
    "salary1(100000,10)"
   ]
  },
  {
   "cell_type": "code",
   "execution_count": 26,
   "id": "4b6d6077",
   "metadata": {},
   "outputs": [
    {
     "name": "stdout",
     "output_type": "stream",
     "text": [
      "The salary is 100000 and tax percent is 10000.0\n"
     ]
    }
   ],
   "source": [
    "#function default argument :tax_per = 10\n",
    "\n",
    "def salary1(sal,tax=10):\n",
    "    \n",
    "    tax_per=(sal*tax)/100\n",
    "    print(f'The salary is {sal} and tax percent is {tax_per}')\n",
    "salary1(100000)"
   ]
  },
  {
   "cell_type": "markdown",
   "id": "a1bf9a54",
   "metadata": {},
   "source": [
    "- Return Statements"
   ]
  },
  {
   "cell_type": "code",
   "execution_count": null,
   "id": "15d8c5c5",
   "metadata": {},
   "outputs": [],
   "source": [
    "# tax_per we re getting inside the function whereas,\n",
    "# if i want to use it outside I am supposed to use\n",
    "# retun function"
   ]
  },
  {
   "cell_type": "code",
   "execution_count": 32,
   "id": "592b5e5e",
   "metadata": {},
   "outputs": [
    {
     "name": "stdout",
     "output_type": "stream",
     "text": [
      "10000.0\n"
     ]
    },
    {
     "ename": "NameError",
     "evalue": "name 'sal' is not defined",
     "output_type": "error",
     "traceback": [
      "\u001b[1;31m---------------------------------------------------------------------------\u001b[0m",
      "\u001b[1;31mNameError\u001b[0m                                 Traceback (most recent call last)",
      "Cell \u001b[1;32mIn[32], line 7\u001b[0m\n\u001b[0;32m      5\u001b[0m tax_per\u001b[38;5;241m=\u001b[39msalary1(\u001b[38;5;241m100000\u001b[39m)\n\u001b[0;32m      6\u001b[0m \u001b[38;5;28mprint\u001b[39m(tax_per)\n\u001b[1;32m----> 7\u001b[0m \u001b[38;5;28mprint\u001b[39m(sal)\n",
      "\u001b[1;31mNameError\u001b[0m: name 'sal' is not defined"
     ]
    }
   ],
   "source": [
    "def salary1(sal,tax=10):\n",
    "    tax_per=(sal*tax)/100\n",
    "    return(tax_per)\n",
    "#we are asking function to return a value\n",
    "tax_per=salary1(100000)\n",
    "print(tax_per)\n",
    "print(sal)"
   ]
  },
  {
   "cell_type": "code",
   "execution_count": null,
   "id": "19aeb47a",
   "metadata": {},
   "outputs": [],
   "source": []
  },
  {
   "cell_type": "code",
   "execution_count": 35,
   "id": "d83c6ef7",
   "metadata": {},
   "outputs": [
    {
     "name": "stdout",
     "output_type": "stream",
     "text": [
      "10110\n",
      "3370.0\n"
     ]
    }
   ],
   "source": [
    "#WAP take 3 numbers do the sum seperately and average seperately and return sum and average\n",
    "def mathe(n1,n2,n3):\n",
    "    summ=n1+n2+n3\n",
    "    avr=(n1+n2+n3)/3\n",
    "    return(avr,summ)\n",
    "avr,summ=mathe(10,100,10000)\n",
    "print(summ)\n",
    "print(avr)\n",
    "\n",
    "\n",
    "\n",
    "\n"
   ]
  },
  {
   "cell_type": "code",
   "execution_count": 1,
   "id": "00859e40",
   "metadata": {},
   "outputs": [
    {
     "name": "stdout",
     "output_type": "stream",
     "text": [
      "Enter the number :78\n",
      "out\n"
     ]
    }
   ],
   "source": [
    "import random\n",
    "def game1():\n",
    "    n1=random.randint(1,10)\n",
    "    n2=eval(input(\"Enter the number :\"))\n",
    "    if n1== n2:\n",
    "        print(\"in\")\n",
    "    else:\n",
    "        print(\"out\")\n",
    "game1()"
   ]
  },
  {
   "cell_type": "code",
   "execution_count": 3,
   "id": "d51fb4a7",
   "metadata": {},
   "outputs": [
    {
     "name": "stdout",
     "output_type": "stream",
     "text": [
      "out\n"
     ]
    }
   ],
   "source": [
    "import random\n",
    "def game1(n2=7):\n",
    "    n1=random.randint(1,10)\n",
    "    #n2=eval(input(\"Enter the number :\"))\n",
    "    if n1== n2:\n",
    "        print(\"in\")\n",
    "    else:\n",
    "        print(\"out\")\n",
    "game1()"
   ]
  },
  {
   "cell_type": "code",
   "execution_count": 4,
   "id": "35cdabe8",
   "metadata": {},
   "outputs": [
    {
     "name": "stdout",
     "output_type": "stream",
     "text": [
      "out\n"
     ]
    },
    {
     "data": {
      "text/plain": [
       "(0, 'no award')"
      ]
     },
     "execution_count": 4,
     "metadata": {},
     "output_type": "execute_result"
    }
   ],
   "source": [
    "import random\n",
    "def game1(n2=7):\n",
    "    n1=random.randint(1,10)\n",
    "    #n2=eval(input(\"Enter the number :\"))\n",
    "    if n1== n2:\n",
    "        print(\"in\")\n",
    "        return(10000,\"award\")\n",
    "    else:\n",
    "        print(\"out\")\n",
    "        return(0,\"no award\")\n",
    "money=game1()\n",
    "money"
   ]
  },
  {
   "cell_type": "markdown",
   "id": "e87682bd",
   "metadata": {},
   "source": [
    "- Local variables :\n",
    "    - the variables are initialized inside the function\n",
    "    - its like movie in a single state\n",
    "    "
   ]
  },
  {
   "cell_type": "markdown",
   "id": "15b77553",
   "metadata": {},
   "source": [
    "- Global Variable:\n",
    "    - The variables are initialized outside th function \n",
    "    - its more like a pan india movie "
   ]
  },
  {
   "cell_type": "code",
   "execution_count": null,
   "id": "06552cf1",
   "metadata": {},
   "outputs": [],
   "source": [
    "n1 = random.randint(1,10) #global\n"
   ]
  },
  {
   "cell_type": "code",
   "execution_count": null,
   "id": "056a777b",
   "metadata": {},
   "outputs": [],
   "source": [
    "num=10 #Global variable\n",
    "def even_odd(num):\n",
    "    num = eval(input(\"Enter a number:\")) #local variable\n",
    "    if num%2==0:\n",
    "        print('Even')\n",
    "    else:\n",
    "        print('Odd')\n",
    "        \n",
    "even_odd(20) #local\n",
    "\n",
    "even_odd(eval(input(\"Enter a number:\"))) #local\n",
    "\n",
    "num=eval(input(\"Enter a number:\")) #global\n",
    "even_odd(num)\n",
    "\n",
    "num=random.randint(1,50) #global\n",
    "even_odd(num)\n",
    "#s1=define the function\n",
    "#s2=call the function \n"
   ]
  },
  {
   "cell_type": "markdown",
   "id": "82c04a09",
   "metadata": {},
   "source": [
    "- variables inside the function is called as local variables\n",
    "- variables outside the function is called as global variables\n",
    "- if you want to use variable inside the function initialize that beefore calling the function \n",
    "- if you want to use local variables outside the function provide return statement"
   ]
  },
  {
   "cell_type": "code",
   "execution_count": null,
   "id": "7062ce66",
   "metadata": {},
   "outputs": [],
   "source": [
    "#important function \n",
    "use local variables outside the function without using return\n",
    "\n",
    "global"
   ]
  },
  {
   "cell_type": "code",
   "execution_count": 5,
   "id": "0f6901fd",
   "metadata": {},
   "outputs": [
    {
     "name": "stdout",
     "output_type": "stream",
     "text": [
      "The total bill is 1100.0 for the tip percent 10\n"
     ]
    },
    {
     "ename": "NameError",
     "evalue": "name 'tim' is not defined",
     "output_type": "error",
     "traceback": [
      "\u001b[1;31m---------------------------------------------------------------------------\u001b[0m",
      "\u001b[1;31mNameError\u001b[0m                                 Traceback (most recent call last)",
      "Cell \u001b[1;32mIn[5], line 11\u001b[0m\n\u001b[0;32m      8\u001b[0m     \u001b[38;5;28mprint\u001b[39m(\u001b[38;5;124mf\u001b[39m\u001b[38;5;124m\"\u001b[39m\u001b[38;5;124mThe total bill is \u001b[39m\u001b[38;5;132;01m{\u001b[39;00mtotal_bill\u001b[38;5;132;01m}\u001b[39;00m\u001b[38;5;124m for the tip percent \u001b[39m\u001b[38;5;132;01m{\u001b[39;00mtip\u001b[38;5;132;01m}\u001b[39;00m\u001b[38;5;124m\"\u001b[39m)\n\u001b[0;32m     10\u001b[0m totalbill(\u001b[38;5;241m1000\u001b[39m)\n\u001b[1;32m---> 11\u001b[0m \u001b[38;5;28mprint\u001b[39m(tim)\n",
      "\u001b[1;31mNameError\u001b[0m: name 'tim' is not defined"
     ]
    }
   ],
   "source": [
    "#Create the default argument for tip_percentage\n",
    "def totalbill(bill, tip=10):\n",
    "    global totalbill\n",
    "#     bill = eval(input(\"Enter the bill:\"))\n",
    "#     tip =eval(input(\"Enter the tip percentage :\"))\n",
    "    tip_percent =(bill*tip)/100\n",
    "    total_bill=bill+tip_percent\n",
    "    print(f\"The total bill is {total_bill} for the tip percent {tip}\")\n",
    "\n",
    "totalbill(1000)\n"
   ]
  },
  {
   "cell_type": "code",
   "execution_count": 6,
   "id": "95344db3",
   "metadata": {},
   "outputs": [
    {
     "name": "stdout",
     "output_type": "stream",
     "text": [
      "9\n",
      "3\n"
     ]
    }
   ],
   "source": [
    "#wap ask take three numbers as arguments \n",
    "#create add and avg variables inside the function\n",
    "#calculate that add and avg \n",
    "#print outside function without useing retuen function \n",
    "# num1=eval(input(\"Enter the value for num1\"))\n",
    "# num2=eval(input(\"Enter the value for num2\"))\n",
    "# num3=eval(input(\"Enter the value for num3\"))\n",
    "def look(num1,num2,num3):\n",
    "    global add,avg\n",
    "    add=num1+num2+num3\n",
    "    avg=round((num1+num2+num3)/3)\n",
    "look(2,3,4)\n",
    "print(add)\n",
    "print(avg)\n",
    "    "
   ]
  },
  {
   "cell_type": "markdown",
   "id": "70ee93a3",
   "metadata": {},
   "source": [
    "**Functions in functions**"
   ]
  },
  {
   "cell_type": "code",
   "execution_count": 7,
   "id": "011ad80d",
   "metadata": {},
   "outputs": [
    {
     "name": "stdout",
     "output_type": "stream",
     "text": [
      "hello\n",
      "How are you?\n"
     ]
    }
   ],
   "source": [
    "def greet1():\n",
    "    print(\"hello\")\n",
    "def greet2():\n",
    "    print(\"How are you?\")\n",
    "\n",
    "greet1()\n",
    "greet2()\n"
   ]
  },
  {
   "cell_type": "code",
   "execution_count": 8,
   "id": "df07ccee",
   "metadata": {},
   "outputs": [
    {
     "name": "stdout",
     "output_type": "stream",
     "text": [
      "hello\n",
      "How are you?\n"
     ]
    }
   ],
   "source": [
    "def greet1():\n",
    "    print(\"hello\")\n",
    "def greet2():\n",
    "    greet1()\n",
    "    print(\"How are you?\")\n",
    "\n",
    "greet2()\n"
   ]
  },
  {
   "cell_type": "code",
   "execution_count": 9,
   "id": "d288ffa3",
   "metadata": {},
   "outputs": [
    {
     "name": "stdout",
     "output_type": "stream",
     "text": [
      "How are you?\n",
      "hello\n"
     ]
    }
   ],
   "source": [
    "def greet1():\n",
    "    greet2()\n",
    "    print(\"hello\")\n",
    "def greet2():\n",
    "   \n",
    "    print(\"How are you?\")\n",
    "\n",
    "greet1()\n"
   ]
  },
  {
   "cell_type": "code",
   "execution_count": 11,
   "id": "a4713ef6",
   "metadata": {},
   "outputs": [
    {
     "ename": "RecursionError",
     "evalue": "maximum recursion depth exceeded",
     "output_type": "error",
     "traceback": [
      "\u001b[1;31m---------------------------------------------------------------------------\u001b[0m",
      "\u001b[1;31mRecursionError\u001b[0m                            Traceback (most recent call last)",
      "Cell \u001b[1;32mIn[11], line 11\u001b[0m\n\u001b[0;32m      8\u001b[0m \u001b[38;5;28;01mexcept\u001b[39;00m \u001b[38;5;167;01mException\u001b[39;00m \u001b[38;5;28;01mas\u001b[39;00m e:\n\u001b[0;32m      9\u001b[0m     \u001b[38;5;28mprint\u001b[39m(e)\n\u001b[1;32m---> 11\u001b[0m greet1()\n",
      "Cell \u001b[1;32mIn[11], line 3\u001b[0m, in \u001b[0;36mgreet1\u001b[1;34m()\u001b[0m\n\u001b[0;32m      2\u001b[0m \u001b[38;5;28;01mdef\u001b[39;00m \u001b[38;5;21mgreet1\u001b[39m():\n\u001b[1;32m----> 3\u001b[0m     greet2()\n\u001b[0;32m      4\u001b[0m     \u001b[38;5;28mprint\u001b[39m(\u001b[38;5;124m\"\u001b[39m\u001b[38;5;124mhello\u001b[39m\u001b[38;5;124m\"\u001b[39m)\n",
      "Cell \u001b[1;32mIn[11], line 6\u001b[0m, in \u001b[0;36mgreet2\u001b[1;34m()\u001b[0m\n\u001b[0;32m      5\u001b[0m \u001b[38;5;28;01mdef\u001b[39;00m \u001b[38;5;21mgreet2\u001b[39m():\n\u001b[1;32m----> 6\u001b[0m     greet1()\n\u001b[0;32m      7\u001b[0m     \u001b[38;5;28mprint\u001b[39m(\u001b[38;5;124m\"\u001b[39m\u001b[38;5;124mHow are you?\u001b[39m\u001b[38;5;124m\"\u001b[39m)\n",
      "Cell \u001b[1;32mIn[11], line 3\u001b[0m, in \u001b[0;36mgreet1\u001b[1;34m()\u001b[0m\n\u001b[0;32m      2\u001b[0m \u001b[38;5;28;01mdef\u001b[39;00m \u001b[38;5;21mgreet1\u001b[39m():\n\u001b[1;32m----> 3\u001b[0m     greet2()\n\u001b[0;32m      4\u001b[0m     \u001b[38;5;28mprint\u001b[39m(\u001b[38;5;124m\"\u001b[39m\u001b[38;5;124mhello\u001b[39m\u001b[38;5;124m\"\u001b[39m)\n",
      "Cell \u001b[1;32mIn[11], line 6\u001b[0m, in \u001b[0;36mgreet2\u001b[1;34m()\u001b[0m\n\u001b[0;32m      5\u001b[0m \u001b[38;5;28;01mdef\u001b[39;00m \u001b[38;5;21mgreet2\u001b[39m():\n\u001b[1;32m----> 6\u001b[0m     greet1()\n\u001b[0;32m      7\u001b[0m     \u001b[38;5;28mprint\u001b[39m(\u001b[38;5;124m\"\u001b[39m\u001b[38;5;124mHow are you?\u001b[39m\u001b[38;5;124m\"\u001b[39m)\n",
      "    \u001b[1;31m[... skipping similar frames: greet1 at line 3 (1484 times), greet2 at line 6 (1484 times)]\u001b[0m\n",
      "Cell \u001b[1;32mIn[11], line 3\u001b[0m, in \u001b[0;36mgreet1\u001b[1;34m()\u001b[0m\n\u001b[0;32m      2\u001b[0m \u001b[38;5;28;01mdef\u001b[39;00m \u001b[38;5;21mgreet1\u001b[39m():\n\u001b[1;32m----> 3\u001b[0m     greet2()\n\u001b[0;32m      4\u001b[0m     \u001b[38;5;28mprint\u001b[39m(\u001b[38;5;124m\"\u001b[39m\u001b[38;5;124mhello\u001b[39m\u001b[38;5;124m\"\u001b[39m)\n",
      "Cell \u001b[1;32mIn[11], line 6\u001b[0m, in \u001b[0;36mgreet2\u001b[1;34m()\u001b[0m\n\u001b[0;32m      5\u001b[0m \u001b[38;5;28;01mdef\u001b[39;00m \u001b[38;5;21mgreet2\u001b[39m():\n\u001b[1;32m----> 6\u001b[0m     greet1()\n\u001b[0;32m      7\u001b[0m     \u001b[38;5;28mprint\u001b[39m(\u001b[38;5;124m\"\u001b[39m\u001b[38;5;124mHow are you?\u001b[39m\u001b[38;5;124m\"\u001b[39m)\n",
      "\u001b[1;31mRecursionError\u001b[0m: maximum recursion depth exceeded"
     ]
    }
   ],
   "source": [
    "try:\n",
    "    def greet1():\n",
    "        greet2()\n",
    "        print(\"hello\")\n",
    "    def greet2():\n",
    "        greet1()\n",
    "        print(\"How are you?\")\n",
    "except Exception as e:\n",
    "    print(e)\n",
    "\n",
    "greet1()\n"
   ]
  },
  {
   "cell_type": "code",
   "execution_count": null,
   "id": "663282a5",
   "metadata": {},
   "outputs": [],
   "source": [
    "#calculator program\n",
    "#create four functions \n",
    "#fun1: add\n",
    "#fun2 : sub\n",
    "#fun3 : mul\n",
    "#fun4 : div\n",
    "\n",
    "#print(\"if you want to use add operation please enter 1 \")\n",
    "#print(\"if you want to use sub operation please enter 2 \")\n",
    "#print(\"if you want to use mul operation please enter 3 \")\n",
    "#print(\"if you want to use div operation please enter 4 \")\n",
    "\n",
    "#option=eval(input(\"choose option 1,2,3,4\"))\n",
    "\n",
    "#if option==1:\n",
    "#n1=\n",
    "#n2=\n",
    "#add(n1,n2)\n",
    "#elif option==2\n",
    "#sub()"
   ]
  },
  {
   "cell_type": "code",
   "execution_count": 21,
   "id": "6a8f2a86",
   "metadata": {},
   "outputs": [
    {
     "name": "stdout",
     "output_type": "stream",
     "text": [
      "Enter the number 1 for addition, 2 for subtraction, 3 for multiplication, 4 for division1\n",
      "Enter the value of n1: 45\n",
      "Enter the value of n2: 45\n",
      "90\n"
     ]
    }
   ],
   "source": [
    "\n",
    "def add(n1,n2):\n",
    "    return n1+n2\n",
    "def sub(n1,n2):\n",
    "    return n1-n2\n",
    "def mul(n1,n2):\n",
    "    return n1*n2\n",
    "def div(n1,n2):\n",
    "    return n1/n2\n",
    "value=eval(input(\"Enter the number 1 for addition, 2 for subtraction, 3 for multiplication, 4 for division\"))\n",
    "n1=eval(input(\"Enter the value of n1: \"))\n",
    "n2=eval(input(\"Enter the value of n2: \"))\n",
    "if value==1:\n",
    "    result=add(n1,n2)\n",
    "elif value==2:\n",
    "    result=sub(n1,n2)\n",
    "elif value==3:\n",
    "    result=mul(n1,n2)\n",
    "elif value==4:\n",
    "    result=div(n1,n2)\n",
    "else:\n",
    "    print(\"Please enter the right option\")\n",
    "print(result)"
   ]
  },
  {
   "cell_type": "code",
   "execution_count": null,
   "id": "de578855",
   "metadata": {},
   "outputs": [],
   "source": []
  }
 ],
 "metadata": {
  "kernelspec": {
   "display_name": "Python 3 (ipykernel)",
   "language": "python",
   "name": "python3"
  },
  "language_info": {
   "codemirror_mode": {
    "name": "ipython",
    "version": 3
   },
   "file_extension": ".py",
   "mimetype": "text/x-python",
   "name": "python",
   "nbconvert_exporter": "python",
   "pygments_lexer": "ipython3",
   "version": "3.11.5"
  }
 },
 "nbformat": 4,
 "nbformat_minor": 5
}
