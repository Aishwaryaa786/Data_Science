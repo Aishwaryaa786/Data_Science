{
 "cells": [
  {
   "cell_type": "markdown",
   "id": "c67a020d",
   "metadata": {},
   "source": [
    "# Print Statement"
   ]
  },
  {
   "cell_type": "code",
   "execution_count": 2,
   "id": "c002bce2",
   "metadata": {},
   "outputs": [
    {
     "name": "stdout",
     "output_type": "stream",
     "text": [
      "10\n"
     ]
    }
   ],
   "source": [
    "num=10\n",
    "print(num)"
   ]
  },
  {
   "cell_type": "code",
   "execution_count": 3,
   "id": "3403ede8",
   "metadata": {},
   "outputs": [
    {
     "name": "stdout",
     "output_type": "stream",
     "text": [
      "10\n",
      "102\n"
     ]
    }
   ],
   "source": [
    "num1=10\n",
    "print(num1)\n",
    "num2=102\n",
    "print(num2)"
   ]
  },
  {
   "cell_type": "code",
   "execution_count": 4,
   "id": "76659f43",
   "metadata": {},
   "outputs": [
    {
     "name": "stdout",
     "output_type": "stream",
     "text": [
      "hai how.... \n"
     ]
    }
   ],
   "source": [
    "print(\"hai how.... \")"
   ]
  },
  {
   "cell_type": "markdown",
   "id": "ccf3ae63",
   "metadata": {},
   "source": [
    "- whatever we write in quotes and which willbe vsible in red will be printed as it  is "
   ]
  },
  {
   "cell_type": "code",
   "execution_count": 5,
   "id": "3eb3a84a",
   "metadata": {},
   "outputs": [
    {
     "name": "stdout",
     "output_type": "stream",
     "text": [
      "10 20 30\n"
     ]
    }
   ],
   "source": [
    "print(10,20,30)"
   ]
  },
  {
   "cell_type": "code",
   "execution_count": 7,
   "id": "ec114646",
   "metadata": {},
   "outputs": [
    {
     "name": "stdout",
     "output_type": "stream",
     "text": [
      "10 20\n",
      "10 20\n",
      "10 and 20\n",
      "10 and 20\n",
      "10 and 20\n",
      "n1 and n2\n"
     ]
    }
   ],
   "source": [
    "n1 = 10\n",
    "n2 = 20\n",
    "print(n1,n2)\n",
    "print(10,20)\n",
    "print(n1,'and',n2)\n",
    "print('10 and 20')\n",
    "print(10,'and',20)\n",
    "print('n1 and n2')# this is what we dont want\n"
   ]
  },
  {
   "cell_type": "code",
   "execution_count": 10,
   "id": "84dadec3",
   "metadata": {},
   "outputs": [
    {
     "name": "stdout",
     "output_type": "stream",
     "text": [
      "the addition of 10 and 20 is 30\n"
     ]
    }
   ],
   "source": [
    "a= 10\n",
    "b=20\n",
    "c=a+b\n",
    "#addition of 10 and 20 is 30\n",
    "print(\"the addition of\", a,'and',b,'is',c)"
   ]
  },
  {
   "cell_type": "code",
   "execution_count": 11,
   "id": "0b4e1578",
   "metadata": {},
   "outputs": [
    {
     "name": "stdout",
     "output_type": "stream",
     "text": [
      "My name is aishwarya Im from Austin and I am 25 years old\n"
     ]
    }
   ],
   "source": [
    "name = 'aishwarya'\n",
    "city = 'Austin'\n",
    "age = 25\n",
    "print('My name is',name,'Im from',city,'and I am',age,'years old')"
   ]
  },
  {
   "cell_type": "markdown",
   "id": "29a59aed",
   "metadata": {},
   "source": [
    "$Method - 2$\n",
    "** format"
   ]
  },
  {
   "cell_type": "code",
   "execution_count": 13,
   "id": "0fe1c39c",
   "metadata": {},
   "outputs": [
    {
     "name": "stdout",
     "output_type": "stream",
     "text": [
      "the addition of 10 and 102 is 112\n"
     ]
    }
   ],
   "source": [
    "num1=10\n",
    "num2=102\n",
    "num3 = num1 + num2\n",
    "print('the addition of {} and {} is {}'.format(num1,num2,num3))\n"
   ]
  },
  {
   "cell_type": "code",
   "execution_count": 14,
   "id": "87537225",
   "metadata": {},
   "outputs": [
    {
     "name": "stdout",
     "output_type": "stream",
     "text": [
      "My name is aishwarya Im from Austin and I am 25 years old\n",
      "My name is aishwarya, I am from Austin, I am 25 years old\n"
     ]
    }
   ],
   "source": [
    "name = 'aishwarya'\n",
    "city = 'Austin'\n",
    "age = 25\n",
    "print('My name is',name,'Im from',city,'and I am',age,'years old')\n",
    "print('My name is {}, I am from {}, I am {} years old'.format(name,city,age))\n"
   ]
  },
  {
   "cell_type": "markdown",
   "id": "d8a53e37",
   "metadata": {},
   "source": [
    "$Method-3$\n",
    "\n",
    "**f-string method**"
   ]
  },
  {
   "cell_type": "code",
   "execution_count": 15,
   "id": "dde92fe7",
   "metadata": {},
   "outputs": [
    {
     "name": "stdout",
     "output_type": "stream",
     "text": [
      "My name is aishwarya, I am from Austin, I am 25 years old\n"
     ]
    }
   ],
   "source": [
    "print(f'My name is {name}, I am from {city}, I am {age} years old')"
   ]
  },
  {
   "cell_type": "code",
   "execution_count": null,
   "id": "46713faa",
   "metadata": {},
   "outputs": [],
   "source": [
    "$End Operator$"
   ]
  },
  {
   "cell_type": "code",
   "execution_count": 16,
   "id": "8ecf3523",
   "metadata": {},
   "outputs": [
    {
     "name": "stdout",
     "output_type": "stream",
     "text": [
      "hai\n",
      "hello\n",
      "hai---->hello\n"
     ]
    }
   ],
   "source": [
    "print('hai')\n",
    "print('hello')\n",
    "#hai hello\n",
    "print('hai',end='---->')\n",
    "print('hello')"
   ]
  },
  {
   "cell_type": "code",
   "execution_count": 18,
   "id": "550108d5",
   "metadata": {},
   "outputs": [
    {
     "name": "stdout",
     "output_type": "stream",
     "text": [
      "1 2 3\n",
      "hai---->hello\n",
      "1 aishu 2 aishu 3\n"
     ]
    }
   ],
   "source": [
    "print('1',end=' ')\n",
    "print('2',end=' ')\n",
    "print('3')\n",
    "#1 2 3 \n",
    "print('hai',end='---->')\n",
    "print('hello')\n",
    "#whatever is in red color inside the double quotes will be printed\n",
    "print('1',end=' aishu ')\n",
    "print('2',end=' aishu ')\n",
    "print('3')"
   ]
  },
  {
   "cell_type": "code",
   "execution_count": 19,
   "id": "b44e575d",
   "metadata": {},
   "outputs": [
    {
     "name": "stdout",
     "output_type": "stream",
     "text": [
      "Aishwarya is Learning python Henge!!!\n"
     ]
    }
   ],
   "source": [
    "print('Aishwarya',end=' is ')\n",
    "print('Learning',end=' python ')\n",
    "print('Henge!!!')"
   ]
  },
  {
   "cell_type": "markdown",
   "id": "4540a67b",
   "metadata": {},
   "source": [
    "$Seperator$ -------> $sep$"
   ]
  },
  {
   "cell_type": "code",
   "execution_count": 21,
   "id": "d84129c3",
   "metadata": {},
   "outputs": [
    {
     "name": "stdout",
     "output_type": "stream",
     "text": [
      "aish and apple\n"
     ]
    }
   ],
   "source": [
    "print('aish',\"and\",\"apple\")"
   ]
  },
  {
   "cell_type": "code",
   "execution_count": 23,
   "id": "2dac442e",
   "metadata": {},
   "outputs": [
    {
     "name": "stdout",
     "output_type": "stream",
     "text": [
      "aish and apple\n"
     ]
    }
   ],
   "source": [
    "print('aish','apple',sep=' and ')"
   ]
  },
  {
   "cell_type": "code",
   "execution_count": 24,
   "id": "cd4cd3b8",
   "metadata": {},
   "outputs": [
    {
     "name": "stdout",
     "output_type": "stream",
     "text": [
      "1---> 2---> 3---> 4---> 5---> 6\n"
     ]
    }
   ],
   "source": [
    "print('1','2','3','4','5','6',sep='---> ')"
   ]
  },
  {
   "cell_type": "code",
   "execution_count": null,
   "id": "e88189cf",
   "metadata": {},
   "outputs": [],
   "source": [
    "- format\n",
    "- fstring\n",
    "- end operator\n",
    "- seperator"
   ]
  }
 ],
 "metadata": {
  "kernelspec": {
   "display_name": "Python 3 (ipykernel)",
   "language": "python",
   "name": "python3"
  },
  "language_info": {
   "codemirror_mode": {
    "name": "ipython",
    "version": 3
   },
   "file_extension": ".py",
   "mimetype": "text/x-python",
   "name": "python",
   "nbconvert_exporter": "python",
   "pygments_lexer": "ipython3",
   "version": "3.11.5"
  }
 },
 "nbformat": 4,
 "nbformat_minor": 5
}
