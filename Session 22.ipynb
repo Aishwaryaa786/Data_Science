{
 "cells": [
  {
   "cell_type": "code",
   "execution_count": 1,
   "id": "75d9abb3",
   "metadata": {},
   "outputs": [
    {
     "data": {
      "text/plain": [
       "'b'"
      ]
     },
     "execution_count": 1,
     "metadata": {},
     "output_type": "execute_result"
    }
   ],
   "source": [
    "list1=[1,2,3,['a','b','c']]\n",
    "o1=list1[3]\n",
    "o1[1]"
   ]
  },
  {
   "cell_type": "code",
   "execution_count": 2,
   "id": "f08cff08",
   "metadata": {},
   "outputs": [
    {
     "data": {
      "text/plain": [
       "'b'"
      ]
     },
     "execution_count": 2,
     "metadata": {},
     "output_type": "execute_result"
    }
   ],
   "source": [
    "list1[3][1]"
   ]
  },
  {
   "cell_type": "code",
   "execution_count": 3,
   "id": "64879a65",
   "metadata": {},
   "outputs": [
    {
     "data": {
      "text/plain": [
       "1"
      ]
     },
     "execution_count": 3,
     "metadata": {},
     "output_type": "execute_result"
    }
   ],
   "source": [
    "list2=[['Apple','Banana']]\n",
    "len(list2)"
   ]
  },
  {
   "cell_type": "code",
   "execution_count": 6,
   "id": "50d81815",
   "metadata": {},
   "outputs": [
    {
     "name": "stdout",
     "output_type": "stream",
     "text": [
      "Apple\n",
      "Banana\n"
     ]
    }
   ],
   "source": [
    "print(list2[0][0])\n",
    "print(list2[0][1])"
   ]
  },
  {
   "cell_type": "code",
   "execution_count": 8,
   "id": "38d363b7",
   "metadata": {},
   "outputs": [
    {
     "data": {
      "text/plain": [
       "20"
      ]
     },
     "execution_count": 8,
     "metadata": {},
     "output_type": "execute_result"
    }
   ],
   "source": [
    "list3=['a','b',[1,20]]\n",
    "list3[2][1]"
   ]
  },
  {
   "cell_type": "code",
   "execution_count": 13,
   "id": "e156e2c5",
   "metadata": {},
   "outputs": [
    {
     "data": {
      "text/plain": [
       "20"
      ]
     },
     "execution_count": 13,
     "metadata": {},
     "output_type": "execute_result"
    }
   ],
   "source": [
    "list4=['hyd',['A','B',[1,20]]]\n",
    "list4[1][2][1]"
   ]
  },
  {
   "cell_type": "code",
   "execution_count": 14,
   "id": "cd80402b",
   "metadata": {},
   "outputs": [
    {
     "data": {
      "text/plain": [
       "'bus'"
      ]
     },
     "execution_count": 14,
     "metadata": {},
     "output_type": "execute_result"
    }
   ],
   "source": [
    "list6=[[['bus']]]\n",
    "list6[0][0][0]"
   ]
  },
  {
   "cell_type": "code",
   "execution_count": 18,
   "id": "2328083d",
   "metadata": {},
   "outputs": [
    {
     "data": {
      "text/plain": [
       "'Apple'"
      ]
     },
     "execution_count": 18,
     "metadata": {},
     "output_type": "execute_result"
    }
   ],
   "source": [
    "list7=[[[[[[[['cherry',['Apple']]]]]]]]]\n",
    "list7[0][0][0][0][0][0][0][1][0]"
   ]
  },
  {
   "cell_type": "code",
   "execution_count": 24,
   "id": "76f4e490",
   "metadata": {},
   "outputs": [
    {
     "name": "stdout",
     "output_type": "stream",
     "text": [
      "Mumbai\n",
      "Bhopal\n",
      "Chennai\n"
     ]
    }
   ],
   "source": [
    "l1=['Hyd','Mumbai','Bhopal','Chennai']\n",
    "#print the elements which are having len of charcaters >5\n",
    "#idea:Iterate through list\n",
    "#print each element \n",
    "#apply the condition \n",
    "#if the condition is staisfied then print the out put \n",
    "\n",
    "for i in l1:\n",
    "#     print(i) --- here we are printing all the cities hence we will put condition to i itself\n",
    "    if len(i)>5:\n",
    "        print(i)\n"
   ]
  },
  {
   "cell_type": "code",
   "execution_count": 25,
   "id": "92c0e7e9",
   "metadata": {},
   "outputs": [
    {
     "data": {
      "text/plain": [
       "['__add__',\n",
       " '__class__',\n",
       " '__contains__',\n",
       " '__delattr__',\n",
       " '__dir__',\n",
       " '__doc__',\n",
       " '__eq__',\n",
       " '__format__',\n",
       " '__ge__',\n",
       " '__getattribute__',\n",
       " '__getitem__',\n",
       " '__getnewargs__',\n",
       " '__gt__',\n",
       " '__hash__',\n",
       " '__init__',\n",
       " '__init_subclass__',\n",
       " '__iter__',\n",
       " '__le__',\n",
       " '__len__',\n",
       " '__lt__',\n",
       " '__mod__',\n",
       " '__mul__',\n",
       " '__ne__',\n",
       " '__new__',\n",
       " '__reduce__',\n",
       " '__reduce_ex__',\n",
       " '__repr__',\n",
       " '__rmod__',\n",
       " '__rmul__',\n",
       " '__setattr__',\n",
       " '__sizeof__',\n",
       " '__str__',\n",
       " '__subclasshook__',\n",
       " 'capitalize',\n",
       " 'casefold',\n",
       " 'center',\n",
       " 'count',\n",
       " 'encode',\n",
       " 'endswith',\n",
       " 'expandtabs',\n",
       " 'find',\n",
       " 'format',\n",
       " 'format_map',\n",
       " 'index',\n",
       " 'isalnum',\n",
       " 'isalpha',\n",
       " 'isascii',\n",
       " 'isdecimal',\n",
       " 'isdigit',\n",
       " 'isidentifier',\n",
       " 'islower',\n",
       " 'isnumeric',\n",
       " 'isprintable',\n",
       " 'isspace',\n",
       " 'istitle',\n",
       " 'isupper',\n",
       " 'join',\n",
       " 'ljust',\n",
       " 'lower',\n",
       " 'lstrip',\n",
       " 'maketrans',\n",
       " 'partition',\n",
       " 'removeprefix',\n",
       " 'removesuffix',\n",
       " 'replace',\n",
       " 'rfind',\n",
       " 'rindex',\n",
       " 'rjust',\n",
       " 'rpartition',\n",
       " 'rsplit',\n",
       " 'rstrip',\n",
       " 'split',\n",
       " 'splitlines',\n",
       " 'startswith',\n",
       " 'strip',\n",
       " 'swapcase',\n",
       " 'title',\n",
       " 'translate',\n",
       " 'upper',\n",
       " 'zfill']"
      ]
     },
     "execution_count": 25,
     "metadata": {},
     "output_type": "execute_result"
    }
   ],
   "source": [
    "l1=['Hyd','Mumbai','Bhopal','Chennai']\n",
    "dir('de')"
   ]
  },
  {
   "cell_type": "code",
   "execution_count": 28,
   "id": "7b61b2c4",
   "metadata": {},
   "outputs": [
    {
     "name": "stdout",
     "output_type": "stream",
     "text": [
      "HYD\n",
      "MUMBAI\n",
      "BHOPAL\n",
      "CHENNAI\n"
     ]
    }
   ],
   "source": [
    "#print upper cases\n",
    "for i in l1:\n",
    "    print(i.upper()) \n",
    "#     if len(i)>5:\n",
    "#         print(i)"
   ]
  },
  {
   "cell_type": "code",
   "execution_count": 29,
   "id": "0b7e4224",
   "metadata": {},
   "outputs": [
    {
     "name": "stdout",
     "output_type": "stream",
     "text": [
      "hyd\n",
      "mumbai\n",
      "bhopal\n",
      "chennai\n"
     ]
    }
   ],
   "source": [
    "#print lower cases\n",
    "for i in l1:\n",
    "    print(i.lower()) "
   ]
  },
  {
   "cell_type": "code",
   "execution_count": 32,
   "id": "32301d6d",
   "metadata": {},
   "outputs": [
    {
     "name": "stdout",
     "output_type": "stream",
     "text": [
      "Hyd\n",
      "Chennai\n"
     ]
    }
   ],
   "source": [
    "l1=['Hyd','Mum#bai','Bho#pal','Chennai']\n",
    "#retrive the elements which are not having hash #\n",
    "for i in l1:\n",
    "    if '#'  not in i:\n",
    "        print(i)\n"
   ]
  },
  {
   "cell_type": "code",
   "execution_count": 42,
   "id": "719457ca",
   "metadata": {},
   "outputs": [
    {
     "data": {
      "text/plain": [
       "('name', 'Hello')"
      ]
     },
     "execution_count": 42,
     "metadata": {},
     "output_type": "execute_result"
    }
   ],
   "source": [
    "str1='Hello my name is Python'\n",
    "#identify the max len word\n",
    "#min len of word\n",
    "#odea: apply split operation: lsit of words\n",
    "#max min \n",
    "max(str1.split()),min(str1.split())\n",
    "\n",
    "#this is waste its givening values based on ascii\n"
   ]
  },
  {
   "cell_type": "code",
   "execution_count": 43,
   "id": "91475997",
   "metadata": {},
   "outputs": [
    {
     "data": {
      "text/plain": [
       "('Python', 'my')"
      ]
     },
     "execution_count": 43,
     "metadata": {},
     "output_type": "execute_result"
    }
   ],
   "source": [
    "l1=str1.split()\n",
    "max(l1,key=len), min(l1,key=len)"
   ]
  },
  {
   "cell_type": "markdown",
   "id": "76329d08",
   "metadata": {},
   "source": [
    "$iterable$\n",
    "- if you are able to print char or elements using for loop\n",
    "- list, string, tuple,dic"
   ]
  },
  {
   "cell_type": "code",
   "execution_count": 53,
   "id": "af10b068",
   "metadata": {},
   "outputs": [
    {
     "name": "stdout",
     "output_type": "stream",
     "text": [
      "['Who', 'is', 'the', 'pm', 'of', 'India?']\n",
      "['What', 'is', 'the', 'capital', 'of', 'india?']\n",
      "['No.', 'of', 'states', 'in', 'india?']\n",
      "['Who', 'is', 'the', 'captain', 'of', 'ICT']\n"
     ]
    }
   ],
   "source": [
    "qns=['Who is the pm of India?',\n",
    "    'What is the capital of india?',\n",
    "    'No. of states in india?',\n",
    "     'Who is the captain of ICT']\n",
    "ans=['modi','delhi',29,'Rohit sharma']\n",
    "\n",
    "#you need to iterate through qns list\n",
    "#qn1='who is pm of india'\n",
    "#ans=input('Enter your answer')\n",
    "\n",
    "for i in qns:\n",
    "#     qns.split()\n",
    "    print(i.split())"
   ]
  },
  {
   "cell_type": "code",
   "execution_count": null,
   "id": "f18439b2",
   "metadata": {},
   "outputs": [],
   "source": []
  },
  {
   "cell_type": "code",
   "execution_count": null,
   "id": "9f71282c",
   "metadata": {},
   "outputs": [],
   "source": []
  }
 ],
 "metadata": {
  "kernelspec": {
   "display_name": "Python 3 (ipykernel)",
   "language": "python",
   "name": "python3"
  },
  "language_info": {
   "codemirror_mode": {
    "name": "ipython",
    "version": 3
   },
   "file_extension": ".py",
   "mimetype": "text/x-python",
   "name": "python",
   "nbconvert_exporter": "python",
   "pygments_lexer": "ipython3",
   "version": "3.9.13"
  }
 },
 "nbformat": 4,
 "nbformat_minor": 5
}
