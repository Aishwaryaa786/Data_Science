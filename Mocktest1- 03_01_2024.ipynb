{
 "cells": [
  {
   "cell_type": "code",
   "execution_count": 16,
   "id": "3ff2b52c",
   "metadata": {},
   "outputs": [
    {
     "data": {
      "text/plain": [
       "['2', '1', '3', '4', '8', '6', '7', '0']"
      ]
     },
     "execution_count": 16,
     "metadata": {},
     "output_type": "execute_result"
    }
   ],
   "source": [
    "# 1. Find the number of unique numbers in your phone number and store it in one list: \n",
    "num=[]\n",
    "nm1='2132486730'\n",
    "for i in nm1:\n",
    "    if i not in num:\n",
    "        num.append(i)\n",
    "num\n",
    "        \n",
    "     \n"
   ]
  },
  {
   "cell_type": "code",
   "execution_count": 14,
   "id": "d432d0fc",
   "metadata": {},
   "outputs": [
    {
     "data": {
      "text/plain": [
       "'dlrow olleH'"
      ]
     },
     "execution_count": 14,
     "metadata": {},
     "output_type": "execute_result"
    }
   ],
   "source": [
    "# 2. String=” Hello world” reverse the given string. \n",
    "sum2='Hello world'\n",
    "i1=sum2[::-1]\n",
    "i1"
   ]
  },
  {
   "cell_type": "code",
   "execution_count": 36,
   "id": "6bd90ccb",
   "metadata": {},
   "outputs": [
    {
     "name": "stdout",
     "output_type": "stream",
     "text": [
      "The total number of unique values in the string is 23\n"
     ]
    }
   ],
   "source": [
    "# 3. S=” ASjhdbgjhdbFYYJGJYTFJHGghdbhj%%6teyt894yt83yt87yt87ye”. find the unique  values in the given string. \n",
    "sim=''\n",
    "S=\"ASjhdbgjhdbFYYJGJYTFJHGghdbhj%%6teyt894yt83yt87yt87ye\"\n",
    "for i in S:\n",
    "#     print(i)\n",
    "    \n",
    "    if i not in sim:\n",
    "        sim=sim+i\n",
    "        \n",
    "m=len(sim)\n",
    "print('The total number of unique values in the string is',m )\n",
    "       \n",
    "        \n",
    "            \n"
   ]
  },
  {
   "cell_type": "code",
   "execution_count": 42,
   "id": "01fb2316",
   "metadata": {},
   "outputs": [
    {
     "name": "stdout",
     "output_type": "stream",
     "text": [
      "The prime number values are as follows [1, 3, 5, 7, 9, 11, 13, 15, 17, 19, 21, 23, 25, 27, 29, 31, 33, 35, 37, 39, 41, 43, 45, 47, 49, 51, 53, 55, 57, 59, 61, 63, 65, 67, 69, 71, 73, 75, 77, 79, 81, 83, 85, 87, 89, 91, 93, 95, 97, 99] "
     ]
    }
   ],
   "source": [
    "# 4. Get the prime numbers from 1 to 100 and store it in list \n",
    "prime=[]\n",
    "for i in range(0,101):\n",
    "    if i%2==1:\n",
    "        prime.append(i)\n",
    "print('The prime number values are as follows', prime,end = ' ') "
   ]
  },
  {
   "cell_type": "code",
   "execution_count": 20,
   "id": "54da3290",
   "metadata": {},
   "outputs": [
    {
     "name": "stdout",
     "output_type": "stream",
     "text": [
      "23\n"
     ]
    }
   ],
   "source": [
    "# 5. Create the file and append your name in the file \n",
    "path = r'C:\\Users\\aramaiah.ASUAD\\Naresh_IT\\MyDataScience\\Mock Tests\\Aishwarya.txt'\n",
    "file=open(path,mode='w')\n",
    "print(file.write('Aishwarya Ramaiah Kumar'))\n"
   ]
  },
  {
   "cell_type": "code",
   "execution_count": 44,
   "id": "1b8210f7",
   "metadata": {},
   "outputs": [
    {
     "name": "stdout",
     "output_type": "stream",
     "text": [
      "keys dict_keys(['Apple', 'Banana', 'Grapes', 'mosambi'])\n",
      "values dict_values([3, 4, 5, 45])\n"
     ]
    }
   ],
   "source": [
    "# 6. Create the dictionary and get the values and keys in thar dictionary \n",
    "dic={'Apple':3,\"Banana\":4,'Grapes':5,'mosambi':45}\n",
    "keys=dic.keys()\n",
    "values=dic.values()\n",
    "print('keys',keys)\n",
    "print('values',values)"
   ]
  },
  {
   "cell_type": "code",
   "execution_count": null,
   "id": "c7acab85",
   "metadata": {},
   "outputs": [],
   "source": [
    "# 7. Explain the list and tuple with one basic program. Explain the difference between  them. \n",
    "List is a collection of elements, it is mutable , it ois representaed by sqare brackets, it consists of homogenous elements\n",
    "a=[1,2,3,4,5,6,7,8]\n",
    "Tuple is a collection of elements, it is immuatble,it is represented by round brackets , it consists of heterogenious elements.\n",
    "a=(1,2,3,4,5,6,7,5)"
   ]
  },
  {
   "cell_type": "code",
   "execution_count": null,
   "id": "98caf043",
   "metadata": {},
   "outputs": [],
   "source": [
    "# 8. Difference between mutable and immutable. \n",
    "mutable: values can be changed during the span of exceution of the program\n",
    "immutable: values cannot be changed during the span of execution of the program.\n"
   ]
  },
  {
   "cell_type": "code",
   "execution_count": null,
   "id": "09542b95",
   "metadata": {},
   "outputs": [],
   "source": []
  },
  {
   "cell_type": "code",
   "execution_count": null,
   "id": "770bbac2",
   "metadata": {},
   "outputs": [],
   "source": []
  },
  {
   "cell_type": "code",
   "execution_count": null,
   "id": "7b3987e6",
   "metadata": {},
   "outputs": [],
   "source": []
  },
  {
   "cell_type": "code",
   "execution_count": null,
   "id": "b0d348f5",
   "metadata": {},
   "outputs": [],
   "source": []
  }
 ],
 "metadata": {
  "kernelspec": {
   "display_name": "Python 3 (ipykernel)",
   "language": "python",
   "name": "python3"
  },
  "language_info": {
   "codemirror_mode": {
    "name": "ipython",
    "version": 3
   },
   "file_extension": ".py",
   "mimetype": "text/x-python",
   "name": "python",
   "nbconvert_exporter": "python",
   "pygments_lexer": "ipython3",
   "version": "3.11.5"
  }
 },
 "nbformat": 4,
 "nbformat_minor": 5
}
