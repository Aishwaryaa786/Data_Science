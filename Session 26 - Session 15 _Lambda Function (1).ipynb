{
 "cells": [
  {
   "cell_type": "markdown",
   "id": "45bb9d22",
   "metadata": {},
   "source": [
    "- Lambda Functions is also a kind of functions representation \n",
    "- more efficient way"
   ]
  },
  {
   "cell_type": "code",
   "execution_count": 3,
   "id": "2499c1f8",
   "metadata": {},
   "outputs": [
    {
     "data": {
      "text/plain": [
       "20"
      ]
     },
     "execution_count": 3,
     "metadata": {},
     "output_type": "execute_result"
    }
   ],
   "source": [
    "def summ(num):\n",
    "    return(num+10)\n",
    "summ(10)\n",
    "#function name is summ the variable name is num, return output is num+10"
   ]
  },
  {
   "cell_type": "code",
   "execution_count": null,
   "id": "52892a22",
   "metadata": {},
   "outputs": [],
   "source": [
    "<function_name>=lambda <variable_name>:<return output>"
   ]
  },
  {
   "cell_type": "code",
   "execution_count": 6,
   "id": "3c44c6d4",
   "metadata": {},
   "outputs": [
    {
     "data": {
      "text/plain": [
       "30"
      ]
     },
     "execution_count": 6,
     "metadata": {},
     "output_type": "execute_result"
    }
   ],
   "source": [
    "summ =lambda num:num+10\n",
    "summ(20)"
   ]
  },
  {
   "cell_type": "code",
   "execution_count": 7,
   "id": "e9fabdc6",
   "metadata": {},
   "outputs": [
    {
     "data": {
      "text/plain": [
       "1000"
      ]
     },
     "execution_count": 7,
     "metadata": {},
     "output_type": "execute_result"
    }
   ],
   "source": [
    "def cube(num):\n",
    "    return(num*num*num)\n",
    "cube(10)"
   ]
  },
  {
   "cell_type": "code",
   "execution_count": 8,
   "id": "7e1de469",
   "metadata": {},
   "outputs": [
    {
     "data": {
      "text/plain": [
       "1000"
      ]
     },
     "execution_count": 8,
     "metadata": {},
     "output_type": "execute_result"
    }
   ],
   "source": [
    "cube= lambda num : num*num*num\n",
    "cube(10)"
   ]
  },
  {
   "cell_type": "markdown",
   "id": "4b369c3f",
   "metadata": {},
   "source": [
    "- Two arguments"
   ]
  },
  {
   "cell_type": "code",
   "execution_count": 11,
   "id": "1b29fe92",
   "metadata": {},
   "outputs": [
    {
     "data": {
      "text/plain": [
       "300"
      ]
     },
     "execution_count": 11,
     "metadata": {},
     "output_type": "execute_result"
    }
   ],
   "source": [
    "def add(n1,n2):\n",
    "    return(n1+n2)\n",
    "add(100,200)"
   ]
  },
  {
   "cell_type": "code",
   "execution_count": null,
   "id": "a0ecba41",
   "metadata": {},
   "outputs": [],
   "source": [
    "<function_name>=lambda <variable_name1>, <variable_name1>:<return output>"
   ]
  },
  {
   "cell_type": "code",
   "execution_count": 13,
   "id": "7eeed14b",
   "metadata": {},
   "outputs": [
    {
     "data": {
      "text/plain": [
       "300"
      ]
     },
     "execution_count": 13,
     "metadata": {},
     "output_type": "execute_result"
    }
   ],
   "source": [
    "add=lambda n1,n2 :n1+n2\n",
    "add(100,200)"
   ]
  },
  {
   "cell_type": "code",
   "execution_count": 16,
   "id": "fa714f08",
   "metadata": {},
   "outputs": [
    {
     "data": {
      "text/plain": [
       "200.0"
      ]
     },
     "execution_count": 16,
     "metadata": {},
     "output_type": "execute_result"
    }
   ],
   "source": [
    "def avg(n1,n2,n3):\n",
    "    return((n1+n2+n3)/3)\n",
    "avg(100,200,300)"
   ]
  },
  {
   "cell_type": "code",
   "execution_count": 18,
   "id": "621968ab",
   "metadata": {},
   "outputs": [
    {
     "data": {
      "text/plain": [
       "200.0"
      ]
     },
     "execution_count": 18,
     "metadata": {},
     "output_type": "execute_result"
    }
   ],
   "source": [
    "avg=lambda n1,n2,n3 :(n1+n2+n3)/3\n",
    "avg(100,200,300)"
   ]
  },
  {
   "cell_type": "markdown",
   "id": "6dbd5973",
   "metadata": {},
   "source": [
    "$if$-$else$"
   ]
  },
  {
   "cell_type": "code",
   "execution_count": 21,
   "id": "23c1d5f9",
   "metadata": {},
   "outputs": [
    {
     "data": {
      "text/plain": [
       "200"
      ]
     },
     "execution_count": 21,
     "metadata": {},
     "output_type": "execute_result"
    }
   ],
   "source": [
    "def Max(n1,n2):\n",
    "    \n",
    "    if n1>n2:\n",
    "        return(n1)\n",
    "    else:\n",
    "        return(n2)\n",
    "Max(100,200)\n",
    "    "
   ]
  },
  {
   "cell_type": "code",
   "execution_count": null,
   "id": "7e7050e4",
   "metadata": {},
   "outputs": [],
   "source": [
    "lambda <v1,v2,v3,v4.....>:<output>\n",
    "\n",
    "if - else we need to write in a single\n",
    "\n",
    "[<if_output><if_condition>else <else_output>]\n",
    "\n",
    "<function_name>=lambda <var1><var2>:<if_out><if_con> else <else_output>\n"
   ]
  },
  {
   "cell_type": "code",
   "execution_count": 22,
   "id": "9ab64b7a",
   "metadata": {},
   "outputs": [
    {
     "data": {
      "text/plain": [
       "200"
      ]
     },
     "execution_count": 22,
     "metadata": {},
     "output_type": "execute_result"
    }
   ],
   "source": [
    "Max =lambda n1,n2: n1 if n1>n2 else n2\n",
    "Max(100,200)"
   ]
  },
  {
   "cell_type": "code",
   "execution_count": 23,
   "id": "629253df",
   "metadata": {},
   "outputs": [
    {
     "data": {
      "text/plain": [
       "['Hyd', 'Mumbai', 'Chennai']"
      ]
     },
     "execution_count": 23,
     "metadata": {},
     "output_type": "execute_result"
    }
   ],
   "source": [
    "list1=['hyd','mumbai','chennai']\n",
    "#list2=['Hyd','Mumbai','Chennai']\n",
    "###############################################\n",
    "list2=[]\n",
    "for i in list1:\n",
    "    list2.append(i.capitalize())\n",
    "###############################################\n",
    "list2=[i.capitalize() for i in list1]\n",
    "list2\n",
    "###############################################\n",
    "list1=['hyd','mumbai','chennai']\n",
    "list(map(lambda i:i.capitalize(),list1))"
   ]
  },
  {
   "cell_type": "markdown",
   "id": "6180ebce",
   "metadata": {},
   "source": [
    "$map$"
   ]
  },
  {
   "cell_type": "code",
   "execution_count": null,
   "id": "f0fc288d",
   "metadata": {},
   "outputs": [],
   "source": [
    "map(lambda <varible>:<output>,<iterator>))"
   ]
  },
  {
   "cell_type": "code",
   "execution_count": null,
   "id": "9d7445d8",
   "metadata": {},
   "outputs": [],
   "source": [
    "for lists lambda function is going to be like this \n",
    "\n",
    "lambda <variable>:<output>,<iterator>"
   ]
  },
  {
   "cell_type": "code",
   "execution_count": 26,
   "id": "eb8ef8e0",
   "metadata": {},
   "outputs": [],
   "source": [
    "list1=['hyd','mumbai','chennai']\n",
    "list2=list(map(lambda i:i.capitalize(),list1)) #list map"
   ]
  },
  {
   "cell_type": "code",
   "execution_count": 29,
   "id": "4f16ad66",
   "metadata": {},
   "outputs": [
    {
     "data": {
      "text/plain": [
       "[1, 4, 9, 16]"
      ]
     },
     "execution_count": 29,
     "metadata": {},
     "output_type": "execute_result"
    }
   ],
   "source": [
    "l1=[1,2,3,4]\n",
    "# l2=[1,4,9,16]\n",
    "l2=list(map(lambda i:i*i,l1))\n",
    "l2"
   ]
  },
  {
   "cell_type": "code",
   "execution_count": 30,
   "id": "8af7cf8b",
   "metadata": {},
   "outputs": [
    {
     "data": {
      "text/plain": [
       "['hydera#bad', 'Mum#bai', 'Chenna#i']"
      ]
     },
     "execution_count": 30,
     "metadata": {},
     "output_type": "execute_result"
    }
   ],
   "source": [
    "l1=['hydera#bad','Mum#bai','Chenna#i','Blr','pune']\n",
    "#l2=['hydera#bad','Mum#bai','Chenna#i']\n",
    "l2=[]\n",
    "for i in l1:\n",
    "    if '#' in i:\n",
    "        l2.append(i)\n",
    "l2\n",
    "l2=[i for i in l1 if '#' in i]"
   ]
  },
  {
   "cell_type": "code",
   "execution_count": 31,
   "id": "01003f68",
   "metadata": {},
   "outputs": [
    {
     "data": {
      "text/plain": [
       "['hydera#bad', 'Mum#bai', 'Chenna#i']"
      ]
     },
     "execution_count": 31,
     "metadata": {},
     "output_type": "execute_result"
    }
   ],
   "source": [
    "l2=[i for i in l1 if '#' in i]\n",
    "l2"
   ]
  },
  {
   "cell_type": "markdown",
   "id": "05000bfc",
   "metadata": {},
   "source": [
    "$filter$"
   ]
  },
  {
   "cell_type": "code",
   "execution_count": null,
   "id": "f95e9f44",
   "metadata": {},
   "outputs": [],
   "source": [
    "map means map the input values to output\n",
    "                 i                   i*i\n",
    "                 i                   i.capitalize()\n",
    "                 i                   '#' in i (T/F)"
   ]
  },
  {
   "cell_type": "code",
   "execution_count": null,
   "id": "15c24177",
   "metadata": {},
   "outputs": [],
   "source": [
    "map will give just true or false, or if there is direct formula or direct output it will give the result\n",
    "while filter will give the desired output"
   ]
  },
  {
   "cell_type": "code",
   "execution_count": null,
   "id": "9e7f10ba",
   "metadata": {},
   "outputs": [],
   "source": [
    "l2=[i for i in l1 if '#' in i]"
   ]
  }
 ],
 "metadata": {
  "kernelspec": {
   "display_name": "Python 3 (ipykernel)",
   "language": "python",
   "name": "python3"
  },
  "language_info": {
   "codemirror_mode": {
    "name": "ipython",
    "version": 3
   },
   "file_extension": ".py",
   "mimetype": "text/x-python",
   "name": "python",
   "nbconvert_exporter": "python",
   "pygments_lexer": "ipython3",
   "version": "3.9.13"
  }
 },
 "nbformat": 4,
 "nbformat_minor": 5
}
