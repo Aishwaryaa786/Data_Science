{
 "cells": [
  {
   "cell_type": "code",
   "execution_count": null,
   "id": "f46d9cd3",
   "metadata": {},
   "outputs": [],
   "source": [
    "#Functions:\n",
    "# re-use the same code\n",
    "# 20 ppl are hvaing bday\n",
    "# omkar hpy bday\n",
    "# suresh hapy bday\n"
   ]
  },
  {
   "cell_type": "code",
   "execution_count": 1,
   "id": "9d629137",
   "metadata": {},
   "outputs": [
    {
     "name": "stdout",
     "output_type": "stream",
     "text": [
      "enter the number 1:85\n",
      "enter the number 2:69\n",
      "154\n"
     ]
    }
   ],
   "source": [
    "num1 = eval(input(\"enter the number 1:\"))\n",
    "num2 = eval(input(\"enter the number 2:\"))\n",
    "print(num1+num2)"
   ]
  },
  {
   "cell_type": "code",
   "execution_count": null,
   "id": "09003245",
   "metadata": {},
   "outputs": [],
   "source": [
    "def <function_name>():\n",
    "    #write your code"
   ]
  },
  {
   "cell_type": "code",
   "execution_count": 2,
   "id": "8461140c",
   "metadata": {},
   "outputs": [
    {
     "name": "stdout",
     "output_type": "stream",
     "text": [
      "enter the number 1:565\n",
      "enter the number 2:565\n",
      "1130\n"
     ]
    }
   ],
   "source": [
    "def addition():\n",
    "    num1 = eval(input(\"enter the number 1:\"))\n",
    "    num2 = eval(input(\"enter the number 2:\"))\n",
    "    print(num1+num2)\n",
    "    \n",
    "addition()"
   ]
  },
  {
   "cell_type": "markdown",
   "id": "bf6a9096",
   "metadata": {},
   "source": [
    "- defining function will not give the error \n",
    "- you will identify the error when you call the function only\n",
    "- syntax error only will get, when define the function call\n"
   ]
  },
  {
   "cell_type": "code",
   "execution_count": 5,
   "id": "9b966112",
   "metadata": {},
   "outputs": [
    {
     "name": "stdout",
     "output_type": "stream",
     "text": [
      "Enter the num1:5\n",
      "Enter the num2:5\n",
      "Enter the num3:5\n",
      "the average of the 5,5 and 5 is 5.0\n"
     ]
    }
   ],
   "source": [
    "#wap ask the user enter three numbers\n",
    "#fnd the average\n",
    "# implement the function call\n",
    "def average():\n",
    "\n",
    "    n1=eval(input('Enter the num1:'))\n",
    "    n2=eval(input('Enter the num2:'))\n",
    "    n3=eval(input('Enter the num3:'))\n",
    "    avg = (n1+n2+n3)/3 #avg = round((n1+n2+n3)/3,2)\n",
    "    out=round(avg,2)\n",
    "    print(f\"the average of the {n1},{n2} and {n3} is {out}\")\n",
    "average()\n",
    "\n"
   ]
  },
  {
   "cell_type": "code",
   "execution_count": 7,
   "id": "6ec8283b",
   "metadata": {},
   "outputs": [
    {
     "name": "stdout",
     "output_type": "stream",
     "text": [
      "Enter the bill:85000\n",
      "Enter the tip percentage :56\n",
      "The total bill is 132600.0 for the tip percent 56\n"
     ]
    }
   ],
   "source": [
    "#wap ask the user enter bill amount\n",
    "# ask the user enter tip percentage\n",
    "#calculate total bill\n",
    "#implement the function \n",
    "def totalbill():\n",
    "    bill = eval(input(\"Enter the bill:\"))\n",
    "    tip =eval(input(\"Enter the tip percentage :\"))\n",
    "    tip_percent =(bill*tip)/100\n",
    "    total_bill=bill+tip_percent\n",
    "    print(f\"The total bill is {total_bill} for the tip percent {tip}\")\n",
    "\n",
    "totalbill()"
   ]
  },
  {
   "cell_type": "code",
   "execution_count": 8,
   "id": "7e32ef0d",
   "metadata": {},
   "outputs": [
    {
     "ename": "TypeError",
     "evalue": "Random.randint() missing 2 required positional arguments: 'a' and 'b'",
     "output_type": "error",
     "traceback": [
      "\u001b[1;31m---------------------------------------------------------------------------\u001b[0m",
      "\u001b[1;31mTypeError\u001b[0m                                 Traceback (most recent call last)",
      "Cell \u001b[1;32mIn[8], line 2\u001b[0m\n\u001b[0;32m      1\u001b[0m \u001b[38;5;28;01mimport\u001b[39;00m \u001b[38;5;21;01mrandom\u001b[39;00m\n\u001b[1;32m----> 2\u001b[0m random\u001b[38;5;241m.\u001b[39mrandint()\n",
      "\u001b[1;31mTypeError\u001b[0m: Random.randint() missing 2 required positional arguments: 'a' and 'b'"
     ]
    }
   ],
   "source": [
    "import random\n",
    "random.randint()"
   ]
  },
  {
   "cell_type": "markdown",
   "id": "feaec7d9",
   "metadata": {},
   "source": [
    "- Functions and Methods both are same"
   ]
  },
  {
   "cell_type": "code",
   "execution_count": 9,
   "id": "3db608d3",
   "metadata": {},
   "outputs": [
    {
     "name": "stdout",
     "output_type": "stream",
     "text": [
      "hello\n",
      "1\n",
      "hello\n",
      "enter the number 1:45\n",
      "enter the number 2:63\n",
      "108\n",
      "bye\n"
     ]
    }
   ],
   "source": [
    "print(\"hello\")\n",
    "print(1)\n",
    "def addition1():\n",
    "    num1 = eval(input(\"enter the number 1:\"))\n",
    "    num2 = eval(input(\"enter the number 2:\"))\n",
    "    print(num1+num2)\n",
    "print(\"hello\")    \n",
    "addition1()\n",
    "print(\"bye\")"
   ]
  },
  {
   "cell_type": "code",
   "execution_count": 10,
   "id": "6c4db089",
   "metadata": {},
   "outputs": [
    {
     "name": "stdout",
     "output_type": "stream",
     "text": [
      "enter the number 1:58\n",
      "enter the number 2:52\n",
      "110\n"
     ]
    }
   ],
   "source": [
    "def addition56():\n",
    "    try:\n",
    "        \n",
    "        num1 = eval(input(\"enter the number 1:\"))\n",
    "        num2 = eval(input(\"enter the number 2:\"))\n",
    "        print(num1+num2)\n",
    "    except Exception as e:\n",
    "        print(e)\n",
    "    \n",
    "addition56()"
   ]
  },
  {
   "cell_type": "code",
   "execution_count": null,
   "id": "1bc77906",
   "metadata": {},
   "outputs": [],
   "source": [
    "#Basic codes Assignment : 3 days"
   ]
  }
 ],
 "metadata": {
  "kernelspec": {
   "display_name": "Python 3 (ipykernel)",
   "language": "python",
   "name": "python3"
  },
  "language_info": {
   "codemirror_mode": {
    "name": "ipython",
    "version": 3
   },
   "file_extension": ".py",
   "mimetype": "text/x-python",
   "name": "python",
   "nbconvert_exporter": "python",
   "pygments_lexer": "ipython3",
   "version": "3.11.5"
  }
 },
 "nbformat": 4,
 "nbformat_minor": 5
}
