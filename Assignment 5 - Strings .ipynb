{
 "cells": [
  {
   "cell_type": "code",
   "execution_count": null,
   "id": "073c5fb3",
   "metadata": {},
   "outputs": [],
   "source": [
    "# 1. Write a program that asks the user to enter a string. The program should then print the following: \n",
    "# (a) The total number of characters in the string \n",
    "# (b) The string repeated 10 times \n",
    "# (c) The first character of the string (remember that string indices start at 0)\n",
    "# (d) The first three characters of the string \n",
    "# (e) The last three characters of the string \n",
    "# (f) The string backwards \n",
    "# (g) The seventh character of the string if the string is long enough and a message otherwise \n",
    "# (h) The string with its first and last characters removed\n",
    "#  (i) The string in all caps\n",
    "#  (j) The string with every a replaced with an e\n"
   ]
  },
  {
   "cell_type": "code",
   "execution_count": 62,
   "id": "20359edd",
   "metadata": {},
   "outputs": [
    {
     "name": "stdout",
     "output_type": "stream",
     "text": [
      "Enter a String: \n",
      "Aishwarya\n",
      "a) The total number of Charaters in a String is \n",
      " 9\n",
      "b) The string is printed below 10 times \n",
      "\n",
      "Aishwarya\n",
      "Aishwarya\n",
      "Aishwarya\n",
      "Aishwarya\n",
      "Aishwarya\n",
      "Aishwarya\n",
      "Aishwarya\n",
      "Aishwarya\n",
      "Aishwarya\n",
      "Aishwarya\n",
      "(c) The first character of the string \n",
      " A\n",
      "(d) The first three characters of the string \n",
      "  A i s\n",
      "(e) The last three characters of the string \n",
      " a y r\n",
      "(f) The string backwards :\n",
      "\n",
      "\n",
      " a \n",
      " y \n",
      " r \n",
      " a \n",
      " w \n",
      " h \n",
      " s \n",
      " i \n",
      " A (g) The seventh character of the string if the string is long enough and a message otherwise \n",
      "\n",
      " The seventh charcater of the String is \n",
      " a\n",
      "(h) The string with its first and last characters removed: \n",
      "\n",
      "i s h w a r y (i) The string in all caps \n",
      " AISHWARYA\n",
      "(j) The string with every\" a\" replaced with an \"e\" \n",
      " Aishwerye\n"
     ]
    }
   ],
   "source": [
    "str1=input(\"Enter a String: \\n\")\n",
    "a=print('a) The total number of Charaters in a String is \\n',len(str1))\n",
    "print('b) The string is printed below 10 times \\n')\n",
    "for i in range(1,11):\n",
    "    print(str1)\n",
    "print('(c) The first character of the string \\n',str1[0])\n",
    "print('(d) The first three characters of the string \\n ',str1[0],str1[1],str1[2])  \n",
    "print('(e) The last three characters of the string \\n',str1[-1],str1[-2],str1[-3])\n",
    "print('(f) The string backwards :\\n')\n",
    "for i in reversed(str1):\n",
    "    print(\"\\n\",i,end=' ')\n",
    "print('(g) The seventh character of the string if the string is long enough and a message otherwise \\n')\n",
    "if len(str1)>7:\n",
    "    print(\" The seventh charcater of the String is \\n\",str1[8])\n",
    "else:\n",
    "    print('The string is very small to return the value \\n')\n",
    "print('(h) The string with its first and last characters removed: \\n')\n",
    "for i in range(1,len(str1)-1):\n",
    "    print(str1[i],end=' ')\n",
    "    \n",
    "print('(i) The string in all caps \\n',str1.upper())\n",
    "print('(j) The string with every\" a\" replaced with an \"e\" \\n',str1.replace('a','e'))"
   ]
  },
  {
   "cell_type": "code",
   "execution_count": null,
   "id": "166e2989",
   "metadata": {},
   "outputs": [],
   "source": [
    "# 2. A simple way to estimate the number of words in a string is to \n",
    "# count the number of spaces in the string.\n",
    "# Write a program that asks the user for a string and returns an estimate of how many words are in the string.\n",
    "# Tip: You need to count the number of words using spaces\n"
   ]
  },
  {
   "cell_type": "code",
   "execution_count": 130,
   "id": "853e3b9d",
   "metadata": {},
   "outputs": [
    {
     "name": "stdout",
     "output_type": "stream",
     "text": [
      "Enter the string : HI MY NAME IS VIDYA\n",
      "The number of words 5\n"
     ]
    }
   ],
   "source": [
    "count =1\n",
    "str2=input('Enter the string : ')\n",
    "for i in str2:\n",
    "    if i == ' ':\n",
    "        count+=1\n",
    "print('The number of words',count)\n",
    "\n"
   ]
  },
  {
   "cell_type": "code",
   "execution_count": null,
   "id": "be9c308e",
   "metadata": {},
   "outputs": [],
   "source": [
    "# 3.Write a program that asks the user to enter\n",
    "# a word and prints out whether that word contains any\n",
    "# vowels.\n"
   ]
  },
  {
   "cell_type": "code",
   "execution_count": 113,
   "id": "d833cf2f",
   "metadata": {},
   "outputs": [
    {
     "name": "stdout",
     "output_type": "stream",
     "text": [
      "Enter the String:aishwraya\n",
      " vowels  are a\n",
      " vowels  are i\n",
      "The letters which are not vowels are s\n",
      "The letters which are not vowels are h\n",
      "The letters which are not vowels are w\n",
      "The letters which are not vowels are r\n",
      " vowels  are a\n",
      "The letters which are not vowels are y\n",
      " vowels  are a\n"
     ]
    }
   ],
   "source": [
    "str3=input('Enter the String:')\n",
    "for i in str3:\n",
    "    if i in ('a','e','i','o','u'):\n",
    "        print(' vowels  are',i)\n",
    "    else:\n",
    "        print('The letters which are not vowels are',i)"
   ]
  },
  {
   "cell_type": "code",
   "execution_count": 116,
   "id": "b6e2717a",
   "metadata": {},
   "outputs": [
    {
     "name": "stdout",
     "output_type": "stream",
     "text": [
      "Enter the String:we are herew\n",
      "The number of ovwels are 2\n"
     ]
    }
   ],
   "source": [
    "# 4. Improvise above code by providing unique vowels\n",
    "# str4=input('Enter the String:')\n",
    "# for i in str4:\n",
    "#     if i in ('a','e','i','o','u'):\n",
    "#         print(' vowels  are',i)\n",
    "#     else:\n",
    "#         print('The letters which are not vowels are',i)\n",
    "        \n",
    "str4=input('Enter the String:')\n",
    "str44=\"\"\n",
    "p=len(str4)\n",
    "for i in str4:\n",
    "    if i in 'aeiou':\n",
    "        if i not in str44:\n",
    "            str44=str44+i\n",
    "       \n",
    "        \n",
    "print(f\"The number of ovwels are {len(str44)}\")"
   ]
  },
  {
   "cell_type": "code",
   "execution_count": 121,
   "id": "885a405c",
   "metadata": {},
   "outputs": [
    {
     "name": "stdout",
     "output_type": "stream",
     "text": [
      "Enter a String:Aishwarya\n",
      "A*shwarya!!!"
     ]
    }
   ],
   "source": [
    "# 5. Write a program that asks the user to enter a string.\n",
    "# The program should create a new string called new_string from the user’s \n",
    "# string such that the second character is changed to an asterisk and three \n",
    "# exclamation points are attached to the end of the string. Finally, print new_string. \n",
    "# Typical output is shown below: \n",
    "# Enter your string: Qbert \n",
    "# Output:  Q*ert!!!\n",
    "\n",
    "\n",
    "str5=input('Enter a String:')\n",
    "str55=''\n",
    "i1=str5.replace(str5[1],'*')\n",
    "print(i1,end='!!!')\n"
   ]
  },
  {
   "cell_type": "code",
   "execution_count": 124,
   "id": "7d33fda6",
   "metadata": {},
   "outputs": [
    {
     "name": "stdout",
     "output_type": "stream",
     "text": [
      "Enter a String:wsedrftg\n",
      "The given input is not a plaindrome\n"
     ]
    }
   ],
   "source": [
    "# 6. Write a program that asks the user to enter a word and determines whether the word \n",
    "# is a palindrome or not. A palindrome is a word that reads the same backwards as forwards\n",
    "\n",
    "str6=input('Enter a String:')\n",
    "p=str6[::-1]\n",
    "p\n",
    "if str6==p:\n",
    "    print('The given input is a palindrome')\n",
    "else:\n",
    "    print('The given input is not a plaindrome')\n"
   ]
  },
  {
   "cell_type": "code",
   "execution_count": null,
   "id": "b8b3a2fc",
   "metadata": {},
   "outputs": [],
   "source": [
    "# 7. At a certain school, student email addresses end with @student.college.edu, \n",
    "# while professor email addresses end with @prof.college.edu. Write a program that \n",
    "# first asks the user how many email addresses they will be entering, and then has the user \n",
    "# enter those addresses. After all the email addresses are entered, the program should print out a \n",
    "# message indicating either that all the addresses are student addresses or that there were some professor \n",
    "# addresses entered.\n",
    "\n",
    "student email addresses end with @student.college.edu\n",
    "professor email addresses end with @prof.college.edu\n",
    "\n",
    "\n"
   ]
  },
  {
   "cell_type": "code",
   "execution_count": 128,
   "id": "f03acdc9",
   "metadata": {},
   "outputs": [
    {
     "name": "stdout",
     "output_type": "stream",
     "text": [
      "Enter the String:HEY\n",
      "H H\n",
      "E E\n",
      "Y Y\n"
     ]
    }
   ],
   "source": [
    "# 8. Write a program that asks the user to enter a string, then prints out each letter\n",
    "# of the string doubled and on a separate line. For instance, \n",
    "# if the user entered HEY, \n",
    "# the output would be \n",
    "# HH \n",
    "# EE \n",
    "# YY\n",
    "\n",
    "str8=input('Enter the String:')\n",
    "for i in str8:\n",
    "    print(i,i)\n"
   ]
  },
  {
   "cell_type": "code",
   "execution_count": 117,
   "id": "07e1cb0b",
   "metadata": {},
   "outputs": [
    {
     "data": {
      "text/plain": [
       "['__add__',\n",
       " '__class__',\n",
       " '__contains__',\n",
       " '__delattr__',\n",
       " '__dir__',\n",
       " '__doc__',\n",
       " '__eq__',\n",
       " '__format__',\n",
       " '__ge__',\n",
       " '__getattribute__',\n",
       " '__getitem__',\n",
       " '__getnewargs__',\n",
       " '__gt__',\n",
       " '__hash__',\n",
       " '__init__',\n",
       " '__init_subclass__',\n",
       " '__iter__',\n",
       " '__le__',\n",
       " '__len__',\n",
       " '__lt__',\n",
       " '__mod__',\n",
       " '__mul__',\n",
       " '__ne__',\n",
       " '__new__',\n",
       " '__reduce__',\n",
       " '__reduce_ex__',\n",
       " '__repr__',\n",
       " '__rmod__',\n",
       " '__rmul__',\n",
       " '__setattr__',\n",
       " '__sizeof__',\n",
       " '__str__',\n",
       " '__subclasshook__',\n",
       " 'capitalize',\n",
       " 'casefold',\n",
       " 'center',\n",
       " 'count',\n",
       " 'encode',\n",
       " 'endswith',\n",
       " 'expandtabs',\n",
       " 'find',\n",
       " 'format',\n",
       " 'format_map',\n",
       " 'index',\n",
       " 'isalnum',\n",
       " 'isalpha',\n",
       " 'isascii',\n",
       " 'isdecimal',\n",
       " 'isdigit',\n",
       " 'isidentifier',\n",
       " 'islower',\n",
       " 'isnumeric',\n",
       " 'isprintable',\n",
       " 'isspace',\n",
       " 'istitle',\n",
       " 'isupper',\n",
       " 'join',\n",
       " 'ljust',\n",
       " 'lower',\n",
       " 'lstrip',\n",
       " 'maketrans',\n",
       " 'partition',\n",
       " 'removeprefix',\n",
       " 'removesuffix',\n",
       " 'replace',\n",
       " 'rfind',\n",
       " 'rindex',\n",
       " 'rjust',\n",
       " 'rpartition',\n",
       " 'rsplit',\n",
       " 'rstrip',\n",
       " 'split',\n",
       " 'splitlines',\n",
       " 'startswith',\n",
       " 'strip',\n",
       " 'swapcase',\n",
       " 'title',\n",
       " 'translate',\n",
       " 'upper',\n",
       " 'zfill']"
      ]
     },
     "execution_count": 117,
     "metadata": {},
     "output_type": "execute_result"
    }
   ],
   "source": [
    "dir('')"
   ]
  },
  {
   "cell_type": "code",
   "execution_count": 21,
   "id": "d34f8ba7",
   "metadata": {},
   "outputs": [
    {
     "name": "stdout",
     "output_type": "stream",
     "text": [
      "Enter the String:buffalo\n",
      "buffa\n",
      "lo\n"
     ]
    }
   ],
   "source": [
    "# 9.Write a program that asks the user to enter a word that contains the letter a.\n",
    "# The program should then print the following two lines: On the first line should be the part of the string up to \n",
    "# and including the the first a, and on the second line should be the rest of the string. \n",
    "# Sample output is shown below: \n",
    "# Enter a word: buffalo \n",
    "# buffa \n",
    "# lo\n",
    "str9=input('Enter the String:')\n",
    "m=str9.index('a')\n",
    "n=len(str9)\n",
    "\n",
    "print(str9[0:m+1])\n",
    "print(str9[m+1:n])"
   ]
  },
  {
   "cell_type": "code",
   "execution_count": 27,
   "id": "724cc593",
   "metadata": {},
   "outputs": [
    {
     "ename": "SyntaxError",
     "evalue": "invalid syntax (1140343756.py, line 6)",
     "output_type": "error",
     "traceback": [
      "\u001b[1;36m  File \u001b[1;32m\"C:\\Users\\rkais\\AppData\\Local\\Temp\\ipykernel_43780\\1140343756.py\"\u001b[1;36m, line \u001b[1;32m6\u001b[0m\n\u001b[1;33m    if i%2 not = 0:\u001b[0m\n\u001b[1;37m               ^\u001b[0m\n\u001b[1;31mSyntaxError\u001b[0m\u001b[1;31m:\u001b[0m invalid syntax\n"
     ]
    }
   ],
   "source": [
    "# 10. Write a program that asks the user to enter a word and then capitalizes every other letter of that word. \n",
    "# So if the user enters rhinoceros, \n",
    "# the program should print rHiNoCeRoS.\n",
    "str10=input('Enter a word: ')\n",
    "for i in(0,len(str10)-1):\n",
    "    if i%2 not = 0:\n",
    "        print(str10[i])\n",
    "    else:\n",
    "        print(str10[i].upper())"
   ]
  },
  {
   "cell_type": "code",
   "execution_count": null,
   "id": "decc255a",
   "metadata": {},
   "outputs": [],
   "source": [
    "# 11. Write a program that asks the user to enter two strings of the same length.\n",
    "# The program should then check to see if the strings are of the same length. \n",
    "# If they are not, the program should print an appropriate message and exit. If they are of the same length, \n",
    "# the program should alternate the characters of the two strings. For example, \n",
    "# if the user enters abcde and ABCDE \n",
    "# the program should print out AaBbCcDdEe.\n",
    "str111=input('Enter the string of certain length: ')\n",
    "str112=input('Enteer the string of similar length')\n",
    "if len(str111)==len(str112):\n",
    "    print(\"The length is similar hence the program continues:\")\n",
    "    \n",
    "else:\n",
    "    print(\"The length of the strings are different hence the program exits\")\n"
   ]
  },
  {
   "cell_type": "code",
   "execution_count": 11,
   "id": "6adc71e6",
   "metadata": {},
   "outputs": [
    {
     "name": "stdout",
     "output_type": "stream",
     "text": [
      "Enter the string: i am the happiest person in this world\n",
      "I Am The Happiest Person In This World\n"
     ]
    }
   ],
   "source": [
    "# 12. Write a program that asks the user to enter their name in lowercase and \n",
    "# then capitalizes the first letter of each word of their name.\n",
    "str12=input('Enter the string in lowercase: ')\n",
    "m=str12.title()\n",
    "print(m)\n"
   ]
  },
  {
   "cell_type": "code",
   "execution_count": null,
   "id": "023522fd",
   "metadata": {},
   "outputs": [],
   "source": [
    "# 13. The goal of this exercise is to see if you can mimic the behavior of the in \n",
    "# operator and the count and index methods using only variables, for loops, and if statements. \n",
    "# (a) Without using the in operator, write a program that asks the user for a string and a \n",
    "# letter and prints out whether or not the letter appears in the string. \n",
    "# (b) Without using the count method, write a program that asks the user for a string and\n",
    "# a letter and counts how many occurrences there are of the letter in the string. \n",
    "# (c) Without using the index method, write a program that asks the user for a string and\n",
    "# a letter and prints out the index of the first occurrence of the letter in the string. If the letter \n",
    "# is not in the string, the program should say so.\n"
   ]
  },
  {
   "cell_type": "code",
   "execution_count": 9,
   "id": "dd953f12",
   "metadata": {},
   "outputs": [
    {
     "name": "stdout",
     "output_type": "stream",
     "text": [
      "The second half of the address is @uct.ac.za\n"
     ]
    }
   ],
   "source": [
    "# 14. Finding a substring within a string\n",
    "\n",
    "# For example, if we were presented a series of lines formatted as follows:\n",
    "# From stephen.marquard@uct.ac.za Sat Jan 5 09:14:16 2008\n",
    "# and we wanted to pull out only the second half of the address (i.e., uct.ac.za)\n",
    "str14 = 'stephen.marquard@uct.ac.za Sat Jan 5 09:14:16 2008'\n",
    "m=str14.index('@')\n",
    "n=str14.index('za')\n",
    "print('The second half of the address is',str14[m:n+2])\n",
    "\n"
   ]
  },
  {
   "cell_type": "code",
   "execution_count": 6,
   "id": "2b3154f3",
   "metadata": {},
   "outputs": [
    {
     "name": "stdout",
     "output_type": "stream",
     "text": [
      "Enter the string: wuhn\n",
      "wuhning\n"
     ]
    }
   ],
   "source": [
    "# 15.Write a Python program to add 'ing' at the end of a given string (length should be at least 3). \n",
    "# If the given string already ends with 'ing' then add 'ly' instead. \n",
    "# If the string length of the given string is less than 3, leave it unchanged. \n",
    "# Go to the editor \n",
    "# Sample String : 'abc' \n",
    "# Expected Result : 'abcing' \n",
    "# Sample String : 'string' \n",
    "# Expected Result : 'stringly'\n",
    "\n",
    "str15=input(\"Enter the string: \")\n",
    "if len(str15)>3:\n",
    "    \n",
    "    m=str15.endswith('ing')\n",
    "    if m==True:\n",
    "        \n",
    "        print(str15 + 'ly')\n",
    "    else:\n",
    "        print(str15 + 'ing')\n",
    "else:\n",
    "    print('As the string is less than 3 we are returning the value', str15)\n"
   ]
  },
  {
   "cell_type": "code",
   "execution_count": 5,
   "id": "ee16bbce",
   "metadata": {},
   "outputs": [],
   "source": [
    "# 16.Take the following Python code that stores a string:‘\n",
    "         \n",
    "# string = 'X-DSPAM-Confidence: 0.8475'\n",
    "#       Extract the portion of the string after the colon character and then use the float function to   \n",
    "#     convert the extracted string into a floating point number.\n"
   ]
  },
  {
   "cell_type": "code",
   "execution_count": null,
   "id": "26a682c8",
   "metadata": {},
   "outputs": [],
   "source": []
  }
 ],
 "metadata": {
  "kernelspec": {
   "display_name": "Python 3 (ipykernel)",
   "language": "python",
   "name": "python3"
  },
  "language_info": {
   "codemirror_mode": {
    "name": "ipython",
    "version": 3
   },
   "file_extension": ".py",
   "mimetype": "text/x-python",
   "name": "python",
   "nbconvert_exporter": "python",
   "pygments_lexer": "ipython3",
   "version": "3.9.13"
  }
 },
 "nbformat": 4,
 "nbformat_minor": 5
}
