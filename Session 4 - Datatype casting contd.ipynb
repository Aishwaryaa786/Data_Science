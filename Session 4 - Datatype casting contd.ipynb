{
 "cells": [
  {
   "cell_type": "markdown",
   "id": "04026b07",
   "metadata": {},
   "source": [
    "# Type Casting\n",
    "- integer\n",
    "- float\n",
    "- string\n",
    "- boolean\n",
    "- complex\n",
    "- int to float, int to str, int to bool, int to complex\n",
    "- it is called type casting"
   ]
  },
  {
   "cell_type": "code",
   "execution_count": 1,
   "id": "b23220dd",
   "metadata": {},
   "outputs": [
    {
     "data": {
      "text/plain": [
       "int"
      ]
     },
     "execution_count": 1,
     "metadata": {},
     "output_type": "execute_result"
    }
   ],
   "source": [
    "number = 10\n",
    "type(number)"
   ]
  },
  {
   "cell_type": "code",
   "execution_count": 2,
   "id": "6443f971",
   "metadata": {},
   "outputs": [
    {
     "data": {
      "text/plain": [
       "(10+0j)"
      ]
     },
     "execution_count": 2,
     "metadata": {},
     "output_type": "execute_result"
    }
   ],
   "source": [
    "#int to float \n",
    "float(number)\n",
    "#int to string\n",
    "str(number)\n",
    "#int to bool\n",
    "bool(number)\n",
    "#int to complex\n",
    "complex(number)"
   ]
  },
  {
   "cell_type": "code",
   "execution_count": 3,
   "id": "aab2cc76",
   "metadata": {},
   "outputs": [
    {
     "data": {
      "text/plain": [
       "10.0"
      ]
     },
     "execution_count": 3,
     "metadata": {},
     "output_type": "execute_result"
    }
   ],
   "source": [
    "#int to float \n",
    "float(number)"
   ]
  },
  {
   "cell_type": "code",
   "execution_count": 4,
   "id": "aa5b3d88",
   "metadata": {},
   "outputs": [
    {
     "data": {
      "text/plain": [
       "'10'"
      ]
     },
     "execution_count": 4,
     "metadata": {},
     "output_type": "execute_result"
    }
   ],
   "source": [
    "#int to string\n",
    "str(number)"
   ]
  },
  {
   "cell_type": "code",
   "execution_count": 5,
   "id": "b3f06aa5",
   "metadata": {},
   "outputs": [
    {
     "data": {
      "text/plain": [
       "True"
      ]
     },
     "execution_count": 5,
     "metadata": {},
     "output_type": "execute_result"
    }
   ],
   "source": [
    "bool(number)\n",
    "#int to bool"
   ]
  },
  {
   "cell_type": "code",
   "execution_count": 6,
   "id": "23f2bec3",
   "metadata": {},
   "outputs": [
    {
     "data": {
      "text/plain": [
       "(10+0j)"
      ]
     },
     "execution_count": 6,
     "metadata": {},
     "output_type": "execute_result"
    }
   ],
   "source": [
    "#int to complex\n",
    "complex(number)"
   ]
  },
  {
   "cell_type": "code",
   "execution_count": 7,
   "id": "a721afa2",
   "metadata": {},
   "outputs": [
    {
     "name": "stdout",
     "output_type": "stream",
     "text": [
      "-10.0\n",
      "-10\n",
      "True\n",
      "(-10+0j)\n"
     ]
    }
   ],
   "source": [
    "print(float(-10))\n",
    "print(str(-10))\n",
    "print(bool(-10))\n",
    "print(complex(-10))\n"
   ]
  },
  {
   "cell_type": "code",
   "execution_count": 8,
   "id": "5d806125",
   "metadata": {},
   "outputs": [
    {
     "name": "stdout",
     "output_type": "stream",
     "text": [
      "False\n"
     ]
    }
   ],
   "source": [
    "print(bool(0))"
   ]
  },
  {
   "cell_type": "markdown",
   "id": "63edd4f4",
   "metadata": {},
   "source": [
    "- For zero value boolean conversion will give False \n",
    "- Remaining all are true"
   ]
  },
  {
   "cell_type": "code",
   "execution_count": 9,
   "id": "c79eb84c",
   "metadata": {},
   "outputs": [
    {
     "data": {
      "text/plain": [
       "((20+0j), (20+50j))"
      ]
     },
     "execution_count": 9,
     "metadata": {},
     "output_type": "execute_result"
    }
   ],
   "source": [
    "complex(20),complex(20,50)\n",
    "#take your cursor inside the bracket apply shift +tab at the same time"
   ]
  },
  {
   "cell_type": "code",
   "execution_count": 11,
   "id": "dea835f9",
   "metadata": {},
   "outputs": [
    {
     "ename": "TypeError",
     "evalue": "Random.randint() missing 2 required positional arguments: 'a' and 'b'",
     "output_type": "error",
     "traceback": [
      "\u001b[1;31m---------------------------------------------------------------------------\u001b[0m",
      "\u001b[1;31mTypeError\u001b[0m                                 Traceback (most recent call last)",
      "Cell \u001b[1;32mIn[11], line 2\u001b[0m\n\u001b[0;32m      1\u001b[0m \u001b[38;5;28;01mimport\u001b[39;00m \u001b[38;5;21;01mrandom\u001b[39;00m\n\u001b[1;32m----> 2\u001b[0m random\u001b[38;5;241m.\u001b[39mrandint()\n",
      "\u001b[1;31mTypeError\u001b[0m: Random.randint() missing 2 required positional arguments: 'a' and 'b'"
     ]
    }
   ],
   "source": [
    "import random\n",
    "random.randint()"
   ]
  },
  {
   "cell_type": "code",
   "execution_count": 12,
   "id": "39a1f432",
   "metadata": {},
   "outputs": [
    {
     "data": {
      "text/plain": [
       "0j"
      ]
     },
     "execution_count": 12,
     "metadata": {},
     "output_type": "execute_result"
    }
   ],
   "source": [
    "complex()"
   ]
  },
  {
   "cell_type": "code",
   "execution_count": null,
   "id": "cf3d3562",
   "metadata": {},
   "outputs": [],
   "source": [
    "#Float to other"
   ]
  },
  {
   "cell_type": "code",
   "execution_count": 13,
   "id": "29423027",
   "metadata": {},
   "outputs": [
    {
     "name": "stdout",
     "output_type": "stream",
     "text": [
      "10\n",
      "10.5\n",
      "True\n",
      "(10.5+0j)\n"
     ]
    }
   ],
   "source": [
    "print(int(10.5)) #10\n",
    "print(str(10.5) )#'10.5'\n",
    "print(bool(10.5) )#true\n",
    "print(complex(10.5)) #10.5+0j"
   ]
  },
  {
   "cell_type": "code",
   "execution_count": 14,
   "id": "43280dad",
   "metadata": {},
   "outputs": [
    {
     "ename": "ValueError",
     "evalue": "invalid literal for int() with base 10: 'python'",
     "output_type": "error",
     "traceback": [
      "\u001b[1;31m---------------------------------------------------------------------------\u001b[0m",
      "\u001b[1;31mValueError\u001b[0m                                Traceback (most recent call last)",
      "Cell \u001b[1;32mIn[14], line 2\u001b[0m\n\u001b[0;32m      1\u001b[0m \u001b[38;5;66;03m#String to other\u001b[39;00m\n\u001b[1;32m----> 2\u001b[0m \u001b[38;5;28mprint\u001b[39m(\u001b[38;5;28mint\u001b[39m(\u001b[38;5;124m'\u001b[39m\u001b[38;5;124mpython\u001b[39m\u001b[38;5;124m'\u001b[39m)) \u001b[38;5;66;03m#error\u001b[39;00m\n\u001b[0;32m      3\u001b[0m \u001b[38;5;28mprint\u001b[39m(\u001b[38;5;28mfloat\u001b[39m(\u001b[38;5;124m'\u001b[39m\u001b[38;5;124mpython\u001b[39m\u001b[38;5;124m'\u001b[39m) )\u001b[38;5;66;03m#'error'\u001b[39;00m\n\u001b[0;32m      4\u001b[0m \u001b[38;5;28mprint\u001b[39m(\u001b[38;5;28mbool\u001b[39m(\u001b[38;5;124m'\u001b[39m\u001b[38;5;124mpython\u001b[39m\u001b[38;5;124m'\u001b[39m) )\u001b[38;5;66;03m#true\u001b[39;00m\n",
      "\u001b[1;31mValueError\u001b[0m: invalid literal for int() with base 10: 'python'"
     ]
    }
   ],
   "source": [
    "#String to other\n",
    "print(int('python')) #error\n",
    "print(float('python') )#'error'\n",
    "print(bool('python') )#true\n",
    "print(complex('python')) #error"
   ]
  },
  {
   "cell_type": "code",
   "execution_count": 15,
   "id": "fa3e5566",
   "metadata": {},
   "outputs": [
    {
     "name": "stdout",
     "output_type": "stream",
     "text": [
      "10\n",
      "10.0\n",
      "True\n",
      "(10+0j)\n"
     ]
    }
   ],
   "source": [
    "#String to other\n",
    "print(int('10')) #error\n",
    "print(float('10') )#'error'\n",
    "print(bool('10') )#true\n",
    "print(complex('10')) #error"
   ]
  },
  {
   "cell_type": "code",
   "execution_count": null,
   "id": "ec4ece91",
   "metadata": {},
   "outputs": [],
   "source": [
    "- '10'=== can be converted to int to float but '10.5' cannot be converted to float [very imp integer question]\n",
    "float is the boss, integer conversion of float value having quotes "
   ]
  },
  {
   "cell_type": "markdown",
   "id": "53cd57a8",
   "metadata": {},
   "source": []
  },
  {
   "cell_type": "code",
   "execution_count": 1,
   "id": "970d5090",
   "metadata": {},
   "outputs": [
    {
     "data": {
      "text/plain": [
       "bool"
      ]
     },
     "execution_count": 1,
     "metadata": {},
     "output_type": "execute_result"
    }
   ],
   "source": [
    "num= True\n",
    "type(num)"
   ]
  },
  {
   "cell_type": "code",
   "execution_count": 2,
   "id": "927e4b18",
   "metadata": {},
   "outputs": [
    {
     "name": "stdout",
     "output_type": "stream",
     "text": [
      "1\n",
      "1.0\n",
      "True\n",
      "(1+0j)\n"
     ]
    }
   ],
   "source": [
    "#bool to other\n",
    "print(int(num)) \n",
    "print(float(num) )#'error'\n",
    "print(str(num) )#true\n",
    "print(complex(num)) #error"
   ]
  },
  {
   "cell_type": "code",
   "execution_count": 3,
   "id": "a030261a",
   "metadata": {},
   "outputs": [
    {
     "name": "stdout",
     "output_type": "stream",
     "text": [
      "1\n"
     ]
    }
   ],
   "source": [
    "#bool to other\n",
    "print(int(num)) "
   ]
  },
  {
   "cell_type": "code",
   "execution_count": 4,
   "id": "af67d8ab",
   "metadata": {},
   "outputs": [
    {
     "name": "stdout",
     "output_type": "stream",
     "text": [
      "1.0\n"
     ]
    }
   ],
   "source": [
    "print(float(num) )#'error"
   ]
  },
  {
   "cell_type": "code",
   "execution_count": 5,
   "id": "2f667da0",
   "metadata": {},
   "outputs": [
    {
     "name": "stdout",
     "output_type": "stream",
     "text": [
      "True\n"
     ]
    }
   ],
   "source": [
    "print(str(num) )#true"
   ]
  },
  {
   "cell_type": "code",
   "execution_count": 6,
   "id": "f229ba6a",
   "metadata": {},
   "outputs": [
    {
     "name": "stdout",
     "output_type": "stream",
     "text": [
      "(1+0j)\n"
     ]
    }
   ],
   "source": [
    "print(complex(num)) #error"
   ]
  },
  {
   "cell_type": "code",
   "execution_count": 7,
   "id": "f22d9551",
   "metadata": {},
   "outputs": [
    {
     "data": {
      "text/plain": [
       "bool"
      ]
     },
     "execution_count": 7,
     "metadata": {},
     "output_type": "execute_result"
    }
   ],
   "source": [
    "num= False\n",
    "type(num)"
   ]
  },
  {
   "cell_type": "code",
   "execution_count": 8,
   "id": "210c1d47",
   "metadata": {},
   "outputs": [
    {
     "name": "stdout",
     "output_type": "stream",
     "text": [
      "0\n"
     ]
    }
   ],
   "source": [
    "#bool to other\n",
    "print(int(num)) "
   ]
  },
  {
   "cell_type": "code",
   "execution_count": 9,
   "id": "ae9e8c3b",
   "metadata": {},
   "outputs": [
    {
     "name": "stdout",
     "output_type": "stream",
     "text": [
      "False\n"
     ]
    }
   ],
   "source": [
    "print(str(num) )#true"
   ]
  },
  {
   "cell_type": "code",
   "execution_count": 10,
   "id": "227be0c6",
   "metadata": {},
   "outputs": [
    {
     "name": "stdout",
     "output_type": "stream",
     "text": [
      "0j\n"
     ]
    }
   ],
   "source": [
    "print(complex(num)) #error"
   ]
  },
  {
   "cell_type": "code",
   "execution_count": 11,
   "id": "8b095cb0",
   "metadata": {},
   "outputs": [
    {
     "name": "stdout",
     "output_type": "stream",
     "text": [
      "0.0\n"
     ]
    }
   ],
   "source": [
    "print(float(num) )#'error"
   ]
  },
  {
   "cell_type": "code",
   "execution_count": 12,
   "id": "fc863a2b",
   "metadata": {},
   "outputs": [
    {
     "data": {
      "text/plain": [
       "('10', '10.5', '(10+4j)')"
      ]
     },
     "execution_count": 12,
     "metadata": {},
     "output_type": "execute_result"
    }
   ],
   "source": [
    "str(10),str(10.5),str(10+4j)"
   ]
  },
  {
   "cell_type": "code",
   "execution_count": null,
   "id": "65fc9cf0",
   "metadata": {},
   "outputs": [],
   "source": []
  }
 ],
 "metadata": {
  "kernelspec": {
   "display_name": "Python 3 (ipykernel)",
   "language": "python",
   "name": "python3"
  },
  "language_info": {
   "codemirror_mode": {
    "name": "ipython",
    "version": 3
   },
   "file_extension": ".py",
   "mimetype": "text/x-python",
   "name": "python",
   "nbconvert_exporter": "python",
   "pygments_lexer": "ipython3",
   "version": "3.11.5"
  }
 },
 "nbformat": 4,
 "nbformat_minor": 5
}
