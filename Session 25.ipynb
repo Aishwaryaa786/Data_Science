{
 "cells": [
  {
   "cell_type": "code",
   "execution_count": null,
   "id": "c9f3ce51",
   "metadata": {},
   "outputs": [],
   "source": [
    "#concatenation is not possible"
   ]
  },
  {
   "cell_type": "markdown",
   "id": "d90cd55e",
   "metadata": {},
   "source": [
    "$in$"
   ]
  },
  {
   "cell_type": "code",
   "execution_count": null,
   "id": "18026d8d",
   "metadata": {},
   "outputs": [],
   "source": [
    "#keys are imp\n",
    "d1={'Ramesh':20,\"Suresh\":25,\"Sathish\":30}\n",
    "for i in d1:\n",
    "    "
   ]
  },
  {
   "cell_type": "markdown",
   "id": "e69f37ab",
   "metadata": {},
   "source": [
    "$index$"
   ]
  },
  {
   "cell_type": "code",
   "execution_count": 3,
   "id": "b3884329",
   "metadata": {},
   "outputs": [
    {
     "name": "stdout",
     "output_type": "stream",
     "text": [
      "Ramesh 20\n",
      "Suresh 25\n",
      "Satish 30\n"
     ]
    }
   ],
   "source": [
    "d1={'Ramesh':20,\"Suresh\":25,\"Satish\":30}\n",
    "#Normal Index will not work for dictionary\n",
    "#d1[0]#error\n",
    "#if you want to retirve the value, by using key we can get\n",
    "# d1['Ramesh']\n",
    "# d1['Suresh']\n",
    "# d1['Sathish']\n",
    "# d1[i]\n",
    "for i in d1:\n",
    "    print(i,d1[i])"
   ]
  },
  {
   "cell_type": "code",
   "execution_count": 6,
   "id": "96a6c8ab",
   "metadata": {},
   "outputs": [
    {
     "name": "stdout",
     "output_type": "stream",
     "text": [
      "Ramesh age is 20\n",
      "Suresh age is 25\n",
      "Sathish age is 30\n"
     ]
    }
   ],
   "source": [
    "names=['Ramesh','Suresh','Sathish']\n",
    "age=[20,25,30]\n",
    "for i,j in zip(names,age):\n",
    "    print(f\"{i} age is {j}\")\n"
   ]
  },
  {
   "cell_type": "code",
   "execution_count": 7,
   "id": "f47d1601",
   "metadata": {},
   "outputs": [
    {
     "name": "stdout",
     "output_type": "stream",
     "text": [
      "Ramesh age is 20\n",
      "Suresh age is 25\n",
      "Sathish age is 30\n"
     ]
    }
   ],
   "source": [
    "d1={'Ramesh':20,\"Suresh\":25,\"Sathish\":30}\n",
    "for i in d1:\n",
    "    print(f'{i} age is {d1[i]}')"
   ]
  },
  {
   "cell_type": "code",
   "execution_count": null,
   "id": "017517b9",
   "metadata": {},
   "outputs": [],
   "source": [
    "d1={'Ramesh':20,\"Suresh\":25,\"Sathish\":30}\n",
    "for i in d1:\n",
    "    print(i) #only keys\n",
    "\n",
    "for i in d1:\n",
    "    print(i,d1[i]) #keys and values"
   ]
  },
  {
   "cell_type": "code",
   "execution_count": 8,
   "id": "b8058e60",
   "metadata": {},
   "outputs": [
    {
     "data": {
      "text/plain": [
       "'abc'"
      ]
     },
     "execution_count": 8,
     "metadata": {},
     "output_type": "execute_result"
    }
   ],
   "source": [
    "d1,l1,s1={},[],''\n",
    "s1=s1+'a' # ''+a\n",
    "s1=s1+'b'\n",
    "s1=s1+'c'\n",
    "s1"
   ]
  },
  {
   "cell_type": "code",
   "execution_count": 13,
   "id": "ca438aae",
   "metadata": {},
   "outputs": [
    {
     "data": {
      "text/plain": [
       "[10, 20]"
      ]
     },
     "execution_count": 13,
     "metadata": {},
     "output_type": "execute_result"
    }
   ],
   "source": [
    "l1=[]\n",
    "l1.append(10)\n",
    "l1.append(20)\n",
    "l1"
   ]
  },
  {
   "cell_type": "code",
   "execution_count": 15,
   "id": "319a0213",
   "metadata": {},
   "outputs": [
    {
     "data": {
      "text/plain": [
       "{'even': [20, 30, 40], 'odd': [31, 33]}"
      ]
     },
     "execution_count": 15,
     "metadata": {},
     "output_type": "execute_result"
    }
   ],
   "source": [
    "d1={}\n",
    "d1['even']=[20,30,40]\n",
    "d1['odd']=[31,33]\n",
    "d1"
   ]
  },
  {
   "cell_type": "code",
   "execution_count": 18,
   "id": "52f01d82",
   "metadata": {},
   "outputs": [
    {
     "name": "stdout",
     "output_type": "stream",
     "text": [
      "enter the name: Aishwarya\n",
      "enter the city: Bangalore\n",
      "enter the age: 25\n"
     ]
    },
    {
     "data": {
      "text/plain": [
       "{'NAME': 'Aishwarya', 'CITY': 'Bangalore', 'AGE': 25}"
      ]
     },
     "execution_count": 18,
     "metadata": {},
     "output_type": "execute_result"
    }
   ],
   "source": [
    "d1={}\n",
    "name=input(\"enter the name: \")\n",
    "city=input(\"enter the city: \")\n",
    "age=eval(input(\"enter the age: \"))\n",
    "d1['NAME']=name\n",
    "d1['CITY']=city\n",
    "d1['AGE']=age\n",
    "d1"
   ]
  },
  {
   "cell_type": "code",
   "execution_count": 21,
   "id": "7407a3da",
   "metadata": {},
   "outputs": [
    {
     "data": {
      "text/plain": [
       "{'EVEN': [34, 68, 16], 'ODD': [47, 65, 49, 29, 53, 11, 71]}"
      ]
     },
     "execution_count": 21,
     "metadata": {},
     "output_type": "execute_result"
    }
   ],
   "source": [
    "#wap ask the user generate 10 random numbers\n",
    "#find the even number and odd number\n",
    "#output:\n",
    "#{'Even':[20,30,40],'odd':[35,45]}\n",
    "#s1: import random\n",
    "#s2: even_list,odd_list=[][]\n",
    "#s3: for loop 10 times\n",
    "#s4:  num=generate random number 10,100\n",
    "#s5:  if<consition>:\n",
    "#s6:     append the values in eve\n",
    "#s7:  else:\n",
    "#s8:     append the values in odd list\n",
    "#s9: create dictionary\n",
    "\n",
    "\n",
    "import random\n",
    "even_list,odd_list=[],[]\n",
    "d1={}\n",
    "for i in range(0,10):\n",
    "    num=random.randint(1,100)\n",
    "    if num%2==0:\n",
    "        even_list.append(num)\n",
    "    else:\n",
    "        odd_list.append(num)\n",
    "        \n",
    "d1['EVEN']=even_list\n",
    "d1['ODD']=odd_list\n",
    "d1"
   ]
  },
  {
   "cell_type": "code",
   "execution_count": 35,
   "id": "2c7d8c08",
   "metadata": {},
   "outputs": [
    {
     "name": "stdout",
     "output_type": "stream",
     "text": [
      "hello 3\n",
      "how 4\n",
      "are 2\n",
      "you, 1\n",
      "im 1\n",
      "good, 1\n",
      "what 1\n",
      "you 1\n",
      "doing 1\n"
     ]
    }
   ],
   "source": [
    "#word frequnecy\n",
    "d1={}\n",
    "s1='hello how how are you, hello how im good, hello how what are you doing'\n",
    "#{'hello':3,'how':4,.......}\n",
    "l1=s1.split( )\n",
    "l2=[]\n",
    "for i in l1:\n",
    "    if i not in l2:\n",
    "        \n",
    "        print(i,l1.count(i))\n",
    "        l2.append(i)\n"
   ]
  },
  {
   "cell_type": "code",
   "execution_count": 37,
   "id": "71304868",
   "metadata": {},
   "outputs": [
    {
     "data": {
      "text/plain": [
       "{'hello': 3,\n",
       " 'how': 4,\n",
       " 'are': 2,\n",
       " 'you,': 1,\n",
       " 'im': 1,\n",
       " 'good,': 1,\n",
       " 'what': 1,\n",
       " 'you': 1,\n",
       " 'doing': 1}"
      ]
     },
     "execution_count": 37,
     "metadata": {},
     "output_type": "execute_result"
    }
   ],
   "source": [
    "#word frequnecy\n",
    "d1={}\n",
    "s1='hello how how are you, hello how im good, hello how what are you doing'\n",
    "#{'hello':3,'how':4,.......}\n",
    "l1=s1.split( )\n",
    "l2=[]\n",
    "for i in l1:\n",
    "    if i not in l2:\n",
    "        \n",
    "        d1[i]=l1.count(i) #key =i  value is l1.count[i]\n",
    "        l2.append(i)\n",
    "d1\n",
    "#to make this dictionary"
   ]
  },
  {
   "cell_type": "code",
   "execution_count": 39,
   "id": "3c25ece7",
   "metadata": {},
   "outputs": [
    {
     "data": {
      "text/plain": [
       "{'hello': 3, 'doing': 1}"
      ]
     },
     "execution_count": 39,
     "metadata": {},
     "output_type": "execute_result"
    }
   ],
   "source": [
    "d1={}\n",
    "d1['hello']=3\n",
    "d1[i]=l1.count(i)\n",
    "d1"
   ]
  },
  {
   "cell_type": "code",
   "execution_count": 42,
   "id": "a0fd2667",
   "metadata": {},
   "outputs": [
    {
     "data": {
      "text/plain": [
       "'Banana'"
      ]
     },
     "execution_count": 42,
     "metadata": {},
     "output_type": "execute_result"
    }
   ],
   "source": [
    "d1={'Fruits':['Apple','Banana']}\n",
    "#Retrive Banana\n",
    "d1['Fruits'][1]"
   ]
  },
  {
   "cell_type": "code",
   "execution_count": 45,
   "id": "9df4475b",
   "metadata": {},
   "outputs": [
    {
     "data": {
      "text/plain": [
       "20"
      ]
     },
     "execution_count": 45,
     "metadata": {},
     "output_type": "execute_result"
    }
   ],
   "source": [
    "d1={'Fruits':[{'Apple':50},{'Banana':20}]}\n",
    "d1['Fruits'][1]['Banana']"
   ]
  },
  {
   "cell_type": "code",
   "execution_count": 49,
   "id": "ecafbf65",
   "metadata": {},
   "outputs": [
    {
     "data": {
      "text/plain": [
       "300"
      ]
     },
     "execution_count": 49,
     "metadata": {},
     "output_type": "execute_result"
    }
   ],
   "source": [
    "d1={'Fruits':[{'Apple':[50,150,300]},{'Banana':20}]}\n",
    "d1['Fruits'][0]['Apple'][2]"
   ]
  },
  {
   "cell_type": "code",
   "execution_count": 60,
   "id": "2626fbc9",
   "metadata": {},
   "outputs": [
    {
     "data": {
      "text/plain": [
       "'Good'"
      ]
     },
     "execution_count": 60,
     "metadata": {},
     "output_type": "execute_result"
    }
   ],
   "source": [
    "d1={'Fruits':\n",
    "    [{'Apple':[{50:'Noraml',150:'Average',300:'Good'}]},\n",
    "    {'Banana':20}]}\n",
    "    \n",
    "d1['Fruits'][0]['Apple'][0][300]"
   ]
  },
  {
   "cell_type": "markdown",
   "id": "89031242",
   "metadata": {},
   "source": [
    "$Methods$"
   ]
  },
  {
   "cell_type": "code",
   "execution_count": 62,
   "id": "e4ecb78a",
   "metadata": {},
   "outputs": [
    {
     "data": {
      "text/plain": [
       "['__class__',\n",
       " '__class_getitem__',\n",
       " '__contains__',\n",
       " '__delattr__',\n",
       " '__delitem__',\n",
       " '__dir__',\n",
       " '__doc__',\n",
       " '__eq__',\n",
       " '__format__',\n",
       " '__ge__',\n",
       " '__getattribute__',\n",
       " '__getitem__',\n",
       " '__gt__',\n",
       " '__hash__',\n",
       " '__init__',\n",
       " '__init_subclass__',\n",
       " '__ior__',\n",
       " '__iter__',\n",
       " '__le__',\n",
       " '__len__',\n",
       " '__lt__',\n",
       " '__ne__',\n",
       " '__new__',\n",
       " '__or__',\n",
       " '__reduce__',\n",
       " '__reduce_ex__',\n",
       " '__repr__',\n",
       " '__reversed__',\n",
       " '__ror__',\n",
       " '__setattr__',\n",
       " '__setitem__',\n",
       " '__sizeof__',\n",
       " '__str__',\n",
       " '__subclasshook__',\n",
       " 'clear',\n",
       " 'copy',\n",
       " 'fromkeys',\n",
       " 'get',\n",
       " 'items',\n",
       " 'keys',\n",
       " 'pop',\n",
       " 'popitem',\n",
       " 'setdefault',\n",
       " 'update',\n",
       " 'values']"
      ]
     },
     "execution_count": 62,
     "metadata": {},
     "output_type": "execute_result"
    }
   ],
   "source": [
    "dir({})"
   ]
  },
  {
   "cell_type": "code",
   "execution_count": null,
   "id": "b4ef2eeb",
   "metadata": {},
   "outputs": [],
   "source": [
    "'clear',\n",
    " 'copy',\n",
    " 'fromkeys',\n",
    " 'get',\n",
    " 'items',\n",
    " 'keys',\n",
    " 'pop',\n",
    " 'popitem',\n",
    " 'setdefault',\n",
    " 'update',\n",
    " 'values'"
   ]
  },
  {
   "cell_type": "code",
   "execution_count": null,
   "id": "fa83d8a0",
   "metadata": {},
   "outputs": [],
   "source": []
  },
  {
   "cell_type": "code",
   "execution_count": null,
   "id": "063468c9",
   "metadata": {},
   "outputs": [],
   "source": []
  },
  {
   "cell_type": "markdown",
   "id": "37e50504",
   "metadata": {},
   "source": [
    "$key$-$value$-$item$"
   ]
  },
  {
   "cell_type": "code",
   "execution_count": 63,
   "id": "8531a0d2",
   "metadata": {
    "collapsed": true
   },
   "outputs": [
    {
     "data": {
      "text/plain": [
       "{'Ramesh': 20, 'Suresh': 25, 'Piyush': 27}"
      ]
     },
     "execution_count": 63,
     "metadata": {},
     "output_type": "execute_result"
    }
   ],
   "source": [
    "d1={'Ramesh':20,'Suresh':25,'Piyush':27}\n",
    "d1"
   ]
  },
  {
   "cell_type": "code",
   "execution_count": 64,
   "id": "d5bf56fd",
   "metadata": {},
   "outputs": [
    {
     "data": {
      "text/plain": [
       "dict_keys(['Ramesh', 'Suresh', 'Piyush'])"
      ]
     },
     "execution_count": 64,
     "metadata": {},
     "output_type": "execute_result"
    }
   ],
   "source": [
    "d1.keys()"
   ]
  },
  {
   "cell_type": "code",
   "execution_count": 65,
   "id": "4468dac8",
   "metadata": {},
   "outputs": [
    {
     "data": {
      "text/plain": [
       "dict_values([20, 25, 27])"
      ]
     },
     "execution_count": 65,
     "metadata": {},
     "output_type": "execute_result"
    }
   ],
   "source": [
    "d1.values()"
   ]
  },
  {
   "cell_type": "code",
   "execution_count": 66,
   "id": "6934e4f0",
   "metadata": {},
   "outputs": [
    {
     "data": {
      "text/plain": [
       "dict_items([('Ramesh', 20), ('Suresh', 25), ('Piyush', 27)])"
      ]
     },
     "execution_count": 66,
     "metadata": {},
     "output_type": "execute_result"
    }
   ],
   "source": [
    "d1.items()"
   ]
  },
  {
   "cell_type": "code",
   "execution_count": 68,
   "id": "bf413a0e",
   "metadata": {},
   "outputs": [
    {
     "data": {
      "text/plain": [
       "dict_keys"
      ]
     },
     "execution_count": 68,
     "metadata": {},
     "output_type": "execute_result"
    }
   ],
   "source": [
    "d1.keys() #its very important to check the type of output\n",
    "type(d1.keys())#dict_keys\n",
    "#so convert dict_keys type to list type"
   ]
  },
  {
   "cell_type": "code",
   "execution_count": 70,
   "id": "b3da08dd",
   "metadata": {},
   "outputs": [
    {
     "data": {
      "text/plain": [
       "'ramesh'"
      ]
     },
     "execution_count": 70,
     "metadata": {},
     "output_type": "execute_result"
    }
   ],
   "source": [
    "list(d1.keys())[0].lower()"
   ]
  },
  {
   "cell_type": "code",
   "execution_count": null,
   "id": "a27b4a4f",
   "metadata": {},
   "outputs": [],
   "source": [
    "#whatever is in teh dict type we need to convert it int list"
   ]
  },
  {
   "cell_type": "code",
   "execution_count": 72,
   "id": "1ccaf0a8",
   "metadata": {},
   "outputs": [
    {
     "data": {
      "text/plain": [
       "{}"
      ]
     },
     "execution_count": 72,
     "metadata": {},
     "output_type": "execute_result"
    }
   ],
   "source": [
    "# 'clear',\n",
    "#  'copy'\n",
    "# 'get'\n",
    "# 'pop'\n",
    "# 'popitem',\n",
    "\n",
    "d1.clear()\n",
    "d1"
   ]
  },
  {
   "cell_type": "code",
   "execution_count": 76,
   "id": "3613a121",
   "metadata": {},
   "outputs": [
    {
     "data": {
      "text/plain": [
       "{'Ramesh': 20, 'Suresh': 25, 'Piyush': 27}"
      ]
     },
     "execution_count": 76,
     "metadata": {},
     "output_type": "execute_result"
    }
   ],
   "source": [
    "d1={'Ramesh':20,'Suresh':25,'Piyush':27}\n",
    "d2=d1.copy()\n",
    "d1.clear()\n",
    "d2"
   ]
  },
  {
   "cell_type": "code",
   "execution_count": 81,
   "id": "7ce73205",
   "metadata": {},
   "outputs": [
    {
     "name": "stdout",
     "output_type": "stream",
     "text": [
      "Piyush\n",
      "['Ramesh', 'Suresh']\n"
     ]
    }
   ],
   "source": [
    "d1={'Ramesh':20,'Suresh':25,'Piyush':27}\n",
    "l1=list(d1)\n",
    "l2=l1.pop()\n",
    "print(l2)\n",
    "print(l1)"
   ]
  },
  {
   "cell_type": "code",
   "execution_count": 84,
   "id": "a9fcace8",
   "metadata": {},
   "outputs": [
    {
     "ename": "NameError",
     "evalue": "name 'popitem' is not defined",
     "output_type": "error",
     "traceback": [
      "\u001b[1;31m---------------------------------------------------------------------------\u001b[0m",
      "\u001b[1;31mNameError\u001b[0m                                 Traceback (most recent call last)",
      "\u001b[1;32m~\\AppData\\Local\\Temp\\ipykernel_35224\\882515681.py\u001b[0m in \u001b[0;36m<module>\u001b[1;34m\u001b[0m\n\u001b[0;32m      1\u001b[0m \u001b[0md1\u001b[0m\u001b[1;33m=\u001b[0m\u001b[1;33m{\u001b[0m\u001b[1;34m'Ramesh'\u001b[0m\u001b[1;33m:\u001b[0m\u001b[1;36m20\u001b[0m\u001b[1;33m,\u001b[0m\u001b[1;34m'Suresh'\u001b[0m\u001b[1;33m:\u001b[0m\u001b[1;36m25\u001b[0m\u001b[1;33m,\u001b[0m\u001b[1;34m'Piyush'\u001b[0m\u001b[1;33m:\u001b[0m\u001b[1;36m27\u001b[0m\u001b[1;33m}\u001b[0m\u001b[1;33m\u001b[0m\u001b[1;33m\u001b[0m\u001b[0m\n\u001b[1;32m----> 2\u001b[1;33m \u001b[0md1\u001b[0m\u001b[1;33m=\u001b[0m\u001b[0mpopitem\u001b[0m\u001b[1;33m(\u001b[0m\u001b[1;34m'Ramesh'\u001b[0m\u001b[1;33m)\u001b[0m\u001b[1;33m\u001b[0m\u001b[1;33m\u001b[0m\u001b[0m\n\u001b[0m\u001b[0;32m      3\u001b[0m \u001b[0md1\u001b[0m\u001b[1;33m\u001b[0m\u001b[1;33m\u001b[0m\u001b[0m\n\u001b[0;32m      4\u001b[0m \u001b[1;33m\u001b[0m\u001b[0m\n\u001b[0;32m      5\u001b[0m \u001b[1;31m# l1=list(d1)\u001b[0m\u001b[1;33m\u001b[0m\u001b[1;33m\u001b[0m\u001b[0m\n",
      "\u001b[1;31mNameError\u001b[0m: name 'popitem' is not defined"
     ]
    }
   ],
   "source": [
    "d1={'Ramesh':20,'Suresh':25,'Piyush':27}\n",
    "d1=popitem('Ramesh')\n",
    "d1\n",
    "\n",
    "# l1=list(d1)\n",
    "# l2=l1.popitem()\n",
    "# print(l2)\n",
    "# print(l1)"
   ]
  },
  {
   "cell_type": "code",
   "execution_count": null,
   "id": "6ae63556",
   "metadata": {},
   "outputs": [],
   "source": []
  }
 ],
 "metadata": {
  "kernelspec": {
   "display_name": "Python 3 (ipykernel)",
   "language": "python",
   "name": "python3"
  },
  "language_info": {
   "codemirror_mode": {
    "name": "ipython",
    "version": 3
   },
   "file_extension": ".py",
   "mimetype": "text/x-python",
   "name": "python",
   "nbconvert_exporter": "python",
   "pygments_lexer": "ipython3",
   "version": "3.9.13"
  }
 },
 "nbformat": 4,
 "nbformat_minor": 5
}
