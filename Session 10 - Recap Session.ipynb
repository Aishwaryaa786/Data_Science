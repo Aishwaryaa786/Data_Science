{
 "cells": [
  {
   "cell_type": "code",
   "execution_count": null,
   "id": "0056ecd7",
   "metadata": {},
   "outputs": [],
   "source": [
    "# data type conversions\n",
    "# eval \n",
    "# input\n",
    "# end \n",
    "# sep\n",
    "# format\n"
   ]
  },
  {
   "cell_type": "code",
   "execution_count": null,
   "id": "29183b79",
   "metadata": {},
   "outputs": [],
   "source": [
    "10.5 ===> int string"
   ]
  },
  {
   "cell_type": "code",
   "execution_count": 1,
   "id": "3206f479",
   "metadata": {},
   "outputs": [
    {
     "data": {
      "text/plain": [
       "float"
      ]
     },
     "execution_count": 1,
     "metadata": {},
     "output_type": "execute_result"
    }
   ],
   "source": [
    "type(10.5)"
   ]
  },
  {
   "cell_type": "code",
   "execution_count": 2,
   "id": "63d4bcfb",
   "metadata": {},
   "outputs": [
    {
     "data": {
      "text/plain": [
       "'50.1'"
      ]
     },
     "execution_count": 2,
     "metadata": {},
     "output_type": "execute_result"
    }
   ],
   "source": [
    "str(50.1)"
   ]
  },
  {
   "cell_type": "code",
   "execution_count": 4,
   "id": "92d07c8d",
   "metadata": {},
   "outputs": [
    {
     "name": "stdout",
     "output_type": "stream",
     "text": [
      "10\n",
      "10.5\n",
      "True\n",
      "(10.5+0j)\n"
     ]
    }
   ],
   "source": [
    "print(int(10.5))\n",
    "print(str(10.5))\n",
    "print(bool(10.5))\n",
    "print(complex(10.5))"
   ]
  },
  {
   "cell_type": "code",
   "execution_count": 5,
   "id": "8ca8cf36",
   "metadata": {},
   "outputs": [
    {
     "data": {
      "text/plain": [
       "False"
      ]
     },
     "execution_count": 5,
     "metadata": {},
     "output_type": "execute_result"
    }
   ],
   "source": [
    "bool(0)"
   ]
  },
  {
   "cell_type": "code",
   "execution_count": 6,
   "id": "f8fe50e3",
   "metadata": {},
   "outputs": [
    {
     "name": "stdout",
     "output_type": "stream",
     "text": [
      "10.0\n",
      "10\n",
      "True\n",
      "(10+0j)\n"
     ]
    }
   ],
   "source": [
    "print(float(10))\n",
    "print(str(10))\n",
    "print(bool(10))\n",
    "print(complex(10))"
   ]
  },
  {
   "cell_type": "code",
   "execution_count": 7,
   "id": "8d0a63ef",
   "metadata": {},
   "outputs": [
    {
     "name": "stdout",
     "output_type": "stream",
     "text": [
      "-10.0\n",
      "-10\n",
      "True\n",
      "(-10+0j)\n"
     ]
    }
   ],
   "source": [
    "print(float(-10))\n",
    "print(str(-10))\n",
    "print(bool(-10))\n",
    "print(complex(-10))"
   ]
  },
  {
   "cell_type": "code",
   "execution_count": 8,
   "id": "79af53f1",
   "metadata": {},
   "outputs": [
    {
     "name": "stdout",
     "output_type": "stream",
     "text": [
      "0.0\n",
      "0\n",
      "False\n",
      "0j\n"
     ]
    }
   ],
   "source": [
    "print(float(0))\n",
    "print(str(0))\n",
    "print(bool(0))\n",
    "print(complex(0))"
   ]
  },
  {
   "cell_type": "code",
   "execution_count": 9,
   "id": "b0a2a3e8",
   "metadata": {},
   "outputs": [
    {
     "name": "stdout",
     "output_type": "stream",
     "text": [
      "10.0\n",
      "10\n",
      "True\n",
      "(10+0j)\n"
     ]
    }
   ],
   "source": [
    "print(float(\"10\"))\n",
    "print(str('10'))\n",
    "print(bool(\"10\"))\n",
    "print(complex(\"10\"))"
   ]
  },
  {
   "cell_type": "code",
   "execution_count": 10,
   "id": "820f8789",
   "metadata": {},
   "outputs": [
    {
     "ename": "ValueError",
     "evalue": "invalid literal for int() with base 10: '10.5'",
     "output_type": "error",
     "traceback": [
      "\u001b[1;31m---------------------------------------------------------------------------\u001b[0m",
      "\u001b[1;31mValueError\u001b[0m                                Traceback (most recent call last)",
      "Cell \u001b[1;32mIn[10], line 1\u001b[0m\n\u001b[1;32m----> 1\u001b[0m \u001b[38;5;28mint\u001b[39m(\u001b[38;5;124m'\u001b[39m\u001b[38;5;124m10.5\u001b[39m\u001b[38;5;124m'\u001b[39m)\u001b[38;5;66;03m#spl case\u001b[39;00m\n\u001b[0;32m      2\u001b[0m \u001b[38;5;66;03m# it is a string \u001b[39;00m\n\u001b[0;32m      3\u001b[0m \u001b[38;5;66;03m# inside quotes \"<number>\", \"<english>\"\u001b[39;00m\n\u001b[0;32m      4\u001b[0m \u001b[38;5;66;03m#number what is the basic type of the number \u001b[39;00m\n\u001b[0;32m      5\u001b[0m \u001b[38;5;66;03m#number is float\u001b[39;00m\n\u001b[0;32m      7\u001b[0m \u001b[38;5;28mint\u001b[39m(\u001b[38;5;124m'\u001b[39m\u001b[38;5;124m10\u001b[39m\u001b[38;5;124m'\u001b[39m)\n",
      "\u001b[1;31mValueError\u001b[0m: invalid literal for int() with base 10: '10.5'"
     ]
    }
   ],
   "source": [
    "int('10.5')#spl case\n",
    "# it is a string \n",
    "# inside quotes \"<number>\", \"<english>\"\n",
    "#number what is the basic type of the number \n",
    "#number is float\n",
    "\n",
    "int('10')\n",
    "int('10.5')\n",
    "float('10')\n",
    "float('10.5')"
   ]
  },
  {
   "cell_type": "code",
   "execution_count": 11,
   "id": "52b93974",
   "metadata": {},
   "outputs": [
    {
     "data": {
      "text/plain": [
       "int"
      ]
     },
     "execution_count": 11,
     "metadata": {},
     "output_type": "execute_result"
    }
   ],
   "source": [
    "a=200\n",
    "type(200)"
   ]
  },
  {
   "cell_type": "code",
   "execution_count": 12,
   "id": "aaa004ff",
   "metadata": {},
   "outputs": [
    {
     "name": "stdout",
     "output_type": "stream",
     "text": [
      "100\n"
     ]
    },
    {
     "data": {
      "text/plain": [
       "str"
      ]
     },
     "execution_count": 12,
     "metadata": {},
     "output_type": "execute_result"
    }
   ],
   "source": [
    "a=input()\n",
    "type(a)"
   ]
  },
  {
   "cell_type": "code",
   "execution_count": 16,
   "id": "82b3a60e",
   "metadata": {},
   "outputs": [
    {
     "name": "stdout",
     "output_type": "stream",
     "text": [
      "Enter a bill amt: 5600\n",
      "Enter the tip: 56\n",
      "The total amount is 8736.0 \n"
     ]
    }
   ],
   "source": [
    "\n",
    "bill_amt= eval(input('Enter a bill amt: '))\n",
    "tip=eval(input('Enter the tip: '))\n",
    "tip_amt=(bill_amt*tip)/100\n",
    "total_bill=bill_amt+tip_amt\n",
    "print(f'The total amount is {total_bill} ')\n"
   ]
  },
  {
   "cell_type": "code",
   "execution_count": null,
   "id": "022cf24c",
   "metadata": {},
   "outputs": [],
   "source": []
  },
  {
   "cell_type": "code",
   "execution_count": null,
   "id": "b2022db7",
   "metadata": {},
   "outputs": [],
   "source": []
  },
  {
   "cell_type": "code",
   "execution_count": null,
   "id": "0c24e3f7",
   "metadata": {},
   "outputs": [],
   "source": []
  },
  {
   "cell_type": "code",
   "execution_count": null,
   "id": "cabbac55",
   "metadata": {},
   "outputs": [],
   "source": []
  },
  {
   "cell_type": "code",
   "execution_count": null,
   "id": "7516f489",
   "metadata": {},
   "outputs": [],
   "source": []
  },
  {
   "cell_type": "code",
   "execution_count": null,
   "id": "b22ceb2c",
   "metadata": {},
   "outputs": [],
   "source": []
  },
  {
   "cell_type": "code",
   "execution_count": null,
   "id": "0f952941",
   "metadata": {},
   "outputs": [],
   "source": []
  }
 ],
 "metadata": {
  "kernelspec": {
   "display_name": "Python 3 (ipykernel)",
   "language": "python",
   "name": "python3"
  },
  "language_info": {
   "codemirror_mode": {
    "name": "ipython",
    "version": 3
   },
   "file_extension": ".py",
   "mimetype": "text/x-python",
   "name": "python",
   "nbconvert_exporter": "python",
   "pygments_lexer": "ipython3",
   "version": "3.11.5"
  }
 },
 "nbformat": 4,
 "nbformat_minor": 5
}
