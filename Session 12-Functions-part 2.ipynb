{
 "cells": [
  {
   "cell_type": "code",
   "execution_count": null,
   "id": "f46d9cd3",
   "metadata": {},
   "outputs": [],
   "source": [
    "#Functions:\n",
    "# re-use the same code\n",
    "# 20 ppl are hvaing bday\n",
    "# omkar hpy bday\n",
    "# suresh hapy bday\n"
   ]
  },
  {
   "cell_type": "code",
   "execution_count": 1,
   "id": "9d629137",
   "metadata": {},
   "outputs": [
    {
     "name": "stdout",
     "output_type": "stream",
     "text": [
      "enter the number 1:85\n",
      "enter the number 2:69\n",
      "154\n"
     ]
    }
   ],
   "source": [
    "num1 = eval(input(\"enter the number 1:\"))\n",
    "num2 = eval(input(\"enter the number 2:\"))\n",
    "print(num1+num2)"
   ]
  },
  {
   "cell_type": "code",
   "execution_count": null,
   "id": "09003245",
   "metadata": {},
   "outputs": [],
   "source": [
    "def <function_name>():\n",
    "    #write your code"
   ]
  },
  {
   "cell_type": "code",
   "execution_count": 2,
   "id": "8461140c",
   "metadata": {},
   "outputs": [
    {
     "name": "stdout",
     "output_type": "stream",
     "text": [
      "enter the number 1:565\n",
      "enter the number 2:565\n",
      "1130\n"
     ]
    }
   ],
   "source": [
    "def addition():\n",
    "    num1 = eval(input(\"enter the number 1:\"))\n",
    "    num2 = eval(input(\"enter the number 2:\"))\n",
    "    print(num1+num2)\n",
    "    \n",
    "addition()"
   ]
  },
  {
   "cell_type": "markdown",
   "id": "bf6a9096",
   "metadata": {},
   "source": [
    "- defining function will not give the error \n",
    "- you will identify the error when you call the function only\n",
    "- syntax error only will get, when define the function call\n"
   ]
  },
  {
   "cell_type": "code",
   "execution_count": 5,
   "id": "9b966112",
   "metadata": {},
   "outputs": [
    {
     "name": "stdout",
     "output_type": "stream",
     "text": [
      "Enter the num1:5\n",
      "Enter the num2:5\n",
      "Enter the num3:5\n",
      "the average of the 5,5 and 5 is 5.0\n"
     ]
    }
   ],
   "source": [
    "#wap ask the user enter three numbers\n",
    "#fnd the average\n",
    "# implement the function call\n",
    "def average():\n",
    "\n",
    "    n1=eval(input('Enter the num1:'))\n",
    "    n2=eval(input('Enter the num2:'))\n",
    "    n3=eval(input('Enter the num3:'))\n",
    "    avg = (n1+n2+n3)/3 #avg = round((n1+n2+n3)/3,2)\n",
    "    out=round(avg,2)\n",
    "    print(f\"the average of the {n1},{n2} and {n3} is {out}\")\n",
    "average()\n",
    "\n"
   ]
  },
  {
   "cell_type": "code",
   "execution_count": 7,
   "id": "6ec8283b",
   "metadata": {},
   "outputs": [
    {
     "name": "stdout",
     "output_type": "stream",
     "text": [
      "Enter the bill:85000\n",
      "Enter the tip percentage :56\n",
      "The total bill is 132600.0 for the tip percent 56\n"
     ]
    }
   ],
   "source": [
    "#wap ask the user enter bill amount\n",
    "# ask the user enter tip percentage\n",
    "#calculate total bill\n",
    "#implement the function \n",
    "def totalbill():\n",
    "    bill = eval(input(\"Enter the bill:\"))\n",
    "    tip =eval(input(\"Enter the tip percentage :\"))\n",
    "    tip_percent =(bill*tip)/100\n",
    "    total_bill=bill+tip_percent\n",
    "    print(f\"The total bill is {total_bill} for the tip percent {tip}\")\n",
    "\n",
    "totalbill()"
   ]
  },
  {
   "cell_type": "code",
   "execution_count": 8,
   "id": "7e32ef0d",
   "metadata": {},
   "outputs": [
    {
     "ename": "TypeError",
     "evalue": "Random.randint() missing 2 required positional arguments: 'a' and 'b'",
     "output_type": "error",
     "traceback": [
      "\u001b[1;31m---------------------------------------------------------------------------\u001b[0m",
      "\u001b[1;31mTypeError\u001b[0m                                 Traceback (most recent call last)",
      "Cell \u001b[1;32mIn[8], line 2\u001b[0m\n\u001b[0;32m      1\u001b[0m \u001b[38;5;28;01mimport\u001b[39;00m \u001b[38;5;21;01mrandom\u001b[39;00m\n\u001b[1;32m----> 2\u001b[0m random\u001b[38;5;241m.\u001b[39mrandint()\n",
      "\u001b[1;31mTypeError\u001b[0m: Random.randint() missing 2 required positional arguments: 'a' and 'b'"
     ]
    }
   ],
   "source": [
    "import random\n",
    "random.randint()"
   ]
  },
  {
   "cell_type": "markdown",
   "id": "feaec7d9",
   "metadata": {},
   "source": [
    "- Functions and Methods both are same"
   ]
  },
  {
   "cell_type": "code",
   "execution_count": 9,
   "id": "3db608d3",
   "metadata": {},
   "outputs": [
    {
     "name": "stdout",
     "output_type": "stream",
     "text": [
      "hello\n",
      "1\n",
      "hello\n",
      "enter the number 1:45\n",
      "enter the number 2:63\n",
      "108\n",
      "bye\n"
     ]
    }
   ],
   "source": [
    "print(\"hello\")\n",
    "print(1)\n",
    "def addition1():\n",
    "    num1 = eval(input(\"enter the number 1:\"))\n",
    "    num2 = eval(input(\"enter the number 2:\"))\n",
    "    print(num1+num2)\n",
    "print(\"hello\")    \n",
    "addition1()\n",
    "print(\"bye\")"
   ]
  },
  {
   "cell_type": "code",
   "execution_count": 14,
   "id": "6c4db089",
   "metadata": {},
   "outputs": [
    {
     "name": "stdout",
     "output_type": "stream",
     "text": [
      "enter the number 1:69\n",
      "enter the number 2:6\n",
      "75\n"
     ]
    }
   ],
   "source": [
    "def summ():\n",
    "    try:\n",
    "        \n",
    "        num1 = eval(input(\"enter the number 1:\"))\n",
    "        num2 = eval(input(\"enter the number 2:\"))\n",
    "        print(num1+num2)\n",
    "    except Exception as e:\n",
    "        print(e)\n",
    "    \n",
    "summ()"
   ]
  },
  {
   "cell_type": "code",
   "execution_count": null,
   "id": "1bc77906",
   "metadata": {},
   "outputs": [],
   "source": [
    "#Basic codes Assignment : 3 days"
   ]
  },
  {
   "cell_type": "code",
   "execution_count": null,
   "id": "53d6d2c8",
   "metadata": {},
   "outputs": [],
   "source": [
    "# WAP ask the user enter a number\n",
    "# find it is an even or odd\n",
    "# create a function on this"
   ]
  },
  {
   "cell_type": "code",
   "execution_count": 1,
   "id": "d692e33e",
   "metadata": {},
   "outputs": [
    {
     "name": "stdout",
     "output_type": "stream",
     "text": [
      "Enter a number to check if its even or odd56\n",
      "The number 56 is even\n"
     ]
    }
   ],
   "source": [
    "def user():\n",
    "    no=eval(input(\"Enter a number to check if its even or odd\"))\n",
    "    if no%2==0:\n",
    "        print(f\"The number {  no} is even\")\n",
    "    else:\n",
    "        print(f\"The number {  no} is odd\")\n",
    "        \n",
    "user()\n",
    "        \n"
   ]
  },
  {
   "cell_type": "code",
   "execution_count": 2,
   "id": "a90232a6",
   "metadata": {},
   "outputs": [
    {
     "name": "stdout",
     "output_type": "stream",
     "text": [
      "Enter a number to check if its even or oddddd\n",
      "name 'ddd' is not defined\n"
     ]
    }
   ],
   "source": [
    "def user():\n",
    "    try:\n",
    "        \n",
    "        no=eval(input(\"Enter a number to check if its even or odd\"))\n",
    "        if no%2==0:\n",
    "            print(f\"The number {  no} is even\")\n",
    "        else:\n",
    "            print(f\"The number {  no} is odd\")\n",
    "    except  Exception as e:\n",
    "        print(e)\n",
    "    \n",
    "user()\n",
    "        \n"
   ]
  },
  {
   "cell_type": "code",
   "execution_count": 3,
   "id": "3241b5ea",
   "metadata": {},
   "outputs": [
    {
     "name": "stdout",
     "output_type": "stream",
     "text": [
      "Enter a number to check if its even or odd54513922122222\n",
      "The number 54513922122222 is even\n"
     ]
    }
   ],
   "source": [
    "def user():\n",
    "    try:\n",
    "        \n",
    "        no=eval(input(\"Enter a number to check if its even or odd\"))\n",
    "        if no%2==0:\n",
    "            print(f\"The number {  no} is even\")\n",
    "        else:\n",
    "            print(f\"The number {  no} is odd\")\n",
    "    except  Exception as e:\n",
    "        print(e)\n",
    "    \n",
    "user()\n",
    "        \n"
   ]
  },
  {
   "cell_type": "code",
   "execution_count": 8,
   "id": "75799e35",
   "metadata": {},
   "outputs": [
    {
     "name": "stdout",
     "output_type": "stream",
     "text": [
      "The number 35 is odd\n"
     ]
    }
   ],
   "source": [
    "#implement the above code by providing a random value \n",
    "\n",
    "import random\n",
    "def user():\n",
    "    try:\n",
    "        \n",
    "        no=random.randint(1,1000)\n",
    "        if no%2==0:\n",
    "            print(f\"The number {  no} is even\")\n",
    "        else:\n",
    "            print(f\"The number {  no} is odd\")\n",
    "    except  Exception as e:\n",
    "        print(e)\n",
    "    \n",
    "user()\n",
    "        "
   ]
  },
  {
   "cell_type": "code",
   "execution_count": null,
   "id": "2f3f4f63",
   "metadata": {},
   "outputs": [],
   "source": [
    "#wap ask the user get a random number: num 1\n",
    "#ask the user enter a number from keyboard:num 2\n",
    "# if num1 == num2:print(\"in\")\n",
    "#otherwise print(\"out\")\n"
   ]
  },
  {
   "cell_type": "code",
   "execution_count": 13,
   "id": "bd71e934",
   "metadata": {},
   "outputs": [
    {
     "name": "stdout",
     "output_type": "stream",
     "text": [
      "Enter the number 2:585236\n",
      "out\n"
     ]
    }
   ],
   "source": [
    "import random\n",
    "def user1():\n",
    "    try:\n",
    "        n1=random.randint(1,1000)\n",
    "        n2=eval(input(\"Enter the number 2:\"))\n",
    "        if(n1==n2):\n",
    "            print(\"in\")\n",
    "        else:\n",
    "            print(\"out\")\n",
    "    except Exception as e:\n",
    "        print(e)\n",
    "        \n",
    "user1()"
   ]
  },
  {
   "cell_type": "code",
   "execution_count": null,
   "id": "5258634e",
   "metadata": {},
   "outputs": [],
   "source": [
    "def user(): # inside brackets there is nothing hence its called fuction without argument\n",
    "    no=eval(input(\"Enter a number to check if its even or odd\"))\n",
    "    if no%2==0:\n",
    "        print(f\"The number {  no} is even\")\n",
    "    else:\n",
    "        print(f\"The number {  no} is odd\")\n",
    "        \n",
    "user()\n",
    "        "
   ]
  },
  {
   "cell_type": "markdown",
   "id": "4dafee3b",
   "metadata": {},
   "source": [
    "- function without arguments \n",
    "- until now whatever functions we developed those functions were without values\n",
    "- whatever you provide inside bracket is called as function without aguments or prameters. "
   ]
  },
  {
   "cell_type": "code",
   "execution_count": null,
   "id": "2405675f",
   "metadata": {},
   "outputs": [],
   "source": [
    "def addition():\n",
    "    num1 = eval(input(\"enter the number 1:\"))\n",
    "    num2 = eval(input(\"enter the number 2:\"))\n",
    "    print(num1+num2)\n",
    "    \n",
    "addition() \n",
    "\n",
    "# Q1] in above function how many variables are there\n",
    "# num1 num2 add\n",
    "#Q2] how many input variables are there: 2 num1 num2\n",
    "#Q3] how many output variables are there: 1 add"
   ]
  },
  {
   "cell_type": "code",
   "execution_count": 15,
   "id": "1757be5b",
   "metadata": {},
   "outputs": [
    {
     "name": "stdout",
     "output_type": "stream",
     "text": [
      "101\n"
     ]
    }
   ],
   "source": [
    "def sum1(num1,num2):\n",
    "    add=num1+num2\n",
    "    print(add)\n",
    "    \n",
    "    \n",
    "#in above inside the function arguamnets are there and there are two input values \n",
    "#these are called as functions with arguments\n",
    "\n",
    "\n",
    "sum1(45,56)"
   ]
  },
  {
   "cell_type": "code",
   "execution_count": null,
   "id": "7e9a1365",
   "metadata": {},
   "outputs": [],
   "source": [
    "def average():\n",
    "\n",
    "    n1=eval(input('Enter the num1:'))\n",
    "    n2=eval(input('Enter the num2:'))\n",
    "    n3=eval(input('Enter the num3:'))\n",
    "    avg = (n1+n2+n3)/3 #avg = round((n1+n2+n3)/3,2)\n",
    "    out=round(avg,2)\n",
    "    print(f\"the average of the {n1},{n2} and {n3} is {out}\")\n",
    "average()"
   ]
  },
  {
   "cell_type": "code",
   "execution_count": 16,
   "id": "070362e8",
   "metadata": {},
   "outputs": [
    {
     "name": "stdout",
     "output_type": "stream",
     "text": [
      "the average of the 78,58 and 69 is 68.33\n"
     ]
    }
   ],
   "source": [
    "def average(n1,n2,n3):\n",
    "    avg = (n1+n2+n3)/3 #avg = round((n1+n2+n3)/3,2)\n",
    "    out=round(avg,2)\n",
    "    print(f\"the average of the {n1},{n2} and {n3} is {out}\")\n",
    "average(78,58,69)"
   ]
  },
  {
   "cell_type": "code",
   "execution_count": 20,
   "id": "fa2d7876",
   "metadata": {},
   "outputs": [
    {
     "name": "stdout",
     "output_type": "stream",
     "text": [
      "num1 78\n",
      "num3 69\n",
      "the average of the 78,85 and 69 is 77.33\n"
     ]
    }
   ],
   "source": [
    "def average(n1,n3):\n",
    "    print(\"num1\",n1)\n",
    "    n2=85\n",
    "    print(\"num3\",n3)\n",
    "    avg = (n1+n2+n3)/3 \n",
    "    out=round(avg,2)\n",
    "    print(f\"the average of the {n1},{n2} and {n3} is {out}\")\n",
    "average(78,69)"
   ]
  },
  {
   "cell_type": "code",
   "execution_count": null,
   "id": "70348c03",
   "metadata": {},
   "outputs": [],
   "source": [
    "num1=500\n",
    "##################################\n",
    "def summ(num1,num2):\n",
    "    num1=2000\n",
    "    add=num1+num2\n",
    "    print(add)\n",
    "##########################################\n",
    "num1 = 1000\n",
    "summ(150,50)\n",
    "\n",
    "# have you initialized any values before funation call\n",
    "# what are the new values and when are you calling the function \n",
    "# what are the nw values when the function is executing\n",
    "#Function will not return any values until and unless you mention  retuen keyword inside the function"
   ]
  },
  {
   "cell_type": "code",
   "execution_count": 22,
   "id": "da1fafc7",
   "metadata": {},
   "outputs": [
    {
     "name": "stdout",
     "output_type": "stream",
     "text": [
      "Enter the bill:10000\n",
      "Enter the tip percent10\n",
      "The total bill is 11000.0 for the tip percent 10\n"
     ]
    }
   ],
   "source": [
    "def totalbill(bill,tip):\n",
    "    tip_percent =(bill*tip)/100\n",
    "    total_bill=bill+tip_percent\n",
    "    print(f\"The total bill is {total_bill} for the tip percent {tip}\")\n",
    "\n",
    "totalbill(eval(input(\"Enter the bill:\")),eval(input(\"Enter the tip percent\")))\n",
    "\n",
    "#Implement the above function with arguments"
   ]
  },
  {
   "cell_type": "code",
   "execution_count": 24,
   "id": "b552186e",
   "metadata": {},
   "outputs": [
    {
     "name": "stdout",
     "output_type": "stream",
     "text": [
      "Enter a number to check if its even or odd89\n",
      "The number 89 is odd\n"
     ]
    }
   ],
   "source": [
    "def user(no1): \n",
    "    \n",
    "    if no1%2==0:\n",
    "        print(f\"The number {no1} is even\")\n",
    "    else:\n",
    "        print(f\"The number {no1} is odd\")\n",
    "        \n",
    "user(eval(input(\"Enter a number to check if its even or odd\")))\n",
    "        "
   ]
  },
  {
   "cell_type": "code",
   "execution_count": null,
   "id": "29c88be7",
   "metadata": {},
   "outputs": [],
   "source": []
  },
  {
   "cell_type": "code",
   "execution_count": null,
   "id": "a4eac4ed",
   "metadata": {},
   "outputs": [],
   "source": []
  },
  {
   "cell_type": "code",
   "execution_count": null,
   "id": "60fe71d8",
   "metadata": {},
   "outputs": [],
   "source": []
  }
 ],
 "metadata": {
  "kernelspec": {
   "display_name": "Python 3 (ipykernel)",
   "language": "python",
   "name": "python3"
  },
  "language_info": {
   "codemirror_mode": {
    "name": "ipython",
    "version": 3
   },
   "file_extension": ".py",
   "mimetype": "text/x-python",
   "name": "python",
   "nbconvert_exporter": "python",
   "pygments_lexer": "ipython3",
   "version": "3.11.5"
  }
 },
 "nbformat": 4,
 "nbformat_minor": 5
}
