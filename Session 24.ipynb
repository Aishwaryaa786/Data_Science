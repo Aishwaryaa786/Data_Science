{
 "cells": [
  {
   "cell_type": "code",
   "execution_count": 2,
   "id": "142c0f41",
   "metadata": {},
   "outputs": [],
   "source": [
    "s1='can can you canner can not can you buy'"
   ]
  },
  {
   "cell_type": "code",
   "execution_count": 3,
   "id": "cdcd0c02",
   "metadata": {},
   "outputs": [
    {
     "data": {
      "text/plain": [
       "['can', 'can', 'you', 'canner', 'can', 'not', 'can', 'you', 'buy']"
      ]
     },
     "execution_count": 3,
     "metadata": {},
     "output_type": "execute_result"
    }
   ],
   "source": [
    "l=s1.split()\n",
    "l"
   ]
  },
  {
   "cell_type": "code",
   "execution_count": 7,
   "id": "09c956f6",
   "metadata": {},
   "outputs": [
    {
     "name": "stdout",
     "output_type": "stream",
     "text": [
      "can : 4\n",
      "can : 4\n",
      "you : 2\n",
      "canner : 1\n",
      "can : 4\n",
      "not : 1\n",
      "can : 4\n",
      "you : 2\n",
      "buy : 1\n"
     ]
    }
   ],
   "source": [
    "\n",
    "for word in l:\n",
    "    print(word,\":\",l.count(word))\n",
    "    \n",
    "    "
   ]
  },
  {
   "cell_type": "markdown",
   "id": "cae3da6f",
   "metadata": {},
   "source": [
    "$word$-$frequency$"
   ]
  },
  {
   "cell_type": "code",
   "execution_count": 10,
   "id": "ca0bf67e",
   "metadata": {},
   "outputs": [
    {
     "name": "stdout",
     "output_type": "stream",
     "text": [
      "can 4\n",
      "you 2\n",
      "canner 1\n",
      "not 1\n",
      "buy 1\n"
     ]
    }
   ],
   "source": [
    "s1='can can you canner can not can you buy'\n",
    "list_words=s1.split()\n",
    "l1=[]\n",
    "for word in list_words:\n",
    "    if word not in l1:\n",
    "        print(word,list_words.count(word))\n",
    "        l1.append(word)\n",
    "#step1\n",
    "#can     can not in []       true  5 ['can']\n",
    "#can     can not in ['can']   False xxxxxxx\n",
    "#you   you not in ['can']     true 2 ['can','you']"
   ]
  },
  {
   "cell_type": "markdown",
   "id": "647c7c9f",
   "metadata": {},
   "source": [
    "$Insert$"
   ]
  },
  {
   "cell_type": "code",
   "execution_count": 11,
   "id": "e5122255",
   "metadata": {},
   "outputs": [
    {
     "data": {
      "text/plain": [
       "[1, 2, 3, 'a', 4, 100]"
      ]
     },
     "execution_count": 11,
     "metadata": {},
     "output_type": "execute_result"
    }
   ],
   "source": [
    "l1=[1,2,3,4,100]\n",
    "l1.insert(3,'a')\n",
    "l1\n",
    "\n",
    "# 1 2 3 'a' 4 100"
   ]
  },
  {
   "cell_type": "markdown",
   "id": "b9b87921",
   "metadata": {},
   "source": [
    "$Append$"
   ]
  },
  {
   "cell_type": "code",
   "execution_count": 15,
   "id": "96523260",
   "metadata": {},
   "outputs": [
    {
     "name": "stdout",
     "output_type": "stream",
     "text": [
      "Mumbal\n",
      "Chennai\n",
      "Bengaluru\n"
     ]
    },
    {
     "data": {
      "text/plain": [
       "['Mumbal', 'Chennai', 'Bengaluru']"
      ]
     },
     "execution_count": 15,
     "metadata": {},
     "output_type": "execute_result"
    }
   ],
   "source": [
    "l1=['hyd','Mumbal','Chennai','Bengaluru']\n",
    "#l2=['Mumbai','Chennai','Bengaluru']\n",
    "l2=[]\n",
    "for i in l1:\n",
    "    if len(i)>5:\n",
    "        print(i)\n",
    "        l2.append(i)\n",
    "l2"
   ]
  },
  {
   "cell_type": "code",
   "execution_count": 20,
   "id": "cac0662b",
   "metadata": {},
   "outputs": [
    {
     "name": "stdout",
     "output_type": "stream",
     "text": [
      "1\n",
      "4\n",
      "9\n",
      "16\n",
      "25\n",
      "36\n",
      "49\n",
      "64\n",
      "81\n",
      "100\n"
     ]
    },
    {
     "data": {
      "text/plain": [
       "[1, 4, 9, 16, 25, 36, 49, 64, 81, 100]"
      ]
     },
     "execution_count": 20,
     "metadata": {},
     "output_type": "execute_result"
    }
   ],
   "source": [
    "#create a list of sqares of 1 to 10 numbers\n",
    "sqr=[]\n",
    "for i in range(1,11):\n",
    "    print(i*i)\n",
    "    sqr.append(i*i)\n",
    "sqr    "
   ]
  },
  {
   "cell_type": "markdown",
   "id": "fcf7d539",
   "metadata": {},
   "source": [
    "$List$ - $Comprahenshion$"
   ]
  },
  {
   "cell_type": "markdown",
   "id": "acf1f362",
   "metadata": {},
   "source": [
    "$pattern$ - i"
   ]
  },
  {
   "cell_type": "code",
   "execution_count": null,
   "id": "a1f50425",
   "metadata": {},
   "outputs": [],
   "source": [
    " sqr=[]\n",
    "for i in range(1,11):\n",
    "    print(i*i)\n",
    "    sqr.append(i*i)\n",
    "sqr    "
   ]
  },
  {
   "cell_type": "code",
   "execution_count": null,
   "id": "50e7bde5",
   "metadata": {},
   "outputs": [],
   "source": [
    "num=[<output><forloop with out:>]"
   ]
  },
  {
   "cell_type": "code",
   "execution_count": 21,
   "id": "c9f7679d",
   "metadata": {},
   "outputs": [
    {
     "data": {
      "text/plain": [
       "[1, 4, 9, 16, 25, 36, 49, 64, 81, 100]"
      ]
     },
     "execution_count": 21,
     "metadata": {},
     "output_type": "execute_result"
    }
   ],
   "source": [
    "num=[i*i for i in range(1,11)]\n",
    "num"
   ]
  },
  {
   "cell_type": "code",
   "execution_count": 30,
   "id": "9bc66f11",
   "metadata": {},
   "outputs": [
    {
     "data": {
      "text/plain": [
       "['Hyd', 'Mumbai']"
      ]
     },
     "execution_count": 30,
     "metadata": {},
     "output_type": "execute_result"
    }
   ],
   "source": [
    "# l1=['hyd','mumbai']\n",
    "# l2=[]\n",
    "# for i in l1:\n",
    "#     l2.append(i.capitalize())\n",
    "    \n",
    "l1=['hyd','mumbai']\n",
    "l2=[i.capitalize() for i in l1 ]\n",
    "l2"
   ]
  },
  {
   "cell_type": "code",
   "execution_count": null,
   "id": "eabb7357",
   "metadata": {},
   "outputs": [],
   "source": []
  },
  {
   "cell_type": "markdown",
   "id": "7be4a24f",
   "metadata": {},
   "source": [
    "$Pattern$-$2$"
   ]
  },
  {
   "cell_type": "markdown",
   "id": "087a72c4",
   "metadata": {},
   "source": [
    "## for if ##"
   ]
  },
  {
   "cell_type": "code",
   "execution_count": 27,
   "id": "b5fe2b3c",
   "metadata": {},
   "outputs": [
    {
     "data": {
      "text/plain": [
       "['Mumbai', 'Chennai', 'Bengaluru']"
      ]
     },
     "execution_count": 27,
     "metadata": {},
     "output_type": "execute_result"
    }
   ],
   "source": [
    "l1= ['hyd','Mumbai','Chennai','Bengaluru']\n",
    "l2=[]\n",
    "for i in l1:\n",
    "    if len(i)>5:\n",
    "        l2.append(i)\n",
    "l2"
   ]
  },
  {
   "cell_type": "code",
   "execution_count": null,
   "id": "d9878756",
   "metadata": {},
   "outputs": [],
   "source": [
    "l2=[<output><forloop><if codition>]"
   ]
  },
  {
   "cell_type": "code",
   "execution_count": null,
   "id": "465d6f28",
   "metadata": {},
   "outputs": [],
   "source": [
    "l1= ['hyd','Mumbai','Chennai','Bengaluru']\n",
    "l2=[]\n"
   ]
  },
  {
   "cell_type": "code",
   "execution_count": null,
   "id": "58fafd48",
   "metadata": {},
   "outputs": [],
   "source": []
  },
  {
   "cell_type": "markdown",
   "id": "f8e8f2a3",
   "metadata": {},
   "source": [
    "$Pattern-3$:"
   ]
  },
  {
   "cell_type": "markdown",
   "id": "8c30b4f9",
   "metadata": {},
   "source": [
    "$for-if-else$"
   ]
  },
  {
   "cell_type": "code",
   "execution_count": null,
   "id": "6c677c1b",
   "metadata": {},
   "outputs": [],
   "source": [
    " [<if output><if condition> else <else output> <for loop>]"
   ]
  },
  {
   "cell_type": "code",
   "execution_count": 31,
   "id": "f336c989",
   "metadata": {},
   "outputs": [
    {
     "data": {
      "text/plain": [
       "['odd 1',\n",
       " 'even 2',\n",
       " 'odd 3',\n",
       " 'even 4',\n",
       " 'odd 5',\n",
       " 'even 6',\n",
       " 'odd 7',\n",
       " 'even 8',\n",
       " 'odd 9']"
      ]
     },
     "execution_count": 31,
     "metadata": {},
     "output_type": "execute_result"
    }
   ],
   "source": [
    "#l1=[<output><forloop with out:>]\n",
    "#l2=[<output><forloop><if codition>]\n",
    "\n",
    "l=[]\n",
    "for i in range(1,10):\n",
    "    if i%2==0:\n",
    "        l.append(f'even {i}')\n",
    "    else:\n",
    "        l.append(f'odd {i}')\n",
    "l\n",
    "[<if output> if <if condition> else <else output> <for loop>]\n"
   ]
  },
  {
   "cell_type": "code",
   "execution_count": 33,
   "id": "28ec00c6",
   "metadata": {},
   "outputs": [
    {
     "data": {
      "text/plain": [
       "['odd 1',\n",
       " 'even 2',\n",
       " 'odd 3',\n",
       " 'even 4',\n",
       " 'odd 5',\n",
       " 'even 6',\n",
       " 'odd 7',\n",
       " 'even 8',\n",
       " 'odd 9']"
      ]
     },
     "execution_count": 33,
     "metadata": {},
     "output_type": "execute_result"
    }
   ],
   "source": [
    "[f'even {i}'if i%2==0 else f'odd {i}' for i in range(1,10) ]"
   ]
  },
  {
   "cell_type": "code",
   "execution_count": null,
   "id": "ab902f01",
   "metadata": {},
   "outputs": [],
   "source": [
    "Strings \n",
    "List\n",
    "sat sunday = tuple\n",
    "\n",
    "- how to read the tuple\n",
    "- different ways to read tuple\n",
    "- type len max min sum reversed sorted\n",
    "- concatenation \n",
    "- in \n",
    "- index\n",
    "- differnce between in and index range using for loop\n",
    "- mutaable immutable concept\n",
    "- slice \n",
    "- part 2 \n",
    "- methods"
   ]
  },
  {
   "cell_type": "code",
   "execution_count": 34,
   "id": "951072ab",
   "metadata": {},
   "outputs": [
    {
     "data": {
      "text/plain": [
       "tuple"
      ]
     },
     "execution_count": 34,
     "metadata": {},
     "output_type": "execute_result"
    }
   ],
   "source": [
    "t1=(1,2,3)\n",
    "type(t1)"
   ]
  },
  {
   "cell_type": "code",
   "execution_count": 35,
   "id": "2fcd5baa",
   "metadata": {},
   "outputs": [
    {
     "data": {
      "text/plain": [
       "['__add__',\n",
       " '__class__',\n",
       " '__class_getitem__',\n",
       " '__contains__',\n",
       " '__delattr__',\n",
       " '__dir__',\n",
       " '__doc__',\n",
       " '__eq__',\n",
       " '__format__',\n",
       " '__ge__',\n",
       " '__getattribute__',\n",
       " '__getitem__',\n",
       " '__getnewargs__',\n",
       " '__gt__',\n",
       " '__hash__',\n",
       " '__init__',\n",
       " '__init_subclass__',\n",
       " '__iter__',\n",
       " '__le__',\n",
       " '__len__',\n",
       " '__lt__',\n",
       " '__mul__',\n",
       " '__ne__',\n",
       " '__new__',\n",
       " '__reduce__',\n",
       " '__reduce_ex__',\n",
       " '__repr__',\n",
       " '__rmul__',\n",
       " '__setattr__',\n",
       " '__sizeof__',\n",
       " '__str__',\n",
       " '__subclasshook__',\n",
       " 'count',\n",
       " 'index']"
      ]
     },
     "execution_count": 35,
     "metadata": {},
     "output_type": "execute_result"
    }
   ],
   "source": [
    "dir(t1)"
   ]
  },
  {
   "cell_type": "code",
   "execution_count": null,
   "id": "cc5a2b2c",
   "metadata": {},
   "outputs": [],
   "source": [
    "- lambda functions \n",
    "- dictionary\n",
    "- file handeling session \n",
    "\n",
    "Thursdday 15/02/2024 python will complete \n",
    "\n",
    "1 week stats part 1\n",
    "1 week EDA - exploraoty data analysis \n",
    "\n",
    "write a normal code without syntax error === logic "
   ]
  }
 ],
 "metadata": {
  "kernelspec": {
   "display_name": "Python 3 (ipykernel)",
   "language": "python",
   "name": "python3"
  },
  "language_info": {
   "codemirror_mode": {
    "name": "ipython",
    "version": 3
   },
   "file_extension": ".py",
   "mimetype": "text/x-python",
   "name": "python",
   "nbconvert_exporter": "python",
   "pygments_lexer": "ipython3",
   "version": "3.9.13"
  }
 },
 "nbformat": 4,
 "nbformat_minor": 5
}
