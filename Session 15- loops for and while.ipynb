{
 "cells": [
  {
   "cell_type": "code",
   "execution_count": null,
   "id": "85895fad",
   "metadata": {},
   "outputs": [],
   "source": [
    "#loop: repeated task\n",
    "#function : reuse \n",
    "\n",
    "\n",
    "I want to calculate tax \n",
    "def tax_pay():\n",
    "    salary\n",
    "    taxper\n",
    "    tax_amt\n",
    "tax_pay ====1\n",
    "\n",
    "\n"
   ]
  },
  {
   "cell_type": "code",
   "execution_count": 1,
   "id": "d9e87d72",
   "metadata": {},
   "outputs": [
    {
     "name": "stdout",
     "output_type": "stream",
     "text": [
      "0\n",
      "1\n",
      "2\n",
      "3\n",
      "4\n"
     ]
    }
   ],
   "source": [
    "for i in range(5):\n",
    "    print(i)"
   ]
  },
  {
   "cell_type": "code",
   "execution_count": null,
   "id": "a31a41e7",
   "metadata": {},
   "outputs": [],
   "source": [
    "if you wnat to run ny loop we require 3 things\n",
    "- initial point : to start the loop  \n",
    "- increment or decrement :gap\n",
    "- condition : to stop the loop\n",
    "    \n",
    "i want to start with 1\n",
    "i want to stop at 10\n",
    "i want to go step by step by 2 unit \n",
    "\n",
    "    1 3 5 7 9"
   ]
  },
  {
   "cell_type": "code",
   "execution_count": null,
   "id": "8cdd6404",
   "metadata": {},
   "outputs": [],
   "source": [
    "in for loop there 3 lines represent only one line"
   ]
  },
  {
   "cell_type": "markdown",
   "id": "3faa6afc",
   "metadata": {},
   "source": [
    "$pattern -1$:\n",
    "range(stop)\n",
    "- start value by defalut is zero\n",
    "- in python index starts with zero\n",
    "- by default it is increment only and its incremented by 1 \n",
    "- last = stop-1\n",
    "\n",
    "range(5)\n",
    "- start =0\n",
    "- incre = 1\n",
    "- last = 4 \n",
    "- output = 0 1 2 3"
   ]
  },
  {
   "cell_type": "markdown",
   "id": "11fa3d79",
   "metadata": {},
   "source": [
    "for i in range(10):\n",
    "    print(i)"
   ]
  },
  {
   "cell_type": "code",
   "execution_count": 3,
   "id": "0d5481cf",
   "metadata": {},
   "outputs": [
    {
     "name": "stdout",
     "output_type": "stream",
     "text": [
      "0\n",
      "1\n",
      "2\n",
      "3\n",
      "4\n",
      "5\n",
      "6\n",
      "7\n",
      "8\n",
      "9\n"
     ]
    }
   ],
   "source": [
    "for i in range(10): # start=0  last = 9\n",
    "    print(i)"
   ]
  },
  {
   "cell_type": "code",
   "execution_count": 7,
   "id": "61caab22",
   "metadata": {},
   "outputs": [
    {
     "name": "stdout",
     "output_type": "stream",
     "text": [
      "1 2 3 0 1 2 "
     ]
    }
   ],
   "source": [
    "print(1, end=\" \")\n",
    "print(2, end=\" \")\n",
    "print(3, end=\" \")\n",
    "\n",
    "for naresh in range(3):\n",
    "    print(naresh, end=\" \")"
   ]
  },
  {
   "cell_type": "markdown",
   "id": "428b72f4",
   "metadata": {},
   "source": [
    "$Pattern -2$"
   ]
  },
  {
   "cell_type": "code",
   "execution_count": 11,
   "id": "5aac9ddf",
   "metadata": {},
   "outputs": [
    {
     "name": "stdout",
     "output_type": "stream",
     "text": [
      "0 i like to move it move it  0\n",
      "1 i like to move it move it  1\n",
      "2 i like to move it move it  4\n",
      "3 i like to move it move it  9\n",
      "4 i like to move it move it  16\n",
      "5 i like to move it move it  25\n",
      "6 i like to move it move it  36\n",
      "7 i like to move it move it  49\n",
      "8 i like to move it move it  64\n",
      "9 i like to move it move it  81\n",
      "10 i like to move it move it  100\n",
      "11 i like to move it move it  121\n",
      "12 i like to move it move it  144\n",
      "13 i like to move it move it  169\n",
      "14 i like to move it move it  196\n",
      "15 i like to move it move it  225\n",
      "16 i like to move it move it  256\n",
      "17 i like to move it move it  289\n",
      "18 i like to move it move it  324\n",
      "19 i like to move it move it  361\n"
     ]
    }
   ],
   "source": [
    "for m in range(20):\n",
    "    print(m, end=\" i like to move it move it  \")\n",
    "    print(m*m)\n",
    "    \n"
   ]
  },
  {
   "cell_type": "code",
   "execution_count": 13,
   "id": "7d6ec98a",
   "metadata": {},
   "outputs": [
    {
     "name": "stdout",
     "output_type": "stream",
     "text": [
      "1\n",
      "2\n",
      "3 4\n",
      "5\n"
     ]
    }
   ],
   "source": [
    "print(1)\n",
    "print(2)\n",
    "print(3, end=\" \")\n",
    "print(4)\n",
    "print(5)"
   ]
  },
  {
   "cell_type": "markdown",
   "id": "ec900335",
   "metadata": {},
   "source": [
    "$Pattern-2$\n",
    "- start value taken as strat mention inside teh range \n",
    "- increment by deafult it will take one : 1\n",
    "- last=(stop-1)\n",
    "range(5,11)\n",
    "start = 5\n",
    "inc =1\n",
    "last = 11-1 = 10 \n",
    "\n",
    "\n"
   ]
  },
  {
   "cell_type": "code",
   "execution_count": 15,
   "id": "2eb04ef0",
   "metadata": {},
   "outputs": [
    {
     "name": "stdout",
     "output_type": "stream",
     "text": [
      "5 6 7 8 9 10 "
     ]
    }
   ],
   "source": [
    "for k in range(5,11):\n",
    "    print(k, end=\" \")"
   ]
  },
  {
   "cell_type": "markdown",
   "id": "231389ad",
   "metadata": {},
   "source": [
    "$Pattern-3$"
   ]
  },
  {
   "cell_type": "markdown",
   "id": "d6a898c7",
   "metadata": {},
   "source": [
    "range(start,stop,step)\n",
    "- start = start\n",
    "- step : how much gap?\n",
    "    - if step size is positive value consider as positive direction\n",
    "    \n",
    "    - if step size is negative value consider as negative direction \n",
    "- last:\n",
    "    last = stop-1     if step size is positive value\n",
    "    \n",
    "    last = stop+1     if step size is nagative value\n",
    "    "
   ]
  },
  {
   "cell_type": "code",
   "execution_count": 16,
   "id": "6bc8eef9",
   "metadata": {},
   "outputs": [
    {
     "name": "stdout",
     "output_type": "stream",
     "text": [
      "3 5 7 9 11 13 "
     ]
    }
   ],
   "source": [
    "for l in range(3,15,2):\n",
    "    print(l, end =\" \")\n",
    "    \n",
    "    \n",
    "#start = 3\n",
    "#step= 2\n",
    "#last = 15-1=14 direction : negative\n",
    "#3 to 14\n",
    "#3 5 7 9 11 13\n",
    "\n"
   ]
  },
  {
   "cell_type": "code",
   "execution_count": 19,
   "id": "f3b9d60e",
   "metadata": {},
   "outputs": [],
   "source": [
    "for h in range(3,15,-2):\n",
    "    print(h, end =\" \")\n",
    "    \n",
    "    \n",
    "#start = 3\n",
    "#step= - 2 direction : negative \n",
    "#last = 15-1=14\n",
    "#3 to 14\n",
    "#start =3   step=-2 dire =(-)ve last= 15+1=16\n",
    "\n",
    "# 3 to 16 in reverse direction \n",
    "\n",
    "#it will not work so no error and no answer\n"
   ]
  },
  {
   "cell_type": "code",
   "execution_count": null,
   "id": "b0537ef8",
   "metadata": {},
   "outputs": [],
   "source": [
    "for p in range(3,-15,2):\n",
    "    print(p)\n",
    "#start:3 step:2(+ve) last=-15-1 = -16  \n",
    "#3 to -16 \n",
    "# no answer no error"
   ]
  },
  {
   "cell_type": "code",
   "execution_count": null,
   "id": "58da2407",
   "metadata": {},
   "outputs": [],
   "source": [
    "range(5,15,3) #p\n",
    "range(5,15,-3) #np\n",
    "range(5,-15,-3) #p\n",
    "range(-5,-15,-3)#p\n",
    "range(5,-15,3) #np\n",
    "range(-5,-15,3)#np\n",
    "range(-5,15,-3)#np\n",
    "range(-5,15,3)#p\n",
    "range(5,15)#p\n",
    "range(-5,15)#p\n",
    "range(-5,-15)#np\n",
    "range(15,5)#np\n",
    "range(5,15,3) #p\n",
    "range(5,15,-3) #np\n",
    "range(5,-15,-3) #p\n",
    "range(-5,-15,-3)#p\n",
    "range(5,-15,3) #np\n",
    "range(-5,-15,3)#np\n",
    "range(-5,15,-3)#np\n",
    "range(-5,15,3)#p\n",
    "range(5,15)#p\n",
    "range(-5,15)#p\n",
    "range(-5,-15)#p\n",
    "range(15,5)#np\n",
    "range(15,5)#np"
   ]
  },
  {
   "cell_type": "code",
   "execution_count": 20,
   "id": "9b35f4cd",
   "metadata": {},
   "outputs": [
    {
     "name": "stdout",
     "output_type": "stream",
     "text": [
      "The sqaure of 5 is 25\n",
      "The sqaure of 6 is 36\n",
      "The sqaure of 7 is 49\n",
      "The sqaure of 8 is 64\n",
      "The sqaure of 9 is 81\n",
      "The sqaure of 10 is 100\n"
     ]
    }
   ],
   "source": [
    "#wap ask the user print square of numbers from 5 to 10\n",
    "#print (the sqaure of 5 is 25\n",
    "\n",
    "for o in range(5,11):\n",
    "    print(f\"The sqaure of {o} is {o*o}\")\n"
   ]
  },
  {
   "cell_type": "code",
   "execution_count": 21,
   "id": "2dffeb27",
   "metadata": {},
   "outputs": [
    {
     "name": "stdout",
     "output_type": "stream",
     "text": [
      "9  X 1 = 9\n",
      "9  X 2 = 18\n",
      "9  X 3 = 27\n",
      "9  X 4 = 36\n",
      "9  X 5 = 45\n",
      "9  X 6 = 54\n",
      "9  X 7 = 63\n",
      "9  X 8 = 72\n",
      "9  X 9 = 81\n",
      "9  X 10 = 90\n"
     ]
    }
   ],
   "source": [
    "#implement the 9th table\n",
    "for w in range(1,11):\n",
    "    print(f\"{9}  X {w} = {9*w}\")\n"
   ]
  },
  {
   "cell_type": "code",
   "execution_count": 22,
   "id": "8dfdc04b",
   "metadata": {},
   "outputs": [
    {
     "name": "stdout",
     "output_type": "stream",
     "text": [
      "15  X 1 = 15\n",
      "15  X 2 = 30\n",
      "15  X 3 = 45\n",
      "15  X 4 = 60\n",
      "15  X 5 = 75\n",
      "15  X 6 = 90\n",
      "15  X 7 = 105\n",
      "15  X 8 = 120\n",
      "15  X 9 = 135\n",
      "15  X 10 = 150\n"
     ]
    }
   ],
   "source": [
    "#implement the 9th table\n",
    "for q in range(1,11):\n",
    "    print(f\"{15}  X {q} = {15*q}\")"
   ]
  },
  {
   "cell_type": "code",
   "execution_count": 25,
   "id": "97250f3e",
   "metadata": {},
   "outputs": [
    {
     "name": "stdout",
     "output_type": "stream",
     "text": [
      "The random number is 41 and its sqaure is 1681\n",
      "The random number is 12 and its sqaure is 144\n",
      "The random number is 24 and its sqaure is 576\n",
      "The random number is 26 and its sqaure is 676\n",
      "The random number is 7 and its sqaure is 49\n",
      "The random number is 30 and its sqaure is 900\n",
      "The random number is 30 and its sqaure is 900\n",
      "The random number is 30 and its sqaure is 900\n",
      "The random number is 30 and its sqaure is 900\n",
      "The random number is 30 and its sqaure is 900\n"
     ]
    }
   ],
   "source": [
    "#wap ask the user to get 5 random numbers between 5 to 50 and prnt the square of those numbers\n",
    "\n",
    "#5 random numbers means loop should run 5 times\n",
    "# to get random number we need to use random package \n",
    "#random.randint we need to keep inside teh for loop\n",
    "import random\n",
    "for u in range(1,6):\n",
    "    num=random.randint(5,50)\n",
    "    print(f\"The random number is {num} and its sqaure is {num*num}\")\n",
    "###################################################################################\n",
    "\n",
    "#if we have to write the same line mant times, we will take out the random line out of the loop, \n",
    "#it will give output but not the desired output\n",
    "\n",
    "num1=random.randint(5,50)\n",
    "for u1 in range(1,6):\n",
    "    \n",
    "    print(f\"The random number is {num1} and its sqaure is {num1*num1}\")"
   ]
  },
  {
   "cell_type": "code",
   "execution_count": 27,
   "id": "434fcfea",
   "metadata": {},
   "outputs": [
    {
     "name": "stdout",
     "output_type": "stream",
     "text": [
      "good morning \n",
      "good morning \n",
      "good morning \n",
      "good morning \n",
      "good morning\n",
      "good morning\n",
      "good morning\n"
     ]
    }
   ],
   "source": [
    "print(\"good morning \")\n",
    "print(\"good morning \")\n",
    "print(\"good morning \")\n",
    "print(\"good morning \")\n",
    "\n",
    "\n",
    "for i in range(3):\n",
    "    print(\"good morning\")"
   ]
  },
  {
   "cell_type": "code",
   "execution_count": 30,
   "id": "42a05171",
   "metadata": {},
   "outputs": [
    {
     "name": "stdout",
     "output_type": "stream",
     "text": [
      "5 It is odd number\n",
      "6 It is even  number\n",
      "7 It is odd number\n",
      "8 It is even  number\n",
      "9 It is odd number\n",
      "10 It is even  number\n",
      "Enter the number whose value is needed to be figured out5\n",
      "5 It is odd number\n",
      "Enter the number whose value is needed to be figured out8\n",
      "8 It is even  number\n",
      "Enter the number whose value is needed to be figured out2\n",
      "2 It is even  number\n",
      "Enter the number whose value is needed to be figured out6\n",
      "6 It is even  number\n",
      "Enter the number whose value is needed to be figured out6\n",
      "6 It is even  number\n"
     ]
    }
   ],
   "source": [
    "#wap of the user print it is even number or odd number \n",
    "#between 5 to 10\n",
    "\n",
    "for e in range(5,11):\n",
    "   \n",
    "    if e%2==0:\n",
    "        print(f\"{e} It is even  number\")\n",
    "    else:\n",
    "        print(f\"{e} It is odd number\")\n",
    "        \n",
    "\n",
    "#wap of the user enter a number and print i is even number or odd and ask the user to enter \n",
    "#a number 5 times\n",
    "\n",
    "for y in range(5):\n",
    "    num1=eval(input(\"Enter the number whose value is needed to be figured out\"))\n",
    "    if num1%2==0:\n",
    "        print(f\"{num1} It is even  number\")\n",
    "    else:\n",
    "        print(f\"{num1} It is odd number\")\n",
    "\n",
    "\n",
    "#wap ask the user get a 5 random numbers between 5,50\n",
    "#print it is even or odd\n",
    "\n",
    "for u in range(5):\n",
    "    bu=random.randint(5,50)\n",
    "    if bu%2==0:\n",
    "            print(f\"{bu} It is even  number\")\n",
    "    else:\n",
    "         print(f\"{bu} It is odd number\")\n",
    "     \n",
    "            \n"
   ]
  },
  {
   "cell_type": "code",
   "execution_count": 45,
   "id": "700ed86a",
   "metadata": {},
   "outputs": [
    {
     "name": "stdout",
     "output_type": "stream",
     "text": [
      "50 It is even  number\n",
      "24 It is even  number\n",
      "32 It is even  number\n",
      "38 It is even  number\n",
      "40 It is even  number\n",
      "The number of even_count is 5\n",
      "The number of odd_count is 0\n"
     ]
    }
   ],
   "source": [
    "#wap to find even or odd for 5 random numbers and count the even and \n",
    "#odd numbers\n",
    "\n",
    "even_count=0\n",
    "odd_count=0\n",
    "\n",
    "\n",
    "\n",
    "for u in range(5):\n",
    "    bu=random.randint(5,50)\n",
    "    if bu%2==0:\n",
    "            print(f\"{bu} It is even  number\")\n",
    "            even_count=even_count+1\n",
    "    else:\n",
    "        print(f\"{bu} It is odd number\")\n",
    "        odd_count=odd_count+1\n",
    "        \n",
    "         \n",
    "        \n",
    "print(\"The number of even_count is\",even_count) \n",
    "print(\"The number of odd_count is\",odd_count)   \n",
    "            \n",
    "            \n",
    "            \n",
    "    \n",
    "            \n",
    "           "
   ]
  },
  {
   "cell_type": "code",
   "execution_count": null,
   "id": "ba57e6f8",
   "metadata": {},
   "outputs": [],
   "source": []
  }
 ],
 "metadata": {
  "kernelspec": {
   "display_name": "Python 3 (ipykernel)",
   "language": "python",
   "name": "python3"
  },
  "language_info": {
   "codemirror_mode": {
    "name": "ipython",
    "version": 3
   },
   "file_extension": ".py",
   "mimetype": "text/x-python",
   "name": "python",
   "nbconvert_exporter": "python",
   "pygments_lexer": "ipython3",
   "version": "3.11.5"
  }
 },
 "nbformat": 4,
 "nbformat_minor": 5
}
