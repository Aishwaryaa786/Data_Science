{
 "cells": [
  {
   "cell_type": "markdown",
   "id": "7544a096",
   "metadata": {},
   "source": [
    "$LISTS$"
   ]
  },
  {
   "cell_type": "code",
   "execution_count": null,
   "id": "cd00ce0f",
   "metadata": {},
   "outputs": [],
   "source": [
    "str1=''"
   ]
  },
  {
   "cell_type": "code",
   "execution_count": 1,
   "id": "447eacb9",
   "metadata": {},
   "outputs": [
    {
     "data": {
      "text/plain": [
       "[1, 2, 3, 4, 5]"
      ]
     },
     "execution_count": 1,
     "metadata": {},
     "output_type": "execute_result"
    }
   ],
   "source": [
    "l1=[1,2,3,4,5]\n",
    "l1"
   ]
  },
  {
   "cell_type": "code",
   "execution_count": 2,
   "id": "9b36b996",
   "metadata": {},
   "outputs": [
    {
     "data": {
      "text/plain": [
       "list"
      ]
     },
     "execution_count": 2,
     "metadata": {},
     "output_type": "execute_result"
    }
   ],
   "source": [
    "type(l1)"
   ]
  },
  {
   "cell_type": "markdown",
   "id": "f900b675",
   "metadata": {},
   "source": [
    "- List will be in the sqaure bracket"
   ]
  },
  {
   "cell_type": "code",
   "execution_count": 4,
   "id": "137ca56c",
   "metadata": {},
   "outputs": [
    {
     "data": {
      "text/plain": [
       "['Apple', 'Banana', 'Cherr']"
      ]
     },
     "execution_count": 4,
     "metadata": {},
     "output_type": "execute_result"
    }
   ],
   "source": [
    "l2=['Apple','Banana','Cherr']\n",
    "l2"
   ]
  },
  {
   "cell_type": "code",
   "execution_count": 7,
   "id": "0596dee3",
   "metadata": {},
   "outputs": [
    {
     "data": {
      "text/plain": [
       "[1, 2, 3, 'A', 'B', 'C']"
      ]
     },
     "execution_count": 7,
     "metadata": {},
     "output_type": "execute_result"
    }
   ],
   "source": [
    "l3=[1,2,3,'A','B','C']\n",
    "l3"
   ]
  },
  {
   "cell_type": "code",
   "execution_count": 8,
   "id": "d0a18ae9",
   "metadata": {},
   "outputs": [
    {
     "data": {
      "text/plain": [
       "[1, 2, 3, 'A', 'B', 'C', 10.5, True, (20+3j)]"
      ]
     },
     "execution_count": 8,
     "metadata": {},
     "output_type": "execute_result"
    }
   ],
   "source": [
    "l4=[1,2,3,'A','B','C',10.5,True,20+3j]\n",
    "l4"
   ]
  },
  {
   "cell_type": "code",
   "execution_count": 10,
   "id": "c707f404",
   "metadata": {},
   "outputs": [
    {
     "data": {
      "text/plain": [
       "[100, 100, 100]"
      ]
     },
     "execution_count": 10,
     "metadata": {},
     "output_type": "execute_result"
    }
   ],
   "source": [
    "l5=[100,100,100]\n",
    "l5"
   ]
  },
  {
   "cell_type": "code",
   "execution_count": 11,
   "id": "fc7506a1",
   "metadata": {},
   "outputs": [
    {
     "data": {
      "text/plain": [
       "[1, 2, 3, ['A', 'B', 'C']]"
      ]
     },
     "execution_count": 11,
     "metadata": {},
     "output_type": "execute_result"
    }
   ],
   "source": [
    "l6=[1,2,3,['A','B','C']]\n",
    "l6"
   ]
  },
  {
   "cell_type": "code",
   "execution_count": 14,
   "id": "928a6cd7",
   "metadata": {},
   "outputs": [
    {
     "data": {
      "text/plain": [
       "['$', '%', '<', '^']"
      ]
     },
     "execution_count": 14,
     "metadata": {},
     "output_type": "execute_result"
    }
   ],
   "source": [
    "l7=['$','%','<','^']\n",
    "l7"
   ]
  },
  {
   "cell_type": "code",
   "execution_count": 17,
   "id": "c04b1a53",
   "metadata": {},
   "outputs": [
    {
     "data": {
      "text/plain": [
       "[[[['$', '%', '<', '^']]]]"
      ]
     },
     "execution_count": 17,
     "metadata": {},
     "output_type": "execute_result"
    }
   ],
   "source": [
    "l8=[_]\n",
    "l8"
   ]
  },
  {
   "cell_type": "markdown",
   "id": "9a49314d",
   "metadata": {},
   "source": [
    "- List is array of elements \n",
    "- That elemnts can be any data type\n",
    "- Heterogeneous\n",
    "- list allows duplicates\n",
    "- list can extend with any values\n",
    "- list in list is posiible\n",
    "- list of underscore, is nothing but list in list"
   ]
  },
  {
   "cell_type": "code",
   "execution_count": 19,
   "id": "3f4e30a2",
   "metadata": {},
   "outputs": [
    {
     "data": {
      "text/plain": [
       "(5, 5, 1, 15)"
      ]
     },
     "execution_count": 19,
     "metadata": {},
     "output_type": "execute_result"
    }
   ],
   "source": [
    "l1\n",
    "#len\n",
    "#max\n",
    "#min\n",
    "#sum\n",
    "m1=len(l1)\n",
    "m2=max(l1)\n",
    "m3=min(l1)\n",
    "m4=sum(l1)\n",
    "m1,m2,m3,m4"
   ]
  },
  {
   "cell_type": "code",
   "execution_count": 20,
   "id": "647116f4",
   "metadata": {},
   "outputs": [
    {
     "data": {
      "text/plain": [
       "(5, 5, 1, 15)"
      ]
     },
     "execution_count": 20,
     "metadata": {},
     "output_type": "execute_result"
    }
   ],
   "source": [
    "len(l1),max(l1),min(l1),sum(l1)"
   ]
  },
  {
   "cell_type": "code",
   "execution_count": 21,
   "id": "96774b0a",
   "metadata": {},
   "outputs": [
    {
     "ename": "TypeError",
     "evalue": "unsupported operand type(s) for +: 'int' and 'str'",
     "output_type": "error",
     "traceback": [
      "\u001b[1;31m---------------------------------------------------------------------------\u001b[0m",
      "\u001b[1;31mTypeError\u001b[0m                                 Traceback (most recent call last)",
      "Cell \u001b[1;32mIn[21], line 1\u001b[0m\n\u001b[1;32m----> 1\u001b[0m \u001b[38;5;28mlen\u001b[39m(l2),\u001b[38;5;28mmax\u001b[39m(l2),\u001b[38;5;28mmin\u001b[39m(l2),\u001b[38;5;28msum\u001b[39m(l2)\n",
      "\u001b[1;31mTypeError\u001b[0m: unsupported operand type(s) for +: 'int' and 'str'"
     ]
    }
   ],
   "source": [
    "len(l2),max(l2),min(l2),sum(l2)"
   ]
  },
  {
   "cell_type": "code",
   "execution_count": 22,
   "id": "273a0e45",
   "metadata": {},
   "outputs": [
    {
     "ename": "TypeError",
     "evalue": "'>' not supported between instances of 'str' and 'int'",
     "output_type": "error",
     "traceback": [
      "\u001b[1;31m---------------------------------------------------------------------------\u001b[0m",
      "\u001b[1;31mTypeError\u001b[0m                                 Traceback (most recent call last)",
      "Cell \u001b[1;32mIn[22], line 1\u001b[0m\n\u001b[1;32m----> 1\u001b[0m \u001b[38;5;28mlen\u001b[39m(l3),\u001b[38;5;28mmax\u001b[39m(l3),\u001b[38;5;28mmin\u001b[39m(l3),\u001b[38;5;28msum\u001b[39m(l3)\n",
      "\u001b[1;31mTypeError\u001b[0m: '>' not supported between instances of 'str' and 'int'"
     ]
    }
   ],
   "source": [
    "len(l3),max(l3),min(l3),sum(l3)"
   ]
  },
  {
   "cell_type": "code",
   "execution_count": 23,
   "id": "4d65f470",
   "metadata": {},
   "outputs": [
    {
     "ename": "TypeError",
     "evalue": "'>' not supported between instances of 'str' and 'int'",
     "output_type": "error",
     "traceback": [
      "\u001b[1;31m---------------------------------------------------------------------------\u001b[0m",
      "\u001b[1;31mTypeError\u001b[0m                                 Traceback (most recent call last)",
      "Cell \u001b[1;32mIn[23], line 1\u001b[0m\n\u001b[1;32m----> 1\u001b[0m \u001b[38;5;28mlen\u001b[39m(l4),\u001b[38;5;28mmax\u001b[39m(l4),\u001b[38;5;28mmin\u001b[39m(l4),\u001b[38;5;28msum\u001b[39m(l4)\n",
      "\u001b[1;31mTypeError\u001b[0m: '>' not supported between instances of 'str' and 'int'"
     ]
    }
   ],
   "source": [
    "len(l4),max(l4),min(l4),sum(l4)"
   ]
  },
  {
   "cell_type": "code",
   "execution_count": 24,
   "id": "fec18a99",
   "metadata": {},
   "outputs": [
    {
     "data": {
      "text/plain": [
       "(3, 100, 100, 300)"
      ]
     },
     "execution_count": 24,
     "metadata": {},
     "output_type": "execute_result"
    }
   ],
   "source": [
    "len(l5),max(l5),min(l5),sum(l5)"
   ]
  },
  {
   "cell_type": "code",
   "execution_count": 25,
   "id": "b7eb7a56",
   "metadata": {},
   "outputs": [
    {
     "ename": "TypeError",
     "evalue": "'>' not supported between instances of 'list' and 'int'",
     "output_type": "error",
     "traceback": [
      "\u001b[1;31m---------------------------------------------------------------------------\u001b[0m",
      "\u001b[1;31mTypeError\u001b[0m                                 Traceback (most recent call last)",
      "Cell \u001b[1;32mIn[25], line 1\u001b[0m\n\u001b[1;32m----> 1\u001b[0m \u001b[38;5;28mlen\u001b[39m(l6),\u001b[38;5;28mmax\u001b[39m(l6),\u001b[38;5;28mmin\u001b[39m(l6),\u001b[38;5;28msum\u001b[39m(l6)\n",
      "\u001b[1;31mTypeError\u001b[0m: '>' not supported between instances of 'list' and 'int'"
     ]
    }
   ],
   "source": [
    "len(l6),max(l6),min(l6),sum(l6)"
   ]
  },
  {
   "cell_type": "code",
   "execution_count": 26,
   "id": "12b9cd59",
   "metadata": {},
   "outputs": [
    {
     "data": {
      "text/plain": [
       "[5, 4, 3, 2, 1]"
      ]
     },
     "execution_count": 26,
     "metadata": {},
     "output_type": "execute_result"
    }
   ],
   "source": [
    "sorted(l1,reverse=True)"
   ]
  },
  {
   "cell_type": "code",
   "execution_count": 27,
   "id": "75218a1b",
   "metadata": {},
   "outputs": [
    {
     "data": {
      "text/plain": [
       "[1, 2, 3, 4, 5]"
      ]
     },
     "execution_count": 27,
     "metadata": {},
     "output_type": "execute_result"
    }
   ],
   "source": [
    "sorted(l1)\n",
    "#by default reverse =False\n",
    "#whic means ascending order"
   ]
  },
  {
   "cell_type": "code",
   "execution_count": 28,
   "id": "dabba9b8",
   "metadata": {},
   "outputs": [
    {
     "data": {
      "text/plain": [
       "['Cherr', 'Banana', 'Apple']"
      ]
     },
     "execution_count": 28,
     "metadata": {},
     "output_type": "execute_result"
    }
   ],
   "source": [
    "sorted(l2,reverse=True)"
   ]
  },
  {
   "cell_type": "code",
   "execution_count": 29,
   "id": "ff8a289a",
   "metadata": {},
   "outputs": [
    {
     "ename": "TypeError",
     "evalue": "'<' not supported between instances of 'int' and 'str'",
     "output_type": "error",
     "traceback": [
      "\u001b[1;31m---------------------------------------------------------------------------\u001b[0m",
      "\u001b[1;31mTypeError\u001b[0m                                 Traceback (most recent call last)",
      "Cell \u001b[1;32mIn[29], line 1\u001b[0m\n\u001b[1;32m----> 1\u001b[0m \u001b[38;5;28msorted\u001b[39m(l3,reverse\u001b[38;5;241m=\u001b[39m\u001b[38;5;28;01mTrue\u001b[39;00m)\n",
      "\u001b[1;31mTypeError\u001b[0m: '<' not supported between instances of 'int' and 'str'"
     ]
    }
   ],
   "source": [
    "sorted(l3,reverse=True)"
   ]
  },
  {
   "cell_type": "code",
   "execution_count": 30,
   "id": "73be3b30",
   "metadata": {},
   "outputs": [
    {
     "ename": "TypeError",
     "evalue": "'<' not supported between instances of 'bool' and 'complex'",
     "output_type": "error",
     "traceback": [
      "\u001b[1;31m---------------------------------------------------------------------------\u001b[0m",
      "\u001b[1;31mTypeError\u001b[0m                                 Traceback (most recent call last)",
      "Cell \u001b[1;32mIn[30], line 1\u001b[0m\n\u001b[1;32m----> 1\u001b[0m \u001b[38;5;28msorted\u001b[39m(l4,reverse\u001b[38;5;241m=\u001b[39m\u001b[38;5;28;01mTrue\u001b[39;00m)\n",
      "\u001b[1;31mTypeError\u001b[0m: '<' not supported between instances of 'bool' and 'complex'"
     ]
    }
   ],
   "source": [
    "sorted(l4,reverse=True)"
   ]
  },
  {
   "cell_type": "code",
   "execution_count": 31,
   "id": "da753454",
   "metadata": {},
   "outputs": [
    {
     "data": {
      "text/plain": [
       "[100, 100, 100]"
      ]
     },
     "execution_count": 31,
     "metadata": {},
     "output_type": "execute_result"
    }
   ],
   "source": [
    "sorted(l5,reverse=True)"
   ]
  },
  {
   "cell_type": "code",
   "execution_count": 32,
   "id": "6f32b0c8",
   "metadata": {},
   "outputs": [
    {
     "name": "stdout",
     "output_type": "stream",
     "text": [
      "5\n",
      "4\n",
      "3\n",
      "2\n",
      "1\n"
     ]
    }
   ],
   "source": [
    "val=reversed(l1)\n",
    "for i in val:\n",
    "    print(i)"
   ]
  },
  {
   "cell_type": "code",
   "execution_count": 33,
   "id": "a0222e89",
   "metadata": {},
   "outputs": [
    {
     "name": "stdout",
     "output_type": "stream",
     "text": [
      "Cherr\n",
      "Banana\n",
      "Apple\n"
     ]
    }
   ],
   "source": [
    "val=reversed(l2)\n",
    "for i in val:\n",
    "    print(i)"
   ]
  },
  {
   "cell_type": "code",
   "execution_count": 34,
   "id": "c2fae990",
   "metadata": {},
   "outputs": [
    {
     "name": "stdout",
     "output_type": "stream",
     "text": [
      "C\n",
      "B\n",
      "A\n",
      "3\n",
      "2\n",
      "1\n"
     ]
    }
   ],
   "source": [
    "val=reversed(l3)\n",
    "for i in val:\n",
    "    print(i)"
   ]
  },
  {
   "cell_type": "code",
   "execution_count": 35,
   "id": "23a41700",
   "metadata": {},
   "outputs": [
    {
     "name": "stdout",
     "output_type": "stream",
     "text": [
      "(20+3j)\n",
      "True\n",
      "10.5\n",
      "C\n",
      "B\n",
      "A\n",
      "3\n",
      "2\n",
      "1\n"
     ]
    }
   ],
   "source": [
    "val=reversed(l4)\n",
    "for i in val:\n",
    "    print(i)"
   ]
  },
  {
   "cell_type": "code",
   "execution_count": 36,
   "id": "381291fa",
   "metadata": {},
   "outputs": [
    {
     "name": "stdout",
     "output_type": "stream",
     "text": [
      "100\n",
      "100\n",
      "100\n"
     ]
    }
   ],
   "source": [
    "val=reversed(l5)\n",
    "for i in val:\n",
    "    print(i)"
   ]
  },
  {
   "cell_type": "code",
   "execution_count": 38,
   "id": "f8576cdf",
   "metadata": {},
   "outputs": [
    {
     "name": "stdout",
     "output_type": "stream",
     "text": [
      "1\n",
      "2\n",
      "3\n",
      "4\n",
      "5\n"
     ]
    }
   ],
   "source": [
    "for i in l1:\n",
    "    print(i)"
   ]
  },
  {
   "cell_type": "code",
   "execution_count": 39,
   "id": "078bdc6b",
   "metadata": {},
   "outputs": [
    {
     "data": {
      "text/plain": [
       "('Apple', 'Banana', 'Cherr')"
      ]
     },
     "execution_count": 39,
     "metadata": {},
     "output_type": "execute_result"
    }
   ],
   "source": [
    "l2[0],l2[1],l2[2]"
   ]
  },
  {
   "cell_type": "code",
   "execution_count": 40,
   "id": "24aeb742",
   "metadata": {},
   "outputs": [
    {
     "data": {
      "text/plain": [
       "('Apple', 'Banana', 'Cherr')"
      ]
     },
     "execution_count": 40,
     "metadata": {},
     "output_type": "execute_result"
    }
   ],
   "source": [
    "l2[-3],l2[-2],l2[-1]"
   ]
  },
  {
   "cell_type": "code",
   "execution_count": 41,
   "id": "f8f9ca2a",
   "metadata": {},
   "outputs": [
    {
     "name": "stdout",
     "output_type": "stream",
     "text": [
      "0\n",
      "1\n",
      "2\n"
     ]
    }
   ],
   "source": [
    "for i in range(len(l2)):\n",
    "    print(i)\n",
    "    "
   ]
  },
  {
   "cell_type": "code",
   "execution_count": 49,
   "id": "9b35532c",
   "metadata": {},
   "outputs": [
    {
     "name": "stdout",
     "output_type": "stream",
     "text": [
      "0\n",
      "1\n",
      "2\n"
     ]
    }
   ],
   "source": [
    "for i in range(len(l2)):\n",
    "    print(i)"
   ]
  },
  {
   "cell_type": "code",
   "execution_count": 42,
   "id": "672458f8",
   "metadata": {},
   "outputs": [
    {
     "name": "stdout",
     "output_type": "stream",
     "text": [
      "0\n",
      "1\n",
      "2\n",
      "3\n",
      "4\n"
     ]
    }
   ],
   "source": [
    "for i in range(len(l1)):\n",
    "    print(i)\n",
    "    "
   ]
  },
  {
   "cell_type": "code",
   "execution_count": 43,
   "id": "d46ff159",
   "metadata": {},
   "outputs": [
    {
     "name": "stdout",
     "output_type": "stream",
     "text": [
      "0\n",
      "1\n",
      "2\n",
      "3\n",
      "4\n",
      "5\n"
     ]
    }
   ],
   "source": [
    "for i in range(len(l3)):\n",
    "    print(i)\n",
    "    "
   ]
  },
  {
   "cell_type": "code",
   "execution_count": 45,
   "id": "f8ee1323",
   "metadata": {},
   "outputs": [
    {
     "name": "stdout",
     "output_type": "stream",
     "text": [
      "0\n",
      "1\n",
      "2\n",
      "3\n",
      "4\n",
      "5\n",
      "6\n",
      "7\n",
      "8\n"
     ]
    }
   ],
   "source": [
    "for i in range(len(l4)):\n",
    "    print(i)\n",
    "    "
   ]
  },
  {
   "cell_type": "code",
   "execution_count": 46,
   "id": "e3c38b65",
   "metadata": {},
   "outputs": [
    {
     "name": "stdout",
     "output_type": "stream",
     "text": [
      "0\n",
      "1\n",
      "2\n"
     ]
    }
   ],
   "source": [
    "for i in range(len(l5)):\n",
    "    print(i)\n",
    "    "
   ]
  },
  {
   "cell_type": "code",
   "execution_count": 47,
   "id": "2b8de988",
   "metadata": {},
   "outputs": [
    {
     "name": "stdout",
     "output_type": "stream",
     "text": [
      "0\n",
      "1\n",
      "2\n",
      "3\n"
     ]
    }
   ],
   "source": [
    "for i in range(len(l6)):\n",
    "    print(i)\n",
    "    "
   ]
  },
  {
   "cell_type": "code",
   "execution_count": 51,
   "id": "83cc24b4",
   "metadata": {},
   "outputs": [
    {
     "name": "stdout",
     "output_type": "stream",
     "text": [
      "0 1\n",
      "1 2\n",
      "2 3\n",
      "3 4\n",
      "4 5\n"
     ]
    }
   ],
   "source": [
    "for i in range(len(l1)):\n",
    "    print(i,l1[i])"
   ]
  },
  {
   "cell_type": "code",
   "execution_count": 55,
   "id": "0233d1ca",
   "metadata": {},
   "outputs": [
    {
     "name": "stdout",
     "output_type": "stream",
     "text": [
      " Positive index of Apple is 0\n",
      " Negative index of Apple is -3\n",
      " Positive index 0 and Negative index of Apple is -3\n",
      " Positive index of Banana is 1\n",
      " Negative index of Banana is -2\n",
      " Positive index 1 and Negative index of Banana is -2\n",
      " Positive index of Cherr is 2\n",
      " Negative index of Cherr is -1\n",
      " Positive index 2 and Negative index of Cherr is -1\n"
     ]
    }
   ],
   "source": [
    "#positive index\n",
    "#negative index\n",
    "#psoitive and negative both\n",
    "\n",
    "for i in range(len(l2)):\n",
    "    print(f\" Positive index of {l2[i]} is {i}\")\n",
    "    print(f\" Negative index of {l2[i]} is {i-3}\")\n",
    "    print(f\" Positive index {i} and Negative index of {l2[i]} is {i-3}\")\n",
    "    "
   ]
  },
  {
   "cell_type": "markdown",
   "id": "61d891ec",
   "metadata": {},
   "source": [
    "$mutable$-$immutable$"
   ]
  },
  {
   "cell_type": "code",
   "execution_count": 56,
   "id": "7b821793",
   "metadata": {},
   "outputs": [
    {
     "data": {
      "text/plain": [
       "[100, 2, 3, 4, 5]"
      ]
     },
     "execution_count": 56,
     "metadata": {},
     "output_type": "execute_result"
    }
   ],
   "source": [
    "l7=[1,2,3,4,5]\n",
    "l7[0]=100\n",
    "l7\n",
    "#if we are abe to change the index value then its called as mutable\n",
    "#lists are mutable \n",
    "#strings are immutable"
   ]
  },
  {
   "cell_type": "code",
   "execution_count": null,
   "id": "57cd2da1",
   "metadata": {},
   "outputs": [],
   "source": [
    "lists1=[1,2,3,4,5,'A','B','C','D','E',100,200,300,400,\"APPLE\"]\n",
    "list1[3:14:2] #p\n",
    "list1[3:14:-2] #np\n",
    "list1[3:-14:2] #np\n",
    "list1[3:-14:-2] "
   ]
  },
  {
   "cell_type": "code",
   "execution_count": null,
   "id": "6604a12e",
   "metadata": {},
   "outputs": [],
   "source": []
  },
  {
   "cell_type": "code",
   "execution_count": null,
   "id": "a8069669",
   "metadata": {},
   "outputs": [],
   "source": []
  },
  {
   "cell_type": "code",
   "execution_count": null,
   "id": "d965bb05",
   "metadata": {},
   "outputs": [],
   "source": []
  },
  {
   "cell_type": "code",
   "execution_count": null,
   "id": "aa953565",
   "metadata": {},
   "outputs": [],
   "source": []
  }
 ],
 "metadata": {
  "kernelspec": {
   "display_name": "Python 3 (ipykernel)",
   "language": "python",
   "name": "python3"
  },
  "language_info": {
   "codemirror_mode": {
    "name": "ipython",
    "version": 3
   },
   "file_extension": ".py",
   "mimetype": "text/x-python",
   "name": "python",
   "nbconvert_exporter": "python",
   "pygments_lexer": "ipython3",
   "version": "3.11.5"
  }
 },
 "nbformat": 4,
 "nbformat_minor": 5
}
