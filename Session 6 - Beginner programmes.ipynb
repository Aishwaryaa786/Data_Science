{
 "cells": [
  {
   "cell_type": "code",
   "execution_count": 2,
   "id": "0b368a67",
   "metadata": {},
   "outputs": [
    {
     "name": "stdout",
     "output_type": "stream",
     "text": [
      "Addition of 10 and 20 gives us 30\n"
     ]
    }
   ],
   "source": [
    "num1 = 10\n",
    "num2 = 20\n",
    "add = num1+ num2\n",
    "print (f'Addition of {num1} and {num2} gives us {add}')"
   ]
  },
  {
   "cell_type": "markdown",
   "id": "dac68440",
   "metadata": {},
   "source": [
    "$Input$"
   ]
  },
  {
   "cell_type": "code",
   "execution_count": 3,
   "id": "8e72f344",
   "metadata": {},
   "outputs": [
    {
     "name": "stdout",
     "output_type": "stream",
     "text": [
      "humma\n"
     ]
    },
    {
     "data": {
      "text/plain": [
       "'humma'"
      ]
     },
     "execution_count": 3,
     "metadata": {},
     "output_type": "execute_result"
    }
   ],
   "source": [
    "input()"
   ]
  },
  {
   "cell_type": "code",
   "execution_count": 5,
   "id": "b3d488f9",
   "metadata": {},
   "outputs": [
    {
     "name": "stdout",
     "output_type": "stream",
     "text": [
      "Enter a num :30\n"
     ]
    },
    {
     "data": {
      "text/plain": [
       "'30'"
      ]
     },
     "execution_count": 5,
     "metadata": {},
     "output_type": "execute_result"
    }
   ],
   "source": [
    "input(\"Enter a num :\")"
   ]
  },
  {
   "cell_type": "code",
   "execution_count": 7,
   "id": "6aedd9ad",
   "metadata": {},
   "outputs": [
    {
     "name": "stdout",
     "output_type": "stream",
     "text": [
      "Enter a name :Python \n"
     ]
    },
    {
     "data": {
      "text/plain": [
       "'Python '"
      ]
     },
     "execution_count": 7,
     "metadata": {},
     "output_type": "execute_result"
    }
   ],
   "source": [
    "input(\"Enter a name :\")"
   ]
  },
  {
   "cell_type": "code",
   "execution_count": 8,
   "id": "38f0a378",
   "metadata": {},
   "outputs": [
    {
     "name": "stdout",
     "output_type": "stream",
     "text": [
      "Enter a num1 :12\n",
      "Enter a num2 :21\n"
     ]
    },
    {
     "data": {
      "text/plain": [
       "'1221'"
      ]
     },
     "execution_count": 8,
     "metadata": {},
     "output_type": "execute_result"
    }
   ],
   "source": [
    "num1=input(\"Enter a num1 :\")#num1 = 12\n",
    "num2=input(\"Enter a num2 :\")#num2 =21\n",
    "num1 + num2                 #'12' + '21'='1221'"
   ]
  },
  {
   "cell_type": "markdown",
   "id": "ca90d8bf",
   "metadata": {},
   "source": [
    "**Note: The default data type from keyboard using input keyword is string**"
   ]
  },
  {
   "cell_type": "code",
   "execution_count": 13,
   "id": "3fa5940b",
   "metadata": {},
   "outputs": [
    {
     "name": "stdout",
     "output_type": "stream",
     "text": [
      "Enter a num1 :44\n",
      "Enter a num2 :44\n",
      "The addition of 44 and 44 is 88\n"
     ]
    }
   ],
   "source": [
    "num1=int(input(\"Enter a num1 :\"))#num1 = 12\n",
    "num2=int(input(\"Enter a num2 :\"))#num2 =21\n",
    "print(f\"The addition of {num1} and {num2} is {num1+num2}\")            "
   ]
  },
  {
   "cell_type": "markdown",
   "id": "2aca4b69",
   "metadata": {},
   "source": [
    "**The manthra here is int_of_input_of**"
   ]
  },
  {
   "cell_type": "code",
   "execution_count": 14,
   "id": "595538de",
   "metadata": {},
   "outputs": [
    {
     "name": "stdout",
     "output_type": "stream",
     "text": [
      "Enter a num1 :22\n",
      "Enter a num2 :22\n",
      "The addition of 22 and 22 is 44\n"
     ]
    }
   ],
   "source": [
    "num1=input(\"Enter a num1 :\")\n",
    "num2=input(\"Enter a num2 :\")\n",
    "sum = int(num1)+ int(num1)\n",
    "print(f\"The addition of {num1} and {num2} is {sum}\")   "
   ]
  },
  {
   "cell_type": "markdown",
   "id": "085f1332",
   "metadata": {},
   "source": [
    "$eval$ : evaluate the number automatically based on original data type\n",
    "    - as this evaluate is term of mathematics we shoud not give string\n",
    "    "
   ]
  },
  {
   "cell_type": "code",
   "execution_count": 15,
   "id": "a6bea63e",
   "metadata": {},
   "outputs": [
    {
     "name": "stdout",
     "output_type": "stream",
     "text": [
      "Enter a num1 :89\n",
      "Enter a num2 :32\n",
      "The addition of 89 and 32 is 178\n"
     ]
    }
   ],
   "source": [
    "num1=eval(input(\"Enter a num1 :\"))\n",
    "num2=eval(input(\"Enter a num2 :\"))\n",
    "sum = num1+num1\n",
    "print(f\"The addition of {num1} and {num2} is {sum}\")   "
   ]
  },
  {
   "cell_type": "code",
   "execution_count": 20,
   "id": "a3d7f43e",
   "metadata": {},
   "outputs": [
    {
     "name": "stdout",
     "output_type": "stream",
     "text": [
      "Enter a num1 :30\n",
      "Enter a num2 :4\n",
      "Enter a num :3\n",
      "The avg of 30 , 4, and 3 is 12.33\n"
     ]
    }
   ],
   "source": [
    "#wap to find average of n1, n2 , n3 \n",
    "#find avg = (n1+n2+n3)/3\n",
    "num1=eval(input(\"Enter a num1 :\"))\n",
    "num2=eval(input(\"Enter a num2 :\"))\n",
    "num3=eval(input(\"Enter a num :\"))\n",
    "add = (num1+num2+num3)\n",
    "avg = round(add/3,2)\n",
    "print(f\"The avg of {num1} , {num2}, and {num3} is {avg}\")  "
   ]
  },
  {
   "cell_type": "code",
   "execution_count": 19,
   "id": "83ecc304",
   "metadata": {},
   "outputs": [
    {
     "data": {
      "text/plain": [
       "3.3333"
      ]
     },
     "execution_count": 19,
     "metadata": {},
     "output_type": "execute_result"
    }
   ],
   "source": [
    "round(3.333333,4)"
   ]
  },
  {
   "cell_type": "code",
   "execution_count": 22,
   "id": "bd2ace4d",
   "metadata": {},
   "outputs": [
    {
     "name": "stdout",
     "output_type": "stream",
     "text": [
      "Enter the salary :100000\n",
      "Enter the Tax percentage :10\n",
      "The total tax we are supposed to pay is 10000.0\n"
     ]
    }
   ],
   "source": [
    "#wap ask the user enter salary\n",
    "# ask the user tax percentage \n",
    "# calculate total tax to pay\n",
    "# salary = 100000\n",
    "#tax_per =10\n",
    "#tax_pay =100000*10/100\n",
    "\n",
    "sal = eval(input(\"Enter the salary :\"))\n",
    "tax_per = eval(input(\"Enter the Tax percentage :\"))\n",
    "tax_pay = (sal*tax_per)/100\n",
    "print(f'The total tax we are supposed to pay is {tax_pay}')\n"
   ]
  },
  {
   "cell_type": "code",
   "execution_count": null,
   "id": "7456ddda",
   "metadata": {},
   "outputs": [],
   "source": []
  }
 ],
 "metadata": {
  "kernelspec": {
   "display_name": "Python 3 (ipykernel)",
   "language": "python",
   "name": "python3"
  },
  "language_info": {
   "codemirror_mode": {
    "name": "ipython",
    "version": 3
   },
   "file_extension": ".py",
   "mimetype": "text/x-python",
   "name": "python",
   "nbconvert_exporter": "python",
   "pygments_lexer": "ipython3",
   "version": "3.11.5"
  }
 },
 "nbformat": 4,
 "nbformat_minor": 5
}
