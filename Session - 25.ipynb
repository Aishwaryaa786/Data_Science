{
 "cells": [
  {
   "cell_type": "code",
   "execution_count": 6,
   "id": "ab3a1b99",
   "metadata": {},
   "outputs": [
    {
     "data": {
      "text/plain": [
       "['hi', 'how', 'are', 'you']"
      ]
     },
     "execution_count": 6,
     "metadata": {},
     "output_type": "execute_result"
    }
   ],
   "source": [
    "str1='hi how are you'\n",
    "l1=str1.split()\n",
    "l1"
   ]
  },
  {
   "cell_type": "code",
   "execution_count": 7,
   "id": "062237d6",
   "metadata": {},
   "outputs": [
    {
     "data": {
      "text/plain": [
       "['hi', 'how', 'are', 'you']"
      ]
     },
     "execution_count": 7,
     "metadata": {},
     "output_type": "execute_result"
    }
   ],
   "source": [
    "#now we have list of elements are there we want to join \n",
    "l1"
   ]
  },
  {
   "cell_type": "code",
   "execution_count": 8,
   "id": "395c1dfb",
   "metadata": {},
   "outputs": [
    {
     "data": {
      "text/plain": [
       "'hi  how  are  you'"
      ]
     },
     "execution_count": 8,
     "metadata": {},
     "output_type": "execute_result"
    }
   ],
   "source": [
    "'  '.join(l1)"
   ]
  },
  {
   "cell_type": "code",
   "execution_count": 11,
   "id": "29b622b7",
   "metadata": {},
   "outputs": [
    {
     "data": {
      "text/plain": [
       "'hihowareyou'"
      ]
     },
     "execution_count": 11,
     "metadata": {},
     "output_type": "execute_result"
    }
   ],
   "source": [
    "s='' \n",
    "for i in l1:\n",
    "    s=s+i\n",
    "s"
   ]
  },
  {
   "cell_type": "code",
   "execution_count": 13,
   "id": "2b0f0507",
   "metadata": {},
   "outputs": [
    {
     "name": "stdout",
     "output_type": "stream",
     "text": [
      "Ramesh age is 20\n",
      "Suresh age is 23\n",
      "Rajesh age is 34\n",
      "Sathish age is 54\n"
     ]
    }
   ],
   "source": [
    "names=['Ramesh','Suresh','Rajesh','Sathish']\n",
    "ages= [20,23,34,54]\n",
    "print(f'{names[0]} age is {ages[0]}')\n",
    "print(f'{names[1]} age is {ages[1]}')\n",
    "print(f'{names[2]} age is {ages[2]}')\n",
    "print(f'{names[3]} age is {ages[3]}')"
   ]
  },
  {
   "cell_type": "code",
   "execution_count": 18,
   "id": "ca02c6b3",
   "metadata": {},
   "outputs": [
    {
     "name": "stdout",
     "output_type": "stream",
     "text": [
      "Ramesh age is 20\n",
      "Suresh age is 23\n",
      "Rajesh age is 34\n",
      "Sathish age is 54\n"
     ]
    }
   ],
   "source": [
    "for i,j in zip(names,ages):\n",
    "    print(f'{i} age is {j}')\n",
    "    "
   ]
  },
  {
   "cell_type": "markdown",
   "id": "405dc698",
   "metadata": {},
   "source": [
    "$zip$"
   ]
  },
  {
   "cell_type": "code",
   "execution_count": null,
   "id": "dfe9cd6d",
   "metadata": {},
   "outputs": [],
   "source": [
    "for i in names : i=Rames i=sure i = sath\n",
    "for i in age :  i 25 30 \n",
    "for i in zip(name, age)\n",
    "  print(i)\n",
    "    "
   ]
  },
  {
   "cell_type": "code",
   "execution_count": 14,
   "id": "0705b90e",
   "metadata": {},
   "outputs": [
    {
     "data": {
      "text/plain": [
       "(60, 20.0)"
      ]
     },
     "execution_count": 14,
     "metadata": {},
     "output_type": "execute_result"
    }
   ],
   "source": [
    "def avg(n1,n2,n3):\n",
    "    return(n1+n2+n3,(n1+n2+n3)/3)\n",
    "\n",
    "output=avg(10,20,30)\n",
    "output"
   ]
  },
  {
   "cell_type": "code",
   "execution_count": null,
   "id": "6f618b8a",
   "metadata": {},
   "outputs": [],
   "source": [
    "names=['Ramesh','Suresh','Rajesh','Sathish']\n",
    "ages= [20,23,34,54]\n",
    "if both are together why two lists== dictionry"
   ]
  },
  {
   "cell_type": "code",
   "execution_count": null,
   "id": "1022a5b9",
   "metadata": {},
   "outputs": [],
   "source": [
    "{<key>:<value>}"
   ]
  },
  {
   "cell_type": "code",
   "execution_count": 23,
   "id": "17d2ad4d",
   "metadata": {},
   "outputs": [],
   "source": [
    "d1={'Ramesh':20,\n",
    " 'Suresh':23,\n",
    " 'Rajesh':34,\n",
    " 'Sathish':54 \n",
    "}\n",
    "# dictionary means key value pair together"
   ]
  },
  {
   "cell_type": "code",
   "execution_count": 24,
   "id": "c2566acc",
   "metadata": {},
   "outputs": [
    {
     "data": {
      "text/plain": [
       "dict"
      ]
     },
     "execution_count": 24,
     "metadata": {},
     "output_type": "execute_result"
    }
   ],
   "source": [
    "type(d1)"
   ]
  },
  {
   "cell_type": "code",
   "execution_count": null,
   "id": "c3af2dce",
   "metadata": {},
   "outputs": [],
   "source": [
    "how can we distinguish between\n",
    "lists,\n",
    "tuple,\n",
    "set,\n",
    "and\n",
    "dictionary?"
   ]
  },
  {
   "cell_type": "code",
   "execution_count": 25,
   "id": "b5d7fbb4",
   "metadata": {},
   "outputs": [
    {
     "data": {
      "text/plain": [
       "{'Ramesh': 20, 'Suresh': 23, 'Rajesh': 34, 'Sathish': 54}"
      ]
     },
     "execution_count": 25,
     "metadata": {},
     "output_type": "execute_result"
    }
   ],
   "source": [
    "d2={'Ramesh':20,\n",
    " 'Suresh':23,\n",
    " 'Rajesh':34,\n",
    " 'Sathish':54 }\n",
    "d2"
   ]
  },
  {
   "cell_type": "code",
   "execution_count": 27,
   "id": "a2444b00",
   "metadata": {},
   "outputs": [
    {
     "data": {
      "text/plain": [
       "{20: 20}"
      ]
     },
     "execution_count": 27,
     "metadata": {},
     "output_type": "execute_result"
    }
   ],
   "source": [
    "d3={20:20}\n",
    "d3"
   ]
  },
  {
   "cell_type": "code",
   "execution_count": 28,
   "id": "848201ef",
   "metadata": {},
   "outputs": [
    {
     "data": {
      "text/plain": [
       "{'$', 30}"
      ]
     },
     "execution_count": 28,
     "metadata": {},
     "output_type": "execute_result"
    }
   ],
   "source": [
    "d4={\"$\",30}\n",
    "d4"
   ]
  },
  {
   "cell_type": "code",
   "execution_count": 29,
   "id": "a8f0bff7",
   "metadata": {},
   "outputs": [
    {
     "data": {
      "text/plain": [
       "{'names': ['r', 'r', 'y']}"
      ]
     },
     "execution_count": 29,
     "metadata": {},
     "output_type": "execute_result"
    }
   ],
   "source": [
    "d5={'names':['r','r','y']}\n",
    "d5"
   ]
  },
  {
   "cell_type": "code",
   "execution_count": 30,
   "id": "7994db50",
   "metadata": {},
   "outputs": [
    {
     "ename": "TypeError",
     "evalue": "unhashable type: 'list'",
     "output_type": "error",
     "traceback": [
      "\u001b[1;31m---------------------------------------------------------------------------\u001b[0m",
      "\u001b[1;31mTypeError\u001b[0m                                 Traceback (most recent call last)",
      "Cell \u001b[1;32mIn[30], line 1\u001b[0m\n\u001b[1;32m----> 1\u001b[0m d5\u001b[38;5;241m=\u001b[39m{[\u001b[38;5;124m'\u001b[39m\u001b[38;5;124mr\u001b[39m\u001b[38;5;124m'\u001b[39m,\u001b[38;5;124m'\u001b[39m\u001b[38;5;124mr\u001b[39m\u001b[38;5;124m'\u001b[39m,\u001b[38;5;124m'\u001b[39m\u001b[38;5;124my\u001b[39m\u001b[38;5;124m'\u001b[39m]:\u001b[38;5;124m'\u001b[39m\u001b[38;5;124mnames\u001b[39m\u001b[38;5;124m'\u001b[39m}\n\u001b[0;32m      2\u001b[0m d5\n",
      "\u001b[1;31mTypeError\u001b[0m: unhashable type: 'list'"
     ]
    }
   ],
   "source": [
    "\n",
    "d5={['r','r','y']:'names'}\n",
    "d5"
   ]
  },
  {
   "cell_type": "code",
   "execution_count": 31,
   "id": "e6a37fce",
   "metadata": {},
   "outputs": [
    {
     "data": {
      "text/plain": [
       "{'4': '7'}"
      ]
     },
     "execution_count": 31,
     "metadata": {},
     "output_type": "execute_result"
    }
   ],
   "source": [
    "d6={'4':'7'}\n",
    "d6"
   ]
  },
  {
   "cell_type": "code",
   "execution_count": null,
   "id": "05470866",
   "metadata": {},
   "outputs": [],
   "source": [
    "#speacial characters shuould not be a key\n",
    "#dict and list cannot be represented as list"
   ]
  },
  {
   "cell_type": "code",
   "execution_count": 32,
   "id": "493acee2",
   "metadata": {},
   "outputs": [
    {
     "data": {
      "text/plain": [
       "'Suresh'"
      ]
     },
     "execution_count": 32,
     "metadata": {},
     "output_type": "execute_result"
    }
   ],
   "source": [
    "y1={'Ramesh': 20, 'Suresh': 23, 'Rajesh': 34, 'Sathish': 54}\n",
    "max(y1)"
   ]
  },
  {
   "cell_type": "code",
   "execution_count": null,
   "id": "665be403",
   "metadata": {},
   "outputs": [],
   "source": [
    "#we dont see the value we see the key\n"
   ]
  },
  {
   "cell_type": "code",
   "execution_count": 34,
   "id": "c827d739",
   "metadata": {},
   "outputs": [
    {
     "data": {
      "text/plain": [
       "'Rameshh'"
      ]
     },
     "execution_count": 34,
     "metadata": {},
     "output_type": "execute_result"
    }
   ],
   "source": [
    "y1={'Ramesh': 20,'Rameshh': 20}\n",
    "max(y1)"
   ]
  },
  {
   "cell_type": "markdown",
   "id": "08466e30",
   "metadata": {},
   "source": [
    "- WATCH ONLY KEYS -"
   ]
  },
  {
   "cell_type": "code",
   "execution_count": 36,
   "id": "e50698e4",
   "metadata": {},
   "outputs": [
    {
     "data": {
      "text/plain": [
       "'Rajesh'"
      ]
     },
     "execution_count": 36,
     "metadata": {},
     "output_type": "execute_result"
    }
   ],
   "source": [
    "y1={'Ramesh': 20, 'Suresh': 23, 'Rajesh': 34, 'Sathish': 54}\n",
    "min(y1)"
   ]
  },
  {
   "cell_type": "code",
   "execution_count": 37,
   "id": "300428b1",
   "metadata": {},
   "outputs": [
    {
     "data": {
      "text/plain": [
       "4"
      ]
     },
     "execution_count": 37,
     "metadata": {},
     "output_type": "execute_result"
    }
   ],
   "source": [
    "y1={'Ramesh': 20, 'Suresh': 23, 'Rajesh': 34, 'Sathish': 54}\n",
    "len(y1)"
   ]
  },
  {
   "cell_type": "code",
   "execution_count": 38,
   "id": "620482a8",
   "metadata": {},
   "outputs": [
    {
     "data": {
      "text/plain": [
       "['Rajesh', 'Ramesh', 'Sathish', 'Suresh']"
      ]
     },
     "execution_count": 38,
     "metadata": {},
     "output_type": "execute_result"
    }
   ],
   "source": [
    "y1={'Ramesh': 20, 'Suresh': 23, 'Rajesh': 34, 'Sathish': 54}\n",
    "sorted(y1)"
   ]
  },
  {
   "cell_type": "code",
   "execution_count": 39,
   "id": "1c6cc41a",
   "metadata": {},
   "outputs": [
    {
     "name": "stdout",
     "output_type": "stream",
     "text": [
      "Sathish\n",
      "Rajesh\n",
      "Suresh\n",
      "Ramesh\n"
     ]
    }
   ],
   "source": [
    "y1={'Ramesh': 20, 'Suresh': 23, 'Rajesh': 34, 'Sathish': 54}\n",
    "for i in reversed(y1):\n",
    "    print(i)"
   ]
  },
  {
   "cell_type": "code",
   "execution_count": null,
   "id": "13be4b50",
   "metadata": {},
   "outputs": [],
   "source": []
  }
 ],
 "metadata": {
  "kernelspec": {
   "display_name": "Python 3 (ipykernel)",
   "language": "python",
   "name": "python3"
  },
  "language_info": {
   "codemirror_mode": {
    "name": "ipython",
    "version": 3
   },
   "file_extension": ".py",
   "mimetype": "text/x-python",
   "name": "python",
   "nbconvert_exporter": "python",
   "pygments_lexer": "ipython3",
   "version": "3.11.5"
  }
 },
 "nbformat": 4,
 "nbformat_minor": 5
}
