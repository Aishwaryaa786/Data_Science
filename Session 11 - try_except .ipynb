{
 "cells": [
  {
   "cell_type": "markdown",
   "id": "07c70aec",
   "metadata": {},
   "source": [
    "- try:\n",
    "    - ##actual code###\n",
    "- except:\n",
    "   - ###whenever you will encounter an error in try block you will be in except block####"
   ]
  },
  {
   "cell_type": "code",
   "execution_count": null,
   "id": "69246125",
   "metadata": {},
   "outputs": [],
   "source": []
  },
  {
   "cell_type": "code",
   "execution_count": 2,
   "id": "71d465bf",
   "metadata": {},
   "outputs": [
    {
     "name": "stdout",
     "output_type": "stream",
     "text": [
      "now im in try block\n",
      "enter a num1:12\n",
      "enter a num2:263\n",
      "0.045627376425855515\n"
     ]
    }
   ],
   "source": [
    "try:\n",
    "    print(\"now im in try block\")\n",
    "    num1 = eval(input(\"enter a num1:\"))\n",
    "    num2 = eval(input(\"enter a num2:\"))\n",
    "    print(num1/num2)\n",
    "\n",
    "except:\n",
    "    print(\"you got error in he try block\")\n",
    "    print(\"now i am in except block\")\n",
    "    print(\"now I will show the error\")\n",
    "    print(\"zero division error\")\n",
    "    num1 = eval(input(\"enter a num1:\"))\n",
    "    num2 = eval(input(\"enter a num2:\"))\n",
    "    print(num1/num2)\n",
    "   "
   ]
  },
  {
   "cell_type": "code",
   "execution_count": 4,
   "id": "d3e2895c",
   "metadata": {},
   "outputs": [
    {
     "name": "stdout",
     "output_type": "stream",
     "text": [
      "hello\n",
      "python\n",
      "zero diviosn error\n",
      "hello\n",
      "python\n"
     ]
    },
    {
     "data": {
      "text/plain": [
       "'hellopython'"
      ]
     },
     "execution_count": 4,
     "metadata": {},
     "output_type": "execute_result"
    }
   ],
   "source": [
    "str1 = 'hello'\n",
    "str2='python'\n",
    "print(str1)\n",
    "print(str2)\n",
    "\n",
    "\n",
    "##################################\n",
    "try:\n",
    "    n1=20\n",
    "    n2=0\n",
    "    print(n1/n2) #20/0 error\n",
    "except:\n",
    "    print(\"zero diviosn error\")\n",
    "#################################\n",
    "str1 = 'hello'\n",
    "str2='python'\n",
    "print(str1)\n",
    "print(str2)\n",
    "str1+str2\n"
   ]
  },
  {
   "cell_type": "code",
   "execution_count": 5,
   "id": "7f0d3d5a",
   "metadata": {},
   "outputs": [
    {
     "name": "stdout",
     "output_type": "stream",
     "text": [
      "enter a num1:56\n",
      "enter a num2:0\n",
      "division by zero\n"
     ]
    }
   ],
   "source": [
    "try:\n",
    "    num1 = eval(input(\"enter a num1:\"))\n",
    "    num2 = eval(input(\"enter a num2:\"))\n",
    "    print(num1/num2)\n",
    "except Exception as e:\n",
    "    print(e)\n",
    "    \n",
    "\n",
    "    "
   ]
  },
  {
   "cell_type": "code",
   "execution_count": 6,
   "id": "c6042f5b",
   "metadata": {},
   "outputs": [
    {
     "name": "stdout",
     "output_type": "stream",
     "text": [
      "enter a num1:89\n",
      "enter a num2:sfgh\n",
      "name 'sfgh' is not defined\n"
     ]
    }
   ],
   "source": [
    "try:\n",
    "    num1 = eval(input(\"enter a num1:\"))\n",
    "    num2 = eval(input(\"enter a num2:\"))\n",
    "    print(num1/num2)\n",
    "except Exception as e:\n",
    "    print(e)\n",
    "    \n"
   ]
  },
  {
   "cell_type": "markdown",
   "id": "4f414a40",
   "metadata": {},
   "source": [
    "- here we are supposed to display the respective errors wich are shown in the compiler itself hence we are \n",
    "- supposed to hence we will use the following line\n",
    "- try:\n",
    "##########\n",
    "- except Exception as e:\n",
    "    print(e)\n",
    "\n",
    "\n"
   ]
  },
  {
   "cell_type": "code",
   "execution_count": 9,
   "id": "979230a7",
   "metadata": {},
   "outputs": [
    {
     "name": "stdout",
     "output_type": "stream",
     "text": [
      "Enter a number65461d13vvvv\n",
      "invalid decimal literal (<string>, line 1)\n",
      "Aishwarya Ramaiah Kumar\n"
     ]
    }
   ],
   "source": [
    "try:\n",
    "    num=eval(input(\"Enter a number\"))\n",
    "    if num%2==0:\n",
    "        print(f'Number {num} is even')\n",
    "    else:\n",
    "        print(f\"Number {num} is odd\")\n",
    "except Exception as e:\n",
    "    print(e)\n",
    "print(\"Aishwarya Ramaiah Kumar\") #this is free area hence nothing matters it will\n",
    "#print whatver we give as its notinside the indentation of ry and exception block"
   ]
  },
  {
   "cell_type": "code",
   "execution_count": 10,
   "id": "3e15646e",
   "metadata": {},
   "outputs": [
    {
     "name": "stdout",
     "output_type": "stream",
     "text": [
      "Enter the number between 1 to 100:  d d\n",
      "invalid syntax (<string>, line 1)\n"
     ]
    }
   ],
   "source": [
    "try:\n",
    "    num=eval(input('Enter the number between 1 to 100: '))\n",
    "    if num>=50:\n",
    "        print('greater than or equal to 50')\n",
    "    else:\n",
    "            print('less than 50')\n",
    "except Exception as e:\n",
    "    print(e)"
   ]
  },
  {
   "cell_type": "code",
   "execution_count": 11,
   "id": "9080e20d",
   "metadata": {},
   "outputs": [
    {
     "name": "stdout",
     "output_type": "stream",
     "text": [
      "Enter the number between 1 to 100: 6\n",
      "less than 50\n"
     ]
    }
   ],
   "source": [
    "try:\n",
    "    num=eval(input('Enter the number between 1 to 100: '))\n",
    "    if num>=50:\n",
    "        print('greater than or equal to 50')\n",
    "    else:\n",
    "            print('less than 50')\n",
    "except Exception as e:\n",
    "    print(e)"
   ]
  },
  {
   "cell_type": "code",
   "execution_count": null,
   "id": "3f369a2f",
   "metadata": {},
   "outputs": [],
   "source": [
    "download==code==manager===upload"
   ]
  },
  {
   "cell_type": "code",
   "execution_count": null,
   "id": "c5adbaf6",
   "metadata": {},
   "outputs": [],
   "source": [
    "#Every code we can write in try and exception methods"
   ]
  },
  {
   "cell_type": "code",
   "execution_count": 12,
   "id": "73e1e49a",
   "metadata": {},
   "outputs": [
    {
     "name": "stdout",
     "output_type": "stream",
     "text": [
      "Conductor: Do you have id yes or no? xx\n",
      "conductor:pay the money\n",
      "mother: how much\n",
      " conductor: how many kilometers\n",
      "mother : how much fare for km\n",
      "conductor : the fare is rs per km56\n",
      "mother: the distance in km is 26\n",
      "The total cost is 1456\n"
     ]
    }
   ],
   "source": [
    "try:\n",
    "    import time\n",
    "    id1=input('Conductor: Do you have id yes or no? ')\n",
    "    if id1=='yes':\n",
    "        print('Enjoy the free bus')\n",
    "    else:\n",
    "        print('conductor:pay the money')\n",
    "        time.sleep(2)\n",
    "        print('mother: how much')\n",
    "        time.sleep(2)\n",
    "        print(' conductor: how many kilometers')\n",
    "        time.sleep(2)\n",
    "        print('mother : how much fare for km')\n",
    "        fare=eval(input( 'conductor : the fare is rs per km'))\n",
    "        distance=eval(input(\"mother: the distance in km is \"))\n",
    "        total =fare*distance\n",
    "        print(f'The total cost is {total}')\n",
    "except Exception as e:\n",
    "    print(e)"
   ]
  },
  {
   "cell_type": "markdown",
   "id": "0a664da2",
   "metadata": {},
   "source": [
    "- basic codes\n",
    "    - eval\n",
    "    - input\n",
    "- if-else cnditions\n",
    "- try-except\n",
    "- variables\n",
    "- data types\n",
    "- type casting \n"
   ]
  },
  {
   "cell_type": "code",
   "execution_count": null,
   "id": "ad75bb16",
   "metadata": {},
   "outputs": [],
   "source": []
  },
  {
   "cell_type": "code",
   "execution_count": null,
   "id": "356294f7",
   "metadata": {},
   "outputs": [],
   "source": []
  }
 ],
 "metadata": {
  "kernelspec": {
   "display_name": "Python 3 (ipykernel)",
   "language": "python",
   "name": "python3"
  },
  "language_info": {
   "codemirror_mode": {
    "name": "ipython",
    "version": 3
   },
   "file_extension": ".py",
   "mimetype": "text/x-python",
   "name": "python",
   "nbconvert_exporter": "python",
   "pygments_lexer": "ipython3",
   "version": "3.11.5"
  }
 },
 "nbformat": 4,
 "nbformat_minor": 5
}
