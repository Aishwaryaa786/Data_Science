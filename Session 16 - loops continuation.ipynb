{
 "cells": [
  {
   "cell_type": "code",
   "execution_count": null,
   "id": "c342f45a",
   "metadata": {},
   "outputs": [],
   "source": [
    "for i in range(3,25,-3):\n",
    "    print(i)\n",
    "#srt - 3\n",
    "#step=3 negative\n",
    "#last = stp + 1 25+1 =26"
   ]
  },
  {
   "cell_type": "code",
   "execution_count": 2,
   "id": "ca824284",
   "metadata": {},
   "outputs": [
    {
     "name": "stdout",
     "output_type": "stream",
     "text": [
      "10\n"
     ]
    }
   ],
   "source": [
    "#wap to ask the user sum of first 10 natural numbers\n",
    "# step-1: summ =0\n",
    "# step-2: iterate trough loop range (1,11)\n",
    "# step-3: summ=summ+1\n",
    "\n",
    "#same like counter programe \n",
    "count=0\n",
    "for i in range(1,11):\n",
    "    count=count+1\n",
    "print(count)"
   ]
  },
  {
   "cell_type": "code",
   "execution_count": 4,
   "id": "d613f28e",
   "metadata": {},
   "outputs": [
    {
     "name": "stdout",
     "output_type": "stream",
     "text": [
      "55\n"
     ]
    }
   ],
   "source": [
    "summ=0\n",
    "for i in range(1,11):\n",
    "    summ=summ+i\n",
    "    \n",
    "print(summ)\n",
    "\n",
    "#i=1 summ = 0 summ=1.......\n",
    "#i=10  ...............summ=55\n"
   ]
  },
  {
   "cell_type": "code",
   "execution_count": 10,
   "id": "b43dd482",
   "metadata": {},
   "outputs": [
    {
     "name": "stdout",
     "output_type": "stream",
     "text": [
      "1 is the divisor for 50\n",
      "2 is the divisor for 50\n",
      "5 is the divisor for 50\n",
      "10 is the divisor for 50\n",
      "25 is the divisor for 50\n",
      "50 is the divisor for 50\n"
     ]
    }
   ],
   "source": [
    "#wap ask the user to find the divisors of a given \n",
    "#i want to know divisors of 10\n",
    "# 10/<> =0\n",
    "\n",
    "# 10%2=0\n",
    "# 10%5=0\n",
    "# 10%10=0\n",
    "\n",
    "\n",
    "#how many times do yu need to run the loop\n",
    "#srt=1  stp=11\n",
    "# 10/0 10/1   10/10\n",
    "\n",
    "def number_1(num):\n",
    "    \n",
    "    \n",
    "#num=eval(input(\"Which divisors you want:\"))\n",
    "    srt=1\n",
    "    stop=num+1\n",
    "    count1=0\n",
    "    for i1 in range(srt,stop):\n",
    "        if num%i1==0:\n",
    "            print(f\"{i1} is the divisor for {num}\")\n",
    "            count1=count1+1\n",
    "    return(\"The number of divisor are:\",count1)\n",
    "count1=number_1(50)"
   ]
  },
  {
   "cell_type": "code",
   "execution_count": 21,
   "id": "ecfc6d60",
   "metadata": {},
   "outputs": [
    {
     "name": "stdout",
     "output_type": "stream",
     "text": [
      "4\n",
      "Enter a number:1\n",
      "you lost\n",
      "2\n",
      "Enter a number:2\n",
      "you won\n",
      "5\n",
      "Enter a number:6\n",
      "you lost\n"
     ]
    }
   ],
   "source": [
    "#wap ask a user to enter a random number\n",
    "# ask the user enter a number\n",
    "# if both matching print you won \n",
    "#if not print you lost\n",
    "#give 3 chnaces\n",
    "import random\n",
    "def game_1():\n",
    "    for i2 in range(3):\n",
    "        n1=random.randint(1,10)\n",
    "        print(n1)\n",
    "        n2=eval(input(\"Enter a number:\"))\n",
    "        if n1==n2:\n",
    "            print(\"you won\")\n",
    "            #break;\n",
    "        else:\n",
    "            print(\"you lost\")\n",
    "game_1()\n",
    "#the probem in this code : if you guess correct or wrong ,it is asking again \n",
    "#we need to avoid tht\n",
    "#improvise the above code\n",
    "#when you guesss the corrt number the program must stop\n",
    "#the gues the number pompt shuld come whenever you out"
   ]
  },
  {
   "cell_type": "code",
   "execution_count": 22,
   "id": "09172847",
   "metadata": {},
   "outputs": [
    {
     "name": "stdout",
     "output_type": "stream",
     "text": [
      "6\n",
      "Enter a number:6\n",
      "you won\n"
     ]
    }
   ],
   "source": [
    "#wap ask a user to enter a random number\n",
    "# ask the user enter a number\n",
    "# if both matching print you won \n",
    "#if not print you lost\n",
    "#give 3 chnaces\n",
    "import random\n",
    "def game_1():\n",
    "    for i2 in range(3):\n",
    "        n1=random.randint(1,10)\n",
    "        print(n1)\n",
    "        n2=eval(input(\"Enter a number:\"))\n",
    "        if n1==n2:\n",
    "            print(\"you won\")\n",
    "            break;\n",
    "        else:\n",
    "            print(\"you lost\")\n",
    "game_1()\n",
    "#the probem in this code : if you guess correct or wrong ,it is asking again \n",
    "#we need to avoid tht\n",
    "#improvise the above code\n",
    "#when you guesss the corrt number the program must stop\n",
    "#the gues the number pompt shuld come whenever you out"
   ]
  },
  {
   "cell_type": "code",
   "execution_count": 25,
   "id": "3aaa7553",
   "metadata": {},
   "outputs": [
    {
     "name": "stdout",
     "output_type": "stream",
     "text": [
      "8\n",
      "Enter a number:5\n",
      "you lost\n",
      "The number of chances left is: 2\n",
      "8\n",
      "Enter a number:45\n",
      "you lost\n",
      "The number of chances left is: 2\n",
      "9\n",
      "Enter a number:6\n",
      "you lost\n",
      "The number of chances left is: 2\n"
     ]
    }
   ],
   "source": [
    "#for the above code see the number of chances left\n",
    "#wap ask a user to enter a random number\n",
    "# ask the user enter a number\n",
    "# if both matching print you won \n",
    "#if not print you lost\n",
    "#give 3 chnaces\n",
    "import random\n",
    "def game_1():\n",
    "    count=3\n",
    "    for i2 in range(3):\n",
    "        n1=random.randint(1,10)\n",
    "        print(n1)\n",
    "        n2=eval(input(\"Enter a number:\"))\n",
    "        if n1==n2:\n",
    "            count=count-1\n",
    "            print(\"you won\")\n",
    "            break;\n",
    "        else:\n",
    "            print(\"you lost\")\n",
    "            print(\"The number of chances left is:\",3-i)\n",
    "            \n",
    "game_1()\n",
    "#the probem in this code : if you guess correct or wrong ,it is asking again \n",
    "#we need to avoid tht\n",
    "#improvise the above code\n",
    "#when you guesss the corrt number the program must stop\n",
    "#the gues the number pompt shuld come whenever you out"
   ]
  },
  {
   "cell_type": "code",
   "execution_count": 31,
   "id": "770f114f",
   "metadata": {},
   "outputs": [
    {
     "name": "stdout",
     "output_type": "stream",
     "text": [
      "how many chnaces you want4\n",
      "4\n",
      "Enter a number:2\n",
      "you lost\n",
      "The number of chances left is: 3\n",
      "8\n",
      "Enter a number:5\n",
      "you lost\n",
      "The number of chances left is: 2\n",
      "3\n",
      "Enter a number:6\n",
      "you lost\n",
      "The number of chances left is: 1\n",
      "5\n",
      "Enter a number:6\n",
      "you lost\n",
      "The number of chances left is: 0\n"
     ]
    }
   ],
   "source": [
    "#for the above code see the number of chances left\n",
    "#wap ask a user to enter a random number\n",
    "# ask the user enter a number\n",
    "# if both matching print you won \n",
    "#if not print you lost\n",
    "#give 3 chnaces\n",
    "import random\n",
    "def game_1():\n",
    "    chances=eval(input(\"how many chnaces you want\"))\n",
    "    for i2 in range(chances):\n",
    "        n1=random.randint(1,10)\n",
    "        print(n1)\n",
    "        n2=eval(input(\"Enter a number:\"))\n",
    "        if n1==n2:\n",
    "            \n",
    "            print(\"you won\")\n",
    "            break;\n",
    "        else:\n",
    "            print(\"you lost\")\n",
    "            print(\"The number of chances left is:\",chances-i2-1)\n",
    "            #if chances==0:      \n",
    "            \n",
    "game_1()\n",
    "#the probem in this code : if you guess correct or wrong ,it is asking again \n",
    "#we need to avoid tht\n",
    "#improvise the above code\n",
    "#when you guesss the corrt number the program must stop\n",
    "#the gues the number pompt shuld come whenever you out"
   ]
  },
  {
   "cell_type": "code",
   "execution_count": 36,
   "id": "cc663c73",
   "metadata": {},
   "outputs": [
    {
     "name": "stdout",
     "output_type": "stream",
     "text": [
      "how many chnaces you want5\n",
      "10\n",
      "Enter a number:1\n",
      "you lost\n",
      "The number of chances left is: 4\n",
      "2\n",
      "Enter a number:2\n",
      "you won\n"
     ]
    }
   ],
   "source": [
    "#for the above code see the number of chances left\n",
    "#wap ask a user to enter a random number\n",
    "# ask the user enter a number\n",
    "# if both matching print you won \n",
    "#if not print you lost\n",
    "#give 3 chnaces\n",
    "import random\n",
    "def game_1():\n",
    "    chances=eval(input(\"how many chnaces you want\"))\n",
    "    for i2 in range(chances):\n",
    "        n1=random.randint(1,10)\n",
    "        print(n1)\n",
    "        n2=eval(input(\"Enter a number:\"))\n",
    "        if n1==n2:\n",
    "            \n",
    "            print(\"you won\")\n",
    "            break;\n",
    "        else:\n",
    "            print(\"you lost\")\n",
    "            print(\"The number of chances left is:\",chances-i2-1)\n",
    "            if chances-i2-1==0:\n",
    "                print(\"PLease try after 30 min as you exhausted all the chances\")\n",
    "            \n",
    "game_1()\n",
    "#improvise the code by changing the value of the value =0 and print the msg\n",
    "#\"you lost all the chances please try after 30 min\""
   ]
  },
  {
   "cell_type": "code",
   "execution_count": null,
   "id": "3140fcd8",
   "metadata": {},
   "outputs": [],
   "source": []
  },
  {
   "cell_type": "code",
   "execution_count": null,
   "id": "f0892f04",
   "metadata": {},
   "outputs": [],
   "source": [
    "3"
   ]
  }
 ],
 "metadata": {
  "kernelspec": {
   "display_name": "Python 3 (ipykernel)",
   "language": "python",
   "name": "python3"
  },
  "language_info": {
   "codemirror_mode": {
    "name": "ipython",
    "version": 3
   },
   "file_extension": ".py",
   "mimetype": "text/x-python",
   "name": "python",
   "nbconvert_exporter": "python",
   "pygments_lexer": "ipython3",
   "version": "3.11.5"
  }
 },
 "nbformat": 4,
 "nbformat_minor": 5
}
