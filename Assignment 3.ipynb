{
 "cells": [
  {
   "cell_type": "code",
   "execution_count": 3,
   "id": "d53e4e7b",
   "metadata": {},
   "outputs": [
    {
     "name": "stdout",
     "output_type": "stream",
     "text": [
      "Enter the length in cm: -9\n",
      "The value you have entered is invalid\n"
     ]
    }
   ],
   "source": [
    "# Write a program that asks the user to enter a length in centimetres.\n",
    "# If the user enters a negative length, the program should tell the user that the entry is invalid.\n",
    "# Otherwise, the program should convert the length to inches and print out the result. \n",
    "# There are 2.54 centimetres in an inch. \n",
    "\n",
    "\n",
    "user1= eval(input(\"Enter the length in cm: \"))\n",
    "if user1 > 0:\n",
    "    inch=user1*2.54\n",
    "    print(\"The vale in inches after conversion from cm is :\",inch)\n",
    "else:\n",
    "    print(\"The value you have entered is invalid\")"
   ]
  },
  {
   "cell_type": "code",
   "execution_count": 7,
   "id": "6e747e2b",
   "metadata": {},
   "outputs": [
    {
     "name": "stdout",
     "output_type": "stream",
     "text": [
      "Enter the temperature 56\n",
      " Enter for Celsius for C or Fahrenheit for F:  C\n",
      "The value in Celcius is 1416\n"
     ]
    }
   ],
   "source": [
    "# #### Problem-2(Use conditional statements) \n",
    "# Ask the user for a temperature. Then ask them what units, Celsius or Fahrenheit,\n",
    "# the temperature is in. Your program should convert the temperature to the other unit.\n",
    "# The conversions are F = 9 5 C +32 and C = 5 9 (F − 32). \n",
    "\n",
    "temp= eval(input(\"Enter the temperature \"))\n",
    "user2=input(\" Enter for Celsius for C or Fahrenheit for F:  \")\n",
    "if user2=='F':\n",
    "    temp1 = (95*temp) +32\n",
    "    print(\"The value in Farenheit is\",temp1)\n",
    "elif user2=='C':\n",
    "    temp2=59*(temp-32)\n",
    "    print(\"The value in Celsius is\",temp2)\n",
    "else:\n",
    "    print(\"The unit you re asking for is invalid\")\n",
    "\n",
    "    \n",
    "    \n",
    "    \n"
   ]
  },
  {
   "cell_type": "code",
   "execution_count": 18,
   "id": "11443eec",
   "metadata": {},
   "outputs": [
    {
     "name": "stdout",
     "output_type": "stream",
     "text": [
      "Enter the temperature in Celcius: 78\n",
      "The temperature is in the normal range\n"
     ]
    }
   ],
   "source": [
    "# #### Problem-3(Use conditional statements) \n",
    "# Ask the user to enter a temperature in Celsius. The program should print a message based on the temperature: \n",
    "# • If the temperature is less than -273.15, print that the temperature is invalid because it is below absolute zero. \n",
    "#  • If it is exactly -273.15, print that the temperature is absolute 0. \n",
    "#  • If the temperature is between -273.15 and 0, print that the temperature is below freezing.\n",
    "# • If it is 0, print that the temperature is at the freezing point. \n",
    "#  • If it is between 0 and 100, print that the temperature is in the normal range. \n",
    "#  • If it is 100, print that the temperature is at the boiling point. \n",
    "# • If it is above 100, print that the temperature is above the boiling point.\n",
    "\n",
    "User3=eval(input(\"Enter the temperature in Celcius: \"))\n",
    "if User3<-273.15:\n",
    "    print(\"the temperature is invalid because it is below absolute zero\")\n",
    "elif User3 == -273.15:\n",
    "    print(\"The temperature is absolute 0\")\n",
    "elif User3<-273.15 and User3>0:\n",
    "    print(\"The temperature is below freezing \")\n",
    "elif User3==0:\n",
    "    print(\"The temperature is at the freezing point.\")\n",
    "elif User3>0 and User3<100:\n",
    "    print(\"The temperature is in the normal range\")\n",
    "elif User3==100:\n",
    "     print(\"The temperature is at the boiling point\")\n",
    "else:\n",
    "     print(\"The temperature is above the boiling point.\")\n",
    "    \n",
    "\n",
    "    "
   ]
  },
  {
   "cell_type": "code",
   "execution_count": 15,
   "id": "1cfe1023",
   "metadata": {},
   "outputs": [
    {
     "name": "stdout",
     "output_type": "stream",
     "text": [
      "How many credits have you taken: 99\n",
      "your are a senior\n"
     ]
    }
   ],
   "source": [
    "#### Problem-4(Use conditional statements) \n",
    "# Write a program that asks the user how many credits they have taken.\n",
    "# If they have taken 23 or less, print that the student is a freshman.\n",
    "# If they have taken between 24 and 53, print that they are a sophomore. \n",
    "# The range for juniors is 54 to 83, and for seniors it is 84 and over. \n",
    "\n",
    "\n",
    "user4=eval(input(\"How many credits have you taken: \"))\n",
    "if user4 < 23:\n",
    "    print(\" You are a freshman.\")\n",
    "elif user4>24 and user4<53:\n",
    "    print(\"You are a  sophomore.\")\n",
    "elif user4>54 and user4<83:\n",
    "    print(\"You are a  junior.\")\n",
    "else:\n",
    "    print(\"your are a senior\")"
   ]
  },
  {
   "cell_type": "code",
   "execution_count": 19,
   "id": "709d3505",
   "metadata": {},
   "outputs": [
    {
     "name": "stdout",
     "output_type": "stream",
     "text": [
      "The value generated form random function is:  1\n",
      "Guess a number between 1 and 104\n",
      "You lost\n"
     ]
    }
   ],
   "source": [
    "#### Problem-5(Use conditional statements) \n",
    "# Generate a random number between 1 and 10. \n",
    "# Ask the user to guess the number and print a message based on whether they get it right or not. \n",
    "import random\n",
    "user5=random.randint(1,10)\n",
    "print(\"The value generated form random function is: \",user5)\n",
    "user5p1=eval(input(\"Guess a number between 1 and 10\"))\n",
    "if user5==user5p1:\n",
    "    print(\"you won\")\n",
    "else:\n",
    "    print(\"You lost\")\n",
    "        \n"
   ]
  },
  {
   "cell_type": "code",
   "execution_count": null,
   "id": "41da8d5b",
   "metadata": {},
   "outputs": [],
   "source": [
    "#### Problem-6(Use conditional statements) \n",
    "# A store charges $12 per item if you buy less than 10 items. \n",
    "# If you buy between 10 and 99 items, the cost is $10 per item. \n",
    "# If you buy 100 or more items, the cost is $7 per item.\n",
    "# Write a program that asks the user how many items they are buying and prints the total cost. \n"
   ]
  },
  {
   "cell_type": "code",
   "execution_count": 22,
   "id": "386c13bd",
   "metadata": {},
   "outputs": [
    {
     "name": "stdout",
     "output_type": "stream",
     "text": [
      "Enter the number of items you are buying : 45\n",
      "The total cost will be 450$\n"
     ]
    }
   ],
   "source": [
    "user6=eval(input(\"Enter the number of items you are buying : \"))\n",
    "if user6<10:\n",
    "    print(f\"The total cost will be {user6*12}$\")\n",
    "elif user6>10 and user6<99:\n",
    "    print(f\"The total cost will be {user6*10}$\")\n",
    "else:\n",
    "    print(f\"The total cost will be {user6*7}$\")\n",
    "    "
   ]
  },
  {
   "cell_type": "code",
   "execution_count": 28,
   "id": "3a712908",
   "metadata": {},
   "outputs": [
    {
     "name": "stdout",
     "output_type": "stream",
     "text": [
      "Enter the first number3\n",
      "Enter the second number4\n",
      "The number is not close\n"
     ]
    }
   ],
   "source": [
    "#### Problem-7(Use conditional statements) \n",
    "# Write a program that asks the user for two numbers and prints Close if the numbers are within\n",
    "# .001 of each other and Not close otherwise. \n",
    "\n",
    "num1=eval(input(\"Enter the first number\"))\n",
    "\n",
    "num2=eval(input(\"Enter the second number\"))\n",
    "\n",
    "if num1==num2+0.01 or num1==num2-0.01:\n",
    "    print(\"The number is close\")\n",
    "else:\n",
    "    print(\"The number is not close\")"
   ]
  },
  {
   "cell_type": "code",
   "execution_count": 1,
   "id": "06235a65",
   "metadata": {},
   "outputs": [
    {
     "name": "stdout",
     "output_type": "stream",
     "text": [
      "Enter the year: 2024\n",
      "The year is leap year\n"
     ]
    }
   ],
   "source": [
    "#### Problem-8(Use conditional statements) \n",
    "# A year is a leap year if it is divisible by 4, except that years divisible by 100 are not leap years \n",
    "# unless they are also divisible by 400. Write a program that asks the user for a year and prints out whether\n",
    "# it is a leap year or not. \n",
    "\n",
    "year = eval(input(\"Enter the year: \"))\n",
    "if year%4 == 0 and (year%400==0 or year%100!= 0):\n",
    "    print(\"The year is leap year\")\n",
    "else:\n",
    "    print(\"The year is not a leap year\")\n",
    "    "
   ]
  },
  {
   "cell_type": "code",
   "execution_count": 9,
   "id": "137f3091",
   "metadata": {},
   "outputs": [
    {
     "name": "stdout",
     "output_type": "stream",
     "text": [
      "Enter a number:56\n",
      "1\n",
      "2\n",
      "4\n",
      "7\n",
      "8\n",
      "14\n",
      "28\n",
      "56\n"
     ]
    }
   ],
   "source": [
    "#### Problem-9(Use conditional statements) \n",
    "# Write a program that asks the user to enter a number and\n",
    "# prints out all the divisors of that number.\n",
    "# [Hint: the % operator is used to tell if a number is divisible by something. \n",
    "user9=eval(input('Enter a number:'))\n",
    "for i in range(1,user9+1):\n",
    "    if user9%i==0:\n",
    "        print(i)\n"
   ]
  },
  {
   "cell_type": "code",
   "execution_count": 18,
   "id": "c3dd583c",
   "metadata": {},
   "outputs": [
    {
     "name": "stdout",
     "output_type": "stream",
     "text": [
      "Enter the hours between 1 and 12 :5\n",
      "Enter if you want am being 1 or pm being 2:1\n",
      "How many hours into future do you want to go: 8\n",
      "1pm\n"
     ]
    }
   ],
   "source": [
    "#### Problem-10(Use conditional statements) \n",
    "# Write a program that asks the user for an hour between 1 and 12, \n",
    "# asks them to enter am or pm, and asks them how many hours into the future they want to go. \n",
    "# Print out what the hour will be that many hours into the future, \n",
    "# printing am or pm as appropriate. An example is shown below. \n",
    "# Enter hour: 8 \n",
    "# am (1) or pm (2)? 1 \n",
    "# How many hours ahead? 5 \n",
    "# New hour: 1 pm\n",
    "temp3=0\n",
    "user10p1=eval(input(\"Enter the hours between 1 and 12 :\"))\n",
    "user10p2=eval(input(\"Enter if you want am being 1 or pm being 2:\"))\n",
    "user10p3=eval(input(\"How many hours into future do you want to go: \"))\n",
    "time=user10p1+user10p3\n",
    "vali_t=time%12\n",
    "if (user10p2/12)%2 == 0:\n",
    "    if user10p2 == 1:\n",
    "        print(f'{vali_t}am')\n",
    "    else:\n",
    "        print(f'{vali_t}pm')\n",
    "        \n",
    "else:\n",
    "    if user10p2 == 1:\n",
    "        print(f'{vali_t}pm')\n",
    "    else:\n",
    "        print(f'{vali_t}am')"
   ]
  },
  {
   "cell_type": "code",
   "execution_count": null,
   "id": "c038fccf",
   "metadata": {},
   "outputs": [],
   "source": []
  }
 ],
 "metadata": {
  "kernelspec": {
   "display_name": "Python 3 (ipykernel)",
   "language": "python",
   "name": "python3"
  },
  "language_info": {
   "codemirror_mode": {
    "name": "ipython",
    "version": 3
   },
   "file_extension": ".py",
   "mimetype": "text/x-python",
   "name": "python",
   "nbconvert_exporter": "python",
   "pygments_lexer": "ipython3",
   "version": "3.9.13"
  }
 },
 "nbformat": 4,
 "nbformat_minor": 5
}
