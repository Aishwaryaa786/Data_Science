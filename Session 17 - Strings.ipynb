{
 "cells": [
  {
   "cell_type": "code",
   "execution_count": 2,
   "id": "2ee39243",
   "metadata": {},
   "outputs": [],
   "source": [
    "name ='Python'\n",
    "#strings are in red colour : quotes \n",
    "#variables are in black colcour \n",
    "#keywords are in green colour\n"
   ]
  },
  {
   "cell_type": "code",
   "execution_count": 3,
   "id": "adbad081",
   "metadata": {},
   "outputs": [
    {
     "data": {
      "text/plain": [
       "str"
      ]
     },
     "execution_count": 3,
     "metadata": {},
     "output_type": "execute_result"
    }
   ],
   "source": [
    "type(name)\n"
   ]
  },
  {
   "cell_type": "code",
   "execution_count": 4,
   "id": "2a2b6f30",
   "metadata": {},
   "outputs": [
    {
     "data": {
      "text/plain": [
       "str"
      ]
     },
     "execution_count": 4,
     "metadata": {},
     "output_type": "execute_result"
    }
   ],
   "source": [
    "name1=\"pyton\"\n",
    "type(name1)"
   ]
  },
  {
   "cell_type": "code",
   "execution_count": 5,
   "id": "67440ab9",
   "metadata": {},
   "outputs": [
    {
     "data": {
      "text/plain": [
       "'Python'"
      ]
     },
     "execution_count": 5,
     "metadata": {},
     "output_type": "execute_result"
    }
   ],
   "source": [
    "name"
   ]
  },
  {
   "cell_type": "code",
   "execution_count": null,
   "id": "3839e95d",
   "metadata": {},
   "outputs": [],
   "source": []
  },
  {
   "cell_type": "code",
   "execution_count": 6,
   "id": "3909da14",
   "metadata": {},
   "outputs": [
    {
     "data": {
      "text/plain": [
       "'pyton'"
      ]
     },
     "execution_count": 6,
     "metadata": {},
     "output_type": "execute_result"
    }
   ],
   "source": [
    "name1"
   ]
  },
  {
   "cell_type": "code",
   "execution_count": 7,
   "id": "9836b0c5",
   "metadata": {},
   "outputs": [
    {
     "name": "stdout",
     "output_type": "stream",
     "text": [
      "pyton\n"
     ]
    }
   ],
   "source": [
    "print(name1) #careful with print statements\n"
   ]
  },
  {
   "cell_type": "code",
   "execution_count": 8,
   "id": "f5b8fa80",
   "metadata": {},
   "outputs": [
    {
     "name": "stdout",
     "output_type": "stream",
     "text": [
      "Python\n"
     ]
    }
   ],
   "source": [
    "print(name)  #careful with print statements"
   ]
  },
  {
   "cell_type": "code",
   "execution_count": 11,
   "id": "b097b18d",
   "metadata": {},
   "outputs": [
    {
     "data": {
      "text/plain": [
       "'i \"like\" python'"
      ]
     },
     "execution_count": 11,
     "metadata": {},
     "output_type": "execute_result"
    }
   ],
   "source": [
    "name2='i \"like\" python'\n",
    "name2\n",
    "#entire string in single quotes\n",
    "#python word is in double quotes \n"
   ]
  },
  {
   "cell_type": "markdown",
   "id": "0955bfb3",
   "metadata": {},
   "source": [
    "$triple quotes$"
   ]
  },
  {
   "cell_type": "markdown",
   "id": "cf1e942d",
   "metadata": {},
   "source": [
    "- triple quotes meaning is doc string \n",
    "- if you want to convey the information to user \n",
    "- in jupiter notebook we have the option called markdown option \n",
    "- but in another platforms like vs code pycharms we dont have this mark down option \n",
    "- at that place to convey the information we use triple quotes and that is called docstring."
   ]
  },
  {
   "cell_type": "code",
   "execution_count": null,
   "id": "be662529",
   "metadata": {},
   "outputs": [],
   "source": [
    "import random\n",
    "random.randint()"
   ]
  },
  {
   "cell_type": "markdown",
   "id": "b16db685",
   "metadata": {},
   "source": [
    "- type\n",
    "- max\n",
    "- min\n",
    "- reversed\n",
    "- sorted"
   ]
  },
  {
   "cell_type": "code",
   "execution_count": null,
   "id": "50142a9c",
   "metadata": {},
   "outputs": [],
   "source": [
    "name=\"python\"\n",
    "max(name)\n",
    "#keyword(<variable_name>)\n",
    "#print(name)\n",
    "#type(name)"
   ]
  },
  {
   "cell_type": "markdown",
   "id": "d099b928",
   "metadata": {},
   "source": [
    "$ASCII - American Standard Code for Information Interchange$"
   ]
  },
  {
   "cell_type": "code",
   "execution_count": null,
   "id": "0a71f2d3",
   "metadata": {},
   "outputs": [],
   "source": [
    "- A:65\n",
    "- a:97\n",
    "    "
   ]
  },
  {
   "cell_type": "markdown",
   "id": "78cafd3f",
   "metadata": {},
   "source": [
    "$Ord$-$chr$"
   ]
  },
  {
   "cell_type": "code",
   "execution_count": 12,
   "id": "e5f555aa",
   "metadata": {},
   "outputs": [
    {
     "data": {
      "text/plain": [
       "(112, 121, 116, 104, 110)"
      ]
     },
     "execution_count": 12,
     "metadata": {},
     "output_type": "execute_result"
    }
   ],
   "source": [
    "ord('p'),ord('y'),ord('t'),ord('h'),ord('n')"
   ]
  },
  {
   "cell_type": "code",
   "execution_count": 13,
   "id": "8de6c5e0",
   "metadata": {},
   "outputs": [
    {
     "data": {
      "text/plain": [
       "'y'"
      ]
     },
     "execution_count": 13,
     "metadata": {},
     "output_type": "execute_result"
    }
   ],
   "source": [
    "max('python')"
   ]
  },
  {
   "cell_type": "code",
   "execution_count": 14,
   "id": "09a478b3",
   "metadata": {},
   "outputs": [
    {
     "data": {
      "text/plain": [
       "'h'"
      ]
     },
     "execution_count": 14,
     "metadata": {},
     "output_type": "execute_result"
    }
   ],
   "source": [
    "min('python')"
   ]
  },
  {
   "cell_type": "code",
   "execution_count": 17,
   "id": "63b3ae54",
   "metadata": {},
   "outputs": [
    {
     "data": {
      "text/plain": [
       "('p', 112)"
      ]
     },
     "execution_count": 17,
     "metadata": {},
     "output_type": "execute_result"
    }
   ],
   "source": [
    "chr(112),ord('p')"
   ]
  },
  {
   "cell_type": "code",
   "execution_count": 22,
   "id": "4006c441",
   "metadata": {},
   "outputs": [
    {
     "data": {
      "text/plain": [
       "'y'"
      ]
     },
     "execution_count": 22,
     "metadata": {},
     "output_type": "execute_result"
    }
   ],
   "source": [
    "str1='python123'\n",
    "max(str1)\n"
   ]
  },
  {
   "cell_type": "code",
   "execution_count": 23,
   "id": "822a737b",
   "metadata": {},
   "outputs": [
    {
     "data": {
      "text/plain": [
       "'1'"
      ]
     },
     "execution_count": 23,
     "metadata": {},
     "output_type": "execute_result"
    }
   ],
   "source": [
    "min(str1)"
   ]
  },
  {
   "cell_type": "code",
   "execution_count": 24,
   "id": "0c82b743",
   "metadata": {},
   "outputs": [
    {
     "data": {
      "text/plain": [
       "'3'"
      ]
     },
     "execution_count": 24,
     "metadata": {},
     "output_type": "execute_result"
    }
   ],
   "source": [
    "str1=\"123-100\"\n",
    "max(str1)"
   ]
  },
  {
   "cell_type": "code",
   "execution_count": 26,
   "id": "07a89685",
   "metadata": {},
   "outputs": [
    {
     "data": {
      "text/plain": [
       "(45, 51)"
      ]
     },
     "execution_count": 26,
     "metadata": {},
     "output_type": "execute_result"
    }
   ],
   "source": [
    "ord(\"-\"),ord(\"3\")"
   ]
  },
  {
   "cell_type": "code",
   "execution_count": 29,
   "id": "fcee2f14",
   "metadata": {},
   "outputs": [
    {
     "name": "stdout",
     "output_type": "stream",
     "text": [
      "0 \u0000 1 \u0001 2 \u0002 3 \u0003 4 \u0004 5 \u0005 6 \u0006 7 \u0007 8 \b 9 \t 10 \n",
      " 14 \u000e 15 \u000f 16 \u0010 17 \u0011 18 \u0012 19 \u0013 20 \u0014 21 \u0015 22 \u0016 23 \u0017 24 \u0018 25 \u0019 26 \u001a 27 \u001b 28 \u001c",
      " 29 \u001d",
      " 30 \u001e",
      " 31 \u001f 32   33 ! 34 \" 35 # 36 $ 37 % 38 & 39 ' 40 ( 41 ) 42 * 43 + 44 , 45 - 46 . 47 / 48 0 49 1 50 2 51 3 52 4 53 5 54 6 55 7 56 8 57 9 58 : 59 ; 60 < 61 = 62 > 63 ? 64 @ 65 A 66 B 67 C 68 D 69 E 70 F 71 G 72 H 73 I 74 J 75 K 76 L 77 M 78 N 79 O 80 P 81 Q 82 R 83 S 84 T 85 U 86 V 87 W 88 X 89 Y 90 Z 91 [ 92 \\ 93 ] 94 ^ 95 _ 96 ` 97 a 98 b 99 c "
     ]
    }
   ],
   "source": [
    "#How many ASCII values existing\n",
    "for i in range(100):\n",
    "    print(i,chr(i),end=' ')"
   ]
  },
  {
   "cell_type": "code",
   "execution_count": 30,
   "id": "df9f28f6",
   "metadata": {},
   "outputs": [
    {
     "data": {
      "text/plain": [
       "False"
      ]
     },
     "execution_count": 30,
     "metadata": {},
     "output_type": "execute_result"
    }
   ],
   "source": [
    "'Banana'>\"banana\"  #'B':66 \"b\":99 66>99"
   ]
  },
  {
   "cell_type": "code",
   "execution_count": 31,
   "id": "a59f2bbb",
   "metadata": {},
   "outputs": [
    {
     "data": {
      "text/plain": [
       "True"
      ]
     },
     "execution_count": 31,
     "metadata": {},
     "output_type": "execute_result"
    }
   ],
   "source": [
    "'Banana'>\"BAnana\"  # a='97' 'A':65"
   ]
  },
  {
   "cell_type": "markdown",
   "id": "1842fc5f",
   "metadata": {},
   "source": [
    "$Len$"
   ]
  },
  {
   "cell_type": "code",
   "execution_count": 32,
   "id": "9d48a393",
   "metadata": {},
   "outputs": [
    {
     "data": {
      "text/plain": [
       "6"
      ]
     },
     "execution_count": 32,
     "metadata": {},
     "output_type": "execute_result"
    }
   ],
   "source": [
    "str1='python'\n",
    "len(str1)"
   ]
  },
  {
   "cell_type": "code",
   "execution_count": 34,
   "id": "81a516aa",
   "metadata": {},
   "outputs": [
    {
     "data": {
      "text/plain": [
       "13"
      ]
     },
     "execution_count": 34,
     "metadata": {},
     "output_type": "execute_result"
    }
   ],
   "source": [
    "str1='i love python'\n",
    "len(str1)"
   ]
  },
  {
   "cell_type": "code",
   "execution_count": 35,
   "id": "ef47a9a4",
   "metadata": {},
   "outputs": [
    {
     "data": {
      "text/plain": [
       "13"
      ]
     },
     "execution_count": 35,
     "metadata": {},
     "output_type": "execute_result"
    }
   ],
   "source": [
    "str2 ='             ' #empty string\n",
    "len(str2)"
   ]
  },
  {
   "cell_type": "code",
   "execution_count": 36,
   "id": "643b062d",
   "metadata": {},
   "outputs": [
    {
     "data": {
      "text/plain": [
       "1"
      ]
     },
     "execution_count": 36,
     "metadata": {},
     "output_type": "execute_result"
    }
   ],
   "source": [
    "str3=' ' # it has one space\n",
    "len(str3)"
   ]
  },
  {
   "cell_type": "code",
   "execution_count": 37,
   "id": "a36e76b3",
   "metadata": {},
   "outputs": [
    {
     "data": {
      "text/plain": [
       "<reversed at 0x27a75b70dc0>"
      ]
     },
     "execution_count": 37,
     "metadata": {},
     "output_type": "execute_result"
    }
   ],
   "source": [
    "reversed('python')\n",
    "\n",
    "#<output is stored inherently>\n",
    "# we use the for loop"
   ]
  },
  {
   "cell_type": "markdown",
   "id": "41092a07",
   "metadata": {},
   "source": [
    "$in$- $operator$"
   ]
  },
  {
   "cell_type": "code",
   "execution_count": 44,
   "id": "6c75ef93",
   "metadata": {},
   "outputs": [
    {
     "ename": "TypeError",
     "evalue": "'int' object is not iterable",
     "output_type": "error",
     "traceback": [
      "\u001b[1;31m---------------------------------------------------------------------------\u001b[0m",
      "\u001b[1;31mTypeError\u001b[0m                                 Traceback (most recent call last)",
      "Cell \u001b[1;32mIn[44], line 8\u001b[0m\n\u001b[0;32m      6\u001b[0m \u001b[38;5;124m'\u001b[39m\u001b[38;5;124mn\u001b[39m\u001b[38;5;124m'\u001b[39m \u001b[38;5;129;01min\u001b[39;00m \u001b[38;5;124m'\u001b[39m\u001b[38;5;124mpython\u001b[39m\u001b[38;5;124m'\u001b[39m\n\u001b[0;32m      7\u001b[0m nm\u001b[38;5;241m=\u001b[39m\u001b[38;5;124m'\u001b[39m\u001b[38;5;124mmanchester united\u001b[39m\u001b[38;5;124m'\u001b[39m\n\u001b[1;32m----> 8\u001b[0m \u001b[38;5;28;01mfor\u001b[39;00m i \u001b[38;5;129;01min\u001b[39;00m \u001b[38;5;28mlen\u001b[39m(nm):\n\u001b[0;32m     10\u001b[0m     \u001b[38;5;28mprint\u001b[39m(i)\n",
      "\u001b[1;31mTypeError\u001b[0m: 'int' object is not iterable"
     ]
    }
   ],
   "source": [
    "'p' in 'python'\n",
    "'y' in 'python'\n",
    "'t' in 'python'\n",
    "'h' in 'python'\n",
    "'o' in 'python'\n",
    "'n' in 'python'\n",
    "nm='manchester united'\n",
    "for i in 'python':\n",
    "    \n",
    "    print(i)#genralized \n",
    "    "
   ]
  },
  {
   "cell_type": "code",
   "execution_count": 40,
   "id": "9c035270",
   "metadata": {},
   "outputs": [
    {
     "data": {
      "text/plain": [
       "False"
      ]
     },
     "execution_count": 40,
     "metadata": {},
     "output_type": "execute_result"
    }
   ],
   "source": [
    "\n",
    "'Y' in 'python'"
   ]
  },
  {
   "cell_type": "code",
   "execution_count": 46,
   "id": "5db70175",
   "metadata": {},
   "outputs": [
    {
     "name": "stdout",
     "output_type": "stream",
     "text": [
      "n o h t y p "
     ]
    }
   ],
   "source": [
    "for i in reversed('python'):\n",
    "    \n",
    "    print(i,end=' ')#genralized"
   ]
  },
  {
   "cell_type": "code",
   "execution_count": 47,
   "id": "a4c2024f",
   "metadata": {},
   "outputs": [
    {
     "name": "stdout",
     "output_type": "stream",
     "text": [
      "a\n",
      "p\n",
      "p\n",
      "l\n",
      "e\n"
     ]
    }
   ],
   "source": [
    "s1='apple'\n",
    "for i in s1:\n",
    "    print(i)"
   ]
  },
  {
   "cell_type": "code",
   "execution_count": 51,
   "id": "cdda9262",
   "metadata": {},
   "outputs": [
    {
     "name": "stdout",
     "output_type": "stream",
     "text": [
      "f r e n c h   t o a s t "
     ]
    }
   ],
   "source": [
    "s2='french toast'\n",
    "for i in s2:\n",
    "    print(i,end=' ')"
   ]
  },
  {
   "cell_type": "code",
   "execution_count": 52,
   "id": "783e59be",
   "metadata": {},
   "outputs": [
    {
     "data": {
      "text/plain": [
       "['h', 'n', 'o', 'p', 't', 'y']"
      ]
     },
     "execution_count": 52,
     "metadata": {},
     "output_type": "execute_result"
    }
   ],
   "source": [
    "sorted('python')"
   ]
  },
  {
   "cell_type": "code",
   "execution_count": null,
   "id": "f7e675da",
   "metadata": {},
   "outputs": [],
   "source": [
    "#sorted keyowrd sort the letters\n",
    "#[104,]"
   ]
  },
  {
   "cell_type": "code",
   "execution_count": 55,
   "id": "fa2450a6",
   "metadata": {},
   "outputs": [
    {
     "data": {
      "text/plain": [
       "(112, 121, 116, 104, 110)"
      ]
     },
     "execution_count": 55,
     "metadata": {},
     "output_type": "execute_result"
    }
   ],
   "source": [
    "ord('p'),ord('y'),ord('t'),ord('h'),ord('n')"
   ]
  },
  {
   "cell_type": "code",
   "execution_count": 58,
   "id": "c7b95764",
   "metadata": {},
   "outputs": [
    {
     "name": "stdout",
     "output_type": "stream",
     "text": [
      "hellopython\n"
     ]
    },
    {
     "ename": "TypeError",
     "evalue": "unsupported operand type(s) for -: 'str' and 'str'",
     "output_type": "error",
     "traceback": [
      "\u001b[1;31m---------------------------------------------------------------------------\u001b[0m",
      "\u001b[1;31mTypeError\u001b[0m                                 Traceback (most recent call last)",
      "Cell \u001b[1;32mIn[58], line 6\u001b[0m\n\u001b[0;32m      3\u001b[0m str2 \u001b[38;5;241m=\u001b[39m \u001b[38;5;124m\"\u001b[39m\u001b[38;5;124mpython\u001b[39m\u001b[38;5;124m\"\u001b[39m\n\u001b[0;32m      5\u001b[0m \u001b[38;5;28mprint\u001b[39m(str1\u001b[38;5;241m+\u001b[39mstr2)\n\u001b[1;32m----> 6\u001b[0m \u001b[38;5;28mprint\u001b[39m(str1\u001b[38;5;241m-\u001b[39mstr2)\n\u001b[0;32m      7\u001b[0m \u001b[38;5;28mprint\u001b[39m(str1\u001b[38;5;241m*\u001b[39mstr2)\n\u001b[0;32m      8\u001b[0m \u001b[38;5;28mprint\u001b[39m(str1\u001b[38;5;241m/\u001b[39mstr2)\n",
      "\u001b[1;31mTypeError\u001b[0m: unsupported operand type(s) for -: 'str' and 'str'"
     ]
    }
   ],
   "source": [
    "# sorted gives the value in asending order\n",
    "str1= \"hello\"\n",
    "str2 = \"python\"\n",
    "#concatenation\n",
    "print(str1+str2)#'hellopyton'\n",
    "print(str1-str2)#error\n",
    "print(str1*str2)#error\n",
    "print(str1/str2)#error"
   ]
  },
  {
   "cell_type": "code",
   "execution_count": 59,
   "id": "0b73ff67",
   "metadata": {},
   "outputs": [
    {
     "data": {
      "text/plain": [
       "'hello python'"
      ]
     },
     "execution_count": 59,
     "metadata": {},
     "output_type": "execute_result"
    }
   ],
   "source": [
    "str1+ ' '+ str2"
   ]
  },
  {
   "cell_type": "code",
   "execution_count": null,
   "id": "cb780779",
   "metadata": {},
   "outputs": [],
   "source": [
    "type\n",
    "max\n",
    "min\n",
    " ord\n",
    " chr\n",
    "reversed\n",
    "sorted\n",
    "concatenation"
   ]
  },
  {
   "cell_type": "code",
   "execution_count": 62,
   "id": "4e9bfafe",
   "metadata": {},
   "outputs": [
    {
     "data": {
      "text/plain": [
       "'p'"
      ]
     },
     "execution_count": 62,
     "metadata": {},
     "output_type": "execute_result"
    }
   ],
   "source": [
    "str1 ='python'\n",
    "#-6 -5 -4-3-2-1 last value will be minus 1 always \n",
    "#p y t h o n\n",
    "#0 1 2 3 4 5\n",
    "str1[0]"
   ]
  },
  {
   "cell_type": "code",
   "execution_count": 63,
   "id": "64ff8276",
   "metadata": {},
   "outputs": [
    {
     "data": {
      "text/plain": [
       "('p', 'y', 't', 'h', 'o', 'n')"
      ]
     },
     "execution_count": 63,
     "metadata": {},
     "output_type": "execute_result"
    }
   ],
   "source": [
    "str1[0],str1[1],str1[2],str1[3],str1[4],str1[5]"
   ]
  },
  {
   "cell_type": "code",
   "execution_count": 65,
   "id": "8efa49fa",
   "metadata": {},
   "outputs": [
    {
     "name": "stdout",
     "output_type": "stream",
     "text": [
      "p\n",
      "y\n",
      "t\n",
      "h\n",
      "o\n",
      "n\n"
     ]
    }
   ],
   "source": [
    " for i in range (6):\n",
    "        print(str1[i])\n",
    "#i wnt to iterate this\n",
    "#in : i means direct letter\n",
    "#range : i means number"
   ]
  },
  {
   "cell_type": "code",
   "execution_count": 70,
   "id": "ff9e8e2d",
   "metadata": {},
   "outputs": [
    {
     "name": "stdout",
     "output_type": "stream",
     "text": [
      "p y t h o n "
     ]
    }
   ],
   "source": [
    " for i in range(6): #in range means number henace the out put will be number in order to find the correct values we need to write \n",
    "        print(str1[i],end=' ')#str1 of sqare bracket of itterator to get the value"
   ]
  },
  {
   "cell_type": "code",
   "execution_count": 68,
   "id": "b2002e34",
   "metadata": {},
   "outputs": [
    {
     "name": "stdout",
     "output_type": "stream",
     "text": [
      "p y t h o n "
     ]
    }
   ],
   "source": [
    "for i in str1:\n",
    "    print(i, end=\" \")"
   ]
  },
  {
   "cell_type": "code",
   "execution_count": null,
   "id": "c96226c8",
   "metadata": {},
   "outputs": [],
   "source": []
  }
 ],
 "metadata": {
  "kernelspec": {
   "display_name": "Python 3 (ipykernel)",
   "language": "python",
   "name": "python3"
  },
  "language_info": {
   "codemirror_mode": {
    "name": "ipython",
    "version": 3
   },
   "file_extension": ".py",
   "mimetype": "text/x-python",
   "name": "python",
   "nbconvert_exporter": "python",
   "pygments_lexer": "ipython3",
   "version": "3.11.5"
  }
 },
 "nbformat": 4,
 "nbformat_minor": 5
}
